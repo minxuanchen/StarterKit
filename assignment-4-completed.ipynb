{
 "cells": [
  {
   "cell_type": "markdown",
   "metadata": {},
   "source": [
    "# Exercise 04 - Due Saturday, November 18 at 12pm\n",
    "\n",
    "*Objectives*: Gain experience loading a CSV dataset into a star schema. Explore the data by writing and executing a number of SQL queries using common syntax and functions and describing your findings.\n",
    "\n",
    "*Grading criteria*: The tasks should all be completed, and questions should all be answered with SQL queries in the space provided, unless a text answer is requested. Results should be correct, according to the embedded tests. The notebook itself should be completely reproducible; from start to finish, another person should be able to use the same code to obtain the same results as yours.  Note that you will receive no more than partial credit if you do not add text/markdown cells explaining your thinking at each major step in each problem.\n",
    "\n",
    "** Add your markdown and code cells only in the designated areas after \"Answers:\". Do not remove or change any existing cells. **\n",
    "\n",
    "*Deadline*: Saturday, November 18, 12pm.\n",
    "\n",
    "## Setup - obtain data\n",
    "\n",
    "The US City Open Data Census has data on [Campaign Finance Contributions](http://us-city.census.okfn.org/dataset/campaign-finance).  Let's take a look at data from [Washington DC](http://opendata.dc.gov/datasets/campaign-financial-contributions).\n",
    "\n",
    "First we download the dataset:"
   ]
  },
  {
   "cell_type": "code",
   "execution_count": 1,
   "metadata": {},
   "outputs": [
    {
     "name": "stdout",
     "output_type": "stream",
     "text": [
      "--2017-11-18 07:47:16--  https://opendata.arcgis.com/datasets/6443e0b5b2454e86a3208b8a38fdee84_34.csv\n",
      "Resolving opendata.arcgis.com (opendata.arcgis.com)... 52.22.192.109, 34.235.70.5\n",
      "Connecting to opendata.arcgis.com (opendata.arcgis.com)|52.22.192.109|:443... connected.\n",
      "HTTP request sent, awaiting response... 200 OK\n",
      "Length: unspecified [text/csv]\n",
      "Saving to: ‘dc_contributions.csv’\n",
      "\n",
      "dc_contributions.cs     [             <=>    ]  53.56M  22.0MB/s    in 2.4s    \n",
      "\n",
      "2017-11-18 07:47:19 (22.0 MB/s) - ‘dc_contributions.csv’ saved [56160038]\n",
      "\n"
     ]
    }
   ],
   "source": [
    "!wget -O dc_contributions.csv https://opendata.arcgis.com/datasets/6443e0b5b2454e86a3208b8a38fdee84_34.csv"
   ]
  },
  {
   "cell_type": "markdown",
   "metadata": {},
   "source": [
    "## Part 1 - examine the data (30 points)\n",
    "\n",
    "**Question 1** :\n",
    "Use `csvstat` and other tools as you see fit and observe its contents. Describe what you see:  How many records does  this dataset have? What do all the columns mean?  Are there null values?  Which columns interest you the most? Which columns present facts and which columns present dimensions?\n",
    "\n",
    "Insert a combination of code and text/markdown cells here to review the data and describe what you find.\n",
    "\n",
    "Hint: to get help on command line tools, try the `--help` option. For example: `csvstat --help`.\n",
    "\n",
    "Hint: due to the size of the dataset, if you use `csvstat`, you can apply it on sample or the first 10000 lines.\n",
    "\n",
    "**Answer:**"
   ]
  },
  {
   "cell_type": "markdown",
   "metadata": {},
   "source": [
    "* File size:"
   ]
  },
  {
   "cell_type": "code",
   "execution_count": 2,
   "metadata": {},
   "outputs": [
    {
     "name": "stdout",
     "output_type": "stream",
     "text": [
      "-rw-rw-r-- 1 ubuntu ubuntu 54M Nov 18 07:44 dc_contributions.csv\r\n"
     ]
    }
   ],
   "source": [
    "!ls -lh dc_contributions.csv"
   ]
  },
  {
   "cell_type": "markdown",
   "metadata": {},
   "source": [
    "* Row numbers in csv:"
   ]
  },
  {
   "cell_type": "code",
   "execution_count": 3,
   "metadata": {},
   "outputs": [
    {
     "name": "stdout",
     "output_type": "stream",
     "text": [
      "214982 dc_contributions.csv\r\n"
     ]
    }
   ],
   "source": [
    "!wc -l dc_contributions.csv"
   ]
  },
  {
   "cell_type": "markdown",
   "metadata": {},
   "source": [
    "* Columns in csv:"
   ]
  },
  {
   "cell_type": "code",
   "execution_count": 4,
   "metadata": {},
   "outputs": [
    {
     "name": "stdout",
     "output_type": "stream",
     "text": [
      "|------------+---------------+---------------+--------------+-----------------+---------+-----------------+------------------+----------+-----------------+--------+---------------+------------+--------+--------+----------+-----------+-------------+--------------------|\r\n",
      "|  ﻿OBJECTID | COMMITTEENAME | CANDIDATENAME | ELECTIONYEAR | CONTRIBUTORNAME | ADDRESS | CONTRIBUTORTYPE | CONTRIBUTIONTYPE | EMPLOYER | EMPLOYERADDRESS | AMOUNT | DATEOFRECEIPT | ADDRESS_ID | XCOORD | YCOORD | LATITUDE | LONGITUDE | FULLADDRESS | GIS_LAST_MOD_DTTM  |\r\n",
      "|------------+---------------+---------------+--------------+-----------------+---------+-----------------+------------------+----------+-----------------+--------+---------------+------------+--------+--------+----------+-----------+-------------+--------------------|\r\n"
     ]
    }
   ],
   "source": [
    "!head -1 dc_contributions.csv | csvlook"
   ]
  },
  {
   "cell_type": "markdown",
   "metadata": {},
   "source": [
    "* Have a look at the data."
   ]
  },
  {
   "cell_type": "code",
   "execution_count": 5,
   "metadata": {},
   "outputs": [
    {
     "name": "stdout",
     "output_type": "stream",
     "text": [
      "|---------+-----------------+---------------+------+--------------------+----------------------------------------------+------------+-------+--------------------------+--+-----+--------------------------+--------+-----------+-----------+------------------+--------------------+-----------------------+---------------------------|\r\n",
      "|  214975 | The Common Good | David Catania | 2002 | Victor  Kugajevsky | 3611 Fulton Street, NW, Washington, DC 20007 | Individual | Other | Health Managment Systems |  | 150 | 2007-12-17T00:00:00.000Z | 262653 | 393790.63 | 139838.34 | 38.9263998600368 | -77.07160932368019 | 3611 FULTON STREET NW | 2017-11-13T06:18:09.000Z  |\r\n",
      "|---------+-----------------+---------------+------+--------------------+----------------------------------------------+------------+-------+--------------------------+--+-----+--------------------------+--------+-----------+-----------+------------------+--------------------+-----------------------+---------------------------|\r\n"
     ]
    }
   ],
   "source": [
    "!tail -1 dc_contributions.csv | csvlook"
   ]
  },
  {
   "cell_type": "markdown",
   "metadata": {},
   "source": [
    "* Basic summary of first 10000 rows (header included):"
   ]
  },
  {
   "cell_type": "code",
   "execution_count": 6,
   "metadata": {},
   "outputs": [
    {
     "name": "stdout",
     "output_type": "stream",
     "text": [
      "  1. ﻿OBJECTID\n",
      "\t<class 'int'>\n",
      "\tNulls: False\n",
      "\tMin: 1\n",
      "\tMax: 9999\n",
      "\tSum: 49995000\n",
      "\tMean: 5000.0\n",
      "\tMedian: 5000\n",
      "\tStandard Deviation: 2886.4626563783336\n",
      "\tUnique values: 9999\n",
      "  2. COMMITTEENAME\n",
      "\t<class 'str'>\n",
      "\tNulls: False\n",
      "\tUnique values: 332\n",
      "\t5 most frequent values:\n",
      "\t\tFenty 2010:\t756\n",
      "\t\tRe-Elect Jim Graham  (2006):\t438\n",
      "\t\tRe-Elect Kwame R. Brown:\t391\n",
      "\t\tMuriel Bowser for Mayor:\t354\n",
      "\t\tWashington DC Association of Realtors PAC:\t330\n",
      "\tMax length: 82\n",
      "  3. CANDIDATENAME\n",
      "\t<class 'str'>\n",
      "\tNulls: True\n",
      "\tUnique values: 175\n",
      "\t5 most frequent values:\n",
      "\t\tAdrian Fenty:\t812\n",
      "\t\tMuriel Bowser:\t794\n",
      "\t\tKwame Brown:\t525\n",
      "\t\tJim Graham:\t454\n",
      "\t\tVincent Gray:\t368\n",
      "\tMax length: 24\n",
      "  4. ELECTIONYEAR\n",
      "\t<class 'int'>\n",
      "\tNulls: False\n",
      "\tMin: 2002\n",
      "\tMax: 2018\n",
      "\tSum: 20097764\n",
      "\tMean: 2009.977397739774\n",
      "\tMedian: 2010\n",
      "\tStandard Deviation: 4.669975380655277\n",
      "\tUnique values: 13\n",
      "\t5 most frequent values:\n",
      "\t\t2014:\t1416\n",
      "\t\t2006:\t1291\n",
      "\t\t2010:\t1211\n",
      "\t\t2002:\t1203\n",
      "\t\t2015:\t1026\n",
      "  5. CONTRIBUTORNAME\n",
      "\t<class 'str'>\n",
      "\tNulls: True\n",
      "\tUnique values: 8096\n",
      "\t5 most frequent values:\n",
      "\t\tAtlantic Northstar, LLC:\t46\n",
      "\t\tROC Action:\t23\n",
      "\t\tJohn Cheeks:\t17\n",
      "\t\tLars Hydle:\t13\n",
      "\t\tJoseph Askew:\t12\n",
      "\tMax length: 73\n",
      "  6. ADDRESS\n",
      "\t<class 'str'>\n",
      "\tNulls: True\n",
      "\tUnique values: 8128\n",
      "\t5 most frequent values:\n",
      "\t\t1300 I St NW, Washington, DC 200053314:\t117\n",
      "\t\tP.O. Box 277, Frederiksted, VI 00841:\t45\n",
      "\t\tRequested, Washington, DC 20002:\t35\n",
      "\t\t1320 N Courthouse Rd, Arlington, VA 222012501:\t34\n",
      "\t\t1100 Florida Ave, NW 2nd Floor, Washington, DC 20009:\t25\n",
      "\tMax length: 66\n",
      "  7. CONTRIBUTORTYPE\n",
      "\t<class 'str'>\n",
      "\tNulls: True\n",
      "\tUnique values: 16\n",
      "\t5 most frequent values:\n",
      "\t\tIndividual:\t8042\n",
      "\t\tCorporation:\t1707\n",
      "\t\tCandidate:\t82\n",
      "\t\tLimited Liability Company:\t43\n",
      "\t\tOrganization:\t37\n",
      "\tMax length: 36\n",
      "  8. CONTRIBUTIONTYPE\n",
      "\t<class 'str'>\n",
      "\tNulls: True\n",
      "\tUnique values: 7\n",
      "\t5 most frequent values:\n",
      "\t\tCheck:\t5785\n",
      "\t\tCredit Card:\t2549\n",
      "\t\tOther:\t1035\n",
      "\t\tCash:\t287\n",
      "\t\tInKind:\t174\n",
      "\tMax length: 13\n",
      "  9. EMPLOYER\n",
      "\t<class 'str'>\n",
      "\tNulls: True\n",
      "\tUnique values: 2727\n",
      "\t5 most frequent values:\n",
      "\t\tRetired:\t261\n",
      "\t\tRequested but not obtained:\t232\n",
      "\t\trequested:\t226\n",
      "\t\tSelf:\t209\n",
      "\t\tVerizon Corp Rsrcs Group LLC:\t183\n",
      "\tMax length: 59\n",
      " 10. EMPLOYERADDRESS\n",
      "\t<class 'str'>\n",
      "\tNulls: True\n",
      "\tUnique values: 1150\n",
      "\t5 most frequent values:\n",
      "\t\tWashington, DC:\t2696\n",
      "\t\t1300 I St NW, Washington, DC 200053314:\t101\n",
      "\t\tWashington, DC 20016:\t53\n",
      "\t\tWashington, DC 20007:\t44\n",
      "\t\t1320 N Courthouse Rd, Arlington, VA 222012501:\t42\n",
      "\tMax length: 76\n",
      " 11. AMOUNT\n",
      "\t<class 'float'>\n",
      "\tNulls: True\n",
      "\tMin: -1250.0\n",
      "\tMax: 122751.27\n",
      "\tSum: 4135181.5400000014\n",
      "\tMean: 413.7664138483091\n",
      "\tMedian: 100.0\n",
      "\tStandard Deviation: 2101.446249967116\n",
      "\tUnique values: 389\n",
      "\t5 most frequent values:\n",
      "\t\t100.0:\t1754\n",
      "\t\t500.0:\t1735\n",
      "\t\t50.0:\t1291\n",
      "\t\t250.0:\t810\n",
      "\t\t25.0:\t679\n",
      " 12. DATEOFRECEIPT\n",
      "\t<class 'datetime.date'>\n",
      "\tNulls: False\n",
      "\tMin: 2003-03-11\n",
      "\tMax: 2017-10-06\n",
      "\tUnique values: 1933\n",
      "\t5 most frequent values:\n",
      "\t\t2014-03-10:\t261\n",
      "\t\t2007-01-10:\t145\n",
      "\t\t2011-10-06:\t144\n",
      "\t\t2010-01-31:\t119\n",
      "\t\t2009-01-22:\t114\n",
      " 13. ADDRESS_ID\n",
      "\t<class 'int'>\n",
      "\tNulls: True\n",
      "\tMin: 105\n",
      "\tMax: 315788\n",
      "\tSum: 1325008617\n",
      "\tMean: 209156.8456195738\n",
      "\tMedian: 240649\n",
      "\tStandard Deviation: 87602.4983858128\n",
      "\tUnique values: 3622\n",
      "\t5 most frequent values:\n",
      "\t\t240649:\t128\n",
      "\t\t243303:\t47\n",
      "\t\t224793:\t33\n",
      "\t\t279481:\t32\n",
      "\t\t238971:\t25\n",
      " 14. XCOORD\n",
      "\t<class 'float'>\n",
      "\tNulls: True\n",
      "\tMin: 390132.6\n",
      "\tMax: 406901.11\n",
      "\tSum: 2517018631.74999\n",
      "\tMean: 397319.4367403299\n",
      "\tMedian: 397059.24\n",
      "\tStandard Deviation: 2981.956607309055\n",
      "\tUnique values: 3611\n",
      "\t5 most frequent values:\n",
      "\t\t397367.56:\t128\n",
      "\t\t396475.11:\t47\n",
      "\t\t392805.34:\t33\n",
      "\t\t396134.28:\t32\n",
      "\t\t397625.58:\t25\n",
      " 15. YCOORD\n",
      "\t<class 'float'>\n",
      "\tNulls: True\n",
      "\tMin: 128061.78\n",
      "\tMax: 147409.98\n",
      "\tSum: 880734599.3299977\n",
      "\tMean: 139026.771796369\n",
      "\tMedian: 138816.18\n",
      "\tStandard Deviation: 3530.7816418828397\n",
      "\tUnique values: 3613\n",
      "\t5 most frequent values:\n",
      "\t\t137015.98:\t128\n",
      "\t\t137358.15:\t47\n",
      "\t\t140330.13:\t33\n",
      "\t\t137573.55:\t32\n",
      "\t\t139195.04:\t25\n",
      " 16. LATITUDE\n",
      "\t<class 'float'>\n",
      "\tNulls: True\n",
      "\tMin: 38.820333448716596\n",
      "\tMax: 38.9946222427649\n",
      "\tSum: 246552.50920618675\n",
      "\tMean: 38.9191016900058\n",
      "\tMedian: 38.9172098294728\n",
      "\tStandard Deviation: 0.03180312373378715\n",
      "\tUnique values: 3622\n",
      "\t5 most frequent values:\n",
      "\t\t38.9009930899946:\t128\n",
      "\t\t38.9040723526341:\t47\n",
      "\t\t38.9308225407374:\t33\n",
      "\t\t38.9060113181975:\t32\n",
      "\t\t38.9206235390876:\t25\n",
      " 17. LONGITUDE\n",
      "\t<class 'float'>\n",
      "\tNulls: True\n",
      "\tMin: -77.1138096979972\n",
      "\tMax: -76.9204503511713\n",
      "\tSum: -487990.8634957995\n",
      "\tMean: -77.03091767889495\n",
      "\tMedian: -77.03392349870231\n",
      "\tStandard Deviation: 0.034389251683770015\n",
      "\tUnique values: 3622\n",
      "\t5 most frequent values:\n",
      "\t\t-77.03034769900039:\t128\n",
      "\t\t-77.04063793293349:\t47\n",
      "\t\t-77.0829772925435:\t33\n",
      "\t\t-77.044568523146:\t32\n",
      "\t\t-77.0273806880861:\t25\n",
      " 18. FULLADDRESS\n",
      "\t<class 'str'>\n",
      "\tNulls: True\n",
      "\tUnique values: 3625\n",
      "\t5 most frequent values:\n",
      "\t\t1300 I STREET NW:\t128\n",
      "\t\t1100 CONNECTICUT AVENUE NW:\t47\n",
      "\t\t4201 CATHEDRAL AVENUE NW:\t33\n",
      "\t\t1919 M STREET NW:\t32\n",
      "\t\t1100 FLORIDA AVENUE NW:\t25\n",
      "\tMax length: 53\n",
      " 19. GIS_LAST_MOD_DTTM\n",
      "\t<class 'datetime.datetime'>\n",
      "\tNulls: False\n",
      "\tValues: 2017-11-13 06:18:09+00:00\n",
      "\n",
      "Row count: 9999\n"
     ]
    }
   ],
   "source": [
    "!head -10000 dc_contributions.csv | csvstat"
   ]
  },
  {
   "cell_type": "markdown",
   "metadata": {},
   "source": [
    "* From the csvstat summary,we can see that most columns contain null values in the first 10000 rows."
   ]
  },
  {
   "cell_type": "markdown",
   "metadata": {},
   "source": [
    "* We have 19 columns in our csv.\n",
    "* OBJECTID: the index number of the data; it's the primary key of our data.\n",
    "* COMMITTEENAME, CANDIDATENAME: details of each election campaign contribution; they are the dimension of contribution.\n",
    "* ELECTION YEAR: YEAR of campaign information; it is dimension of campaign.\n",
    "* CONTRIBUTORNAME: the person or organization that made the contribution; it is fact of contributor; it can be dimension of contribution.\n",
    "* ADDRESS: the fact of contributor.\n",
    "* CONTRIBUTIONTYPE, CONTRIBUTORTYPE: details of each contribution; they are dimensions of contribution.\n",
    "* EMPLOYER: dimension of contributor.\n",
    "* EMPLOYERADDRESS: the fact of EMPLOYER.\n",
    "* AMOUNT: the fact of contribution.\n",
    "* DATEOFRECEIPT: the dimension of contributions.\n",
    "* ADDRESSID: the index or key of the address.\n",
    "* XCOORD, YCOORD, LATITUDE, LONGITUDE: the location fact.\n",
    "* FULLADDRESS: the address fact.\n",
    "* GIS_LAST_MOD_DTTM: date and time; it's probably a dimension of the time that GIS information updated/modified.\n",
    "* ** Actually, some solumns can be either dimensions of facts, it depends on how we evaluate these data. **"
   ]
  },
  {
   "cell_type": "markdown",
   "metadata": {},
   "source": [
    "## Part 2 - create a database and load the data (40 points)\n",
    "Create and connect to a new database, create database tables in it based on the following provided star schema, and load this dataset into it. \n",
    "\n",
    "* `campaign` (`campaign_key`, `committee_name`, `candidate_name`, `election_year`)\n",
    "* `contributor` (`contributor_key`, `name`, `type`, `employer`)\n",
    "* `contribution_facts` (`campaign_key`, `contributor_key`, `amount`)"
   ]
  },
  {
   "cell_type": "code",
   "execution_count": 7,
   "metadata": {},
   "outputs": [],
   "source": [
    "%load_ext sql"
   ]
  },
  {
   "cell_type": "code",
   "execution_count": 8,
   "metadata": {},
   "outputs": [],
   "source": [
    "!dropdb --if-exists -U student assignment4"
   ]
  },
  {
   "cell_type": "code",
   "execution_count": 9,
   "metadata": {},
   "outputs": [],
   "source": [
    "!createdb -U student assignment4"
   ]
  },
  {
   "cell_type": "code",
   "execution_count": 10,
   "metadata": {
    "scrolled": true
   },
   "outputs": [
    {
     "data": {
      "text/plain": [
       "'Connected: student@assignment4'"
      ]
     },
     "execution_count": 10,
     "metadata": {},
     "output_type": "execute_result"
    }
   ],
   "source": [
    "%sql postgresql://student@/assignment4"
   ]
  },
  {
   "cell_type": "markdown",
   "metadata": {},
   "source": [
    "First, let's create the table `contribution_facts`:"
   ]
  },
  {
   "cell_type": "code",
   "execution_count": 11,
   "metadata": {},
   "outputs": [
    {
     "name": "stdout",
     "output_type": "stream",
     "text": [
      "Done.\n",
      "Done.\n"
     ]
    },
    {
     "data": {
      "text/plain": [
       "[]"
      ]
     },
     "execution_count": 11,
     "metadata": {},
     "output_type": "execute_result"
    }
   ],
   "source": [
    "%%sql\n",
    "DROP TABLE IF EXISTS contribution_facts;\n",
    "\n",
    "CREATE TABLE contribution_facts (\n",
    "    id INTEGER,\n",
    "    committee_name VARCHAR(500) NOT NULL,\n",
    "    candidate_name VARCHAR(50),\n",
    "    election_year INTEGER NOT NULL,\n",
    "    contributor_name VARCHAR(500),\n",
    "    contributor_address VARCHAR(500),\n",
    "    contributor_type VARCHAR(100),\n",
    "    contribution_type VARCHAR(100),\n",
    "    employer VARCHAR(500),\n",
    "    employer_address VARCHAR(500),\n",
    "    amount NUMERIC(20, 2),\n",
    "    date_of_receipt DATE NOT NULL,\n",
    "    address_id INTEGER,\n",
    "    address_x NUMERIC(20, 2),\n",
    "    address_y NUMERIC(20, 2),\n",
    "    address_latitude NUMERIC,\n",
    "    address_longitude NUMERIC,\n",
    "    address_full VARCHAR(500),\n",
    "    gis_last_mod TIMESTAMPTZ NOT NULL\n",
    ")"
   ]
  },
  {
   "cell_type": "markdown",
   "metadata": {},
   "source": [
    "** Question 2 (10 points)** :\n",
    "Load the dataset into the table `contribution_facts` and verify the loaded records.\n",
    "\n",
    "Hint: If you get some errors, please examine the error messages carefully and fix the problems, including any problems in the above CREATE TABLE statement.\n",
    "\n",
    "** Answer: **"
   ]
  },
  {
   "cell_type": "markdown",
   "metadata": {},
   "source": [
    "Our table can not allow nulls in some columns. But we do have nulls corresponding to those columns in csv."
   ]
  },
  {
   "cell_type": "markdown",
   "metadata": {},
   "source": [
    "* We can build a temporary table without any constraints to accept data and then solve the problem using SQL queries."
   ]
  },
  {
   "cell_type": "code",
   "execution_count": 12,
   "metadata": {
    "collapsed": true
   },
   "outputs": [],
   "source": [
    "!cp dc_contributions.csv /tmp/dc_contributions.csv"
   ]
  },
  {
   "cell_type": "code",
   "execution_count": 13,
   "metadata": {},
   "outputs": [
    {
     "name": "stdout",
     "output_type": "stream",
     "text": [
      "Done.\n",
      "Done.\n"
     ]
    },
    {
     "data": {
      "text/plain": [
       "[]"
      ]
     },
     "execution_count": 13,
     "metadata": {},
     "output_type": "execute_result"
    }
   ],
   "source": [
    "%%sql\n",
    "DROP TABLE IF EXISTS temp;\n",
    "\n",
    "CREATE TABLE temp (\n",
    "    id INTEGER,\n",
    "    committee_name VARCHAR(500) ,\n",
    "    candidate_name VARCHAR(50),\n",
    "    election_year INTEGER ,\n",
    "    contributor_name VARCHAR(500),\n",
    "    contributor_address VARCHAR(500),\n",
    "    contributor_type VARCHAR(100),\n",
    "    contribution_type VARCHAR(100),\n",
    "    employer VARCHAR(500),\n",
    "    employer_address VARCHAR(500),\n",
    "    amount NUMERIC(20, 2),\n",
    "    date_of_receipt DATE ,\n",
    "    address_id INTEGER,\n",
    "    address_x NUMERIC(20, 2),\n",
    "    address_y NUMERIC(20, 2),\n",
    "    address_latitude NUMERIC,\n",
    "    address_longitude NUMERIC,\n",
    "    address_full VARCHAR(500),\n",
    "    gis_last_mod TIMESTAMPTZ \n",
    ")"
   ]
  },
  {
   "cell_type": "code",
   "execution_count": 14,
   "metadata": {},
   "outputs": [
    {
     "name": "stdout",
     "output_type": "stream",
     "text": [
      "214975 rows affected.\n"
     ]
    },
    {
     "data": {
      "text/plain": [
       "[]"
      ]
     },
     "execution_count": 14,
     "metadata": {},
     "output_type": "execute_result"
    }
   ],
   "source": [
    "%%sql\n",
    "COPY temp FROM '/tmp/dc_contributions.csv'\n",
    "CSV\n",
    "HEADER;"
   ]
  },
  {
   "cell_type": "markdown",
   "metadata": {},
   "source": [
    "* But the rows in our temp table is not the same as the line number in csv file.\n",
    "* Why?"
   ]
  },
  {
   "cell_type": "code",
   "execution_count": 15,
   "metadata": {},
   "outputs": [
    {
     "name": "stdout",
     "output_type": "stream",
     "text": [
      "214982\r\n"
     ]
    }
   ],
   "source": [
    "!grep -c \",*,\" dc_contributions.csv"
   ]
  },
  {
   "cell_type": "code",
   "execution_count": 16,
   "metadata": {},
   "outputs": [
    {
     "name": "stdout",
     "output_type": "stream",
     "text": [
      "20\r\n"
     ]
    }
   ],
   "source": [
    "!grep -c \"*,*\" dc_contributions.csv"
   ]
  },
  {
   "cell_type": "code",
   "execution_count": 17,
   "metadata": {
    "scrolled": false
   },
   "outputs": [
    {
     "name": "stdout",
     "output_type": "stream",
     "text": [
      "12\r\n"
     ]
    }
   ],
   "source": [
    "!grep -c \"*,\" dc_contributions.csv"
   ]
  },
  {
   "cell_type": "markdown",
   "metadata": {},
   "source": [
    "* Maybe some lines are different.\n",
    "* But we have loaded all the data in temp table without error."
   ]
  },
  {
   "cell_type": "markdown",
   "metadata": {},
   "source": [
    "* Now, we can load data to our target table from this temporary table."
   ]
  },
  {
   "cell_type": "markdown",
   "metadata": {},
   "source": [
    "* I will find all the nulls in columns with NOT NULL constraints."
   ]
  },
  {
   "cell_type": "code",
   "execution_count": 18,
   "metadata": {
    "scrolled": true
   },
   "outputs": [
    {
     "name": "stdout",
     "output_type": "stream",
     "text": [
      "28 rows affected.\n"
     ]
    },
    {
     "data": {
      "text/html": [
       "<table>\n",
       "    <tr>\n",
       "        <th>id</th>\n",
       "        <th>committee_name</th>\n",
       "        <th>candidate_name</th>\n",
       "        <th>election_year</th>\n",
       "        <th>contributor_name</th>\n",
       "        <th>contributor_address</th>\n",
       "        <th>contributor_type</th>\n",
       "        <th>contribution_type</th>\n",
       "        <th>employer</th>\n",
       "        <th>employer_address</th>\n",
       "        <th>amount</th>\n",
       "        <th>date_of_receipt</th>\n",
       "        <th>address_id</th>\n",
       "        <th>address_x</th>\n",
       "        <th>address_y</th>\n",
       "        <th>address_latitude</th>\n",
       "        <th>address_longitude</th>\n",
       "        <th>address_full</th>\n",
       "        <th>gis_last_mod</th>\n",
       "    </tr>\n",
       "    <tr>\n",
       "        <td>91668</td>\n",
       "        <td>Committee for John Smith</td>\n",
       "        <td>John Smith</td>\n",
       "        <td>None</td>\n",
       "        <td>John Smith</td>\n",
       "        <td>12th street&#x27;, Washington, DC 20023</td>\n",
       "        <td>Individual</td>\n",
       "        <td>Money Order</td>\n",
       "        <td>Verizon&#x27;</td>\n",
       "        <td>12 U Street&#x27;, Washington, DC 20002</td>\n",
       "        <td>30.00</td>\n",
       "        <td>2003-04-03</td>\n",
       "        <td>None</td>\n",
       "        <td>None</td>\n",
       "        <td>None</td>\n",
       "        <td>None</td>\n",
       "        <td>None</td>\n",
       "        <td>None</td>\n",
       "        <td>2017-11-13 06:18:09+00:00</td>\n",
       "    </tr>\n",
       "    <tr>\n",
       "        <td>91669</td>\n",
       "        <td>Committee for John Smith</td>\n",
       "        <td>John Smith</td>\n",
       "        <td>None</td>\n",
       "        <td>ABC Company&#x27;</td>\n",
       "        <td>12th street&#x27;, Washington, DC 20023</td>\n",
       "        <td>Corporation</td>\n",
       "        <td>Money Order</td>\n",
       "        <td>None</td>\n",
       "        <td>None</td>\n",
       "        <td>20.00</td>\n",
       "        <td>2003-04-03</td>\n",
       "        <td>None</td>\n",
       "        <td>None</td>\n",
       "        <td>None</td>\n",
       "        <td>None</td>\n",
       "        <td>None</td>\n",
       "        <td>None</td>\n",
       "        <td>2017-11-13 06:18:09+00:00</td>\n",
       "    </tr>\n",
       "    <tr>\n",
       "        <td>91670</td>\n",
       "        <td>Committee for John Smith</td>\n",
       "        <td>John Smith</td>\n",
       "        <td>None</td>\n",
       "        <td>John Smith</td>\n",
       "        <td>1211 South Bon View Ave&#x27;, Washington, DC 20003</td>\n",
       "        <td>Individual</td>\n",
       "        <td>Other</td>\n",
       "        <td>None</td>\n",
       "        <td>None</td>\n",
       "        <td>20.00</td>\n",
       "        <td>2003-04-03</td>\n",
       "        <td>None</td>\n",
       "        <td>None</td>\n",
       "        <td>None</td>\n",
       "        <td>None</td>\n",
       "        <td>None</td>\n",
       "        <td>None</td>\n",
       "        <td>2017-11-13 06:18:09+00:00</td>\n",
       "    </tr>\n",
       "    <tr>\n",
       "        <td>91799</td>\n",
       "        <td>Washington Gas Light Company PAC</td>\n",
       "        <td>Lankward Smith</td>\n",
       "        <td>None</td>\n",
       "        <td>Bank of America</td>\n",
       "        <td>undisclosed, Washington, DC 00000</td>\n",
       "        <td>Corporation</td>\n",
       "        <td>Check</td>\n",
       "        <td>None</td>\n",
       "        <td>None</td>\n",
       "        <td>31.00</td>\n",
       "        <td>2003-02-01</td>\n",
       "        <td>None</td>\n",
       "        <td>None</td>\n",
       "        <td>None</td>\n",
       "        <td>None</td>\n",
       "        <td>None</td>\n",
       "        <td>None</td>\n",
       "        <td>2017-11-13 06:18:09+00:00</td>\n",
       "    </tr>\n",
       "    <tr>\n",
       "        <td>91800</td>\n",
       "        <td>Washington Gas Light Company PAC</td>\n",
       "        <td>Lankward Smith</td>\n",
       "        <td>None</td>\n",
       "        <td>Bank of America</td>\n",
       "        <td>undisclosed, Washington, DC 00000</td>\n",
       "        <td>Corporation</td>\n",
       "        <td>Check</td>\n",
       "        <td>None</td>\n",
       "        <td>None</td>\n",
       "        <td>31.00</td>\n",
       "        <td>2003-02-03</td>\n",
       "        <td>None</td>\n",
       "        <td>None</td>\n",
       "        <td>None</td>\n",
       "        <td>None</td>\n",
       "        <td>None</td>\n",
       "        <td>None</td>\n",
       "        <td>2017-11-13 06:18:09+00:00</td>\n",
       "    </tr>\n",
       "    <tr>\n",
       "        <td>91801</td>\n",
       "        <td>Washington Gas Light Company PAC</td>\n",
       "        <td>Lankward Smith</td>\n",
       "        <td>None</td>\n",
       "        <td>Toni Washington</td>\n",
       "        <td>1100 H. Street NW, Washington, DC 20080</td>\n",
       "        <td>Individual</td>\n",
       "        <td>Check</td>\n",
       "        <td>Washington Gas Light</td>\n",
       "        <td>1100 H. Street NW, Washington, DC 20080</td>\n",
       "        <td>8.00</td>\n",
       "        <td>2003-06-30</td>\n",
       "        <td>239128</td>\n",
       "        <td>397624.83</td>\n",
       "        <td>136852.80</td>\n",
       "        <td>38.899523838996494</td>\n",
       "        <td>-77.027381235422496</td>\n",
       "        <td>1100 H STREET NW</td>\n",
       "        <td>2017-11-13 06:18:09+00:00</td>\n",
       "    </tr>\n",
       "    <tr>\n",
       "        <td>92776</td>\n",
       "        <td>The Vi Group</td>\n",
       "        <td>None</td>\n",
       "        <td>None</td>\n",
       "        <td>ABC Corp.</td>\n",
       "        <td>2001 14th Street, NW, Washington, DC 20009</td>\n",
       "        <td>Corporation</td>\n",
       "        <td>Check</td>\n",
       "        <td>None</td>\n",
       "        <td>None</td>\n",
       "        <td>1000.00</td>\n",
       "        <td>2006-04-12</td>\n",
       "        <td>240357</td>\n",
       "        <td>397248.69</td>\n",
       "        <td>138809.30</td>\n",
       "        <td>38.917147567900898</td>\n",
       "        <td>-77.031725259069489</td>\n",
       "        <td>2001 14TH STREET NW</td>\n",
       "        <td>2017-11-13 06:18:09+00:00</td>\n",
       "    </tr>\n",
       "    <tr>\n",
       "        <td>92777</td>\n",
       "        <td>The Vi Group</td>\n",
       "        <td>None</td>\n",
       "        <td>None</td>\n",
       "        <td>John Doe</td>\n",
       "        <td>444 6th Street, NW, Washington, DC 20001</td>\n",
       "        <td>Individual</td>\n",
       "        <td>Check</td>\n",
       "        <td>Pepco</td>\n",
       "        <td>701 9th Street, NW, Washington, DC 20068</td>\n",
       "        <td>5000.00</td>\n",
       "        <td>2006-04-13</td>\n",
       "        <td>None</td>\n",
       "        <td>None</td>\n",
       "        <td>None</td>\n",
       "        <td>None</td>\n",
       "        <td>None</td>\n",
       "        <td>None</td>\n",
       "        <td>2017-11-13 06:18:09+00:00</td>\n",
       "    </tr>\n",
       "    <tr>\n",
       "        <td>92778</td>\n",
       "        <td>The Vi Group</td>\n",
       "        <td>None</td>\n",
       "        <td>None</td>\n",
       "        <td>John Doe</td>\n",
       "        <td>444 6th Street, Washington, DC 20001</td>\n",
       "        <td>Individual</td>\n",
       "        <td>Check</td>\n",
       "        <td>PEPCO</td>\n",
       "        <td>701 9th Street, NW, Washington, DC 20068</td>\n",
       "        <td>500.00</td>\n",
       "        <td>2006-04-14</td>\n",
       "        <td>None</td>\n",
       "        <td>None</td>\n",
       "        <td>None</td>\n",
       "        <td>None</td>\n",
       "        <td>None</td>\n",
       "        <td>None</td>\n",
       "        <td>2017-11-13 06:18:09+00:00</td>\n",
       "    </tr>\n",
       "    <tr>\n",
       "        <td>127508</td>\n",
       "        <td>G For Ward 4</td>\n",
       "        <td>D Gilliam</td>\n",
       "        <td>None</td>\n",
       "        <td>Sonya Lake</td>\n",
       "        <td>135 B Street, NW, Washington, DC 20011</td>\n",
       "        <td>Individual</td>\n",
       "        <td>Cash</td>\n",
       "        <td>Power, Inc.</td>\n",
       "        <td>555 M Street, NW, Suite 100, Washington, DC 20009</td>\n",
       "        <td>25.00</td>\n",
       "        <td>2008-06-23</td>\n",
       "        <td>None</td>\n",
       "        <td>None</td>\n",
       "        <td>None</td>\n",
       "        <td>None</td>\n",
       "        <td>None</td>\n",
       "        <td>None</td>\n",
       "        <td>2017-11-13 06:18:09+00:00</td>\n",
       "    </tr>\n",
       "    <tr>\n",
       "        <td>127509</td>\n",
       "        <td>G For Ward 4</td>\n",
       "        <td>D Gilliam</td>\n",
       "        <td>None</td>\n",
       "        <td>Laura McQueen</td>\n",
       "        <td>246 16th Street, NW, Washington, DC 20009</td>\n",
       "        <td>Individual</td>\n",
       "        <td>Cash</td>\n",
       "        <td>Spirit, Inc.</td>\n",
       "        <td>987 A Street, NE, Washington, DC 20017</td>\n",
       "        <td>50.00</td>\n",
       "        <td>2008-07-01</td>\n",
       "        <td>None</td>\n",
       "        <td>None</td>\n",
       "        <td>None</td>\n",
       "        <td>None</td>\n",
       "        <td>None</td>\n",
       "        <td>None</td>\n",
       "        <td>2017-11-13 06:18:09+00:00</td>\n",
       "    </tr>\n",
       "    <tr>\n",
       "        <td>127510</td>\n",
       "        <td>G For Ward 4</td>\n",
       "        <td>D Gilliam</td>\n",
       "        <td>None</td>\n",
       "        <td>How I Love Jesus, Inc.</td>\n",
       "        <td>777 First Street, SE, Washington, DC 20003</td>\n",
       "        <td>Organization</td>\n",
       "        <td>InKind</td>\n",
       "        <td>None</td>\n",
       "        <td>None</td>\n",
       "        <td>500.00</td>\n",
       "        <td>2008-07-04</td>\n",
       "        <td>None</td>\n",
       "        <td>None</td>\n",
       "        <td>None</td>\n",
       "        <td>None</td>\n",
       "        <td>None</td>\n",
       "        <td>None</td>\n",
       "        <td>2017-11-13 06:18:09+00:00</td>\n",
       "    </tr>\n",
       "    <tr>\n",
       "        <td>127511</td>\n",
       "        <td>G For Ward 4</td>\n",
       "        <td>D Gilliam</td>\n",
       "        <td>None</td>\n",
       "        <td>Number One, Inc.</td>\n",
       "        <td>624 K Street, NW., Suite 700, Washington, DC 20010</td>\n",
       "        <td>Corporation</td>\n",
       "        <td>Check</td>\n",
       "        <td>None</td>\n",
       "        <td>None</td>\n",
       "        <td>500.00</td>\n",
       "        <td>2008-07-28</td>\n",
       "        <td>None</td>\n",
       "        <td>None</td>\n",
       "        <td>None</td>\n",
       "        <td>None</td>\n",
       "        <td>None</td>\n",
       "        <td>None</td>\n",
       "        <td>2017-11-13 06:18:09+00:00</td>\n",
       "    </tr>\n",
       "    <tr>\n",
       "        <td>127512</td>\n",
       "        <td>G For Ward 4</td>\n",
       "        <td>D Gilliam</td>\n",
       "        <td>None</td>\n",
       "        <td>Number One, LLC</td>\n",
       "        <td>624 K Street, NW., Suite 700, Washington, DC 20010</td>\n",
       "        <td>Corporation</td>\n",
       "        <td>Check</td>\n",
       "        <td>None</td>\n",
       "        <td>None</td>\n",
       "        <td>500.00</td>\n",
       "        <td>2008-07-28</td>\n",
       "        <td>None</td>\n",
       "        <td>None</td>\n",
       "        <td>None</td>\n",
       "        <td>None</td>\n",
       "        <td>None</td>\n",
       "        <td>None</td>\n",
       "        <td>2017-11-13 06:18:09+00:00</td>\n",
       "    </tr>\n",
       "    <tr>\n",
       "        <td>141398</td>\n",
       "        <td>Ward 8 Democrats for Progress Slate Committee</td>\n",
       "        <td>None</td>\n",
       "        <td>None</td>\n",
       "        <td>Bradley Lewis</td>\n",
       "        <td>1228 V Street, SE, Washington, DC 20020</td>\n",
       "        <td>Individual</td>\n",
       "        <td>Check</td>\n",
       "        <td>Toatal Learning Solutions</td>\n",
       "        <td>4600 Forbes Blvd., Lanham, MD 20703</td>\n",
       "        <td>90.00</td>\n",
       "        <td>2004-11-01</td>\n",
       "        <td>70662</td>\n",
       "        <td>401005.87</td>\n",
       "        <td>133099.29</td>\n",
       "        <td>38.8657134058274</td>\n",
       "        <td>-76.988409707431003</td>\n",
       "        <td>1228 V STREET SE</td>\n",
       "        <td>2017-11-13 06:18:09+00:00</td>\n",
       "    </tr>\n",
       "    <tr>\n",
       "        <td>144556</td>\n",
       "        <td>Ward 8 Democrats for Progress Slate Committee</td>\n",
       "        <td>None</td>\n",
       "        <td>None</td>\n",
       "        <td>Pamela Brown</td>\n",
       "        <td>1819 9th St. NW., Washington, DC 20002</td>\n",
       "        <td>Individual</td>\n",
       "        <td>Check</td>\n",
       "        <td>DC Govt</td>\n",
       "        <td>441 4th St. NW., Washington, DC 20004</td>\n",
       "        <td>20.00</td>\n",
       "        <td>2004-08-11</td>\n",
       "        <td>None</td>\n",
       "        <td>None</td>\n",
       "        <td>None</td>\n",
       "        <td>None</td>\n",
       "        <td>None</td>\n",
       "        <td>None</td>\n",
       "        <td>2017-11-13 06:18:09+00:00</td>\n",
       "    </tr>\n",
       "    <tr>\n",
       "        <td>144557</td>\n",
       "        <td>Ward 8 Democrats for Progress Slate Committee</td>\n",
       "        <td>None</td>\n",
       "        <td>None</td>\n",
       "        <td>Ernest Hopkins</td>\n",
       "        <td>5501 16th St. NW., Washington, DC 20011</td>\n",
       "        <td>Individual</td>\n",
       "        <td>Check</td>\n",
       "        <td>San Francisco Aids Foundation</td>\n",
       "        <td>Washington, DC</td>\n",
       "        <td>50.00</td>\n",
       "        <td>2004-08-11</td>\n",
       "        <td>255910</td>\n",
       "        <td>396877.17</td>\n",
       "        <td>143165.66</td>\n",
       "        <td>38.956389708417703</td>\n",
       "        <td>-77.036029068335196</td>\n",
       "        <td>5501 16TH STREET NW</td>\n",
       "        <td>2017-11-13 06:18:09+00:00</td>\n",
       "    </tr>\n",
       "    <tr>\n",
       "        <td>144558</td>\n",
       "        <td>Ward 8 Democrats for Progress Slate Committee</td>\n",
       "        <td>None</td>\n",
       "        <td>None</td>\n",
       "        <td>Ray,wood Holmes</td>\n",
       "        <td>3501 Crest Ave. , Cheverly, DC 20705</td>\n",
       "        <td>Individual</td>\n",
       "        <td>Check</td>\n",
       "        <td>CSA</td>\n",
       "        <td>1800 G. St. NW., Washington, DC 20001</td>\n",
       "        <td>20.00</td>\n",
       "        <td>2004-08-11</td>\n",
       "        <td>None</td>\n",
       "        <td>None</td>\n",
       "        <td>None</td>\n",
       "        <td>None</td>\n",
       "        <td>None</td>\n",
       "        <td>None</td>\n",
       "        <td>2017-11-13 06:18:09+00:00</td>\n",
       "    </tr>\n",
       "    <tr>\n",
       "        <td>144559</td>\n",
       "        <td>Ward 8 Democrats for Progress Slate Committee</td>\n",
       "        <td>None</td>\n",
       "        <td>None</td>\n",
       "        <td>Bradley Lewis</td>\n",
       "        <td>NA, Washington, DC 99999</td>\n",
       "        <td>Individual</td>\n",
       "        <td>Check</td>\n",
       "        <td>None</td>\n",
       "        <td>None</td>\n",
       "        <td>100.00</td>\n",
       "        <td>2004-09-01</td>\n",
       "        <td>None</td>\n",
       "        <td>None</td>\n",
       "        <td>None</td>\n",
       "        <td>None</td>\n",
       "        <td>None</td>\n",
       "        <td>None</td>\n",
       "        <td>2017-11-13 06:18:09+00:00</td>\n",
       "    </tr>\n",
       "    <tr>\n",
       "        <td>144560</td>\n",
       "        <td>Ward 8 Democrats for Progress Slate Committee</td>\n",
       "        <td>None</td>\n",
       "        <td>None</td>\n",
       "        <td>Wanda Lockridge</td>\n",
       "        <td>NA, Washington, DC 99999</td>\n",
       "        <td>Individual</td>\n",
       "        <td>Check</td>\n",
       "        <td>None</td>\n",
       "        <td>None</td>\n",
       "        <td>300.00</td>\n",
       "        <td>2004-09-01</td>\n",
       "        <td>None</td>\n",
       "        <td>None</td>\n",
       "        <td>None</td>\n",
       "        <td>None</td>\n",
       "        <td>None</td>\n",
       "        <td>None</td>\n",
       "        <td>2017-11-13 06:18:09+00:00</td>\n",
       "    </tr>\n",
       "    <tr>\n",
       "        <td>144561</td>\n",
       "        <td>Ward 8 Democrats for Progress Slate Committee</td>\n",
       "        <td>None</td>\n",
       "        <td>None</td>\n",
       "        <td>Phillip Pannell</td>\n",
       "        <td>NA, Washington, DC 99999</td>\n",
       "        <td>Individual</td>\n",
       "        <td>Check</td>\n",
       "        <td>None</td>\n",
       "        <td>None</td>\n",
       "        <td>300.00</td>\n",
       "        <td>2004-09-01</td>\n",
       "        <td>None</td>\n",
       "        <td>None</td>\n",
       "        <td>None</td>\n",
       "        <td>None</td>\n",
       "        <td>None</td>\n",
       "        <td>None</td>\n",
       "        <td>2017-11-13 06:18:09+00:00</td>\n",
       "    </tr>\n",
       "    <tr>\n",
       "        <td>144562</td>\n",
       "        <td>Ward 8 Democrats for Progress Slate Committee</td>\n",
       "        <td>None</td>\n",
       "        <td>None</td>\n",
       "        <td>Mary Cuthbert</td>\n",
       "        <td>NA, Washington, DC 99999</td>\n",
       "        <td>Individual</td>\n",
       "        <td>Check</td>\n",
       "        <td>None</td>\n",
       "        <td>None</td>\n",
       "        <td>100.00</td>\n",
       "        <td>2004-09-01</td>\n",
       "        <td>None</td>\n",
       "        <td>None</td>\n",
       "        <td>None</td>\n",
       "        <td>None</td>\n",
       "        <td>None</td>\n",
       "        <td>None</td>\n",
       "        <td>2017-11-13 06:18:09+00:00</td>\n",
       "    </tr>\n",
       "    <tr>\n",
       "        <td>144563</td>\n",
       "        <td>Ward 8 Democrats for Progress Slate Committee</td>\n",
       "        <td>None</td>\n",
       "        <td>None</td>\n",
       "        <td>Terry Williams</td>\n",
       "        <td>534  2nd  St. SE., Washington, DC 20032</td>\n",
       "        <td>Individual</td>\n",
       "        <td>Check</td>\n",
       "        <td>National Transportation Safety Bd.</td>\n",
       "        <td>Washington, DC</td>\n",
       "        <td>20.00</td>\n",
       "        <td>2004-09-02</td>\n",
       "        <td>None</td>\n",
       "        <td>None</td>\n",
       "        <td>None</td>\n",
       "        <td>None</td>\n",
       "        <td>None</td>\n",
       "        <td>None</td>\n",
       "        <td>2017-11-13 06:18:09+00:00</td>\n",
       "    </tr>\n",
       "    <tr>\n",
       "        <td>146373</td>\n",
       "        <td>Committee to Elect Victor Reinoso</td>\n",
       "        <td>Victor Reinoso</td>\n",
       "        <td>None</td>\n",
       "        <td>James Shelton</td>\n",
       "        <td>469 Florida Ave., NW, Washington, DC 20001</td>\n",
       "        <td>Individual</td>\n",
       "        <td>Check</td>\n",
       "        <td>Bill and Melinda Gates Foundation</td>\n",
       "        <td>601 13th Street, NW Suite 800N, Washington, DC 20005</td>\n",
       "        <td>300.00</td>\n",
       "        <td>2004-07-30</td>\n",
       "        <td>229907</td>\n",
       "        <td>398431.40</td>\n",
       "        <td>138553.34</td>\n",
       "        <td>38.9148447020218</td>\n",
       "        <td>-77.01808688728039</td>\n",
       "        <td>469 FLORIDA AVENUE NW</td>\n",
       "        <td>2017-11-13 06:18:09+00:00</td>\n",
       "    </tr>\n",
       "    <tr>\n",
       "        <td>146374</td>\n",
       "        <td>Committee to Elect Victor Reinoso</td>\n",
       "        <td>Victor Reinoso</td>\n",
       "        <td>None</td>\n",
       "        <td>Lisa Cohen</td>\n",
       "        <td>606 Aspen Street, NW, Washington, DC 20012</td>\n",
       "        <td>Individual</td>\n",
       "        <td>Check</td>\n",
       "        <td>US Congress</td>\n",
       "        <td>None Given, Washington, DC 00000</td>\n",
       "        <td>150.00</td>\n",
       "        <td>2004-08-01</td>\n",
       "        <td>250838</td>\n",
       "        <td>398079.66</td>\n",
       "        <td>144914.84</td>\n",
       "        <td>38.9721502091675</td>\n",
       "        <td>-77.0221604640253</td>\n",
       "        <td>606 ASPEN STREET NW</td>\n",
       "        <td>2017-11-13 06:18:09+00:00</td>\n",
       "    </tr>\n",
       "    <tr>\n",
       "        <td>146375</td>\n",
       "        <td>Committee to Elect Victor Reinoso</td>\n",
       "        <td>Victor Reinoso</td>\n",
       "        <td>None</td>\n",
       "        <td>Robin Halsband</td>\n",
       "        <td>637 A Street, SE, Washington, DC 20003</td>\n",
       "        <td>Individual</td>\n",
       "        <td>Check</td>\n",
       "        <td>Self-Employed</td>\n",
       "        <td>None Given, Washington, DC 00000</td>\n",
       "        <td>100.00</td>\n",
       "        <td>2004-08-06</td>\n",
       "        <td>2384</td>\n",
       "        <td>400252.84</td>\n",
       "        <td>135625.47</td>\n",
       "        <td>38.8884707710763</td>\n",
       "        <td>-76.9970856827389</td>\n",
       "        <td>637 A STREET SE</td>\n",
       "        <td>2017-11-13 06:18:09+00:00</td>\n",
       "    </tr>\n",
       "    <tr>\n",
       "        <td>174934</td>\n",
       "        <td>G For Ward 4</td>\n",
       "        <td>D Gilliam</td>\n",
       "        <td>None</td>\n",
       "        <td>D Gilliam</td>\n",
       "        <td>None</td>\n",
       "        <td>Candidate</td>\n",
       "        <td>Check</td>\n",
       "        <td>None</td>\n",
       "        <td>None</td>\n",
       "        <td>500.00</td>\n",
       "        <td>2008-06-01</td>\n",
       "        <td>None</td>\n",
       "        <td>None</td>\n",
       "        <td>None</td>\n",
       "        <td>None</td>\n",
       "        <td>None</td>\n",
       "        <td>None</td>\n",
       "        <td>2017-11-13 06:18:09+00:00</td>\n",
       "    </tr>\n",
       "    <tr>\n",
       "        <td>190584</td>\n",
       "        <td>Committee to Elect Tony De Pass</td>\n",
       "        <td>Tony DePass</td>\n",
       "        <td>None</td>\n",
       "        <td>Tony DePass</td>\n",
       "        <td>1620 Fuller Street, NW, Washington, DC 20009</td>\n",
       "        <td>Individual</td>\n",
       "        <td>Check</td>\n",
       "        <td>Retired</td>\n",
       "        <td>Washington, DC</td>\n",
       "        <td>350.00</td>\n",
       "        <td>2003-01-15</td>\n",
       "        <td>235852</td>\n",
       "        <td>396748.74</td>\n",
       "        <td>139635.72</td>\n",
       "        <td>38.924590519180498</td>\n",
       "        <td>-77.037494078308299</td>\n",
       "        <td>1620 FULLER STREET NW</td>\n",
       "        <td>2017-11-13 06:18:09+00:00</td>\n",
       "    </tr>\n",
       "</table>"
      ],
      "text/plain": [
       "[(91668, 'Committee for John Smith', 'John Smith', None, 'John Smith', \"12th street', Washington, DC 20023\", 'Individual', 'Money Order', \"Verizon'\", \"12 U Street', Washington, DC 20002\", Decimal('30.00'), datetime.date(2003, 4, 3), None, None, None, None, None, None, datetime.datetime(2017, 11, 13, 6, 18, 9, tzinfo=psycopg2.tz.FixedOffsetTimezone(offset=0, name=None))),\n",
       " (91669, 'Committee for John Smith', 'John Smith', None, \"ABC Company'\", \"12th street', Washington, DC 20023\", 'Corporation', 'Money Order', None, None, Decimal('20.00'), datetime.date(2003, 4, 3), None, None, None, None, None, None, datetime.datetime(2017, 11, 13, 6, 18, 9, tzinfo=psycopg2.tz.FixedOffsetTimezone(offset=0, name=None))),\n",
       " (91670, 'Committee for John Smith', 'John Smith', None, 'John Smith', \"1211 South Bon View Ave', Washington, DC 20003\", 'Individual', 'Other', None, None, Decimal('20.00'), datetime.date(2003, 4, 3), None, None, None, None, None, None, datetime.datetime(2017, 11, 13, 6, 18, 9, tzinfo=psycopg2.tz.FixedOffsetTimezone(offset=0, name=None))),\n",
       " (91799, 'Washington Gas Light Company PAC', 'Lankward Smith', None, 'Bank of America', 'undisclosed, Washington, DC 00000', 'Corporation', 'Check', None, None, Decimal('31.00'), datetime.date(2003, 2, 1), None, None, None, None, None, None, datetime.datetime(2017, 11, 13, 6, 18, 9, tzinfo=psycopg2.tz.FixedOffsetTimezone(offset=0, name=None))),\n",
       " (91800, 'Washington Gas Light Company PAC', 'Lankward Smith', None, 'Bank of America', 'undisclosed, Washington, DC 00000', 'Corporation', 'Check', None, None, Decimal('31.00'), datetime.date(2003, 2, 3), None, None, None, None, None, None, datetime.datetime(2017, 11, 13, 6, 18, 9, tzinfo=psycopg2.tz.FixedOffsetTimezone(offset=0, name=None))),\n",
       " (91801, 'Washington Gas Light Company PAC', 'Lankward Smith', None, 'Toni Washington', '1100 H. Street NW, Washington, DC 20080', 'Individual', 'Check', 'Washington Gas Light', '1100 H. Street NW, Washington, DC 20080', Decimal('8.00'), datetime.date(2003, 6, 30), 239128, Decimal('397624.83'), Decimal('136852.80'), Decimal('38.899523838996494'), Decimal('-77.027381235422496'), '1100 H STREET NW', datetime.datetime(2017, 11, 13, 6, 18, 9, tzinfo=psycopg2.tz.FixedOffsetTimezone(offset=0, name=None))),\n",
       " (92776, 'The Vi Group', None, None, 'ABC Corp.', '2001 14th Street, NW, Washington, DC 20009', 'Corporation', 'Check', None, None, Decimal('1000.00'), datetime.date(2006, 4, 12), 240357, Decimal('397248.69'), Decimal('138809.30'), Decimal('38.917147567900898'), Decimal('-77.031725259069489'), '2001 14TH STREET NW', datetime.datetime(2017, 11, 13, 6, 18, 9, tzinfo=psycopg2.tz.FixedOffsetTimezone(offset=0, name=None))),\n",
       " (92777, 'The Vi Group', None, None, 'John Doe', '444 6th Street, NW, Washington, DC 20001', 'Individual', 'Check', 'Pepco', '701 9th Street, NW, Washington, DC 20068', Decimal('5000.00'), datetime.date(2006, 4, 13), None, None, None, None, None, None, datetime.datetime(2017, 11, 13, 6, 18, 9, tzinfo=psycopg2.tz.FixedOffsetTimezone(offset=0, name=None))),\n",
       " (92778, 'The Vi Group', None, None, 'John Doe', '444 6th Street, Washington, DC 20001', 'Individual', 'Check', 'PEPCO', '701 9th Street, NW, Washington, DC 20068', Decimal('500.00'), datetime.date(2006, 4, 14), None, None, None, None, None, None, datetime.datetime(2017, 11, 13, 6, 18, 9, tzinfo=psycopg2.tz.FixedOffsetTimezone(offset=0, name=None))),\n",
       " (127508, 'G For Ward 4', 'D Gilliam', None, 'Sonya Lake', '135 B Street, NW, Washington, DC 20011', 'Individual', 'Cash', 'Power, Inc.', '555 M Street, NW, Suite 100, Washington, DC 20009', Decimal('25.00'), datetime.date(2008, 6, 23), None, None, None, None, None, None, datetime.datetime(2017, 11, 13, 6, 18, 9, tzinfo=psycopg2.tz.FixedOffsetTimezone(offset=0, name=None))),\n",
       " (127509, 'G For Ward 4', 'D Gilliam', None, 'Laura McQueen', '246 16th Street, NW, Washington, DC 20009', 'Individual', 'Cash', 'Spirit, Inc.', '987 A Street, NE, Washington, DC 20017', Decimal('50.00'), datetime.date(2008, 7, 1), None, None, None, None, None, None, datetime.datetime(2017, 11, 13, 6, 18, 9, tzinfo=psycopg2.tz.FixedOffsetTimezone(offset=0, name=None))),\n",
       " (127510, 'G For Ward 4', 'D Gilliam', None, 'How I Love Jesus, Inc.', '777 First Street, SE, Washington, DC 20003', 'Organization', 'InKind', None, None, Decimal('500.00'), datetime.date(2008, 7, 4), None, None, None, None, None, None, datetime.datetime(2017, 11, 13, 6, 18, 9, tzinfo=psycopg2.tz.FixedOffsetTimezone(offset=0, name=None))),\n",
       " (127511, 'G For Ward 4', 'D Gilliam', None, 'Number One, Inc.', '624 K Street, NW., Suite 700, Washington, DC 20010', 'Corporation', 'Check', None, None, Decimal('500.00'), datetime.date(2008, 7, 28), None, None, None, None, None, None, datetime.datetime(2017, 11, 13, 6, 18, 9, tzinfo=psycopg2.tz.FixedOffsetTimezone(offset=0, name=None))),\n",
       " (127512, 'G For Ward 4', 'D Gilliam', None, 'Number One, LLC', '624 K Street, NW., Suite 700, Washington, DC 20010', 'Corporation', 'Check', None, None, Decimal('500.00'), datetime.date(2008, 7, 28), None, None, None, None, None, None, datetime.datetime(2017, 11, 13, 6, 18, 9, tzinfo=psycopg2.tz.FixedOffsetTimezone(offset=0, name=None))),\n",
       " (141398, 'Ward 8 Democrats for Progress Slate Committee', None, None, 'Bradley Lewis', '1228 V Street, SE, Washington, DC 20020', 'Individual', 'Check', 'Toatal Learning Solutions', '4600 Forbes Blvd., Lanham, MD 20703', Decimal('90.00'), datetime.date(2004, 11, 1), 70662, Decimal('401005.87'), Decimal('133099.29'), Decimal('38.8657134058274'), Decimal('-76.988409707431003'), '1228 V STREET SE', datetime.datetime(2017, 11, 13, 6, 18, 9, tzinfo=psycopg2.tz.FixedOffsetTimezone(offset=0, name=None))),\n",
       " (144556, 'Ward 8 Democrats for Progress Slate Committee', None, None, 'Pamela Brown', '1819 9th St. NW., Washington, DC 20002', 'Individual', 'Check', 'DC Govt', '441 4th St. NW., Washington, DC 20004', Decimal('20.00'), datetime.date(2004, 8, 11), None, None, None, None, None, None, datetime.datetime(2017, 11, 13, 6, 18, 9, tzinfo=psycopg2.tz.FixedOffsetTimezone(offset=0, name=None))),\n",
       " (144557, 'Ward 8 Democrats for Progress Slate Committee', None, None, 'Ernest Hopkins', '5501 16th St. NW., Washington, DC 20011', 'Individual', 'Check', 'San Francisco Aids Foundation', 'Washington, DC', Decimal('50.00'), datetime.date(2004, 8, 11), 255910, Decimal('396877.17'), Decimal('143165.66'), Decimal('38.956389708417703'), Decimal('-77.036029068335196'), '5501 16TH STREET NW', datetime.datetime(2017, 11, 13, 6, 18, 9, tzinfo=psycopg2.tz.FixedOffsetTimezone(offset=0, name=None))),\n",
       " (144558, 'Ward 8 Democrats for Progress Slate Committee', None, None, 'Ray,wood Holmes', '3501 Crest Ave. , Cheverly, DC 20705', 'Individual', 'Check', 'CSA', '1800 G. St. NW., Washington, DC 20001', Decimal('20.00'), datetime.date(2004, 8, 11), None, None, None, None, None, None, datetime.datetime(2017, 11, 13, 6, 18, 9, tzinfo=psycopg2.tz.FixedOffsetTimezone(offset=0, name=None))),\n",
       " (144559, 'Ward 8 Democrats for Progress Slate Committee', None, None, 'Bradley Lewis', 'NA, Washington, DC 99999', 'Individual', 'Check', None, None, Decimal('100.00'), datetime.date(2004, 9, 1), None, None, None, None, None, None, datetime.datetime(2017, 11, 13, 6, 18, 9, tzinfo=psycopg2.tz.FixedOffsetTimezone(offset=0, name=None))),\n",
       " (144560, 'Ward 8 Democrats for Progress Slate Committee', None, None, 'Wanda Lockridge', 'NA, Washington, DC 99999', 'Individual', 'Check', None, None, Decimal('300.00'), datetime.date(2004, 9, 1), None, None, None, None, None, None, datetime.datetime(2017, 11, 13, 6, 18, 9, tzinfo=psycopg2.tz.FixedOffsetTimezone(offset=0, name=None))),\n",
       " (144561, 'Ward 8 Democrats for Progress Slate Committee', None, None, 'Phillip Pannell', 'NA, Washington, DC 99999', 'Individual', 'Check', None, None, Decimal('300.00'), datetime.date(2004, 9, 1), None, None, None, None, None, None, datetime.datetime(2017, 11, 13, 6, 18, 9, tzinfo=psycopg2.tz.FixedOffsetTimezone(offset=0, name=None))),\n",
       " (144562, 'Ward 8 Democrats for Progress Slate Committee', None, None, 'Mary Cuthbert', 'NA, Washington, DC 99999', 'Individual', 'Check', None, None, Decimal('100.00'), datetime.date(2004, 9, 1), None, None, None, None, None, None, datetime.datetime(2017, 11, 13, 6, 18, 9, tzinfo=psycopg2.tz.FixedOffsetTimezone(offset=0, name=None))),\n",
       " (144563, 'Ward 8 Democrats for Progress Slate Committee', None, None, 'Terry Williams', '534  2nd  St. SE., Washington, DC 20032', 'Individual', 'Check', 'National Transportation Safety Bd.', 'Washington, DC', Decimal('20.00'), datetime.date(2004, 9, 2), None, None, None, None, None, None, datetime.datetime(2017, 11, 13, 6, 18, 9, tzinfo=psycopg2.tz.FixedOffsetTimezone(offset=0, name=None))),\n",
       " (146373, 'Committee to Elect Victor Reinoso', 'Victor Reinoso', None, 'James Shelton', '469 Florida Ave., NW, Washington, DC 20001', 'Individual', 'Check', 'Bill and Melinda Gates Foundation', '601 13th Street, NW Suite 800N, Washington, DC 20005', Decimal('300.00'), datetime.date(2004, 7, 30), 229907, Decimal('398431.40'), Decimal('138553.34'), Decimal('38.9148447020218'), Decimal('-77.01808688728039'), '469 FLORIDA AVENUE NW', datetime.datetime(2017, 11, 13, 6, 18, 9, tzinfo=psycopg2.tz.FixedOffsetTimezone(offset=0, name=None))),\n",
       " (146374, 'Committee to Elect Victor Reinoso', 'Victor Reinoso', None, 'Lisa Cohen', '606 Aspen Street, NW, Washington, DC 20012', 'Individual', 'Check', 'US Congress', 'None Given, Washington, DC 00000', Decimal('150.00'), datetime.date(2004, 8, 1), 250838, Decimal('398079.66'), Decimal('144914.84'), Decimal('38.9721502091675'), Decimal('-77.0221604640253'), '606 ASPEN STREET NW', datetime.datetime(2017, 11, 13, 6, 18, 9, tzinfo=psycopg2.tz.FixedOffsetTimezone(offset=0, name=None))),\n",
       " (146375, 'Committee to Elect Victor Reinoso', 'Victor Reinoso', None, 'Robin Halsband', '637 A Street, SE, Washington, DC 20003', 'Individual', 'Check', 'Self-Employed', 'None Given, Washington, DC 00000', Decimal('100.00'), datetime.date(2004, 8, 6), 2384, Decimal('400252.84'), Decimal('135625.47'), Decimal('38.8884707710763'), Decimal('-76.9970856827389'), '637 A STREET SE', datetime.datetime(2017, 11, 13, 6, 18, 9, tzinfo=psycopg2.tz.FixedOffsetTimezone(offset=0, name=None))),\n",
       " (174934, 'G For Ward 4', 'D Gilliam', None, 'D Gilliam', None, 'Candidate', 'Check', None, None, Decimal('500.00'), datetime.date(2008, 6, 1), None, None, None, None, None, None, datetime.datetime(2017, 11, 13, 6, 18, 9, tzinfo=psycopg2.tz.FixedOffsetTimezone(offset=0, name=None))),\n",
       " (190584, 'Committee to Elect Tony De Pass', 'Tony DePass', None, 'Tony DePass', '1620 Fuller Street, NW, Washington, DC 20009', 'Individual', 'Check', 'Retired', 'Washington, DC', Decimal('350.00'), datetime.date(2003, 1, 15), 235852, Decimal('396748.74'), Decimal('139635.72'), Decimal('38.924590519180498'), Decimal('-77.037494078308299'), '1620 FULLER STREET NW', datetime.datetime(2017, 11, 13, 6, 18, 9, tzinfo=psycopg2.tz.FixedOffsetTimezone(offset=0, name=None)))]"
      ]
     },
     "execution_count": 18,
     "metadata": {},
     "output_type": "execute_result"
    }
   ],
   "source": [
    "%%sql\n",
    "SELECT *\n",
    "FROM temp\n",
    "WHERE committee_name IS NULL OR election_year IS NULL OR date_of_receipt IS NULL OR gis_last_mod IS NULL"
   ]
  },
  {
   "cell_type": "code",
   "execution_count": 19,
   "metadata": {},
   "outputs": [
    {
     "name": "stdout",
     "output_type": "stream",
     "text": [
      "0 rows affected.\n"
     ]
    },
    {
     "data": {
      "text/html": [
       "<table>\n",
       "    <tr>\n",
       "        <th>id</th>\n",
       "        <th>committee_name</th>\n",
       "        <th>candidate_name</th>\n",
       "        <th>election_year</th>\n",
       "        <th>contributor_name</th>\n",
       "        <th>contributor_address</th>\n",
       "        <th>contributor_type</th>\n",
       "        <th>contribution_type</th>\n",
       "        <th>employer</th>\n",
       "        <th>employer_address</th>\n",
       "        <th>amount</th>\n",
       "        <th>date_of_receipt</th>\n",
       "        <th>address_id</th>\n",
       "        <th>address_x</th>\n",
       "        <th>address_y</th>\n",
       "        <th>address_latitude</th>\n",
       "        <th>address_longitude</th>\n",
       "        <th>address_full</th>\n",
       "        <th>gis_last_mod</th>\n",
       "    </tr>\n",
       "</table>"
      ],
      "text/plain": [
       "[]"
      ]
     },
     "execution_count": 19,
     "metadata": {},
     "output_type": "execute_result"
    }
   ],
   "source": [
    "%%sql\n",
    "SELECT *\n",
    "FROM temp\n",
    "WHERE committee_name IS NULL OR date_of_receipt IS NULL OR gis_last_mod IS NULL"
   ]
  },
  {
   "cell_type": "markdown",
   "metadata": {},
   "source": [
    "* Now, we have 28 rows to update. But, interestingly, all nulls are in election_year column."
   ]
  },
  {
   "cell_type": "code",
   "execution_count": 20,
   "metadata": {},
   "outputs": [
    {
     "name": "stdout",
     "output_type": "stream",
     "text": [
      "10 rows affected.\n"
     ]
    },
    {
     "data": {
      "text/html": [
       "<table>\n",
       "    <tr>\n",
       "        <th>election_year</th>\n",
       "        <th>date_of_receipt</th>\n",
       "    </tr>\n",
       "    <tr>\n",
       "        <td>2015</td>\n",
       "        <td>2015-02-04</td>\n",
       "    </tr>\n",
       "    <tr>\n",
       "        <td>2015</td>\n",
       "        <td>2015-02-04</td>\n",
       "    </tr>\n",
       "    <tr>\n",
       "        <td>2015</td>\n",
       "        <td>2015-02-04</td>\n",
       "    </tr>\n",
       "    <tr>\n",
       "        <td>2015</td>\n",
       "        <td>2015-02-04</td>\n",
       "    </tr>\n",
       "    <tr>\n",
       "        <td>2015</td>\n",
       "        <td>2015-02-04</td>\n",
       "    </tr>\n",
       "    <tr>\n",
       "        <td>2015</td>\n",
       "        <td>2015-02-04</td>\n",
       "    </tr>\n",
       "    <tr>\n",
       "        <td>2015</td>\n",
       "        <td>2015-02-04</td>\n",
       "    </tr>\n",
       "    <tr>\n",
       "        <td>2015</td>\n",
       "        <td>2015-02-04</td>\n",
       "    </tr>\n",
       "    <tr>\n",
       "        <td>2015</td>\n",
       "        <td>2015-02-04</td>\n",
       "    </tr>\n",
       "    <tr>\n",
       "        <td>2015</td>\n",
       "        <td>2015-02-04</td>\n",
       "    </tr>\n",
       "</table>"
      ],
      "text/plain": [
       "[(2015, datetime.date(2015, 2, 4)),\n",
       " (2015, datetime.date(2015, 2, 4)),\n",
       " (2015, datetime.date(2015, 2, 4)),\n",
       " (2015, datetime.date(2015, 2, 4)),\n",
       " (2015, datetime.date(2015, 2, 4)),\n",
       " (2015, datetime.date(2015, 2, 4)),\n",
       " (2015, datetime.date(2015, 2, 4)),\n",
       " (2015, datetime.date(2015, 2, 4)),\n",
       " (2015, datetime.date(2015, 2, 4)),\n",
       " (2015, datetime.date(2015, 2, 4))]"
      ]
     },
     "execution_count": 20,
     "metadata": {},
     "output_type": "execute_result"
    }
   ],
   "source": [
    "%%sql\n",
    "SELECT election_year,date_of_receipt\n",
    "FROM temp\n",
    "LIMIT 10"
   ]
  },
  {
   "cell_type": "markdown",
   "metadata": {},
   "source": [
    "* It seems that we can not infer the election year from date_of_receipt columns.\n",
    "* So, I will just set all those unknown election_years as my phone number (2028554071) which is unique and acceptable."
   ]
  },
  {
   "cell_type": "code",
   "execution_count": 21,
   "metadata": {},
   "outputs": [
    {
     "name": "stdout",
     "output_type": "stream",
     "text": [
      "28 rows affected.\n"
     ]
    },
    {
     "data": {
      "text/plain": [
       "[]"
      ]
     },
     "execution_count": 21,
     "metadata": {},
     "output_type": "execute_result"
    }
   ],
   "source": [
    "%%sql\n",
    "UPDATE temp\n",
    "SET election_year=2028554071\n",
    "WHERE election_year IS NULL"
   ]
  },
  {
   "cell_type": "markdown",
   "metadata": {},
   "source": [
    "* Copy data from temp to our target table:"
   ]
  },
  {
   "cell_type": "code",
   "execution_count": 22,
   "metadata": {},
   "outputs": [
    {
     "name": "stdout",
     "output_type": "stream",
     "text": [
      "214975 rows affected.\n"
     ]
    },
    {
     "data": {
      "text/plain": [
       "[]"
      ]
     },
     "execution_count": 22,
     "metadata": {},
     "output_type": "execute_result"
    }
   ],
   "source": [
    "%%sql\n",
    "Insert Into contribution_facts\n",
    "Select * from temp"
   ]
  },
  {
   "cell_type": "code",
   "execution_count": 23,
   "metadata": {},
   "outputs": [
    {
     "name": "stdout",
     "output_type": "stream",
     "text": [
      "1 rows affected.\n"
     ]
    },
    {
     "data": {
      "text/html": [
       "<table>\n",
       "    <tr>\n",
       "        <th>count</th>\n",
       "    </tr>\n",
       "    <tr>\n",
       "        <td>214975</td>\n",
       "    </tr>\n",
       "</table>"
      ],
      "text/plain": [
       "[(214975,)]"
      ]
     },
     "execution_count": 23,
     "metadata": {},
     "output_type": "execute_result"
    }
   ],
   "source": [
    "%%sql\n",
    "SELECT count(*)\n",
    "FROM temp"
   ]
  },
  {
   "cell_type": "markdown",
   "metadata": {},
   "source": [
    "* It worked. The row numbers in two tables are exactly the same.\n",
    "* It's time to remove the temp table."
   ]
  },
  {
   "cell_type": "code",
   "execution_count": 24,
   "metadata": {},
   "outputs": [
    {
     "name": "stdout",
     "output_type": "stream",
     "text": [
      "Done.\n"
     ]
    },
    {
     "data": {
      "text/plain": [
       "[]"
      ]
     },
     "execution_count": 24,
     "metadata": {},
     "output_type": "execute_result"
    }
   ],
   "source": [
    "%%sql\n",
    "DROP TABLE IF EXISTS temp"
   ]
  },
  {
   "cell_type": "markdown",
   "metadata": {},
   "source": [
    "** End of answer to Question 2 **"
   ]
  },
  {
   "cell_type": "markdown",
   "metadata": {},
   "source": [
    "Next, we are going to create the dimension table `contributor`. "
   ]
  },
  {
   "cell_type": "markdown",
   "metadata": {},
   "source": [
    "First let's work on the SELECT statement that extracts contributor-related dimension details like `contributor_name`, `contributor_type` and `employer`."
   ]
  },
  {
   "cell_type": "code",
   "execution_count": 25,
   "metadata": {},
   "outputs": [
    {
     "name": "stdout",
     "output_type": "stream",
     "text": [
      "10 rows affected.\n"
     ]
    },
    {
     "data": {
      "text/html": [
       "<table>\n",
       "    <tr>\n",
       "        <th>contributor_name</th>\n",
       "        <th>contributor_type</th>\n",
       "        <th>employer</th>\n",
       "    </tr>\n",
       "    <tr>\n",
       "        <td>None</td>\n",
       "        <td>None</td>\n",
       "        <td>None</td>\n",
       "    </tr>\n",
       "    <tr>\n",
       "        <td>Victor Ayala </td>\n",
       "        <td>Individual</td>\n",
       "        <td>DC Taxicab Commission</td>\n",
       "    </tr>\n",
       "    <tr>\n",
       "        <td>Harry Harrison</td>\n",
       "        <td>Individual</td>\n",
       "        <td>Aronson LLC</td>\n",
       "    </tr>\n",
       "    <tr>\n",
       "        <td>DC Development  &amp; Consulting LLC</td>\n",
       "        <td>Corporation</td>\n",
       "        <td>None</td>\n",
       "    </tr>\n",
       "    <tr>\n",
       "        <td>Virginia Contractors Supply Inc</td>\n",
       "        <td>Corporation</td>\n",
       "        <td>None</td>\n",
       "    </tr>\n",
       "    <tr>\n",
       "        <td>Euclid Mortgage Aservices</td>\n",
       "        <td>Corporation</td>\n",
       "        <td>None</td>\n",
       "    </tr>\n",
       "    <tr>\n",
       "        <td>Kool Smiles </td>\n",
       "        <td>Corporation</td>\n",
       "        <td>None</td>\n",
       "    </tr>\n",
       "    <tr>\n",
       "        <td>Summer Smith</td>\n",
       "        <td>Individual</td>\n",
       "        <td>Not reported</td>\n",
       "    </tr>\n",
       "    <tr>\n",
       "        <td>Shelly Waite</td>\n",
       "        <td>Individual</td>\n",
       "        <td>Waite Secured Line Technology Solutions LLC</td>\n",
       "    </tr>\n",
       "    <tr>\n",
       "        <td>Clark Ray</td>\n",
       "        <td>Individual</td>\n",
       "        <td>DC Governmnet</td>\n",
       "    </tr>\n",
       "</table>"
      ],
      "text/plain": [
       "[(None, None, None),\n",
       " ('Victor Ayala ', 'Individual', 'DC Taxicab Commission'),\n",
       " ('Harry Harrison', 'Individual', 'Aronson LLC'),\n",
       " ('DC Development  & Consulting LLC', 'Corporation', None),\n",
       " ('Virginia Contractors Supply Inc', 'Corporation', None),\n",
       " ('Euclid Mortgage Aservices', 'Corporation', None),\n",
       " ('Kool Smiles ', 'Corporation', None),\n",
       " ('Summer Smith', 'Individual', 'Not reported'),\n",
       " ('Shelly Waite', 'Individual', 'Waite Secured Line Technology Solutions LLC'),\n",
       " ('Clark Ray', 'Individual', 'DC Governmnet')]"
      ]
     },
     "execution_count": 25,
     "metadata": {},
     "output_type": "execute_result"
    }
   ],
   "source": [
    "%%sql\n",
    "SELECT DISTINCT contributor_name, contributor_type, employer\n",
    "FROM contribution_facts\n",
    "LIMIT 10;"
   ]
  },
  {
   "cell_type": "markdown",
   "metadata": {},
   "source": [
    "Please note NULLs in the query result. Now we can create the dimension table `contributor` to house the dimensions `contributor_name`, `contributor_type` and `employer`."
   ]
  },
  {
   "cell_type": "code",
   "execution_count": 26,
   "metadata": {},
   "outputs": [
    {
     "name": "stdout",
     "output_type": "stream",
     "text": [
      "Done.\n",
      "Done.\n"
     ]
    },
    {
     "data": {
      "text/plain": [
       "[]"
      ]
     },
     "execution_count": 26,
     "metadata": {},
     "output_type": "execute_result"
    }
   ],
   "source": [
    "%%sql\n",
    "DROP TABLE IF EXISTS contributor;\n",
    "\n",
    "CREATE TABLE contributor (\n",
    "    contributor_key SERIAL PRIMARY KEY,\n",
    "    name VARCHAR(500),\n",
    "    type VARCHAR(100),\n",
    "    employer VARCHAR(500)\n",
    ");"
   ]
  },
  {
   "cell_type": "markdown",
   "metadata": {},
   "source": [
    "Populate the dimension table with unique values of these three dimensions from the dataset."
   ]
  },
  {
   "cell_type": "code",
   "execution_count": 27,
   "metadata": {},
   "outputs": [
    {
     "name": "stdout",
     "output_type": "stream",
     "text": [
      "144249 rows affected.\n"
     ]
    },
    {
     "data": {
      "text/plain": [
       "[]"
      ]
     },
     "execution_count": 27,
     "metadata": {},
     "output_type": "execute_result"
    }
   ],
   "source": [
    "%%sql\n",
    "INSERT INTO contributor (name, type, employer)\n",
    "SELECT DISTINCT contributor_name, contributor_type, employer\n",
    "FROM contribution_facts;"
   ]
  },
  {
   "cell_type": "markdown",
   "metadata": {},
   "source": [
    "Next, we add a foreign key column to the fact table that references `contributor` dimension table."
   ]
  },
  {
   "cell_type": "code",
   "execution_count": 28,
   "metadata": {},
   "outputs": [
    {
     "name": "stdout",
     "output_type": "stream",
     "text": [
      "Done.\n"
     ]
    },
    {
     "data": {
      "text/plain": [
       "[]"
      ]
     },
     "execution_count": 28,
     "metadata": {},
     "output_type": "execute_result"
    }
   ],
   "source": [
    "%%sql\n",
    "ALTER TABLE contribution_facts\n",
    "ADD COLUMN contributor_key INTEGER,\n",
    "ADD CONSTRAINT fk_contributor_key\n",
    "    FOREIGN KEY (contributor_key)\n",
    "    REFERENCES contributor (contributor_key);"
   ]
  },
  {
   "cell_type": "code",
   "execution_count": 29,
   "metadata": {
    "scrolled": true
   },
   "outputs": [
    {
     "name": "stdout",
     "output_type": "stream",
     "text": [
      "10 rows affected.\n"
     ]
    },
    {
     "data": {
      "text/html": [
       "<table>\n",
       "    <tr>\n",
       "        <th>contributor_key</th>\n",
       "    </tr>\n",
       "    <tr>\n",
       "        <td>None</td>\n",
       "    </tr>\n",
       "    <tr>\n",
       "        <td>None</td>\n",
       "    </tr>\n",
       "    <tr>\n",
       "        <td>None</td>\n",
       "    </tr>\n",
       "    <tr>\n",
       "        <td>None</td>\n",
       "    </tr>\n",
       "    <tr>\n",
       "        <td>None</td>\n",
       "    </tr>\n",
       "    <tr>\n",
       "        <td>None</td>\n",
       "    </tr>\n",
       "    <tr>\n",
       "        <td>None</td>\n",
       "    </tr>\n",
       "    <tr>\n",
       "        <td>None</td>\n",
       "    </tr>\n",
       "    <tr>\n",
       "        <td>None</td>\n",
       "    </tr>\n",
       "    <tr>\n",
       "        <td>None</td>\n",
       "    </tr>\n",
       "</table>"
      ],
      "text/plain": [
       "[(None,),\n",
       " (None,),\n",
       " (None,),\n",
       " (None,),\n",
       " (None,),\n",
       " (None,),\n",
       " (None,),\n",
       " (None,),\n",
       " (None,),\n",
       " (None,)]"
      ]
     },
     "execution_count": 29,
     "metadata": {},
     "output_type": "execute_result"
    }
   ],
   "source": [
    "%%sql\n",
    "SELECT contributor_key FROM contribution_facts\n",
    "LIMIT 10;"
   ]
  },
  {
   "cell_type": "markdown",
   "metadata": {},
   "source": [
    "As we can see, the values for the `contributor_key` are NULLs initially. We will populate `contributor_key` with correct values next."
   ]
  },
  {
   "cell_type": "markdown",
   "metadata": {},
   "source": [
    "First let's create an index on all columns in `contributor` to improve the performance of queries."
   ]
  },
  {
   "cell_type": "code",
   "execution_count": 30,
   "metadata": {},
   "outputs": [
    {
     "name": "stdout",
     "output_type": "stream",
     "text": [
      "Done.\n",
      "Done.\n"
     ]
    },
    {
     "data": {
      "text/plain": [
       "[]"
      ]
     },
     "execution_count": 30,
     "metadata": {},
     "output_type": "execute_result"
    }
   ],
   "source": [
    "%%sql\n",
    "DROP INDEX IF EXISTS idx_contributor;\n",
    "\n",
    "CREATE INDEX idx_contributor ON contributor (name, type, employer);"
   ]
  },
  {
   "cell_type": "code",
   "execution_count": 31,
   "metadata": {},
   "outputs": [
    {
     "name": "stdout",
     "output_type": "stream",
     "text": [
      "123395 rows affected.\n"
     ]
    },
    {
     "data": {
      "text/plain": [
       "[]"
      ]
     },
     "execution_count": 31,
     "metadata": {},
     "output_type": "execute_result"
    }
   ],
   "source": [
    "%%sql\n",
    "UPDATE contribution_facts\n",
    "SET contributor_key = contributor.contributor_key\n",
    "FROM contributor\n",
    "WHERE contribution_facts.contributor_name = contributor.name \n",
    "    AND contribution_facts.contributor_type = contributor.type \n",
    "    AND contribution_facts.employer = contributor.employer"
   ]
  },
  {
   "cell_type": "markdown",
   "metadata": {},
   "source": [
    "** Question 3 (10 points) **:\n",
    "Have all rows in `contribution_facts` been updated by the above UPDATE statement? If not, explain why some rows weren't updated. Modify the UPDATE statement to fix it.\n",
    "\n",
    "** Answer: **"
   ]
  },
  {
   "cell_type": "markdown",
   "metadata": {},
   "source": [
    "* Obviously, we didn't update all rows in contribution_facts."
   ]
  },
  {
   "cell_type": "code",
   "execution_count": 32,
   "metadata": {},
   "outputs": [
    {
     "name": "stdout",
     "output_type": "stream",
     "text": [
      "1 rows affected.\n"
     ]
    },
    {
     "data": {
      "text/html": [
       "<table>\n",
       "    <tr>\n",
       "        <th>count</th>\n",
       "    </tr>\n",
       "    <tr>\n",
       "        <td>91580</td>\n",
       "    </tr>\n",
       "</table>"
      ],
      "text/plain": [
       "[(91580,)]"
      ]
     },
     "execution_count": 32,
     "metadata": {},
     "output_type": "execute_result"
    }
   ],
   "source": [
    "%%sql\n",
    "SELECT count(*)\n",
    "FROM contribution_facts\n",
    "WHERE contribution_facts.contributor_key IS NULL"
   ]
  },
  {
   "cell_type": "markdown",
   "metadata": {},
   "source": [
    "* The reason for that is that we have null values!"
   ]
  },
  {
   "cell_type": "code",
   "execution_count": 33,
   "metadata": {},
   "outputs": [
    {
     "name": "stdout",
     "output_type": "stream",
     "text": [
      "2 rows affected.\n"
     ]
    },
    {
     "data": {
      "text/html": [
       "<table>\n",
       "    <tr>\n",
       "        <th>contributor_key</th>\n",
       "        <th>name</th>\n",
       "        <th>type</th>\n",
       "        <th>employer</th>\n",
       "    </tr>\n",
       "    <tr>\n",
       "        <td>1</td>\n",
       "        <td>None</td>\n",
       "        <td>None</td>\n",
       "        <td>None</td>\n",
       "    </tr>\n",
       "    <tr>\n",
       "        <td>4</td>\n",
       "        <td>DC Development  &amp; Consulting LLC</td>\n",
       "        <td>Corporation</td>\n",
       "        <td>None</td>\n",
       "    </tr>\n",
       "</table>"
      ],
      "text/plain": [
       "[(1, None, None, None),\n",
       " (4, 'DC Development  & Consulting LLC', 'Corporation', None)]"
      ]
     },
     "execution_count": 33,
     "metadata": {},
     "output_type": "execute_result"
    }
   ],
   "source": [
    "%%sql\n",
    "SELECT *\n",
    "FROM contributor\n",
    "WHERE name IS NULL\n",
    "    OR type IS NULL\n",
    "    OR employer IS NULL\n",
    "LIMIT 2"
   ]
  },
  {
   "cell_type": "code",
   "execution_count": 34,
   "metadata": {
    "scrolled": false
   },
   "outputs": [
    {
     "name": "stdout",
     "output_type": "stream",
     "text": [
      "2 rows affected.\n"
     ]
    },
    {
     "data": {
      "text/html": [
       "<table>\n",
       "    <tr>\n",
       "        <th>id</th>\n",
       "        <th>committee_name</th>\n",
       "        <th>candidate_name</th>\n",
       "        <th>election_year</th>\n",
       "        <th>contributor_name</th>\n",
       "        <th>contributor_address</th>\n",
       "        <th>contributor_type</th>\n",
       "        <th>contribution_type</th>\n",
       "        <th>employer</th>\n",
       "        <th>employer_address</th>\n",
       "        <th>amount</th>\n",
       "        <th>date_of_receipt</th>\n",
       "        <th>address_id</th>\n",
       "        <th>address_x</th>\n",
       "        <th>address_y</th>\n",
       "        <th>address_latitude</th>\n",
       "        <th>address_longitude</th>\n",
       "        <th>address_full</th>\n",
       "        <th>gis_last_mod</th>\n",
       "        <th>contributor_key</th>\n",
       "    </tr>\n",
       "    <tr>\n",
       "        <td>4</td>\n",
       "        <td>Brandon Todd for Ward 4</td>\n",
       "        <td>Brandon Todd</td>\n",
       "        <td>2015</td>\n",
       "        <td>Psychiatric Institute of Washington</td>\n",
       "        <td>4228 Wisconsin Avenue, NW, Washington, DC 20016</td>\n",
       "        <td>Corporation</td>\n",
       "        <td>Check</td>\n",
       "        <td>None</td>\n",
       "        <td>None</td>\n",
       "        <td>500.00</td>\n",
       "        <td>2015-02-04</td>\n",
       "        <td>222976</td>\n",
       "        <td>393241.40</td>\n",
       "        <td>141781.75</td>\n",
       "        <td>38.943902621288899</td>\n",
       "        <td>-77.077962435446196</td>\n",
       "        <td>4228 WISCONSIN AVENUE NW</td>\n",
       "        <td>2017-11-13 06:18:09+00:00</td>\n",
       "        <td>None</td>\n",
       "    </tr>\n",
       "    <tr>\n",
       "        <td>128</td>\n",
       "        <td>LaRuby May 2015</td>\n",
       "        <td>LaRuby May</td>\n",
       "        <td>2015</td>\n",
       "        <td>Dipti Pidikiti-Smith</td>\n",
       "        <td>5300 Holmes Run Parkway Unit 1511, Alexandria, VA 22304</td>\n",
       "        <td>Individual</td>\n",
       "        <td>Credit Card</td>\n",
       "        <td>None</td>\n",
       "        <td>None</td>\n",
       "        <td>51.00</td>\n",
       "        <td>2015-02-15</td>\n",
       "        <td>None</td>\n",
       "        <td>None</td>\n",
       "        <td>None</td>\n",
       "        <td>None</td>\n",
       "        <td>None</td>\n",
       "        <td>None</td>\n",
       "        <td>2017-11-13 06:18:09+00:00</td>\n",
       "        <td>None</td>\n",
       "    </tr>\n",
       "</table>"
      ],
      "text/plain": [
       "[(4, 'Brandon Todd for Ward 4', 'Brandon Todd', 2015, 'Psychiatric Institute of Washington', '4228 Wisconsin Avenue, NW, Washington, DC 20016', 'Corporation', 'Check', None, None, Decimal('500.00'), datetime.date(2015, 2, 4), 222976, Decimal('393241.40'), Decimal('141781.75'), Decimal('38.943902621288899'), Decimal('-77.077962435446196'), '4228 WISCONSIN AVENUE NW', datetime.datetime(2017, 11, 13, 6, 18, 9, tzinfo=psycopg2.tz.FixedOffsetTimezone(offset=0, name=None)), None),\n",
       " (128, 'LaRuby May 2015', 'LaRuby May', 2015, 'Dipti Pidikiti-Smith', '5300 Holmes Run Parkway Unit 1511, Alexandria, VA 22304', 'Individual', 'Credit Card', None, None, Decimal('51.00'), datetime.date(2015, 2, 15), None, None, None, None, None, None, datetime.datetime(2017, 11, 13, 6, 18, 9, tzinfo=psycopg2.tz.FixedOffsetTimezone(offset=0, name=None)), None)]"
      ]
     },
     "execution_count": 34,
     "metadata": {},
     "output_type": "execute_result"
    }
   ],
   "source": [
    "%%sql\n",
    "SELECT *\n",
    "FROM contribution_facts\n",
    "WHERE contribution_facts.contributor_name IS NULL\n",
    "    OR contribution_facts.contributor_type IS NULL\n",
    "    OR contribution_facts.employer IS NULL\n",
    "LIMIT 2"
   ]
  },
  {
   "cell_type": "markdown",
   "metadata": {},
   "source": [
    "* SQL can not understand when dealing with \"null=null\".\n",
    "* So, we can use \"null is null\" to deal with it."
   ]
  },
  {
   "cell_type": "code",
   "execution_count": 35,
   "metadata": {},
   "outputs": [
    {
     "name": "stdout",
     "output_type": "stream",
     "text": [
      "214975 rows affected.\n"
     ]
    },
    {
     "data": {
      "text/plain": [
       "[]"
      ]
     },
     "execution_count": 35,
     "metadata": {},
     "output_type": "execute_result"
    }
   ],
   "source": [
    "%%sql\n",
    "UPDATE contribution_facts\n",
    "SET contributor_key = contributor.contributor_key\n",
    "FROM contributor\n",
    "WHERE (contribution_facts.contributor_name = contributor.name OR \n",
    "       (contribution_facts.contributor_name IS NULL AND contributor.name IS NULL))\n",
    "    AND (contribution_facts.contributor_type = contributor.type OR \n",
    "         (contribution_facts.contributor_type IS NULL AND contributor.type IS NULL))\n",
    "    AND (contribution_facts.employer = contributor.employer OR \n",
    "         (contribution_facts.employer IS NULL AND contributor.employer IS NULL))"
   ]
  },
  {
   "cell_type": "code",
   "execution_count": 36,
   "metadata": {},
   "outputs": [
    {
     "name": "stdout",
     "output_type": "stream",
     "text": [
      "1 rows affected.\n"
     ]
    },
    {
     "data": {
      "text/html": [
       "<table>\n",
       "    <tr>\n",
       "        <th>count</th>\n",
       "    </tr>\n",
       "    <tr>\n",
       "        <td>0</td>\n",
       "    </tr>\n",
       "</table>"
      ],
      "text/plain": [
       "[(0,)]"
      ]
     },
     "execution_count": 36,
     "metadata": {},
     "output_type": "execute_result"
    }
   ],
   "source": [
    "%%sql\n",
    "SELECT count(*)\n",
    "FROM contribution_facts\n",
    "WHERE contribution_facts.contributor_key IS NULL"
   ]
  },
  {
   "cell_type": "markdown",
   "metadata": {},
   "source": [
    "The problem is now fixed!"
   ]
  },
  {
   "cell_type": "markdown",
   "metadata": {},
   "source": [
    "** End of answer to Question 3 **"
   ]
  },
  {
   "cell_type": "markdown",
   "metadata": {},
   "source": [
    "** Question 4 (20 points) **:\n",
    "Now it is your turn to create and populate the dimension table `campaign`, add the campaign foreign key to the fact table and populate the foreign key values for all the facts.\n",
    "\n",
    "** Answer: **"
   ]
  },
  {
   "cell_type": "markdown",
   "metadata": {},
   "source": [
    "* We can just follow the steps above to achieve our goal."
   ]
  },
  {
   "cell_type": "markdown",
   "metadata": {},
   "source": [
    "* The campaign table contains campaign_key, committee_name, candidate_name and election_year columns."
   ]
  },
  {
   "cell_type": "markdown",
   "metadata": {},
   "source": [
    "First, create a table:"
   ]
  },
  {
   "cell_type": "code",
   "execution_count": 37,
   "metadata": {},
   "outputs": [
    {
     "name": "stdout",
     "output_type": "stream",
     "text": [
      "Done.\n",
      "Done.\n"
     ]
    },
    {
     "data": {
      "text/plain": [
       "[]"
      ]
     },
     "execution_count": 37,
     "metadata": {},
     "output_type": "execute_result"
    }
   ],
   "source": [
    "%%sql\n",
    "DROP TABLE IF EXISTS campaign;\n",
    "\n",
    "CREATE TABLE campaign (\n",
    "    campaign_key SERIAL PRIMARY KEY,\n",
    "    committee_name VARCHAR(500),\n",
    "    candidate_name VARCHAR(500),\n",
    "    election_year INT\n",
    ");"
   ]
  },
  {
   "cell_type": "markdown",
   "metadata": {},
   "source": [
    "Second, get unique campaign information:"
   ]
  },
  {
   "cell_type": "code",
   "execution_count": 38,
   "metadata": {},
   "outputs": [
    {
     "name": "stdout",
     "output_type": "stream",
     "text": [
      "1238 rows affected.\n"
     ]
    },
    {
     "data": {
      "text/plain": [
       "[]"
      ]
     },
     "execution_count": 38,
     "metadata": {},
     "output_type": "execute_result"
    }
   ],
   "source": [
    "%%sql\n",
    "INSERT INTO campaign (committee_name, candidate_name, election_year)\n",
    "SELECT DISTINCT committee_name, candidate_name, election_year\n",
    "FROM contribution_facts;"
   ]
  },
  {
   "cell_type": "markdown",
   "metadata": {},
   "source": [
    "Third, create reference key:"
   ]
  },
  {
   "cell_type": "code",
   "execution_count": 39,
   "metadata": {},
   "outputs": [
    {
     "name": "stdout",
     "output_type": "stream",
     "text": [
      "Done.\n"
     ]
    },
    {
     "data": {
      "text/plain": [
       "[]"
      ]
     },
     "execution_count": 39,
     "metadata": {},
     "output_type": "execute_result"
    }
   ],
   "source": [
    "%%sql\n",
    "ALTER TABLE contribution_facts\n",
    "ADD COLUMN campaign_key INTEGER,\n",
    "ADD CONSTRAINT fk_campaign_key\n",
    "    FOREIGN KEY (campaign_key)\n",
    "    REFERENCES campaign (campaign_key);"
   ]
  },
  {
   "cell_type": "markdown",
   "metadata": {},
   "source": [
    "Then, create index:"
   ]
  },
  {
   "cell_type": "code",
   "execution_count": 40,
   "metadata": {},
   "outputs": [
    {
     "name": "stdout",
     "output_type": "stream",
     "text": [
      "Done.\n",
      "Done.\n"
     ]
    },
    {
     "data": {
      "text/plain": [
       "[]"
      ]
     },
     "execution_count": 40,
     "metadata": {},
     "output_type": "execute_result"
    }
   ],
   "source": [
    "%%sql\n",
    "DROP INDEX IF EXISTS idx_campaign;\n",
    "\n",
    "CREATE INDEX idx_campaign ON campaign (committee_name, candidate_name, election_year);"
   ]
  },
  {
   "cell_type": "markdown",
   "metadata": {},
   "source": [
    "Finally, link the keys:"
   ]
  },
  {
   "cell_type": "code",
   "execution_count": 41,
   "metadata": {},
   "outputs": [
    {
     "name": "stdout",
     "output_type": "stream",
     "text": [
      "214975 rows affected.\n"
     ]
    },
    {
     "data": {
      "text/plain": [
       "[]"
      ]
     },
     "execution_count": 41,
     "metadata": {},
     "output_type": "execute_result"
    }
   ],
   "source": [
    "%%sql\n",
    "UPDATE contribution_facts\n",
    "SET campaign_key = campaign.campaign_key\n",
    "FROM campaign\n",
    "WHERE (contribution_facts.committee_name = campaign.committee_name OR \n",
    "       (contribution_facts.committee_name IS NULL AND campaign.committee_name IS NULL))\n",
    "    AND (contribution_facts.candidate_name = campaign.candidate_name OR \n",
    "         (contribution_facts.candidate_name IS NULL AND campaign.candidate_name IS NULL))\n",
    "    AND (contribution_facts.election_year = campaign.election_year OR \n",
    "         (contribution_facts.election_year IS NULL AND campaign.election_year IS NULL))"
   ]
  },
  {
   "cell_type": "markdown",
   "metadata": {},
   "source": [
    "Verify the results:"
   ]
  },
  {
   "cell_type": "code",
   "execution_count": 42,
   "metadata": {},
   "outputs": [
    {
     "name": "stdout",
     "output_type": "stream",
     "text": [
      "1 rows affected.\n"
     ]
    },
    {
     "data": {
      "text/html": [
       "<table>\n",
       "    <tr>\n",
       "        <th>count</th>\n",
       "    </tr>\n",
       "    <tr>\n",
       "        <td>0</td>\n",
       "    </tr>\n",
       "</table>"
      ],
      "text/plain": [
       "[(0,)]"
      ]
     },
     "execution_count": 42,
     "metadata": {},
     "output_type": "execute_result"
    }
   ],
   "source": [
    "%%sql\n",
    "SELECT count(*)\n",
    "FROM contribution_facts\n",
    "WHERE contribution_facts.campaign_key IS NULL"
   ]
  },
  {
   "cell_type": "markdown",
   "metadata": {},
   "source": [
    "*** Mission Accomplished! ***"
   ]
  },
  {
   "cell_type": "markdown",
   "metadata": {},
   "source": [
    "** End of answer to Question 4 **"
   ]
  },
  {
   "cell_type": "markdown",
   "metadata": {},
   "source": [
    "We can now remove all columns in `contribution_facts` that are not facts nor foreign keys of dimension tables."
   ]
  },
  {
   "cell_type": "code",
   "execution_count": 43,
   "metadata": {},
   "outputs": [
    {
     "name": "stdout",
     "output_type": "stream",
     "text": [
      "Done.\n"
     ]
    },
    {
     "data": {
      "text/plain": [
       "[]"
      ]
     },
     "execution_count": 43,
     "metadata": {},
     "output_type": "execute_result"
    }
   ],
   "source": [
    "%%sql\n",
    "ALTER TABLE contribution_facts\n",
    "DROP COLUMN id,\n",
    "DROP COLUMN committee_name,\n",
    "DROP COLUMN candidate_name,\n",
    "DROP COLUMN election_year,\n",
    "DROP COLUMN contributor_name,\n",
    "DROP COLUMN contributor_address,\n",
    "DROP COLUMN contributor_type,\n",
    "DROP COLUMN contribution_type,\n",
    "DROP COLUMN employer,\n",
    "DROP COLUMN employer_address,\n",
    "DROP COLUMN address_id,\n",
    "DROP COLUMN address_x,\n",
    "DROP COLUMN address_y,\n",
    "DROP COLUMN address_latitude,\n",
    "DROP COLUMN address_longitude,\n",
    "DROP COLUMN address_full,\n",
    "DROP COLUMN gis_last_mod;"
   ]
  },
  {
   "cell_type": "code",
   "execution_count": 44,
   "metadata": {},
   "outputs": [
    {
     "name": "stdout",
     "output_type": "stream",
     "text": [
      "10 rows affected.\n"
     ]
    },
    {
     "data": {
      "text/html": [
       "<table>\n",
       "    <tr>\n",
       "        <th>amount</th>\n",
       "        <th>date_of_receipt</th>\n",
       "        <th>contributor_key</th>\n",
       "        <th>campaign_key</th>\n",
       "    </tr>\n",
       "    <tr>\n",
       "        <td>500.00</td>\n",
       "        <td>2015-02-04</td>\n",
       "        <td>52849</td>\n",
       "        <td>170</td>\n",
       "    </tr>\n",
       "    <tr>\n",
       "        <td>51.00</td>\n",
       "        <td>2015-02-15</td>\n",
       "        <td>27749</td>\n",
       "        <td>1061</td>\n",
       "    </tr>\n",
       "    <tr>\n",
       "        <td>150.00</td>\n",
       "        <td>2016-06-05</td>\n",
       "        <td>131964</td>\n",
       "        <td>493</td>\n",
       "    </tr>\n",
       "    <tr>\n",
       "        <td>100.00</td>\n",
       "        <td>2012-03-25</td>\n",
       "        <td>1</td>\n",
       "        <td>790</td>\n",
       "    </tr>\n",
       "    <tr>\n",
       "        <td>500.00</td>\n",
       "        <td>2015-02-02</td>\n",
       "        <td>38340</td>\n",
       "        <td>1061</td>\n",
       "    </tr>\n",
       "    <tr>\n",
       "        <td>100.00</td>\n",
       "        <td>2015-02-03</td>\n",
       "        <td>111104</td>\n",
       "        <td>1061</td>\n",
       "    </tr>\n",
       "    <tr>\n",
       "        <td>100.00</td>\n",
       "        <td>2015-02-03</td>\n",
       "        <td>48728</td>\n",
       "        <td>1061</td>\n",
       "    </tr>\n",
       "    <tr>\n",
       "        <td>10.00</td>\n",
       "        <td>2015-02-03</td>\n",
       "        <td>74811</td>\n",
       "        <td>1061</td>\n",
       "    </tr>\n",
       "    <tr>\n",
       "        <td>200.00</td>\n",
       "        <td>2015-02-03</td>\n",
       "        <td>130956</td>\n",
       "        <td>1061</td>\n",
       "    </tr>\n",
       "    <tr>\n",
       "        <td>40.00</td>\n",
       "        <td>2015-02-03</td>\n",
       "        <td>2112</td>\n",
       "        <td>1061</td>\n",
       "    </tr>\n",
       "</table>"
      ],
      "text/plain": [
       "[(Decimal('500.00'), datetime.date(2015, 2, 4), 52849, 170),\n",
       " (Decimal('51.00'), datetime.date(2015, 2, 15), 27749, 1061),\n",
       " (Decimal('150.00'), datetime.date(2016, 6, 5), 131964, 493),\n",
       " (Decimal('100.00'), datetime.date(2012, 3, 25), 1, 790),\n",
       " (Decimal('500.00'), datetime.date(2015, 2, 2), 38340, 1061),\n",
       " (Decimal('100.00'), datetime.date(2015, 2, 3), 111104, 1061),\n",
       " (Decimal('100.00'), datetime.date(2015, 2, 3), 48728, 1061),\n",
       " (Decimal('10.00'), datetime.date(2015, 2, 3), 74811, 1061),\n",
       " (Decimal('200.00'), datetime.date(2015, 2, 3), 130956, 1061),\n",
       " (Decimal('40.00'), datetime.date(2015, 2, 3), 2112, 1061)]"
      ]
     },
     "execution_count": 44,
     "metadata": {},
     "output_type": "execute_result"
    }
   ],
   "source": [
    "%%sql\n",
    "select * from contribution_facts limit 10;"
   ]
  },
  {
   "cell_type": "markdown",
   "metadata": {},
   "source": [
    "## Part 3 - explore your data (30 points)\n",
    "\n",
    "** Question 5 **:\n",
    "Now that the data is loaded, ask at least a couple of questions of it!  Choose and define a few lines of inquiry, execute queries for each, and describe what you find in your result sets.  \n",
    "\n",
    "If you find interesting patterns, adding plots to your exploration would be useful.\n",
    "\n",
    "Insert a combination of code and text/markdown cells here to explore your data.\n",
    "\n",
    "**Answer**:"
   ]
  },
  {
   "cell_type": "markdown",
   "metadata": {},
   "source": [
    "* Let find out who contribute most to these campaigns."
   ]
  },
  {
   "cell_type": "code",
   "execution_count": 45,
   "metadata": {},
   "outputs": [
    {
     "name": "stdout",
     "output_type": "stream",
     "text": [
      "10 rows affected.\n"
     ]
    },
    {
     "data": {
      "text/html": [
       "<table>\n",
       "    <tr>\n",
       "        <th>totalamount</th>\n",
       "        <th>name</th>\n",
       "        <th>type</th>\n",
       "        <th>employer</th>\n",
       "    </tr>\n",
       "    <tr>\n",
       "        <td>1712544.73</td>\n",
       "        <td>Atlantic Northstar, LLC</td>\n",
       "        <td>Corporation</td>\n",
       "        <td>None</td>\n",
       "    </tr>\n",
       "    <tr>\n",
       "        <td>1370900.00</td>\n",
       "        <td>North Atlantic Investments, LLC</td>\n",
       "        <td>Corporation</td>\n",
       "        <td>None</td>\n",
       "    </tr>\n",
       "    <tr>\n",
       "        <td>1034653.40</td>\n",
       "        <td>SEIU MD/DC State Council</td>\n",
       "        <td>Corporation</td>\n",
       "        <td>None</td>\n",
       "    </tr>\n",
       "    <tr>\n",
       "        <td>640809.52</td>\n",
       "        <td>Fenty 2006</td>\n",
       "        <td>PCC</td>\n",
       "        <td>None</td>\n",
       "    </tr>\n",
       "    <tr>\n",
       "        <td>421000.00</td>\n",
       "        <td>UNITE HERE LOCAL 25</td>\n",
       "        <td>Corporation</td>\n",
       "        <td>None</td>\n",
       "    </tr>\n",
       "    <tr>\n",
       "        <td>381368.00</td>\n",
       "        <td>American Federation of Teachers</td>\n",
       "        <td>Corporation</td>\n",
       "        <td>None</td>\n",
       "    </tr>\n",
       "    <tr>\n",
       "        <td>287730.00</td>\n",
       "        <td>ALICE WALTON</td>\n",
       "        <td>Individual</td>\n",
       "        <td>SELF-EMPLOYED</td>\n",
       "    </tr>\n",
       "    <tr>\n",
       "        <td>266329.44</td>\n",
       "        <td>Cumlative todate reported per audit</td>\n",
       "        <td>Corporation</td>\n",
       "        <td>None</td>\n",
       "    </tr>\n",
       "    <tr>\n",
       "        <td>262240.94</td>\n",
       "        <td>None</td>\n",
       "        <td>None</td>\n",
       "        <td>None</td>\n",
       "    </tr>\n",
       "    <tr>\n",
       "        <td>197829.34</td>\n",
       "        <td>NATIONAL ASSN OF REALTORS</td>\n",
       "        <td>Corporation</td>\n",
       "        <td>None</td>\n",
       "    </tr>\n",
       "</table>"
      ],
      "text/plain": [
       "[(Decimal('1712544.73'), 'Atlantic Northstar, LLC', 'Corporation', None),\n",
       " (Decimal('1370900.00'), 'North Atlantic Investments, LLC', 'Corporation', None),\n",
       " (Decimal('1034653.40'), 'SEIU MD/DC State Council', 'Corporation', None),\n",
       " (Decimal('640809.52'), 'Fenty 2006', 'PCC', None),\n",
       " (Decimal('421000.00'), 'UNITE HERE LOCAL 25', 'Corporation', None),\n",
       " (Decimal('381368.00'), 'American Federation of Teachers', 'Corporation', None),\n",
       " (Decimal('287730.00'), 'ALICE WALTON', 'Individual', 'SELF-EMPLOYED'),\n",
       " (Decimal('266329.44'), 'Cumlative todate reported per audit', 'Corporation', None),\n",
       " (Decimal('262240.94'), None, None, None),\n",
       " (Decimal('197829.34'), 'NATIONAL ASSN OF REALTORS', 'Corporation', None)]"
      ]
     },
     "execution_count": 45,
     "metadata": {},
     "output_type": "execute_result"
    }
   ],
   "source": [
    "%%sql\n",
    "SELECT SUM(amount) AS totalamount, contributor.name, contributor.type, contributor.employer\n",
    "FROM contribution_facts\n",
    "LEFT OUTER JOIN contributor\n",
    "ON contribution_facts.contributor_key=contributor.contributor_key\n",
    "GROUP BY contribution_facts.contributor_key, contributor.name, contributor.type, contributor.employer\n",
    "ORDER BY totalamount DESC\n",
    "LIMIT 10"
   ]
  },
  {
   "cell_type": "markdown",
   "metadata": {},
   "source": [
    "Most of them are corporations. Alice Walton is the most contributed individual."
   ]
  },
  {
   "cell_type": "markdown",
   "metadata": {},
   "source": [
    "* How about the proportion of total contribution amount of corporation, individual or other types?"
   ]
  },
  {
   "cell_type": "code",
   "execution_count": 46,
   "metadata": {},
   "outputs": [
    {
     "name": "stdout",
     "output_type": "stream",
     "text": [
      "10 rows affected.\n"
     ]
    },
    {
     "data": {
      "text/html": [
       "<table>\n",
       "    <tr>\n",
       "        <th>type</th>\n",
       "        <th>totalamount</th>\n",
       "    </tr>\n",
       "    <tr>\n",
       "        <td>Individual</td>\n",
       "        <td>40773943.75</td>\n",
       "    </tr>\n",
       "    <tr>\n",
       "        <td>Corporation</td>\n",
       "        <td>33034416.73</td>\n",
       "    </tr>\n",
       "    <tr>\n",
       "        <td>PCC</td>\n",
       "        <td>1651744.07</td>\n",
       "    </tr>\n",
       "    <tr>\n",
       "        <td>Candidate</td>\n",
       "        <td>1628244.17</td>\n",
       "    </tr>\n",
       "    <tr>\n",
       "        <td>Organization</td>\n",
       "        <td>699724.40</td>\n",
       "    </tr>\n",
       "    <tr>\n",
       "        <td>Other</td>\n",
       "        <td>584448.14</td>\n",
       "    </tr>\n",
       "    <tr>\n",
       "        <td>Limited Liability Company</td>\n",
       "        <td>527383.45</td>\n",
       "    </tr>\n",
       "    <tr>\n",
       "        <td>Committee</td>\n",
       "        <td>482842.83</td>\n",
       "    </tr>\n",
       "    <tr>\n",
       "        <td>None</td>\n",
       "        <td>456211.53</td>\n",
       "    </tr>\n",
       "    <tr>\n",
       "        <td>Labor</td>\n",
       "        <td>421375.84</td>\n",
       "    </tr>\n",
       "</table>"
      ],
      "text/plain": [
       "[('Individual', Decimal('40773943.75')),\n",
       " ('Corporation', Decimal('33034416.73')),\n",
       " ('PCC', Decimal('1651744.07')),\n",
       " ('Candidate', Decimal('1628244.17')),\n",
       " ('Organization', Decimal('699724.40')),\n",
       " ('Other', Decimal('584448.14')),\n",
       " ('Limited Liability Company', Decimal('527383.45')),\n",
       " ('Committee', Decimal('482842.83')),\n",
       " (None, Decimal('456211.53')),\n",
       " ('Labor', Decimal('421375.84'))]"
      ]
     },
     "execution_count": 46,
     "metadata": {},
     "output_type": "execute_result"
    }
   ],
   "source": [
    "%%sql\n",
    "SELECT contributor.type,SUM(amount) AS totalamount\n",
    "FROM contribution_facts\n",
    "LEFT OUTER JOIN contributor\n",
    "ON contribution_facts.contributor_key=contributor.contributor_key\n",
    "GROUP BY contributor.type\n",
    "ORDER BY totalamount DESC\n",
    "LIMIT 10"
   ]
  },
  {
   "cell_type": "markdown",
   "metadata": {},
   "source": [
    "* It seems that Individuals and corporations contributed most."
   ]
  },
  {
   "cell_type": "code",
   "execution_count": 47,
   "metadata": {},
   "outputs": [
    {
     "name": "stdout",
     "output_type": "stream",
     "text": [
      "1 rows affected.\n"
     ]
    },
    {
     "data": {
      "text/html": [
       "<table>\n",
       "    <tr>\n",
       "        <th>totalamount</th>\n",
       "    </tr>\n",
       "    <tr>\n",
       "        <td>80648811.36</td>\n",
       "    </tr>\n",
       "</table>"
      ],
      "text/plain": [
       "[(Decimal('80648811.36'),)]"
      ]
     },
     "execution_count": 47,
     "metadata": {},
     "output_type": "execute_result"
    }
   ],
   "source": [
    "%%sql\n",
    "SELECT SUM(amount) AS totalamount\n",
    "FROM contribution_facts"
   ]
  },
  {
   "cell_type": "markdown",
   "metadata": {},
   "source": [
    "A plot can be more straight forward."
   ]
  },
  {
   "cell_type": "code",
   "execution_count": 48,
   "metadata": {},
   "outputs": [
    {
     "data": {
      "image/png": "[encoded data removed]",
      "text/plain": [
       "<matplotlib.figure.Figure at 0x7fe0927777f0>"
      ]
     },
     "metadata": {},
     "output_type": "display_data"
    }
   ],
   "source": [
    "from matplotlib import pyplot as plt\n",
    "\n",
    "plt.figure(figsize=(10.5,5))\n",
    "plt.subplot(121)\n",
    "plt.bar([1,2,3],[40.773943,33.034416,80.648811-40.773943-33.034416])\n",
    "plt.xticks((1,2,3),(\"individuals\",\"corporations\",\"others\"))\n",
    "plt.ylabel(\"Total Contribution Amount (million)\")\n",
    "\n",
    "plt.subplot(122)\n",
    "plt.pie(x=[40773943,33034416,80648811-40773943-33034416],labels=[\"individuals\",\"corporations\",\"others\"] \\\n",
    "        ,explode=[0.05,0.05,0.1],autopct='%1.1f%%',shadow=True,startangle = 90,pctdistance = 0.5)\n",
    "\n",
    "plt.show()"
   ]
  },
  {
   "cell_type": "markdown",
   "metadata": {},
   "source": [
    "* Let find out which candidate received most to contributions."
   ]
  },
  {
   "cell_type": "code",
   "execution_count": 49,
   "metadata": {},
   "outputs": [
    {
     "name": "stdout",
     "output_type": "stream",
     "text": [
      "5 rows affected.\n"
     ]
    },
    {
     "data": {
      "text/html": [
       "<table>\n",
       "    <tr>\n",
       "        <th>candidate_name</th>\n",
       "        <th>totalamount</th>\n",
       "    </tr>\n",
       "    <tr>\n",
       "        <td>None</td>\n",
       "        <td>14219515.24</td>\n",
       "    </tr>\n",
       "    <tr>\n",
       "        <td>Adrian Fenty</td>\n",
       "        <td>10088343.88</td>\n",
       "    </tr>\n",
       "    <tr>\n",
       "        <td>Vincent Gray</td>\n",
       "        <td>5601105.56</td>\n",
       "    </tr>\n",
       "    <tr>\n",
       "        <td>Muriel Bowser</td>\n",
       "        <td>5271705.22</td>\n",
       "    </tr>\n",
       "    <tr>\n",
       "        <td>Jack Evans</td>\n",
       "        <td>3876458.15</td>\n",
       "    </tr>\n",
       "</table>"
      ],
      "text/plain": [
       "[(None, Decimal('14219515.24')),\n",
       " ('Adrian Fenty', Decimal('10088343.88')),\n",
       " ('Vincent Gray', Decimal('5601105.56')),\n",
       " ('Muriel Bowser', Decimal('5271705.22')),\n",
       " ('Jack Evans', Decimal('3876458.15'))]"
      ]
     },
     "execution_count": 49,
     "metadata": {},
     "output_type": "execute_result"
    }
   ],
   "source": [
    "%%sql\n",
    "SELECT campaign.candidate_name,SUM(amount) AS totalamount\n",
    "FROM contribution_facts\n",
    "LEFT OUTER JOIN campaign\n",
    "ON contribution_facts.campaign_key=campaign.campaign_key\n",
    "GROUP BY campaign.candidate_name\n",
    "ORDER BY totalamount DESC\n",
    "LIMIT 5"
   ]
  },
  {
   "cell_type": "markdown",
   "metadata": {},
   "source": [
    "```\n",
    "It seems that some campaign candidates are not specified.\n",
    "Adrian Fenty received the most contribution.\n",
    "```"
   ]
  },
  {
   "cell_type": "markdown",
   "metadata": {},
   "source": [
    "* How about the contribution amount difference among election years?"
   ]
  },
  {
   "cell_type": "markdown",
   "metadata": {},
   "source": [
    "Notice that my phone number is in the year."
   ]
  },
  {
   "cell_type": "code",
   "execution_count": 50,
   "metadata": {
    "scrolled": true
   },
   "outputs": [
    {
     "name": "stdout",
     "output_type": "stream",
     "text": [
      "14 rows affected.\n"
     ]
    },
    {
     "data": {
      "text/html": [
       "<table>\n",
       "    <tr>\n",
       "        <th>election_year</th>\n",
       "        <th>totalamount</th>\n",
       "    </tr>\n",
       "    <tr>\n",
       "        <td>2002</td>\n",
       "        <td>9178971.62</td>\n",
       "    </tr>\n",
       "    <tr>\n",
       "        <td>2004</td>\n",
       "        <td>7115197.12</td>\n",
       "    </tr>\n",
       "    <tr>\n",
       "        <td>2006</td>\n",
       "        <td>15093323.97</td>\n",
       "    </tr>\n",
       "    <tr>\n",
       "        <td>2007</td>\n",
       "        <td>1968907.67</td>\n",
       "    </tr>\n",
       "    <tr>\n",
       "        <td>2008</td>\n",
       "        <td>4730280.59</td>\n",
       "    </tr>\n",
       "    <tr>\n",
       "        <td>2010</td>\n",
       "        <td>12598725.81</td>\n",
       "    </tr>\n",
       "    <tr>\n",
       "        <td>2011</td>\n",
       "        <td>918029.94</td>\n",
       "    </tr>\n",
       "    <tr>\n",
       "        <td>2012</td>\n",
       "        <td>4633592.00</td>\n",
       "    </tr>\n",
       "    <tr>\n",
       "        <td>2013</td>\n",
       "        <td>1131566.15</td>\n",
       "    </tr>\n",
       "    <tr>\n",
       "        <td>2014</td>\n",
       "        <td>16176759.41</td>\n",
       "    </tr>\n",
       "    <tr>\n",
       "        <td>2015</td>\n",
       "        <td>2350963.90</td>\n",
       "    </tr>\n",
       "    <tr>\n",
       "        <td>2016</td>\n",
       "        <td>4443957.28</td>\n",
       "    </tr>\n",
       "    <tr>\n",
       "        <td>2017</td>\n",
       "        <td>313.75</td>\n",
       "    </tr>\n",
       "    <tr>\n",
       "        <td>2018</td>\n",
       "        <td>297607.15</td>\n",
       "    </tr>\n",
       "</table>"
      ],
      "text/plain": [
       "[(2002, Decimal('9178971.62')),\n",
       " (2004, Decimal('7115197.12')),\n",
       " (2006, Decimal('15093323.97')),\n",
       " (2007, Decimal('1968907.67')),\n",
       " (2008, Decimal('4730280.59')),\n",
       " (2010, Decimal('12598725.81')),\n",
       " (2011, Decimal('918029.94')),\n",
       " (2012, Decimal('4633592.00')),\n",
       " (2013, Decimal('1131566.15')),\n",
       " (2014, Decimal('16176759.41')),\n",
       " (2015, Decimal('2350963.90')),\n",
       " (2016, Decimal('4443957.28')),\n",
       " (2017, Decimal('313.75')),\n",
       " (2018, Decimal('297607.15'))]"
      ]
     },
     "execution_count": 50,
     "metadata": {},
     "output_type": "execute_result"
    }
   ],
   "source": [
    "%%sql\n",
    "SELECT campaign.election_year,SUM(amount) AS totalamount\n",
    "FROM contribution_facts\n",
    "LEFT OUTER JOIN campaign\n",
    "ON contribution_facts.campaign_key=campaign.campaign_key\n",
    "GROUP BY campaign.election_year\n",
    "HAVING election_year != 2028554071\n",
    "ORDER BY election_year"
   ]
  },
  {
   "cell_type": "code",
   "execution_count": 51,
   "metadata": {},
   "outputs": [
    {
     "data": {
      "text/plain": [
       "<Container object of 14 artists>"
      ]
     },
     "execution_count": 51,
     "metadata": {},
     "output_type": "execute_result"
    },
    {
     "data": {
      "image/png": "[encoded data removed]",
      "text/plain": [
       "<matplotlib.figure.Figure at 0x7fe090201208>"
      ]
     },
     "metadata": {},
     "output_type": "display_data"
    }
   ],
   "source": [
    "%matplotlib inline\n",
    "_.bar()"
   ]
  },
  {
   "cell_type": "markdown",
   "metadata": {},
   "source": [
    "I can not figure out any trend from this plot."
   ]
  },
  {
   "cell_type": "markdown",
   "metadata": {},
   "source": [
    "##### Thank you for reviewing!"
   ]
  }
 ],
 "metadata": {
  "anaconda-cloud": {},
  "kernelspec": {
   "display_name": "Python 3",
   "language": "python",
   "name": "python3"
  },
  "language_info": {
   "codemirror_mode": {
    "name": "ipython",
    "version": 3
   },
   "file_extension": ".py",
   "mimetype": "text/x-python",
   "name": "python",
   "nbconvert_exporter": "python",
   "pygments_lexer": "ipython3",
   "version": "3.5.3"
  }
 },
 "nbformat": 4,
 "nbformat_minor": 1
}
