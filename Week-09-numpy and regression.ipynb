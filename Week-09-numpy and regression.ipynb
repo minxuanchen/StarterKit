{
 "cells": [
  {
   "cell_type": "code",
   "execution_count": 2,
   "metadata": {
    "collapsed": false
   },
   "outputs": [
    {
     "name": "stdout",
     "output_type": "stream",
     "text": [
      "[0 1 2 3 4 5 6 7 8]\n",
      "[[[1, 2], [3, 4]], [[5, 6], [7, 8]], [[9, 10], [11, 12]]]\n",
      "[[1, 2], [3, 4]]\n",
      "[1, 2]\n",
      "2\n"
     ]
    }
   ],
   "source": [
    "import numpy as np\n",
    "\n",
    "# Slide 8\n",
    "myonedim = np.array(range(0,9))\n",
    "print (myonedim)\n",
    "\n",
    "# This makes an array out of a nested sequence (can be nested tuples, nested lists, or combination of them)\n",
    "a = [ [[1,2],[3,4]],\n",
    "      [[5,6],[7,8]],\n",
    "      [[9,10],[11,12]]\n",
    "     ]\n",
    "print (a)\n",
    "print (a[0])\n",
    "print (a[0][0])\n",
    "print (a[0][0][1])"
   ]
  },
  {
   "cell_type": "code",
   "execution_count": 5,
   "metadata": {
    "collapsed": false
   },
   "outputs": [
    {
     "name": "stdout",
     "output_type": "stream",
     "text": [
      "[0 1 2]\n",
      "[ 0.  1.  2.]\n",
      "[ 0.  1.  2.]\n",
      "[3 4 5 6 7 8 9]\n",
      "[3 5 7 9]\n"
     ]
    }
   ],
   "source": [
    "# Slide 9\n",
    "# Arange\n",
    "\n",
    "import numpy as np\n",
    "print (np.arange(3))\n",
    "print (np.arange(3.0))\n",
    "print (np.arange(3, dtype=float))\n",
    "print (np.arange(3,10)) # start,stop\n",
    "print (np.arange(3,10,2)) # start,stop,step"
   ]
  },
  {
   "cell_type": "code",
   "execution_count": 6,
   "metadata": {
    "collapsed": false
   },
   "outputs": [
    {
     "name": "stdout",
     "output_type": "stream",
     "text": [
      "[ 2.    2.25  2.5   2.75  3.  ]\n",
      "[ 2.   2.2  2.4  2.6  2.8]\n",
      "(array([ 2.  ,  2.25,  2.5 ,  2.75,  3.  ]), 0.25)\n",
      "[  1.00000000e+00   1.00000000e+01   1.00000000e+02   1.00000000e+03\n",
      "   1.00000000e+04]\n",
      "[     1.     10.    100.   1000.  10000.]\n"
     ]
    }
   ],
   "source": [
    "# Slide 9\n",
    "# Linspace\n",
    "print (np.linspace(2.0, 3.0, num=5))\n",
    "print (np.linspace(2.0, 3.0, num=5, endpoint=False))\n",
    "print (np.linspace(2.0, 3.0, num=5, retstep=True))\n",
    "\n",
    "# Logspace\n",
    "print (np.logspace(0,4,5))\n",
    "np.set_printoptions(suppress=True)\n",
    "print (np.logspace(0,4,5))"
   ]
  },
  {
   "cell_type": "code",
   "execution_count": 6,
   "metadata": {
    "collapsed": false
   },
   "outputs": [
    {
     "data": {
      "text/plain": [
       "array([[[0, 0, 0, 0, 0, 0, 0, 0],\n",
       "        [1, 1, 1, 1, 1, 1, 1, 1],\n",
       "        [2, 2, 2, 2, 2, 2, 2, 2]],\n",
       "\n",
       "       [[1, 2, 3, 4, 5, 6, 7, 8],\n",
       "        [1, 2, 3, 4, 5, 6, 7, 8],\n",
       "        [1, 2, 3, 4, 5, 6, 7, 8]]])"
      ]
     },
     "execution_count": 6,
     "metadata": {},
     "output_type": "execute_result"
    }
   ],
   "source": [
    "np.mgrid[0:3,1:9]"
   ]
  },
  {
   "cell_type": "code",
   "execution_count": 7,
   "metadata": {
    "collapsed": false,
    "scrolled": true
   },
   "outputs": [
    {
     "name": "stdout",
     "output_type": "stream",
     "text": [
      "[[[0 0 0 0]\n",
      "  [1 1 1 1]]\n",
      "\n",
      " [[0 1 2 3]\n",
      "  [0 1 2 3]]]\n",
      "[[0 0 0 0]\n",
      " [1 1 1 1]]\n",
      "[[0 1 2 3]\n",
      " [0 1 2 3]]\n"
     ]
    }
   ],
   "source": [
    "# Slide 9\n",
    "# Mgrid\n",
    "\n",
    "import numpy as np\n",
    "## 2 rows and 4 columns\n",
    "mygrid = np.mgrid[0:2, 0:4]\n",
    "grid_x, grid_y = np.mgrid[0:2, 0:4]\n",
    "print (mygrid)\n",
    "print (grid_x)\n",
    "print (grid_y)\n",
    "# Change the numbers and see what happens"
   ]
  },
  {
   "cell_type": "code",
   "execution_count": 8,
   "metadata": {
    "collapsed": false
   },
   "outputs": [
    {
     "name": "stdout",
     "output_type": "stream",
     "text": [
      "[[ 0.12142823  0.54692257  0.56432998  0.55711965  0.28380755]\n",
      " [ 0.27592885  0.43099015  0.3020297   0.47455306  0.15008443]]\n",
      "[[-0.37393792  0.60155364]\n",
      " [-0.51906444 -0.88018302]\n",
      " [-0.2935401  -1.38536614]\n",
      " [ 0.60904856  0.23644585]\n",
      " [ 1.05873595 -0.47734517]]\n"
     ]
    }
   ],
   "source": [
    "# Slide 9\n",
    "# Random\n",
    "from numpy import random\n",
    "# uniform random numbers in [0,1]\n",
    "print (random.rand(2,5))\n",
    " \n",
    "# standard normal distributed random numbers\n",
    "print (random.randn(5,2))"
   ]
  },
  {
   "cell_type": "code",
   "execution_count": 9,
   "metadata": {
    "collapsed": false
   },
   "outputs": [
    {
     "name": "stdout",
     "output_type": "stream",
     "text": [
      "[[1 0 0]\n",
      " [0 2 0]\n",
      " [0 0 3]]\n"
     ]
    }
   ],
   "source": [
    "# Slide 9\n",
    "import numpy as np\n",
    "\n",
    "# a diagonal matrix\n",
    "print (np.diag([1,2,3]))"
   ]
  },
  {
   "cell_type": "code",
   "execution_count": 10,
   "metadata": {
    "collapsed": false
   },
   "outputs": [
    {
     "name": "stdout",
     "output_type": "stream",
     "text": [
      "[[0 0 1 0 0]\n",
      " [0 0 0 2 0]\n",
      " [0 0 0 0 3]\n",
      " [0 0 0 0 0]\n",
      " [0 0 0 0 0]]\n"
     ]
    }
   ],
   "source": [
    "# Slide 9\n",
    "import numpy as np\n",
    "\n",
    "# diagonal with offset from main diagonal\n",
    "print (np.diag([1,2,3], k=2))"
   ]
  },
  {
   "cell_type": "code",
   "execution_count": 7,
   "metadata": {
    "collapsed": false
   },
   "outputs": [
    {
     "name": "stdout",
     "output_type": "stream",
     "text": [
      "[[ 0.  0.]\n",
      " [ 0.  0.]\n",
      " [ 0.  0.]]\n"
     ]
    }
   ],
   "source": [
    "# Slide 9\n",
    "import numpy as np\n",
    "\n",
    "# matrix with all zeros\n",
    "print (np.zeros([3,2]))"
   ]
  },
  {
   "cell_type": "code",
   "execution_count": 12,
   "metadata": {
    "collapsed": false
   },
   "outputs": [
    {
     "name": "stdout",
     "output_type": "stream",
     "text": [
      "[[ 1.  1.  1.]\n",
      " [ 1.  1.  1.]\n",
      " [ 1.  1.  1.]]\n"
     ]
    }
   ],
   "source": [
    "# Slide 9\n",
    "import numpy as np\n",
    "\n",
    "# matrix with all ones\n",
    "print (np.ones([3,3]))"
   ]
  },
  {
   "cell_type": "code",
   "execution_count": 8,
   "metadata": {
    "collapsed": false
   },
   "outputs": [
    {
     "name": "stdout",
     "output_type": "stream",
     "text": [
      "[[\"b'Name'\" \"b'Age'\" \"b'Height'\"]\n",
      " [\"b'Tom'\" \"b'23'\" \"b'167'\"]\n",
      " [\"b'Dick'\" \"b'28'\" \"b'172'\"]\n",
      " [\"b'Mary'\" \"b'27'\" \"b'168'\"]]\n",
      "<U9\n"
     ]
    }
   ],
   "source": [
    "# Slide 10\n",
    "\n",
    "# Create a csv file in spreadsheet -- mycsv.csv\n",
    "# Name, Age Height\n",
    "# Tom, 23, 167\n",
    "# Dick, 28, 172\n",
    "# Mary, 27, 168\n",
    "\n",
    "import numpy as np \n",
    "mydata = np.loadtxt('mycsv.csv', delimiter=',', dtype=str)\n",
    "print (mydata)\n",
    "print (mydata.dtype)"
   ]
  },
  {
   "cell_type": "code",
   "execution_count": 15,
   "metadata": {
    "collapsed": false
   },
   "outputs": [
    {
     "name": "stdout",
     "output_type": "stream",
     "text": [
      "[(nan, 23.0, 167.0) (nan, 28.0, 172.0) (nan, 27.0, 168.0)]\n"
     ]
    }
   ],
   "source": [
    "# Slide 10\n",
    "# --- Another method\n",
    "# Create a csv file in spreadsheet -- mycsv.csv\n",
    "# Name, Age Height\n",
    "# Tom, 23, 167\n",
    "# Dick, 28, 172\n",
    "# Mary, 27, 168\n",
    "\n",
    "mydata = np.genfromtxt('mycsv.csv', dtype=float, delimiter=',', names=True) \n",
    "print (mydata)"
   ]
  },
  {
   "cell_type": "code",
   "execution_count": 16,
   "metadata": {
    "collapsed": false
   },
   "outputs": [
    {
     "name": "stdout",
     "output_type": "stream",
     "text": [
      "[[ 12.  23.  45.]\n",
      " [  1.  34.  54.]\n",
      " [  3.   4.  67.]]\n"
     ]
    }
   ],
   "source": [
    "# Slide 10\n",
    "# Another example\n",
    "# Create a a csv file with ALL numbers and no headers -- myfile.csv\n",
    "12,23,45\n",
    "1,34,54\n",
    "3,4,67\n",
    "\n",
    "import numpy as np\n",
    "# Simpler version\n",
    "mydata = np.genfromtxt('myfile.csv', delimiter=',') \n",
    "print(mydata)"
   ]
  },
  {
   "cell_type": "code",
   "execution_count": 17,
   "metadata": {
    "collapsed": false
   },
   "outputs": [
    {
     "data": {
      "text/plain": [
       "array([[ 1.20766104, -0.37120631,  0.33413031],\n",
       "       [-0.84516614, -1.2019022 , -0.66235808]])"
      ]
     },
     "execution_count": 17,
     "metadata": {},
     "output_type": "execute_result"
    }
   ],
   "source": [
    "# Slide 10\n",
    "# NPY format\n",
    "from numpy import random as nrand\n",
    "a = nrand.randn(2,3)\n",
    "np.save('myarray', a)\n",
    "np.load('myarray.npy')"
   ]
  },
  {
   "cell_type": "code",
   "execution_count": 18,
   "metadata": {
    "collapsed": false
   },
   "outputs": [
    {
     "name": "stdout",
     "output_type": "stream",
     "text": [
      "[[3 2 1]\n",
      " [7 8 9]]\n",
      "[1 2 3 4 5 6 7 8 9]\n"
     ]
    }
   ],
   "source": [
    "# Slide 10\n",
    "# NPZ format\n",
    "import numpy as np\n",
    "a = np.array([[3, 2, 1], [7, 8, 9]])\n",
    "b = np.array([1, 2, 3, 4, 5, 6, 7, 8, 9])\n",
    "np.savez('myarrays.npz', a=a, b=b)\n",
    "myarraydata = np.load('myarrays.npz')\n",
    "print(myarraydata['a'])\n",
    "print(myarraydata['b'])\n",
    "myarraydata.close()"
   ]
  },
  {
   "cell_type": "code",
   "execution_count": 19,
   "metadata": {
    "collapsed": false
   },
   "outputs": [
    {
     "name": "stdout",
     "output_type": "stream",
     "text": [
      "[[0 1]\n",
      " [4 5]]\n"
     ]
    }
   ],
   "source": [
    "# Slide 16\n",
    "a = np.reshape(np.arange(16),(4,4))\n",
    "print (a[:2,:2])\n",
    "#print (a[1:3,1:3])\n",
    "#print (a[2:,2:])"
   ]
  },
  {
   "cell_type": "code",
   "execution_count": 25,
   "metadata": {
    "collapsed": false
   },
   "outputs": [
    {
     "name": "stdout",
     "output_type": "stream",
     "text": [
      "[[ 0  1  2]\n",
      " [ 3  4  5]\n",
      " [ 6  7  8]\n",
      " [ 9 10 11]]\n",
      "3\n",
      "12\n",
      "21\n",
      "30\n",
      "18\n",
      "22\n",
      "26\n"
     ]
    }
   ],
   "source": [
    "# Slide 17\n",
    "import numpy as np\n",
    "a = np.reshape(np.arange(12),(4,3))\n",
    "print(a)\n",
    "# for row sums\n",
    "for r in range(a.shape[0]):\n",
    "    print (sum(a[r,:]))\n",
    "# for column sums\n",
    "for r in range(a.shape[1]):\n",
    "    print (sum(a[:,r]))"
   ]
  },
  {
   "cell_type": "code",
   "execution_count": 26,
   "metadata": {
    "collapsed": false
   },
   "outputs": [
    {
     "name": "stdout",
     "output_type": "stream",
     "text": [
      "[[[ 0.  0.  0.  0.]\n",
      "  [ 0.  0.  0.  0.]\n",
      "  [ 0.  0.  0.  0.]]\n",
      "\n",
      " [[ 0.  0.  0.  0.]\n",
      "  [ 0.  0.  0.  0.]\n",
      "  [ 0.  0.  0.  0.]]]\n"
     ]
    },
    {
     "data": {
      "text/plain": [
       "(2, 3, 4)"
      ]
     },
     "execution_count": 26,
     "metadata": {},
     "output_type": "execute_result"
    }
   ],
   "source": [
    "# Slide 19\n",
    "import numpy as np\n",
    "y = np.zeros((2, 3, 4))\n",
    "print(y)\n",
    "y.shape"
   ]
  },
  {
   "cell_type": "code",
   "execution_count": 9,
   "metadata": {
    "collapsed": false
   },
   "outputs": [
    {
     "name": "stdout",
     "output_type": "stream",
     "text": [
      "[[1 2]\n",
      " [3 4]\n",
      " [5 6]]\n",
      "[[1 3 5]\n",
      " [2 4 6]]\n"
     ]
    }
   ],
   "source": [
    "# Slide 19\n",
    "x = np.array([[1, 2],\n",
    "              [3, 4],\n",
    "              [5, 6]\n",
    "             ]) \n",
    "print (x)\n",
    "print (x.T)"
   ]
  },
  {
   "cell_type": "code",
   "execution_count": 27,
   "metadata": {
    "collapsed": false
   },
   "outputs": [
    {
     "name": "stdout",
     "output_type": "stream",
     "text": [
      "[[0 1 2]\n",
      " [3 4 5]\n",
      " [6 7 8]]\n",
      "[0 4 8]\n",
      "[1 5]\n",
      "[3 7]\n"
     ]
    }
   ],
   "source": [
    "# Slide 20\n",
    "import numpy as np\n",
    "a = np.array(range(9))\n",
    "b = a.reshape(3,3)\n",
    "print (b)\n",
    "print(b.diagonal())\n",
    "print(b.diagonal(offset=1))\n",
    "print(b.diagonal(offset=-1))"
   ]
  },
  {
   "cell_type": "code",
   "execution_count": 28,
   "metadata": {
    "collapsed": false
   },
   "outputs": [
    {
     "name": "stdout",
     "output_type": "stream",
     "text": [
      "[[4 1]\n",
      " [2 2]]\n",
      "2\n",
      "[ 5 14]\n",
      "[[1 2 3]\n",
      " [2 4 6]]\n"
     ]
    }
   ],
   "source": [
    "# Slide 22\n",
    "# Dot product is like matrix multiplication\n",
    "a = [[1, 0], [0, 1]]\n",
    "b = [[4, 1], [2, 2]]\n",
    "print (np.dot(a, b))\n",
    "\n",
    "# Ref http://cs.brown.edu/courses/cs053/current/slides/The_Matrix-6.pdf\n",
    "\n",
    "# Inner product with vectors\n",
    "a = np.array([1,2,3])\n",
    "b = np.array([0,1,0])\n",
    "print (np.inner(a, b))\n",
    "\n",
    "# Inner product with arrays\n",
    "a = np.arange(6).reshape((2,3))\n",
    "b = np.arange(3)\n",
    "print (np.inner(a, b))\n",
    "\n",
    "# Outer product\n",
    "a = [1, 2]\n",
    "b = [1, 2, 3]\n",
    "print (np.outer(a, b))"
   ]
  },
  {
   "cell_type": "code",
   "execution_count": 29,
   "metadata": {
    "collapsed": false
   },
   "outputs": [
    {
     "name": "stdout",
     "output_type": "stream",
     "text": [
      "[[1 2]\n",
      " [3 4]]\n",
      "[[-2.   1. ]\n",
      " [ 1.5 -0.5]]\n",
      "[[  1.00000000e+00   0.00000000e+00]\n",
      " [  8.88178420e-16   1.00000000e+00]]\n"
     ]
    }
   ],
   "source": [
    "# Slide 25\n",
    "import numpy as np\n",
    "from scipy import linalg\n",
    "A = np.array([[1,2],[3,4]])\n",
    "print(A)\n",
    "print (linalg.inv(A))\n",
    "print (A.dot(linalg.inv(A))) #double check"
   ]
  },
  {
   "cell_type": "code",
   "execution_count": 31,
   "metadata": {
    "collapsed": false
   },
   "outputs": [
    {
     "name": "stdout",
     "output_type": "stream",
     "text": [
      "[[1 2 3]\n",
      " [0 2 4]\n",
      " [0 0 3]]\n",
      "[[2]\n",
      " [1]\n",
      " [4]]\n",
      "[[ 2.33333333]\n",
      " [-2.16666667]\n",
      " [ 1.33333333]]\n"
     ]
    }
   ],
   "source": [
    "# Slide 30\n",
    "import numpy as np\n",
    "from numpy.linalg import inv\n",
    "A = np.matrix([[1,2,3],[0,2,4],[0,0,3]])\n",
    "Ainv = inv(A)\n",
    "print(A)\n",
    "b = np.matrix([[2],[1],[4]])\n",
    "print (b)\n",
    "x = Ainv*b\n",
    "print (x)"
   ]
  },
  {
   "cell_type": "code",
   "execution_count": 33,
   "metadata": {
    "collapsed": false,
    "scrolled": true
   },
   "outputs": [
    {
     "name": "stdout",
     "output_type": "stream",
     "text": [
      "[[1 2 3]\n",
      " [0 2 4]\n",
      " [0 0 3]]\n",
      "[[2]\n",
      " [1]\n",
      " [4]]\n",
      "[[ 2.33333333]\n",
      " [-2.16666667]\n",
      " [ 1.33333333]]\n"
     ]
    }
   ],
   "source": [
    "# Slide 31\n",
    "import numpy as np\n",
    "A = np.matrix([[1,2,3],[0,2,4],[0,0,3]])\n",
    "print (A)\n",
    "b = np.matrix([[2],[1],[4]])\n",
    "print (b)\n",
    "x = A.I*b\n",
    "print (x)"
   ]
  },
  {
   "cell_type": "code",
   "execution_count": 33,
   "metadata": {
    "collapsed": false
   },
   "outputs": [
    {
     "data": {
      "text/plain": [
       "array([ 0.32673267,  1.42574257])"
      ]
     },
     "execution_count": 33,
     "metadata": {},
     "output_type": "execute_result"
    }
   ],
   "source": [
    "# Slide 36\n",
    "# Using arrays\n",
    "import numpy as np\n",
    "xi = [3,2,8,5,2,6,3,7,5,3]\n",
    "y=[6,3,11,6,3,9,4,12,7,5]\n",
    "ones = [1]*len(xi)\n",
    "X = np.concatenate(([ones],[xi]),axis=0).transpose()\n",
    "# Alternatively we can use the zip function\n",
    "# X = np.array(list(zip(ones, xi)))\n",
    "XTX = np.dot(X.T,X)\n",
    "XTXinv = np.linalg.inv(XTX)\n",
    "XTy = np.dot(X.T,y)\n",
    "b = np.dot(XTXinv, XTy)\n",
    "b"
   ]
  },
  {
   "cell_type": "code",
   "execution_count": 43,
   "metadata": {
    "collapsed": false
   },
   "outputs": [
    {
     "data": {
      "text/plain": [
       "matrix([[ 1.,  0.],\n",
       "        [ 0.,  1.]])"
      ]
     },
     "execution_count": 43,
     "metadata": {},
     "output_type": "execute_result"
    }
   ],
   "source": [
    "import numpy as np\n",
    "x=np.diag([1,3])\n",
    "type(x)\n",
    "x=np.asmatrix(x)\n",
    "type(x)\n",
    "b=x.I*x\n",
    "b"
   ]
  },
  {
   "cell_type": "code",
   "execution_count": 34,
   "metadata": {
    "collapsed": false
   },
   "outputs": [
    {
     "data": {
      "text/plain": [
       "matrix([[ 0.32673267],\n",
       "        [ 1.42574257]])"
      ]
     },
     "execution_count": 34,
     "metadata": {},
     "output_type": "execute_result"
    }
   ],
   "source": [
    "# Slide 36\n",
    "# Using matrices\n",
    "import numpy as np\n",
    "xi = [3,2,8,5,2,6,3,7,5,3]\n",
    "y = [6,3,11,6,3,9,4,12,7,5]\n",
    "ones = [1]*len(xi)\n",
    "X = np.concatenate(([ones],[xi]),axis=0).transpose()\n",
    "# Alternatively we can use the zip function\n",
    "# X = np.array(list(zip(ones, xi)))\n",
    "X = np.matrix(X)\n",
    "y = np.reshape(y,(10,1))\n",
    "b = (X.T*X).I*X.T*y\n",
    "b"
   ]
  },
  {
   "cell_type": "code",
   "execution_count": null,
   "metadata": {
    "collapsed": true
   },
   "outputs": [],
   "source": []
  }
 ],
 "metadata": {
  "anaconda-cloud": {},
  "kernelspec": {
   "display_name": "Python [default]",
   "language": "python",
   "name": "python3"
  },
  "language_info": {
   "codemirror_mode": {
    "name": "ipython",
    "version": 3
   },
   "file_extension": ".py",
   "mimetype": "text/x-python",
   "name": "python",
   "nbconvert_exporter": "python",
   "pygments_lexer": "ipython3",
   "version": "3.5.2"
  }
 },
 "nbformat": 4,
 "nbformat_minor": 1
}
