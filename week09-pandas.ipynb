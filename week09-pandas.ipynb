{
 "cells": [
  {
   "cell_type": "code",
   "execution_count": null,
   "metadata": {
    "collapsed": true
   },
   "outputs": [],
   "source": [
    "import pandas as pd\n",
    "import numpy as np"
   ]
  },
  {
   "cell_type": "code",
   "execution_count": null,
   "metadata": {
    "collapsed": false
   },
   "outputs": [],
   "source": [
    "# Slide 7\n",
    "# Create series\n",
    "print(pd.Series([1, 2, 3]).values)"
   ]
  },
  {
   "cell_type": "code",
   "execution_count": null,
   "metadata": {
    "collapsed": false
   },
   "outputs": [],
   "source": [
    "# Slide 7\n",
    "# Create series\n",
    "pd.Series(list('aabc'))"
   ]
  },
  {
   "cell_type": "code",
   "execution_count": null,
   "metadata": {
    "collapsed": true
   },
   "outputs": [],
   "source": [
    "# Slide 7\n",
    "# Create series without index\n",
    "s = pd.Series(np.random.randn(5), index=None)\n",
    "# Create series with index\n",
    "s = pd.Series(np.random.randn(5), index=['a', 'b', 'c', 'd', 'e'])\n",
    "# Explore more below"
   ]
  },
  {
   "cell_type": "code",
   "execution_count": null,
   "metadata": {
    "collapsed": true
   },
   "outputs": [],
   "source": [
    "x = np.random.randn(5)"
   ]
  },
  {
   "cell_type": "code",
   "execution_count": null,
   "metadata": {
    "collapsed": false
   },
   "outputs": [],
   "source": [
    "s = pd.Series(x, index=None)\n",
    "print(s)"
   ]
  },
  {
   "cell_type": "code",
   "execution_count": null,
   "metadata": {
    "collapsed": false
   },
   "outputs": [],
   "source": [
    "s = pd.Series(x, index=['a', 'b', 'c', 'd', 'e'])\n",
    "print(s)"
   ]
  },
  {
   "cell_type": "code",
   "execution_count": null,
   "metadata": {
    "collapsed": false
   },
   "outputs": [],
   "source": [
    "# Slide 7\n",
    "# Accessing series values, as you would do in dictionaries\n",
    "s[\"b\"]"
   ]
  },
  {
   "cell_type": "code",
   "execution_count": null,
   "metadata": {
    "collapsed": false
   },
   "outputs": [],
   "source": [
    "# Slide 7\n",
    "# Operations on series\n",
    "s+(s[\"a\"])"
   ]
  },
  {
   "cell_type": "code",
   "execution_count": null,
   "metadata": {
    "collapsed": false
   },
   "outputs": [],
   "source": [
    "# Slide 7\n",
    "# Create series from dictionaries\n",
    "\n",
    "# Create a dictionary\n",
    "d = {'a' : 0., 'b' : 1., 'c' : 2.}\n",
    "\n",
    "# Create series from dictionary\n",
    "s = pd.Series(d)\n",
    "print(s)"
   ]
  },
  {
   "cell_type": "code",
   "execution_count": null,
   "metadata": {
    "collapsed": false
   },
   "outputs": [],
   "source": [
    "# Slide 7\n",
    "# Series as ordered dictionaries\n",
    "\n",
    "s= pd.Series(d, index=['b', 'c', 'd', 'a'])\n",
    "print(s)"
   ]
  },
  {
   "cell_type": "code",
   "execution_count": 3,
   "metadata": {
    "collapsed": false
   },
   "outputs": [
    {
     "name": "stdout",
     "output_type": "stream",
     "text": [
      "2017-11-01 17:46:39.467687\n",
      "\n",
      "Date 2017-11-01, Time 17:46:39\n"
     ]
    }
   ],
   "source": [
    "# Slide 8\n",
    "from datetime import datetime as dt\n",
    "a = dt.now()\n",
    "print(a)\n",
    "print()\n",
    "print(a.strftime('Date %Y-%m-%d, Time %H:%M:%S'))"
   ]
  },
  {
   "cell_type": "code",
   "execution_count": 4,
   "metadata": {
    "collapsed": false
   },
   "outputs": [
    {
     "name": "stdout",
     "output_type": "stream",
     "text": [
      "<class 'pandas.core.series.Series'>\n",
      "\n",
      "2014-10-01   -1.032467\n",
      "2014-10-03   -1.392863\n",
      "2014-10-04    1.556735\n",
      "2014-10-09   -0.627415\n",
      "2014-10-10   -1.703145\n",
      "dtype: float64\n"
     ]
    }
   ],
   "source": [
    "# Slide 10\n",
    "from pandas import Series\n",
    "from datetime import datetime as dt\n",
    "import numpy as np\n",
    "\n",
    "mydates = [dt(2014, 10, 1),\n",
    "           dt(2014, 10, 3),\n",
    "           dt(2014, 10, 4), \n",
    "           dt(2014, 10, 9), \n",
    "           dt(2014, 10, 10)]\n",
    "\n",
    "myTS = Series(np.random.randn(5), index = mydates)\n",
    "print (type(myTS))\n",
    "print()\n",
    "print (myTS)"
   ]
  },
  {
   "cell_type": "code",
   "execution_count": 14,
   "metadata": {
    "collapsed": false
   },
   "outputs": [
    {
     "name": "stdout",
     "output_type": "stream",
     "text": [
      "1000-01-01 01:01:01\n"
     ]
    }
   ],
   "source": [
    "import datetime\n",
    "print(datetime.datetime(1000,1,1,1,1,1))"
   ]
  },
  {
   "cell_type": "code",
   "execution_count": 5,
   "metadata": {
    "collapsed": false
   },
   "outputs": [
    {
     "name": "stdout",
     "output_type": "stream",
     "text": [
      "[datetime.datetime(2014, 10, 1, 0, 0), datetime.datetime(2014, 10, 3, 0, 0), datetime.datetime(2014, 10, 4, 0, 0), datetime.datetime(2014, 10, 9, 0, 0), datetime.datetime(2014, 10, 10, 0, 0)]\n"
     ]
    }
   ],
   "source": [
    "# Slide 11\n",
    "from pandas import Series\n",
    "from datetime import datetime as dt\n",
    "import numpy as np\n",
    "\n",
    "mydates = [dt(2014, 10, 1),\n",
    "           dt(2014, 10, 3),\n",
    "           dt(2014, 10, 4), \n",
    "           dt(2014, 10, 9),\n",
    "           dt(2014, 10, 10)]\n",
    "print(mydates)"
   ]
  },
  {
   "cell_type": "code",
   "execution_count": null,
   "metadata": {
    "collapsed": false
   },
   "outputs": [],
   "source": [
    "# Slide 11\n",
    "# Indexing\n",
    "myTS = Series(np.random.randn(5), index = mydates)\n",
    "print (type(myTS))\n",
    "print()\n",
    "print (myTS)"
   ]
  },
  {
   "cell_type": "code",
   "execution_count": null,
   "metadata": {
    "collapsed": false
   },
   "outputs": [],
   "source": [
    "# Slide 11\n",
    "# Selection\n",
    "myTimeStamp = myTS.index[3]\n",
    "\n",
    "print (myTimeStamp)\n",
    "print()\n",
    "print (myTS[myTimeStamp])\n",
    "print()\n",
    "print (myTS['2014-10-09'])\n",
    "print()\n",
    "print (myTS['20141009'])"
   ]
  },
  {
   "cell_type": "code",
   "execution_count": null,
   "metadata": {
    "collapsed": false
   },
   "outputs": [],
   "source": [
    "# Slide 11\n",
    "# Slicing / subsetting\n",
    "print (myTS['2014-10-04':])\n",
    "print ()\n",
    "print (myTS['2014-10-04':'2014-10-09'])\n",
    "print()\n",
    "\n",
    "print (myTS.values)\n",
    "print()\n",
    "print (myTS.index)"
   ]
  },
  {
   "cell_type": "code",
   "execution_count": 15,
   "metadata": {
    "collapsed": false
   },
   "outputs": [
    {
     "name": "stdout",
     "output_type": "stream",
     "text": [
      "    pop state  year\n",
      "0  18.8    FL  2010\n",
      "1  19.1    FL  2011\n",
      "2   9.7    GA  2008\n",
      "3   9.8    GA  2010\n",
      "4   9.9    GA  2011\n"
     ]
    }
   ],
   "source": [
    "# Slide 13\n",
    "import pandas as pd\n",
    "\n",
    "mydata = {\n",
    "    'state': [],\n",
    "    'year':[],\n",
    "    'pop':[]\n",
    "    }\n",
    "\n",
    "mydata = {\n",
    "    'state': ['FL', 'FL', 'GA', 'GA', 'GA'],\n",
    "    'year':[2010, 2011, 2008, 2010, 2011],\n",
    "    'pop':[18.8, 19.1, 9.7, 9.8, 9.9]\n",
    "    }\n",
    "\n",
    "mydf = pd.DataFrame(mydata)\n",
    "print (mydf)"
   ]
  },
  {
   "cell_type": "code",
   "execution_count": 16,
   "metadata": {
    "collapsed": false
   },
   "outputs": [
    {
     "name": "stdout",
     "output_type": "stream",
     "text": [
      "   total_bill   tip     sex smoker  day    time  size\n",
      "0       16.99  1.01  Female     No  Sun  Dinner     2\n",
      "1       10.34  1.66    Male     No  Sun  Dinner     3\n",
      "2       21.01  3.50    Male     No  Sun  Dinner     3\n",
      "3       23.68  3.31    Male     No  Sun  Dinner     2\n",
      "4       24.59  3.61  Female     No  Sun  Dinner     4\n",
      "\n",
      "col_0  1708\n",
      "day        \n",
      "Fri      19\n",
      "Sat      87\n",
      "Sun      76\n",
      "Thur     62\n",
      "\n",
      "day\n",
      "Fri     19.0\n",
      "Sat     87.0\n",
      "Sun     76.0\n",
      "Thur    62.0\n",
      "dtype: float64\n",
      "\n",
      "col_0  1708\n",
      "day        \n",
      "Fri     1.0\n",
      "Sat     1.0\n",
      "Sun     1.0\n",
      "Thur    1.0\n",
      "\n"
     ]
    },
    {
     "data": {
      "text/plain": [
       "<matplotlib.axes._subplots.AxesSubplot at 0x98f2f98>"
      ]
     },
     "execution_count": 16,
     "metadata": {},
     "output_type": "execute_result"
    },
    {
     "data": {
      "image/png": "[encoded data removed]",
      "text/plain": [
       "<matplotlib.figure.Figure at 0x8c70be0>"
      ]
     },
     "metadata": {},
     "output_type": "display_data"
    }
   ],
   "source": [
    "# Slide 19\n",
    "url = 'https://raw.github.com/pydata/pandas/master/pandas/tests/data/tips.csv'\n",
    "tips = pd.read_csv(url)\n",
    "print(tips.head())\n",
    "print()\n",
    "partycounts = pd.crosstab(tips.day, tips.size)\n",
    "print (partycounts)\n",
    "print()\n",
    "sumbyday = partycounts.sum(1).astype(float)\n",
    "print (sumbyday )\n",
    "print()\n",
    "partypcts = partycounts.div(sumbyday,axis=0)\n",
    "print (partypcts)\n",
    "print()\n",
    "\n",
    "# allows plotting inline\n",
    "%matplotlib inline   \n",
    "partypcts.plot(kind='bar',stacked='True')"
   ]
  },
  {
   "cell_type": "code",
   "execution_count": null,
   "metadata": {
    "collapsed": false
   },
   "outputs": [],
   "source": [
    "sudo apt-get "
   ]
  }
 ],
 "metadata": {
  "anaconda-cloud": {},
  "kernelspec": {
   "display_name": "Python [default]",
   "language": "python",
   "name": "python3"
  },
  "language_info": {
   "codemirror_mode": {
    "name": "ipython",
    "version": 3
   },
   "file_extension": ".py",
   "mimetype": "text/x-python",
   "name": "python",
   "nbconvert_exporter": "python",
   "pygments_lexer": "ipython3",
   "version": "3.5.2"
  }
 },
 "nbformat": 4,
 "nbformat_minor": 2
}
