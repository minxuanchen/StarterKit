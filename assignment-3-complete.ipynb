{
 "cells": [
  {
   "cell_type": "markdown",
   "metadata": {},
   "source": [
    "# Assignment 3\n",
    "\n",
    "*Objectives*: Wrangle a data set using two new tools, [Trifacta Wrangler](https://www.trifacta.com/products/wrangler/) and [Apache Spark](https://spark.apache.org/).  Results should include a cleaned-up data set and summary statistics.\n",
    "\n",
    "*Grading criteria*: The tasks should all be completed, and questions should all be answered with clear responses, with shell commands and markdown cells explaining your work as appropriate in the cells provided (as more as needed).  The notebook itself should be completely reproducible (using AWS an EC2 instance based on the class AMI) from start to finish; another person should be able to use the code to obtain the same results as yours.  Note that you will receive no more than partial credit if you do not add text/markdown cells explaining your thinking where required.\n",
    "\n",
    "*Attestation*: **Work individually**.  At the end of your submitted notebook, state that you did all of the substantial work on this assignment yourself, and acknowledge any assistance you received.\n",
    "\n",
    "*Deadline*: Sunday, October 22, 12pm.  Zip your notebook and wrangled dataset and submit it to Blackboard as a single file."
   ]
  },
  {
   "cell_type": "markdown",
   "metadata": {},
   "source": [
    "## Part 1 - Wrangle a dataset with Trifacta\n",
    "\n",
    "For this part, select a dataset from the [OKFN US City Open Data Census](http://us-city.census.okfn.org/).  Choose one according to your interest, but try to choose one that's \"green\" and has somewhere between 10,000 and 1,000,000 rows.  Try to choose a dataset that is less than 50MB (to save your instructors some time and space during grading!).\n",
    "\n",
    "Document your process by answering each of the following questions."
   ]
  },
  {
   "cell_type": "markdown",
   "metadata": {},
   "source": [
    "### Q1.1 - Choose your dataset\n",
    "\n",
    "Which dataset did you choose?  What is it called, and what is it about?  Provide a link to its main web page (not its data link, which you'll include next).\n",
    "\n",
    "**Answer**"
   ]
  },
  {
   "cell_type": "markdown",
   "metadata": {},
   "source": [
    "```\n",
    "I chose the crime data in Baltimore. It's called \"BPD_Part_1_Victim_Based_Crime_Data\".\n",
    "The data includes details about the crimes reported by victims, for example the date, the exact time, the location and the type of every crime report.\n",
    "The links are as below:\n",
    "http://us-city.census.okfn.org/entry/baltimore/crime-stats\n",
    "https://data.baltimorecity.gov/Public-Safety/BPD-Part-1-Victim-Based-Crime-Data/wsfq-mvij\n",
    "```"
   ]
  },
  {
   "cell_type": "markdown",
   "metadata": {},
   "source": [
    "### Q1.2 - Get your data\n",
    "\n",
    "Use `wget` to download your data onto your instance. \n",
    "\n",
    "**Answer**"
   ]
  },
  {
   "cell_type": "markdown",
   "metadata": {},
   "source": [
    "```\n",
    "Get the CSV and name the file \"crime.csv\".\n",
    "```"
   ]
  },
  {
   "cell_type": "code",
   "execution_count": 1,
   "metadata": {},
   "outputs": [
    {
     "name": "stdout",
     "output_type": "stream",
     "text": [
      "--2017-10-25 19:02:34--  https://data.baltimorecity.gov/api/views/wsfq-mvij/rows.csv?accessType=DOWNLOAD\n",
      "Resolving data.baltimorecity.gov (data.baltimorecity.gov)... 52.206.68.26\n",
      "Connecting to data.baltimorecity.gov (data.baltimorecity.gov)|52.206.68.26|:443... connected.\n",
      "HTTP request sent, awaiting response... 200 OK\n",
      "Length: unspecified [text/csv]\n",
      "Saving to: ‘crime.csv’\n",
      "\n",
      "crime.csv               [        <=>         ]  40.15M  1.81MB/s    in 23s     \n",
      "\n",
      "Last-modified header invalid -- time-stamp ignored.\n",
      "2017-10-25 19:02:57 (1.75 MB/s) - ‘crime.csv’ saved [42098939]\n",
      "\n"
     ]
    }
   ],
   "source": [
    "!wget https://data.baltimorecity.gov/api/views/wsfq-mvij/rows.csv?accessType=DOWNLOAD -O crime.csv"
   ]
  },
  {
   "cell_type": "markdown",
   "metadata": {},
   "source": [
    "### Q1.3 - Explore your data\n",
    "\n",
    "Use command line tools of your choice (CSVKit, XSV, or other UNIX commands we've seen in class already) to explore your data.  How long is it?  Does it seem relatively clean, or do you see data issues that need wrangling?\n",
    "\n",
    "**Answer**"
   ]
  },
  {
   "cell_type": "markdown",
   "metadata": {},
   "source": [
    "```\n",
    "See what's in the data file.\n",
    "```"
   ]
  },
  {
   "cell_type": "code",
   "execution_count": 2,
   "metadata": {
    "scrolled": true
   },
   "outputs": [
    {
     "name": "stdout",
     "output_type": "stream",
     "text": [
      "  1: CrimeDate\r\n",
      "  2: CrimeTime\r\n",
      "  3: CrimeCode\r\n",
      "  4: Location\r\n",
      "  5: Description\r\n",
      "  6: Inside/Outside\r\n",
      "  7: Weapon\r\n",
      "  8: Post\r\n",
      "  9: District\r\n",
      " 10: Neighborhood\r\n",
      " 11: Longitude\r\n",
      " 12: Latitude\r\n",
      " 13: Location 1\r\n",
      " 14: Premise\r\n",
      " 15: Total Incidents\r\n"
     ]
    }
   ],
   "source": [
    "!csvcut -n crime.csv"
   ]
  },
  {
   "cell_type": "code",
   "execution_count": 3,
   "metadata": {},
   "outputs": [
    {
     "name": "stdout",
     "output_type": "stream",
     "text": [
      "|-------------+-----------+-----------+----------------------------+----------------+----------------+---------+------+--------------+----------------+-----------+----------+---------------------------------+------------+------------------|\r\n",
      "|  CrimeDate  | CrimeTime | CrimeCode | Location                   | Description    | Inside/Outside | Weapon  | Post | District     | Neighborhood   | Longitude | Latitude | Location 1                      | Premise    | Total Incidents  |\r\n",
      "|-------------+-----------+-----------+----------------------------+----------------+----------------+---------+------+--------------+----------------+-----------+----------+---------------------------------+------------+------------------|\r\n",
      "|  10/14/2017 | 23:00:00  | 4A        | 2700 BEETHOVEN AVE         | AGG. ASSAULT   | I              | FIREARM | 622  | NORTHWESTERN |                | -76.71131 | 39.32639 | (39.3263900000, -76.7113100000) | ROW/TOWNHO | 1                |\r\n",
      "|  10/14/2017 | 22:15:00  | 4E        | 4200 EDMONDSON AVE         | COMMON ASSAULT | I              | HANDS   | 822  | SOUTHWESTERN | Rognel Heights | -76.68623 | 39.29372 | (39.2937200000, -76.6862300000) | LIQUOR STO | 1                |\r\n",
      "|  10/14/2017 | 22:10:00  | 4E        | BALTIMORE ST & N HOWARD ST | COMMON ASSAULT | O              | HANDS   | 111  | CENTRAL      | Downtown       | -76.61945 | 39.28935 | (39.2893500000, -76.6194500000) | STREET     | 1                |\r\n",
      "|  10/14/2017 | 22:10:00  | 4E        | BALTIMORE ST & N HOWARD ST | COMMON ASSAULT | O              | HANDS   | 111  | CENTRAL      | Downtown       | -76.61945 | 39.28935 | (39.2893500000, -76.6194500000) | STREET     | 1                |\r\n",
      "|-------------+-----------+-----------+----------------------------+----------------+----------------+---------+------+--------------+----------------+-----------+----------+---------------------------------+------------+------------------|\r\n"
     ]
    }
   ],
   "source": [
    "!head -5 crime.csv | csvlook"
   ]
  },
  {
   "cell_type": "markdown",
   "metadata": {},
   "source": [
    "```\n",
    "Have a more comfortable look at all columns of first several rows.\n",
    "```"
   ]
  },
  {
   "cell_type": "code",
   "execution_count": 4,
   "metadata": {},
   "outputs": [
    {
     "name": "stdout",
     "output_type": "stream",
     "text": [
      "|-------------+-----------+-----------+----------------------------+-----------------------|\r\n",
      "|  CrimeDate  | CrimeTime | CrimeCode | Location                   | Description           |\r\n",
      "|-------------+-----------+-----------+----------------------------+-----------------------|\r\n",
      "|  10/14/2017 | 23:00:00  | 4A        | 2700 BEETHOVEN AVE         | AGG. ASSAULT          |\r\n",
      "|  10/14/2017 | 22:15:00  | 4E        | 4200 EDMONDSON AVE         | COMMON ASSAULT        |\r\n",
      "|  10/14/2017 | 22:10:00  | 4E        | BALTIMORE ST & N HOWARD ST | COMMON ASSAULT        |\r\n",
      "|  10/14/2017 | 22:10:00  | 4E        | BALTIMORE ST & N HOWARD ST | COMMON ASSAULT        |\r\n",
      "|  10/14/2017 | 22:00:00  | 4E        | 400 WALTON AV, AAC         | COMMON ASSAULT        |\r\n",
      "|  10/14/2017 | 21:42:00  | 9S        | 900 N EDEN ST              | SHOOTING              |\r\n",
      "|  10/14/2017 | 21:28:00  | 9S        | 1400 CARROLL ST            | SHOOTING              |\r\n",
      "|  10/14/2017 | 21:28:00  | 9S        | 1400 CARROLL ST            | SHOOTING              |\r\n",
      "|  10/14/2017 | 21:21:00  | 9S        | 200 S DALLAS CT            | SHOOTING              |\r\n",
      "|  10/14/2017 | 21:44:00  | 3AJF      | 500 N CARROLLTON AVE       | ROBBERY - CARJACKING  |\r\n",
      "|  10/14/2017 | 21:42:00  | 4A        | 900 N EDEN ST              | AGG. ASSAULT          |\r\n",
      "|  10/14/2017 | 21:40:00  | 3K        | 1000 HERNDON CT            | ROBBERY - RESIDENCE   |\r\n",
      "|  10/14/2017 | 21:31:00  | 4E        | 1800 N CAROLINE ST         | COMMON ASSAULT        |\r\n",
      "|  10/14/2017 | 21:28:00  | 3AF       | 1400 CARROLL ST            | ROBBERY - STREET      |\r\n",
      "|  10/14/2017 | 21:15:00  | 3AJF      | 400 S MACON ST             | ROBBERY - CARJACKING  |\r\n",
      "|  10/14/2017 | 20:33:00  | 4E        | 2400 E FEDERAL ST          | COMMON ASSAULT        |\r\n",
      "|  10/14/2017 | 20:32:00  | 6C        | 2700 WASHINGTON BLVD       | LARCENY               |\r\n",
      "|  10/14/2017 | 20:30:00  | 3B        | ST & S PRESIDENT ST        | ROBBERY - STREET      |\r\n",
      "|  10/14/2017 | 20:30:00  | 3B        | ST & S PRESIDENT ST        | ROBBERY - STREET      |\r\n",
      "|-------------+-----------+-----------+----------------------------+-----------------------|\r\n"
     ]
    }
   ],
   "source": [
    "!csvcut -c 1-5 crime.csv | head -20 | csvlook"
   ]
  },
  {
   "cell_type": "code",
   "execution_count": 5,
   "metadata": {},
   "outputs": [
    {
     "name": "stdout",
     "output_type": "stream",
     "text": [
      "|-----------------+---------+------+--------------+----------------------------|\n",
      "|  Inside/Outside | Weapon  | Post | District     | Neighborhood               |\n",
      "|-----------------+---------+------+--------------+----------------------------|\n",
      "|  I              | FIREARM | 622  | NORTHWESTERN |                            |\n",
      "|  I              | HANDS   | 822  | SOUTHWESTERN | Rognel Heights             |\n",
      "|  O              | HANDS   | 111  | CENTRAL      | Downtown                   |\n",
      "|  O              | HANDS   | 111  | CENTRAL      | Downtown                   |\n",
      "|  O              | HANDS   | 123  | CENTRAL      | Upton                      |\n",
      "|  Outside        | FIREARM | 313  | EASTERN      | Oldtown                    |\n",
      "|  Outside        | FIREARM | 932  | SOUTHERN     | Washington Village/Pigtow  |\n",
      "|  Outside        | FIREARM | 932  | SOUTHERN     | Washington Village/Pigtow  |\n",
      "|  Outside        | FIREARM | 211  | SOUTHEASTERN | Perkins Homes              |\n",
      "|  O              | FIREARM | 713  | WESTERN      | Harlem Park                |\n",
      "|  O              | FIREARM | 313  | EASTERN      | Oldtown                    |\n",
      "|  I              |         | 913  | SOUTHERN     | Brooklyn                   |\n",
      "|  I              | HANDS   | 343  | EASTERN      | Oliver                     |\n",
      "|  O              | FIREARM | 932  | SOUTHERN     | Washington Village/Pigtow  |\n",
      "|  O              | FIREARM | 242  | SOUTHEASTERN | Greektown                  |\n",
      "|  O              | HANDS   | 331  | EASTERN      | Broadway East              |\n",
      "|  I              |         | 831  | SOUTHWESTERN | Morrell Park               |\n",
      "|  O              |         | 211  | SOUTHEASTERN | Inner Harbor               |\n",
      "|  O              |         | 211  | SOUTHEASTERN | Inner Harbor               |\n",
      "|-----------------+---------+------+--------------+----------------------------|\n"
     ]
    }
   ],
   "source": [
    "!csvcut -c 6-10 crime.csv | head -20 | csvlook"
   ]
  },
  {
   "cell_type": "code",
   "execution_count": 6,
   "metadata": {},
   "outputs": [
    {
     "name": "stdout",
     "output_type": "stream",
     "text": [
      "|------------+----------+---------------------------------+------------+------------------|\r\n",
      "|  Longitude | Latitude | Location 1                      | Premise    | Total Incidents  |\r\n",
      "|------------+----------+---------------------------------+------------+------------------|\r\n",
      "|  -76.71131 | 39.32639 | (39.3263900000, -76.7113100000) | ROW/TOWNHO | 1                |\r\n",
      "|  -76.68623 | 39.29372 | (39.2937200000, -76.6862300000) | LIQUOR STO | 1                |\r\n",
      "|  -76.61945 | 39.28935 | (39.2893500000, -76.6194500000) | STREET     | 1                |\r\n",
      "|  -76.61945 | 39.28935 | (39.2893500000, -76.6194500000) | STREET     | 1                |\r\n",
      "|  -76.62471 | 39.29995 | (39.2999500000, -76.6247100000) | YARD       | 1                |\r\n",
      "|  -76.59931 | 39.30036 | (39.3003600000, -76.5993100000) | Street     | 1                |\r\n",
      "|  -76.63605 | 39.27848 | (39.2784800000, -76.6360500000) | Street     | 1                |\r\n",
      "|  -76.63605 | 39.27848 | (39.2784800000, -76.6360500000) | Street     | 1                |\r\n",
      "|  -76.59665 | 39.28887 | (39.2888700000, -76.5966500000) | Public Hou | 1                |\r\n",
      "|  -76.63703 | 39.29477 | (39.2947700000, -76.6370300000) | STREET     | 1                |\r\n",
      "|  -76.59931 | 39.30036 | (39.3003600000, -76.5993100000) | STREET     | 1                |\r\n",
      "|  -76.59834 | 39.22756 | (39.2275600000, -76.5983400000) | ROW/TOWNHO | 1                |\r\n",
      "|  -76.59842 | 39.31085 | (39.3108500000, -76.5984200000) | ROW/TOWNHO | 1                |\r\n",
      "|  -76.63614 | 39.2784  | (39.2784000000, -76.6361400000) | STREET     | 1                |\r\n",
      "|  -76.55738 | 39.28748 | (39.2874800000, -76.5573800000) | STREET     | 1                |\r\n",
      "|  -76.58345 | 39.30891 | (39.3089100000, -76.5834500000) | STREET     | 1                |\r\n",
      "|  -76.65493 | 39.26449 | (39.2644900000, -76.6549300000) | GROCERY/CO | 1                |\r\n",
      "|  -76.60269 | 39.2842  | (39.2842000000, -76.6026900000) | STREET     | 1                |\r\n",
      "|  -76.60269 | 39.2842  | (39.2842000000, -76.6026900000) | STREET     | 1                |\r\n",
      "|------------+----------+---------------------------------+------------+------------------|\r\n"
     ]
    }
   ],
   "source": [
    "!csvcut -c 11-15 crime.csv | head -20 | csvlook"
   ]
  },
  {
   "cell_type": "markdown",
   "metadata": {},
   "source": [
    "```\n",
    "I find the Total_Incidents interesting. Let's see what it has.\n",
    "```"
   ]
  },
  {
   "cell_type": "code",
   "execution_count": 7,
   "metadata": {},
   "outputs": [
    {
     "name": "stdout",
     "output_type": "stream",
     "text": [
      "  1. Total Incidents\r\n",
      "\t<class 'int'>\r\n",
      "\tNulls: False\r\n",
      "\tValues: 1\r\n",
      "\r\n",
      "Row count: 282749\r\n"
     ]
    }
   ],
   "source": [
    "!csvcut -c 15 crime.csv | csvstat"
   ]
  },
  {
   "cell_type": "markdown",
   "metadata": {},
   "source": [
    "```\n",
    "All values in Total_Incidents is 1.\n",
    "```"
   ]
  },
  {
   "cell_type": "markdown",
   "metadata": {},
   "source": [
    "```\n",
    "Let's see how many records do we have.\n",
    "```"
   ]
  },
  {
   "cell_type": "code",
   "execution_count": 8,
   "metadata": {},
   "outputs": [
    {
     "name": "stdout",
     "output_type": "stream",
     "text": [
      "282750 crime.csv\r\n"
     ]
    }
   ],
   "source": [
    "!wc -l crime.csv"
   ]
  },
  {
   "cell_type": "markdown",
   "metadata": {},
   "source": [
    "Add any additional comments here."
   ]
  },
  {
   "cell_type": "markdown",
   "metadata": {},
   "source": [
    "```\n",
    "The data seems quite clean. \n",
    "But I still find some missing values in the data. I will replace these missing values with \"unknown\".\n",
    "The Inside/Outside column seems confusing with I/Inside and O/Outside. I will just keep I and O and replace the inside/outside with i/o.\n",
    "For the total incidents column, all the value is 1. It gives us no information, so, I will delete this column.\n",
    "I noticed that the location columns have \",\" in their values. They may have some influence later. So, I will delete this column.\n",
    "```"
   ]
  },
  {
   "cell_type": "markdown",
   "metadata": {},
   "source": [
    "### Q1.4 - Wrangle your data with Trifacta\n",
    "\n",
    "Use Trifacta to import your data.  Find at least two columns you want to wrangle and clean them up - you can split values into new columns, remove bad values, whatever you like.\n",
    "\n",
    "Execute your recipe, generating a summary you can review, and save your recipe.\n",
    "\n",
    "Paste your recipe into the cell below using the markdown provided.\n",
    "\n",
    "**Answer**"
   ]
  },
  {
   "cell_type": "markdown",
   "metadata": {},
   "source": [
    "```\n",
    "\n",
    "Paste your recipe here as text.  Leave the marks above and below this line to format the text.\n",
    "\n",
    "```\n",
    "\n",
    "```\n",
    "We already have a column that combines the latitude and longitude. But I can still get my own column of crime scene coordinates.\n",
    "And I will delete the redundant columns ('longitude', 'latitude', 'location_1') to make the file smaller.\n",
    "\n",
    "Below is my final recipe(generated from \"copy to clipboard\"):\n",
    "\n",
    "splitrows table: MISSING col: column1 on: '\\n' quote: '\\\"'\n",
    "split col: column1 on: ',' limit: 14 quote: '\\\"'\n",
    "header table: MISSING\n",
    "replace col: Inside_Outside with: '' on: `nside|utside` global: true\n",
    "drop table: MISSING col: Total_Incidents\n",
    "merge col: Latitude,Longitude with: ',' as: 'mylonglat'\n",
    "drop table: MISSING col: Latitude\n",
    "drop table: MISSING col: Longitude\n",
    "drop table: MISSING col: Location_1\n",
    "set col: CrimeDate, CrimeTime, CrimeCode, Location, Description, Inside_Outside, Weapon, Post, District, Neighborhood, mylonglat, Premise value: ifmissing($col, 'unknown')\n",
    "\n",
    "OR using a more readable language：\n",
    "\n",
    "Break into rows using '\\n' as a delimiter\n",
    "Split column1 into 15 columns on ','\n",
    "Convert row 1 to header\n",
    "Replace 'nside|utside' from Inside_Outside with ''\n",
    "Drop Total_Incidents\n",
    "Concatenate Latitude, Longitude separated by ','\n",
    "Drop 'Latitude'\n",
    "Drop 'Longitude'\n",
    "Drop 'Location_1'\n",
    "Set 12 columns to ifmissing($col,\"unknown\")\n",
    "```"
   ]
  },
  {
   "cell_type": "markdown",
   "metadata": {},
   "source": [
    "### Q1.5 - Evaluate\n",
    "\n",
    "How did it go?  Did your recipe work on the whole dataset?  Did you run into any problems?\n",
    "\n",
    "**Answer**"
   ]
  },
  {
   "cell_type": "markdown",
   "metadata": {},
   "source": [
    "```\n",
    "I generated the result.\n",
    "The result shows that 99.99% matched, 0.01% mismatched and 0% missing.\n",
    "For the mismatch, the only 1 mismatched value is in the CrimeTime column.\n",
    "It's because the range of time is between 00:00:00 and 23:59:59. But there is a 24:00:00 in the data.\n",
    "It seems that the recipe works well.\n",
    "\n",
    "I will leave the 24:00:00 unchanged because it is hard to say if it represents 00:00:00 of the present day or the 00:00:00 of the next day.\n",
    "```"
   ]
  },
  {
   "cell_type": "markdown",
   "metadata": {},
   "source": [
    "## Part 2 - Summary statistics with Spark\n",
    "\n",
    "Use Spark to load your data and compute basic summary statistics (counts, or average, min/max, and mean).  You may borrow liberally from the example we saw in class, just change a few things as appropriate.\n",
    "\n",
    "This is just to get you a taste... we'll do more with Spark next week and in Project 3.\n",
    "\n",
    "### Q2.1 - Start Spark\n",
    "\n",
    "First, load up Spark by executing the following cells.  You can just execute them!"
   ]
  },
  {
   "cell_type": "code",
   "execution_count": 9,
   "metadata": {
    "collapsed": true
   },
   "outputs": [],
   "source": [
    "import os"
   ]
  },
  {
   "cell_type": "code",
   "execution_count": 10,
   "metadata": {
    "collapsed": true
   },
   "outputs": [],
   "source": [
    "os.environ['SPARK_HOME'] = '/usr/local/lib/spark'"
   ]
  },
  {
   "cell_type": "code",
   "execution_count": 11,
   "metadata": {
    "collapsed": true
   },
   "outputs": [],
   "source": [
    "import findspark"
   ]
  },
  {
   "cell_type": "code",
   "execution_count": 12,
   "metadata": {
    "collapsed": true
   },
   "outputs": [],
   "source": [
    "findspark.init()"
   ]
  },
  {
   "cell_type": "code",
   "execution_count": 13,
   "metadata": {
    "collapsed": true
   },
   "outputs": [],
   "source": [
    "from pyspark import SparkContext"
   ]
  },
  {
   "cell_type": "code",
   "execution_count": 14,
   "metadata": {},
   "outputs": [],
   "source": [
    "spark = SparkContext(appName='assignment-3')"
   ]
  },
  {
   "cell_type": "code",
   "execution_count": 15,
   "metadata": {},
   "outputs": [
    {
     "data": {
      "text/html": [
       "\n",
       "        <div>\n",
       "            <p><b>SparkContext</b></p>\n",
       "\n",
       "            <p><a href=\"http://172.31.21.150:4040\">Spark UI</a></p>\n",
       "\n",
       "            <dl>\n",
       "              <dt>Version</dt>\n",
       "                <dd><code>v2.2.0</code></dd>\n",
       "              <dt>Master</dt>\n",
       "                <dd><code>local[*]</code></dd>\n",
       "              <dt>AppName</dt>\n",
       "                <dd><code>assignment-3</code></dd>\n",
       "            </dl>\n",
       "        </div>\n",
       "        "
      ],
      "text/plain": [
       "<SparkContext master=local[*] appName=assignment-3>"
      ]
     },
     "execution_count": 15,
     "metadata": {},
     "output_type": "execute_result"
    }
   ],
   "source": [
    "spark"
   ]
  },
  {
   "cell_type": "markdown",
   "metadata": {},
   "source": [
    "If it worked, you should see the description of your **SparkContext** and a link (that you can visit by replacing its IP address with your EC2 instance host name).\n",
    "\n",
    "### Q2.2 - Upload your wrangled data\n",
    "\n",
    "Upload the data you wrangled with Trifacta in Part 1.  You may use Jupyter's upload function for this, it doesn't need to be captured here.  You may want to compress your data before uploading it.\n",
    "\n",
    "In a few cells below, ensure that your data uploaded correctly, and uncompress it if necessary.  Count its lines, check its filesize, or look at the first few lines as you deem appropriate until you're confident you have all your data to use here in the notebook.\n",
    "\n",
    "**Answer**"
   ]
  },
  {
   "cell_type": "markdown",
   "metadata": {
    "collapsed": true
   },
   "source": [
    "```\n",
    "Let's see if the crimenew.csv exists in the folder.\n",
    "```"
   ]
  },
  {
   "cell_type": "code",
   "execution_count": 16,
   "metadata": {
    "collapsed": true
   },
   "outputs": [],
   "source": [
    "import os\n",
    "assert \"crimenew.csv\" in os.listdir()"
   ]
  },
  {
   "cell_type": "markdown",
   "metadata": {},
   "source": [
    "* Count lines and check size"
   ]
  },
  {
   "cell_type": "code",
   "execution_count": 17,
   "metadata": {},
   "outputs": [
    {
     "name": "stdout",
     "output_type": "stream",
     "text": [
      "282750 crimenew.csv\r\n"
     ]
    }
   ],
   "source": [
    "!wc -l crimenew.csv"
   ]
  },
  {
   "cell_type": "code",
   "execution_count": 18,
   "metadata": {},
   "outputs": [
    {
     "name": "stdout",
     "output_type": "stream",
     "text": [
      "-rw-rw-r-- 1 ubuntu ubuntu 34M Oct 25 16:27 crimenew.csv\r\n"
     ]
    }
   ],
   "source": [
    "!ls -lh crimenew.csv"
   ]
  },
  {
   "cell_type": "code",
   "execution_count": 19,
   "metadata": {},
   "outputs": [
    {
     "name": "stdout",
     "output_type": "stream",
     "text": [
      "  File: crimenew.csv\r\n",
      "  Size: 34899262  \tBlocks: 68168      IO Block: 4096   regular file\r\n",
      "Device: ca01h/51713d\tInode: 777441      Links: 1\r\n",
      "Access: (0664/-rw-rw-r--)  Uid: ( 1000/  ubuntu)   Gid: ( 1000/  ubuntu)\r\n",
      "Access: 2017-10-25 16:29:21.919970725 +0000\r\n",
      "Modify: 2017-10-25 16:27:46.872508972 +0000\r\n",
      "Change: 2017-10-25 16:27:46.872508972 +0000\r\n",
      " Birth: -\r\n"
     ]
    }
   ],
   "source": [
    "!stat crimenew.csv"
   ]
  },
  {
   "cell_type": "code",
   "execution_count": 20,
   "metadata": {},
   "outputs": [
    {
     "name": "stdout",
     "output_type": "stream",
     "text": [
      "  1: CrimeDate\r\n",
      "  2: CrimeTime\r\n",
      "  3: CrimeCode\r\n",
      "  4: Description\r\n",
      "  5: Inside_Outside\r\n",
      "  6: Weapon\r\n",
      "  7: Post\r\n",
      "  8: District\r\n",
      "  9: Neighborhood\r\n",
      " 10: mylonglat\r\n",
      " 11: Premise\r\n"
     ]
    }
   ],
   "source": [
    "!csvcut -n crimenew.csv"
   ]
  },
  {
   "cell_type": "code",
   "execution_count": 21,
   "metadata": {},
   "outputs": [
    {
     "name": "stdout",
     "output_type": "stream",
     "text": [
      "\"CrimeDate\",\"CrimeTime\",\"CrimeCode\",\"Description\",\"Inside_Outside\",\"Weapon\",\"Post\",\"District\",\"Neighborhood\",\"mylonglat\",\"Premise\"\r\n"
     ]
    }
   ],
   "source": [
    "!head -1 crimenew.csv"
   ]
  },
  {
   "cell_type": "code",
   "execution_count": 22,
   "metadata": {},
   "outputs": [
    {
     "name": "stdout",
     "output_type": "stream",
     "text": [
      "|-------------+-----------+-----------+----------------+----------------+---------+------+--------------+---------------------------+--------------------+-------------|\r\n",
      "|  CrimeDate  | CrimeTime | CrimeCode | Description    | Inside_Outside | Weapon  | Post | District     | Neighborhood              | mylonglat          | Premise     |\r\n",
      "|-------------+-----------+-----------+----------------+----------------+---------+------+--------------+---------------------------+--------------------+-------------|\r\n",
      "|  10/14/2017 | 23:00:00  | 4A        | AGG. ASSAULT   | I              | FIREARM | 622  | NORTHWESTERN | unknown                   | 39.32639,-76.71131 | ROW/TOWNHO  |\r\n",
      "|  10/14/2017 | 22:15:00  | 4E        | COMMON ASSAULT | I              | HANDS   | 822  | SOUTHWESTERN | Rognel Heights            | 39.29372,-76.68623 | LIQUOR STO  |\r\n",
      "|  10/14/2017 | 22:10:00  | 4E        | COMMON ASSAULT | O              | HANDS   | 111  | CENTRAL      | Downtown                  | 39.28935,-76.61945 | STREET      |\r\n",
      "|  10/14/2017 | 22:10:00  | 4E        | COMMON ASSAULT | O              | HANDS   | 111  | CENTRAL      | Downtown                  | 39.28935,-76.61945 | STREET      |\r\n",
      "|  10/14/2017 | 22:00:00  | 4E        | COMMON ASSAULT | O              | HANDS   | 123  | CENTRAL      | Upton                     | 39.29995,-76.62471 | YARD        |\r\n",
      "|  10/14/2017 | 21:42:00  | 9S        | SHOOTING       | O              | FIREARM | 313  | EASTERN      | Oldtown                   | 39.30036,-76.59931 | Street      |\r\n",
      "|  10/14/2017 | 21:28:00  | 9S        | SHOOTING       | O              | FIREARM | 932  | SOUTHERN     | Washington Village/Pigtow | 39.27848,-76.63605 | Street      |\r\n",
      "|  10/14/2017 | 21:28:00  | 9S        | SHOOTING       | O              | FIREARM | 932  | SOUTHERN     | Washington Village/Pigtow | 39.27848,-76.63605 | Street      |\r\n",
      "|  10/14/2017 | 21:21:00  | 9S        | SHOOTING       | O              | FIREARM | 211  | SOUTHEASTERN | Perkins Homes             | 39.28887,-76.59665 | Public Hou  |\r\n",
      "|-------------+-----------+-----------+----------------+----------------+---------+------+--------------+---------------------------+--------------------+-------------|\r\n"
     ]
    }
   ],
   "source": [
    "!head -10 crimenew.csv| csvlook"
   ]
  },
  {
   "cell_type": "markdown",
   "metadata": {},
   "source": [
    "### Q2.3 - Load your data into a Spark RDD\n",
    "\n",
    "Load up your data using the techniques we reviewed in class.  Extract the header. Get a count to verify that it's working correctly.\n",
    "\n",
    "Modify the cells below to get started.\n",
    "\n",
    "**Answer**"
   ]
  },
  {
   "cell_type": "code",
   "execution_count": 23,
   "metadata": {},
   "outputs": [],
   "source": [
    "# Edit this cell to point to your file!\n",
    "data = spark.textFile('crimenew.csv')"
   ]
  },
  {
   "cell_type": "code",
   "execution_count": 24,
   "metadata": {},
   "outputs": [
    {
     "data": {
      "text/plain": [
       "'\"CrimeDate\",\"CrimeTime\",\"CrimeCode\",\"Description\",\"Inside_Outside\",\"Weapon\",\"Post\",\"District\",\"Neighborhood\",\"mylonglat\",\"Premise\"'"
      ]
     },
     "execution_count": 24,
     "metadata": {},
     "output_type": "execute_result"
    }
   ],
   "source": [
    "header = data.first()\n",
    "header"
   ]
  },
  {
   "cell_type": "code",
   "execution_count": 25,
   "metadata": {},
   "outputs": [
    {
     "data": {
      "text/plain": [
       "282750"
      ]
     },
     "execution_count": 25,
     "metadata": {},
     "output_type": "execute_result"
    }
   ],
   "source": [
    "data.count()"
   ]
  },
  {
   "cell_type": "code",
   "execution_count": 26,
   "metadata": {},
   "outputs": [
    {
     "name": "stdout",
     "output_type": "stream",
     "text": [
      "CPU times: user 8 ms, sys: 0 ns, total: 8 ms\n",
      "Wall time: 845 ms\n"
     ]
    },
    {
     "data": {
      "text/plain": [
       "282750"
      ]
     },
     "execution_count": 26,
     "metadata": {},
     "output_type": "execute_result"
    }
   ],
   "source": [
    "%time data.count()"
   ]
  },
  {
   "cell_type": "markdown",
   "metadata": {},
   "source": [
    "```\n",
    "It's the same with what we know from the output above.\n",
    "```"
   ]
  },
  {
   "cell_type": "markdown",
   "metadata": {},
   "source": [
    "### Q2.4 - Summarize your data\n",
    "\n",
    "Choose one of the two techniques we saw in class to compute some basic numbers on one of your columns.  Your options are:\n",
    "\n",
    " * Use `map` and `filter` and `reduceByKey` with `lambda` functions find min/max values and to count frequencies in one column\n",
    " * Use the `Statistics` module to compute count, mean, min/max (don't forget to import it and numpy)\n",
    " \n",
    "It's your choice.\n",
    "\n",
    "**Answer**"
   ]
  },
  {
   "cell_type": "markdown",
   "metadata": {},
   "source": [
    "```\n",
    "Let's so the calculation to the Post column.\n",
    "```"
   ]
  },
  {
   "cell_type": "markdown",
   "metadata": {},
   "source": [
    "* First let's try the old method using csvcut."
   ]
  },
  {
   "cell_type": "code",
   "execution_count": 27,
   "metadata": {},
   "outputs": [
    {
     "name": "stdout",
     "output_type": "stream",
     "text": [
      "  1. Post\r\n",
      "\t<class 'str'>\r\n",
      "\tNulls: False\r\n",
      "\tUnique values: 181\r\n",
      "\t5 most frequent values:\r\n",
      "\t\t111:\t9326\r\n",
      "\t\t212:\t4759\r\n",
      "\t\t913:\t4636\r\n",
      "\t\t922:\t4594\r\n",
      "\t\t432:\t4377\r\n",
      "\tMax length: 7\r\n",
      "\r\n",
      "Row count: 282749\r\n"
     ]
    }
   ],
   "source": [
    "!csvcut -c 7 crimenew.csv | csvstat"
   ]
  },
  {
   "cell_type": "markdown",
   "metadata": {},
   "source": [
    "* New way to do it."
   ]
  },
  {
   "cell_type": "code",
   "execution_count": 28,
   "metadata": {},
   "outputs": [
    {
     "data": {
      "text/plain": [
       "['\"622\"', '\"822\"', '\"111\"', '\"111\"', '\"123\"']"
      ]
     },
     "execution_count": 28,
     "metadata": {},
     "output_type": "execute_result"
    }
   ],
   "source": [
    "data_post = data.filter(lambda  row: row != header) \\\n",
    "                .map(lambda row: row.split(\",\")) \\\n",
    "                .map(lambda  row: row[6]) \\\n",
    "                .filter(lambda  row: row != '\"unknown\"')\n",
    "data_post.take(5)"
   ]
  },
  {
   "cell_type": "code",
   "execution_count": 29,
   "metadata": {},
   "outputs": [
    {
     "data": {
      "text/plain": [
       "'\"999\"'"
      ]
     },
     "execution_count": 29,
     "metadata": {},
     "output_type": "execute_result"
    }
   ],
   "source": [
    "data_post.max()"
   ]
  },
  {
   "cell_type": "code",
   "execution_count": 30,
   "metadata": {},
   "outputs": [
    {
     "data": {
      "text/plain": [
       "'\"111\"'"
      ]
     },
     "execution_count": 30,
     "metadata": {},
     "output_type": "execute_result"
    }
   ],
   "source": [
    "data_post.min()"
   ]
  },
  {
   "cell_type": "code",
   "execution_count": 31,
   "metadata": {},
   "outputs": [
    {
     "name": "stdout",
     "output_type": "stream",
     "text": [
      "('\"111\"', 9326) ('\"216\"', 1)\n"
     ]
    }
   ],
   "source": [
    "from operator import add\n",
    "frequency = data.filter(lambda row: row != header) \\\n",
    "                .map(lambda row: row.split(\",\")) \\\n",
    "                .map(lambda cols: (cols[6], 1)) \\\n",
    "                .filter(lambda  row: row[0] != '\"unknown\"') \\\n",
    "                .reduceByKey(add) \\\n",
    "                .takeOrdered(1000,key=lambda pair: -pair[1])\n",
    "print(frequency[0],frequency[-1])"
   ]
  },
  {
   "cell_type": "markdown",
   "metadata": {},
   "source": [
    "### Q2.5 - Evaluate\n",
    "\n",
    "How did it go?  Did it work as you expected?  Did you run into any issues?\n",
    "\n",
    "What do you like about using Spark?  Or do you dislike it?\n",
    "\n",
    "**Answer**"
   ]
  },
  {
   "cell_type": "markdown",
   "metadata": {},
   "source": [
    "Write your answer here.\n",
    "\n",
    "```\n",
    "Undoubtedly, I like spark.\n",
    "Although I met some troubles, but all the troubles are solved.\n",
    "And now Spark works well without errors. \n",
    "```"
   ]
  },
  {
   "cell_type": "markdown",
   "metadata": {},
   "source": [
    "* Let's see the time needed using old methods(csvkit)."
   ]
  },
  {
   "cell_type": "code",
   "execution_count": 32,
   "metadata": {},
   "outputs": [
    {
     "name": "stdout",
     "output_type": "stream",
     "text": [
      "  1. Post\n",
      "\t<class 'str'>\n",
      "\tNulls: False\n",
      "\tUnique values: 181\n",
      "\t5 most frequent values:\n",
      "\t\t111:\t9326\n",
      "\t\t212:\t4759\n",
      "\t\t913:\t4636\n",
      "\t\t922:\t4594\n",
      "\t\t432:\t4377\n",
      "\tMax length: 7\n",
      "\n",
      "Row count: 282749\n",
      "CPU times: user 336 ms, sys: 48 ms, total: 384 ms\n",
      "Wall time: 27.9 s\n"
     ]
    }
   ],
   "source": [
    "%time !csvcut -c 7 crimenew.csv | csvstat"
   ]
  },
  {
   "cell_type": "markdown",
   "metadata": {
    "collapsed": true
   },
   "source": [
    "* Let's see the time needed using spark."
   ]
  },
  {
   "cell_type": "code",
   "execution_count": 33,
   "metadata": {},
   "outputs": [
    {
     "name": "stdout",
     "output_type": "stream",
     "text": [
      "CPU times: user 12 ms, sys: 0 ns, total: 12 ms\n",
      "Wall time: 1.51 s\n"
     ]
    },
    {
     "data": {
      "text/plain": [
       "[]"
      ]
     },
     "execution_count": 33,
     "metadata": {},
     "output_type": "execute_result"
    }
   ],
   "source": [
    "from operator import add\n",
    "%time data.filter(lambda row: row != header) \\\n",
    "            .map(lambda row: row.split(\",\")) \\\n",
    "            .map(lambda cols: (cols[6], 1)) \\\n",
    "            .filter(lambda  row: row[0] != '\"unknown\"') \\\n",
    "            .reduceByKey(add) \\\n",
    "            .takeOrdered(0,key=lambda pair: -pair[1])"
   ]
  },
  {
   "cell_type": "markdown",
   "metadata": {},
   "source": [
    "```\n",
    "28 seconds verses 1.5 seconds!\n",
    "It's a huge difference!\n",
    "No one likes to wait for the commands to execute. A faster way is what I was looking for!\n",
    "```"
   ]
  }
 ],
 "metadata": {
  "kernelspec": {
   "display_name": "Python 3",
   "language": "python",
   "name": "python3"
  },
  "language_info": {
   "codemirror_mode": {
    "name": "ipython",
    "version": 3
   },
   "file_extension": ".py",
   "mimetype": "text/x-python",
   "name": "python",
   "nbconvert_exporter": "python",
   "pygments_lexer": "ipython3",
   "version": "3.5.3"
  }
 },
 "nbformat": 4,
 "nbformat_minor": 2
}
