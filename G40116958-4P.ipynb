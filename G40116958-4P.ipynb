{
 "cells": [
  {
   "cell_type": "code",
   "execution_count": 1,
   "metadata": {
    "collapsed": true
   },
   "outputs": [],
   "source": [
    "from matplotlib import pyplot as plt\n",
    "%matplotlib inline"
   ]
  },
  {
   "cell_type": "code",
   "execution_count": 2,
   "metadata": {
    "collapsed": true
   },
   "outputs": [],
   "source": [
    "import pandas as pd"
   ]
  },
  {
   "cell_type": "code",
   "execution_count": 3,
   "metadata": {
    "collapsed": false
   },
   "outputs": [],
   "source": [
    "mydf=pd.read_csv(\"Cigar.csv\",header=0,index_col=0)"
   ]
  },
  {
   "cell_type": "code",
   "execution_count": 4,
   "metadata": {
    "collapsed": false
   },
   "outputs": [
    {
     "data": {
      "text/html": [
       "<div>\n",
       "<table border=\"1\" class=\"dataframe\">\n",
       "  <thead>\n",
       "    <tr style=\"text-align: right;\">\n",
       "      <th></th>\n",
       "      <th>state</th>\n",
       "      <th>year</th>\n",
       "      <th>price</th>\n",
       "      <th>pop</th>\n",
       "      <th>pop16</th>\n",
       "      <th>cpi</th>\n",
       "      <th>ndi</th>\n",
       "      <th>sales</th>\n",
       "      <th>pimin</th>\n",
       "    </tr>\n",
       "  </thead>\n",
       "  <tbody>\n",
       "    <tr>\n",
       "      <th>1</th>\n",
       "      <td>1</td>\n",
       "      <td>63</td>\n",
       "      <td>28.6</td>\n",
       "      <td>3383.0</td>\n",
       "      <td>2236.5</td>\n",
       "      <td>30.6</td>\n",
       "      <td>1558.304530</td>\n",
       "      <td>93.9</td>\n",
       "      <td>26.1</td>\n",
       "    </tr>\n",
       "    <tr>\n",
       "      <th>2</th>\n",
       "      <td>1</td>\n",
       "      <td>64</td>\n",
       "      <td>29.8</td>\n",
       "      <td>3431.0</td>\n",
       "      <td>2276.7</td>\n",
       "      <td>31.0</td>\n",
       "      <td>1684.073203</td>\n",
       "      <td>95.4</td>\n",
       "      <td>27.5</td>\n",
       "    </tr>\n",
       "    <tr>\n",
       "      <th>3</th>\n",
       "      <td>1</td>\n",
       "      <td>65</td>\n",
       "      <td>29.8</td>\n",
       "      <td>3486.0</td>\n",
       "      <td>2327.5</td>\n",
       "      <td>31.5</td>\n",
       "      <td>1809.841875</td>\n",
       "      <td>98.5</td>\n",
       "      <td>28.9</td>\n",
       "    </tr>\n",
       "  </tbody>\n",
       "</table>\n",
       "</div>"
      ],
      "text/plain": [
       "   state  year  price     pop   pop16   cpi          ndi  sales  pimin\n",
       "1      1    63   28.6  3383.0  2236.5  30.6  1558.304530   93.9   26.1\n",
       "2      1    64   29.8  3431.0  2276.7  31.0  1684.073203   95.4   27.5\n",
       "3      1    65   29.8  3486.0  2327.5  31.5  1809.841875   98.5   28.9"
      ]
     },
     "execution_count": 4,
     "metadata": {},
     "output_type": "execute_result"
    }
   ],
   "source": [
    "mydf.head(3)"
   ]
  },
  {
   "cell_type": "code",
   "execution_count": 5,
   "metadata": {
    "collapsed": false
   },
   "outputs": [],
   "source": [
    "mydf=mydf.dropna()"
   ]
  },
  {
   "cell_type": "code",
   "execution_count": 6,
   "metadata": {
    "collapsed": false,
    "scrolled": true
   },
   "outputs": [
    {
     "data": {
      "text/plain": [
       "state\n",
       "18    54.593333\n",
       "47    57.856667\n",
       "41    59.660000\n",
       "15    61.463333\n",
       "51    61.863333\n",
       "26    63.553333\n",
       "21    63.660000\n",
       "30    64.183333\n",
       "36    65.450000\n",
       "11    65.853333\n",
       "13    66.073333\n",
       "27    66.466667\n",
       "43    66.486667\n",
       "3     67.453333\n",
       "42    67.470000\n",
       "25    67.733333\n",
       "17    67.816667\n",
       "46    68.150000\n",
       "9     68.240000\n",
       "32    68.450000\n",
       "45    68.533333\n",
       "35    68.546667\n",
       "28    68.640000\n",
       "23    69.006667\n",
       "49    69.073333\n",
       "1     69.146667\n",
       "37    69.153333\n",
       "19    69.263333\n",
       "8     69.300000\n",
       "4     69.426667\n",
       "39    69.706667\n",
       "14    69.760000\n",
       "16    70.653333\n",
       "40    71.346667\n",
       "20    71.410000\n",
       "5     71.486667\n",
       "50    72.373333\n",
       "44    73.416667\n",
       "29    73.656667\n",
       "33    75.013333\n",
       "22    75.050000\n",
       "24    75.303333\n",
       "31    75.806667\n",
       "10    75.916667\n",
       "48    78.276667\n",
       "7     78.453333\n",
       "Name: price, dtype: float64"
      ]
     },
     "execution_count": 6,
     "metadata": {},
     "output_type": "execute_result"
    }
   ],
   "source": [
    "mydf.groupby(\"state\")[\"price\"].mean().sort_values()"
   ]
  },
  {
   "cell_type": "markdown",
   "metadata": {},
   "source": [
    "So the highest 5 are state 7,48,10,31,24"
   ]
  },
  {
   "cell_type": "code",
   "execution_count": 7,
   "metadata": {
    "collapsed": false
   },
   "outputs": [
    {
     "data": {
      "text/plain": [
       "array([  28.6,   29.8,   29.8, ...,  129.5,  127. ,  155.1])"
      ]
     },
     "execution_count": 7,
     "metadata": {},
     "output_type": "execute_result"
    }
   ],
   "source": [
    "import numpy as np\n",
    "np.array(mydf[\"price\"])"
   ]
  },
  {
   "cell_type": "code",
   "execution_count": 8,
   "metadata": {
    "collapsed": false
   },
   "outputs": [
    {
     "data": {
      "text/plain": [
       "{'boxes': [<matplotlib.lines.Line2D at 0xa289908>],\n",
       " 'caps': [<matplotlib.lines.Line2D at 0xa293cf8>,\n",
       "  <matplotlib.lines.Line2D at 0xa2a2be0>],\n",
       " 'fliers': [<matplotlib.lines.Line2D at 0xa2a6c50>],\n",
       " 'means': [],\n",
       " 'medians': [<matplotlib.lines.Line2D at 0xa2a2d68>],\n",
       " 'whiskers': [<matplotlib.lines.Line2D at 0xa289ba8>,\n",
       "  <matplotlib.lines.Line2D at 0xa293b70>]}"
      ]
     },
     "execution_count": 8,
     "metadata": {},
     "output_type": "execute_result"
    },
    {
     "data": {
      "image/png": "[encoded data removed]",
      "text/plain": [
       "<matplotlib.figure.Figure at 0xa0c9f98>"
      ]
     },
     "metadata": {},
     "output_type": "display_data"
    }
   ],
   "source": [
    "plt.boxplot(np.array(mydf[\"price\"]))"
   ]
  },
  {
   "cell_type": "code",
   "execution_count": 9,
   "metadata": {
    "collapsed": false,
    "scrolled": false
   },
   "outputs": [
    {
     "data": {
      "text/plain": [
       "<matplotlib.axes._subplots.AxesSubplot at 0xa0c90f0>"
      ]
     },
     "execution_count": 9,
     "metadata": {},
     "output_type": "execute_result"
    },
    {
     "data": {
      "image/png": "[encoded data removed]",
      "text/plain": [
       "<matplotlib.figure.Figure at 0xa113cf8>"
      ]
     },
     "metadata": {},
     "output_type": "display_data"
    }
   ],
   "source": [
    "mydf[mydf.state.isin([7,48,10,31,24])].boxplot(column=\"price\",by=\"state\")"
   ]
  }
 ],
 "metadata": {
  "anaconda-cloud": {},
  "kernelspec": {
   "display_name": "Python [default]",
   "language": "python",
   "name": "python3"
  },
  "language_info": {
   "codemirror_mode": {
    "name": "ipython",
    "version": 3
   },
   "file_extension": ".py",
   "mimetype": "text/x-python",
   "name": "python",
   "nbconvert_exporter": "python",
   "pygments_lexer": "ipython3",
   "version": "3.5.2"
  }
 },
 "nbformat": 4,
 "nbformat_minor": 1
}
