{
 "cells": [
  {
   "cell_type": "markdown",
   "metadata": {},
   "source": [
    "### Prepare book data"
   ]
  },
  {
   "cell_type": "code",
   "execution_count": 1,
   "metadata": {
    "collapsed": true
   },
   "outputs": [],
   "source": [
    "book = {}\n",
    "book['title'] = 'Light Science and Magic: An Introduction to Photographic Lighting'\n",
    "book['page_link'] = 'http://www.amazon.com/Fil-Hunter/e/B001ITTV7A'\n",
    "book['comment_link'] = None\n",
    "book['id'] = 'AA1C429ZZH31'\n",
    "book['tags'] = ('Photography', 'Kindle', 'Light')\n",
    "book['published'] = True"
   ]
  },
  {
   "cell_type": "markdown",
   "metadata": {},
   "source": [
    "### Do pickling"
   ]
  },
  {
   "cell_type": "code",
   "execution_count": 3,
   "metadata": {
    "collapsed": false
   },
   "outputs": [],
   "source": [
    "import pickle\n",
    "fn = 'book.pickle'\n",
    "with open(fn, 'wb') as fh:\n",
    "    pickle.dump(book, fh)"
   ]
  },
  {
   "cell_type": "code",
   "execution_count": 5,
   "metadata": {
    "collapsed": false
   },
   "outputs": [
    {
     "name": "stderr",
     "output_type": "stream",
     "text": [
      "'cat' is not recognized as an internal or external command,\n",
      "operable program or batch file.\n"
     ]
    }
   ],
   "source": [
    "!cat 'book.pickle'"
   ]
  },
  {
   "cell_type": "markdown",
   "metadata": {},
   "source": [
    "### Do unpickling"
   ]
  },
  {
   "cell_type": "code",
   "execution_count": 6,
   "metadata": {
    "collapsed": true
   },
   "outputs": [],
   "source": [
    "import pickle\n",
    "fn = '/home/drk/kanungo/DNSC6211/week09/Code and notebooks/serialization and jason/book.pickle'\n",
    "with open('book.pickle', 'rb') as f:\n",
    "    b = pickle.load(f)"
   ]
  },
  {
   "cell_type": "code",
   "execution_count": 7,
   "metadata": {
    "collapsed": false
   },
   "outputs": [
    {
     "data": {
      "text/plain": [
       "dict"
      ]
     },
     "execution_count": 7,
     "metadata": {},
     "output_type": "execute_result"
    }
   ],
   "source": [
    "type(b)"
   ]
  },
  {
   "cell_type": "code",
   "execution_count": 8,
   "metadata": {
    "collapsed": true
   },
   "outputs": [],
   "source": [
    "import json"
   ]
  },
  {
   "cell_type": "code",
   "execution_count": 9,
   "metadata": {
    "collapsed": false
   },
   "outputs": [
    {
     "name": "stdout",
     "output_type": "stream",
     "text": [
      "{\n",
      "    \"comment_link\": null,\n",
      "    \"page_link\": \"http://www.amazon.com/Fil-Hunter/e/B001ITTV7A\",\n",
      "    \"published\": true,\n",
      "    \"tags\": [\n",
      "        \"Photography\",\n",
      "        \"Kindle\",\n",
      "        \"Light\"\n",
      "    ],\n",
      "    \"id\": \"AA1C429ZZH31\",\n",
      "    \"title\": \"Light Science and Magic: An Introduction to Photographic Lighting\"\n",
      "}\n"
     ]
    }
   ],
   "source": [
    "print(json.dumps(b, indent = 4))"
   ]
  },
  {
   "cell_type": "code",
   "execution_count": null,
   "metadata": {
    "collapsed": true
   },
   "outputs": [],
   "source": []
  }
 ],
 "metadata": {
  "anaconda-cloud": {},
  "kernelspec": {
   "display_name": "Python [default]",
   "language": "python",
   "name": "python3"
  },
  "language_info": {
   "codemirror_mode": {
    "name": "ipython",
    "version": 3
   },
   "file_extension": ".py",
   "mimetype": "text/x-python",
   "name": "python",
   "nbconvert_exporter": "python",
   "pygments_lexer": "ipython3",
   "version": "3.5.2"
  }
 },
 "nbformat": 4,
 "nbformat_minor": 1
}
