{
 "cells": [
  {
   "cell_type": "markdown",
   "metadata": {},
   "source": [
    "### Prepare the data"
   ]
  },
  {
   "cell_type": "code",
   "execution_count": 1,
   "metadata": {
    "collapsed": true
   },
   "outputs": [],
   "source": [
    "student = {}\n",
    "\n",
    "student['tom'] = {\n",
    "    'major': 'MSBA',\n",
    "    'courses': {\n",
    "        'core': {'DNSC6255':'A', 'DNSC6210':'A', 'DNSC6219':'B+',\n",
    "                 'DNSC6224':'A-', 'DNSC6203':'B-'       \n",
    "        },\n",
    "        'elective': {'DNSC6245':'A-', 'DNSC6992':'B'    \n",
    "        }\n",
    "    }\n",
    "}\n",
    "\n",
    "student['dick'] = {\n",
    "    'major': 'MBA',\n",
    "    'courses': {\n",
    "        'core': {'MBAD6201':'A', 'MBAD6202':'A', 'MBAD66205':'C',\n",
    "                 'MBAD6224':'B', 'MBAD6254':'B'       \n",
    "        },\n",
    "        'elective': {'DNSC6210':'A-', 'MBAD6345':'B'    \n",
    "        }\n",
    "    }\n",
    "}\n",
    "\n",
    "student['harry'] = {\n",
    "    'major': 'MSBA',\n",
    "    'courses': {\n",
    "        'core': {'DNSC6255':'A', 'DNSC6210':'A', 'DNSC6219':'B+',\n",
    "                 'DNSC6224':'A-'       \n",
    "        },\n",
    "        'elective': {'DNSC6245':'A-'    \n",
    "        }\n",
    "    }\n",
    "}"
   ]
  },
  {
   "cell_type": "code",
   "execution_count": 2,
   "metadata": {
    "collapsed": false
   },
   "outputs": [
    {
     "data": {
      "text/plain": [
       "dict"
      ]
     },
     "execution_count": 2,
     "metadata": {},
     "output_type": "execute_result"
    }
   ],
   "source": [
    "type(student)"
   ]
  },
  {
   "cell_type": "code",
   "execution_count": 3,
   "metadata": {
    "collapsed": true
   },
   "outputs": [],
   "source": [
    "import json"
   ]
  },
  {
   "cell_type": "code",
   "execution_count": 4,
   "metadata": {
    "collapsed": false
   },
   "outputs": [
    {
     "data": {
      "text/plain": [
       "'{\"harry\": {\"courses\": {\"elective\": {\"DNSC6245\": \"A-\"}, \"core\": {\"DNSC6219\": \"B+\", \"DNSC6224\": \"A-\", \"DNSC6255\": \"A\", \"DNSC6210\": \"A\"}}, \"major\": \"MSBA\"}, \"dick\": {\"courses\": {\"elective\": {\"DNSC6210\": \"A-\", \"MBAD6345\": \"B\"}, \"core\": {\"MBAD6254\": \"B\", \"MBAD6201\": \"A\", \"MBAD6224\": \"B\", \"MBAD66205\": \"C\", \"MBAD6202\": \"A\"}}, \"major\": \"MBA\"}, \"tom\": {\"courses\": {\"elective\": {\"DNSC6992\": \"B\", \"DNSC6245\": \"A-\"}, \"core\": {\"DNSC6219\": \"B+\", \"DNSC6224\": \"A-\", \"DNSC6255\": \"A\", \"DNSC6210\": \"A\", \"DNSC6203\": \"B-\"}}, \"major\": \"MSBA\"}}'"
      ]
     },
     "execution_count": 4,
     "metadata": {},
     "output_type": "execute_result"
    }
   ],
   "source": [
    "json.dumps(student)"
   ]
  },
  {
   "cell_type": "code",
   "execution_count": 5,
   "metadata": {
    "collapsed": true
   },
   "outputs": [],
   "source": [
    "s = json.dumps(student)"
   ]
  },
  {
   "cell_type": "code",
   "execution_count": 6,
   "metadata": {
    "collapsed": false
   },
   "outputs": [
    {
     "data": {
      "text/plain": [
       "str"
      ]
     },
     "execution_count": 6,
     "metadata": {},
     "output_type": "execute_result"
    }
   ],
   "source": [
    "type(s)"
   ]
  },
  {
   "cell_type": "code",
   "execution_count": 1,
   "metadata": {
    "collapsed": false
   },
   "outputs": [
    {
     "name": "stdout",
     "output_type": "stream",
     "text": [
      "Help on function dump in module json:\n",
      "\n",
      "dump(obj, fp, skipkeys=False, ensure_ascii=True, check_circular=True, allow_nan=True, cls=None, indent=None, separators=None, default=None, sort_keys=False, **kw)\n",
      "    Serialize ``obj`` as a JSON formatted stream to ``fp`` (a\n",
      "    ``.write()``-supporting file-like object).\n",
      "    \n",
      "    If ``skipkeys`` is true then ``dict`` keys that are not basic types\n",
      "    (``str``, ``int``, ``float``, ``bool``, ``None``) will be skipped\n",
      "    instead of raising a ``TypeError``.\n",
      "    \n",
      "    If ``ensure_ascii`` is false, then the strings written to ``fp`` can\n",
      "    contain non-ASCII characters if they appear in strings contained in\n",
      "    ``obj``. Otherwise, all such characters are escaped in JSON strings.\n",
      "    \n",
      "    If ``check_circular`` is false, then the circular reference check\n",
      "    for container types will be skipped and a circular reference will\n",
      "    result in an ``OverflowError`` (or worse).\n",
      "    \n",
      "    If ``allow_nan`` is false, then it will be a ``ValueError`` to\n",
      "    serialize out of range ``float`` values (``nan``, ``inf``, ``-inf``)\n",
      "    in strict compliance of the JSON specification, instead of using the\n",
      "    JavaScript equivalents (``NaN``, ``Infinity``, ``-Infinity``).\n",
      "    \n",
      "    If ``indent`` is a non-negative integer, then JSON array elements and\n",
      "    object members will be pretty-printed with that indent level. An indent\n",
      "    level of 0 will only insert newlines. ``None`` is the most compact\n",
      "    representation.\n",
      "    \n",
      "    If specified, ``separators`` should be an ``(item_separator, key_separator)``\n",
      "    tuple.  The default is ``(', ', ': ')`` if *indent* is ``None`` and\n",
      "    ``(',', ': ')`` otherwise.  To get the most compact JSON representation,\n",
      "    you should specify ``(',', ':')`` to eliminate whitespace.\n",
      "    \n",
      "    ``default(obj)`` is a function that should return a serializable version\n",
      "    of obj or raise TypeError. The default simply raises TypeError.\n",
      "    \n",
      "    If *sort_keys* is ``True`` (default: ``False``), then the output of\n",
      "    dictionaries will be sorted by key.\n",
      "    \n",
      "    To use a custom ``JSONEncoder`` subclass (e.g. one that overrides the\n",
      "    ``.default()`` method to serialize additional types), specify it with\n",
      "    the ``cls`` kwarg; otherwise ``JSONEncoder`` is used.\n",
      "\n"
     ]
    }
   ],
   "source": [
    "import json\n",
    "help(json.dump)"
   ]
  },
  {
   "cell_type": "markdown",
   "metadata": {},
   "source": [
    "### Write the data"
   ]
  },
  {
   "cell_type": "code",
   "execution_count": 7,
   "metadata": {
    "collapsed": true
   },
   "outputs": [],
   "source": [
    "fn = 'student.json'\n",
    "with open(fn, 'w') as fh:\n",
    "    fh.write(s)"
   ]
  },
  {
   "cell_type": "code",
   "execution_count": 8,
   "metadata": {
    "collapsed": true
   },
   "outputs": [],
   "source": [
    "# An alternate (and shorter) way to do this would be ...\n",
    "fn = 'student.json'\n",
    "with open(fn, 'w') as fh:\n",
    "    json.dump(student, fh)"
   ]
  },
  {
   "cell_type": "code",
   "execution_count": 9,
   "metadata": {
    "collapsed": false
   },
   "outputs": [
    {
     "name": "stderr",
     "output_type": "stream",
     "text": [
      "'gedit' is not recognized as an internal or external command,\n",
      "operable program or batch file.\n"
     ]
    }
   ],
   "source": [
    "# Make sure you have the correct file name here!\n",
    "!gedit \"student.json\""
   ]
  },
  {
   "cell_type": "markdown",
   "metadata": {},
   "source": [
    "### Now to read the JSON file"
   ]
  },
  {
   "cell_type": "code",
   "execution_count": 10,
   "metadata": {
    "collapsed": true
   },
   "outputs": [],
   "source": [
    "fn = 'student.json'\n",
    "with open(fn, 'r') as fh:\n",
    "    myS = fh.read()"
   ]
  },
  {
   "cell_type": "code",
   "execution_count": 11,
   "metadata": {
    "collapsed": false
   },
   "outputs": [
    {
     "data": {
      "text/plain": [
       "{'dick': {'courses': {'core': {'MBAD6201': 'A',\n",
       "    'MBAD6202': 'A',\n",
       "    'MBAD6224': 'B',\n",
       "    'MBAD6254': 'B',\n",
       "    'MBAD66205': 'C'},\n",
       "   'elective': {'DNSC6210': 'A-', 'MBAD6345': 'B'}},\n",
       "  'major': 'MBA'},\n",
       " 'harry': {'courses': {'core': {'DNSC6210': 'A',\n",
       "    'DNSC6219': 'B+',\n",
       "    'DNSC6224': 'A-',\n",
       "    'DNSC6255': 'A'},\n",
       "   'elective': {'DNSC6245': 'A-'}},\n",
       "  'major': 'MSBA'},\n",
       " 'tom': {'courses': {'core': {'DNSC6203': 'B-',\n",
       "    'DNSC6210': 'A',\n",
       "    'DNSC6219': 'B+',\n",
       "    'DNSC6224': 'A-',\n",
       "    'DNSC6255': 'A'},\n",
       "   'elective': {'DNSC6245': 'A-', 'DNSC6992': 'B'}},\n",
       "  'major': 'MSBA'}}"
      ]
     },
     "execution_count": 11,
     "metadata": {},
     "output_type": "execute_result"
    }
   ],
   "source": [
    "json.loads(myS)"
   ]
  },
  {
   "cell_type": "code",
   "execution_count": 12,
   "metadata": {
    "collapsed": false
   },
   "outputs": [
    {
     "data": {
      "text/plain": [
       "str"
      ]
     },
     "execution_count": 12,
     "metadata": {},
     "output_type": "execute_result"
    }
   ],
   "source": [
    "type(myS)"
   ]
  },
  {
   "cell_type": "code",
   "execution_count": 13,
   "metadata": {
    "collapsed": true
   },
   "outputs": [],
   "source": [
    "myData = json.loads(myS)"
   ]
  },
  {
   "cell_type": "code",
   "execution_count": 14,
   "metadata": {
    "collapsed": false
   },
   "outputs": [
    {
     "data": {
      "text/plain": [
       "dict"
      ]
     },
     "execution_count": 14,
     "metadata": {},
     "output_type": "execute_result"
    }
   ],
   "source": [
    "type(myData)"
   ]
  },
  {
   "cell_type": "code",
   "execution_count": 15,
   "metadata": {
    "collapsed": false
   },
   "outputs": [],
   "source": [
    "# Alternative method\n",
    "fn = 'student.json'\n",
    "with open(fn, 'r') as fh:\n",
    "    myStuData = json.load(fh)"
   ]
  },
  {
   "cell_type": "code",
   "execution_count": 16,
   "metadata": {
    "collapsed": false,
    "scrolled": true
   },
   "outputs": [
    {
     "name": "stdout",
     "output_type": "stream",
     "text": [
      "Help on function dumps in module json:\n",
      "\n",
      "dumps(obj, skipkeys=False, ensure_ascii=True, check_circular=True, allow_nan=True, cls=None, indent=None, separators=None, default=None, sort_keys=False, **kw)\n",
      "    Serialize ``obj`` to a JSON formatted ``str``.\n",
      "    \n",
      "    If ``skipkeys`` is true then ``dict`` keys that are not basic types\n",
      "    (``str``, ``int``, ``float``, ``bool``, ``None``) will be skipped\n",
      "    instead of raising a ``TypeError``.\n",
      "    \n",
      "    If ``ensure_ascii`` is false, then the return value can contain non-ASCII\n",
      "    characters if they appear in strings contained in ``obj``. Otherwise, all\n",
      "    such characters are escaped in JSON strings.\n",
      "    \n",
      "    If ``check_circular`` is false, then the circular reference check\n",
      "    for container types will be skipped and a circular reference will\n",
      "    result in an ``OverflowError`` (or worse).\n",
      "    \n",
      "    If ``allow_nan`` is false, then it will be a ``ValueError`` to\n",
      "    serialize out of range ``float`` values (``nan``, ``inf``, ``-inf``) in\n",
      "    strict compliance of the JSON specification, instead of using the\n",
      "    JavaScript equivalents (``NaN``, ``Infinity``, ``-Infinity``).\n",
      "    \n",
      "    If ``indent`` is a non-negative integer, then JSON array elements and\n",
      "    object members will be pretty-printed with that indent level. An indent\n",
      "    level of 0 will only insert newlines. ``None`` is the most compact\n",
      "    representation.\n",
      "    \n",
      "    If specified, ``separators`` should be an ``(item_separator, key_separator)``\n",
      "    tuple.  The default is ``(', ', ': ')`` if *indent* is ``None`` and\n",
      "    ``(',', ': ')`` otherwise.  To get the most compact JSON representation,\n",
      "    you should specify ``(',', ':')`` to eliminate whitespace.\n",
      "    \n",
      "    ``default(obj)`` is a function that should return a serializable version\n",
      "    of obj or raise TypeError. The default simply raises TypeError.\n",
      "    \n",
      "    If *sort_keys* is ``True`` (default: ``False``), then the output of\n",
      "    dictionaries will be sorted by key.\n",
      "    \n",
      "    To use a custom ``JSONEncoder`` subclass (e.g. one that overrides the\n",
      "    ``.default()`` method to serialize additional types), specify it with\n",
      "    the ``cls`` kwarg; otherwise ``JSONEncoder`` is used.\n",
      "\n"
     ]
    }
   ],
   "source": [
    "import json\n",
    "help(json.dumps)"
   ]
  },
  {
   "cell_type": "code",
   "execution_count": 23,
   "metadata": {
    "collapsed": false,
    "scrolled": true
   },
   "outputs": [
    {
     "name": "stdout",
     "output_type": "stream",
     "text": [
      "{\n",
      "    \"dick\": {\n",
      "        \"courses\": {\n",
      "            \"core\": {\n",
      "                \"MBAD6201\": \"A\",\n",
      "                \"MBAD6202\": \"A\",\n",
      "                \"MBAD6224\": \"B\",\n",
      "                \"MBAD6254\": \"B\",\n",
      "                \"MBAD66205\": \"C\"\n",
      "            },\n",
      "            \"elective\": {\n",
      "                \"DNSC6210\": \"A-\",\n",
      "                \"MBAD6345\": \"B\"\n",
      "            }\n",
      "        },\n",
      "        \"major\": \"MBA\"\n",
      "    },\n",
      "    \"harry\": {\n",
      "        \"courses\": {\n",
      "            \"core\": {\n",
      "                \"DNSC6210\": \"A\",\n",
      "                \"DNSC6219\": \"B+\",\n",
      "                \"DNSC6224\": \"A-\",\n",
      "                \"DNSC6255\": \"A\"\n",
      "            },\n",
      "            \"elective\": {\n",
      "                \"DNSC6245\": \"A-\"\n",
      "            }\n",
      "        },\n",
      "        \"major\": \"MSBA\"\n",
      "    },\n",
      "    \"tom\": {\n",
      "        \"courses\": {\n",
      "            \"core\": {\n",
      "                \"DNSC6203\": \"B-\",\n",
      "                \"DNSC6210\": \"A\",\n",
      "                \"DNSC6219\": \"B+\",\n",
      "                \"DNSC6224\": \"A-\",\n",
      "                \"DNSC6255\": \"A\"\n",
      "            },\n",
      "            \"elective\": {\n",
      "                \"DNSC6245\": \"A-\",\n",
      "                \"DNSC6992\": \"B\"\n",
      "            }\n",
      "        },\n",
      "        \"major\": \"MSBA\"\n",
      "    }\n",
      "}\n"
     ]
    }
   ],
   "source": [
    "print (json.dumps(myStuData, indent = 4, separators=(',', ': ') ,sort_keys=True))"
   ]
  },
  {
   "cell_type": "code",
   "execution_count": null,
   "metadata": {
    "collapsed": true
   },
   "outputs": [],
   "source": []
  },
  {
   "cell_type": "code",
   "execution_count": null,
   "metadata": {
    "collapsed": true
   },
   "outputs": [],
   "source": []
  },
  {
   "cell_type": "code",
   "execution_count": null,
   "metadata": {
    "collapsed": true
   },
   "outputs": [],
   "source": []
  },
  {
   "cell_type": "code",
   "execution_count": null,
   "metadata": {
    "collapsed": true
   },
   "outputs": [],
   "source": []
  }
 ],
 "metadata": {
  "anaconda-cloud": {},
  "kernelspec": {
   "display_name": "Python [default]",
   "language": "python",
   "name": "python3"
  },
  "language_info": {
   "codemirror_mode": {
    "name": "ipython",
    "version": 3
   },
   "file_extension": ".py",
   "mimetype": "text/x-python",
   "name": "python",
   "nbconvert_exporter": "python",
   "pygments_lexer": "ipython3",
   "version": "3.5.2"
  }
 },
 "nbformat": 4,
 "nbformat_minor": 1
}
