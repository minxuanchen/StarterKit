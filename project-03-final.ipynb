{
 "cells": [
  {
   "cell_type": "markdown",
   "metadata": {},
   "source": [
    "# Project 03 - Due Monday, November 13 at 12pm\n",
    "\n",
    "*Objectives*: Use Spark to process and perform basic analysis on non-relational data, including its DataFrame and SQL interfaces.\n",
    "\n",
    "*Grading criteria*: The tasks should all be completed, and questions should all be answered with Python code, SQL queries, shell commands, and markdown cells.  The notebook itself should be completely reproducible (using AWS EC2 instance based on the provided AMI) from start to finish; another person should be able to use the code to obtain the same results as yours.  Note that you will receive no more than partial credit if you do not add text/markdown cells explaining your thinking when appropriate.\n",
    "\n",
    "*Attestation*: **Work in groups**.  At the end of your submitted notebook, identify the work each partner performed and attest that each contributed substantially to the work.\n",
    "\n",
    "*Deadline*: Monday, November 13, 12pm.  One member of each group must submit your notebook to Blackboard; you should not submit it separately."
   ]
  },
  {
   "cell_type": "markdown",
   "metadata": {},
   "source": [
    "## Part 1 - Setup\n",
    "\n",
    "Begin by setting up Spark and fetching the project data.  \n",
    "\n",
    "**Note**: you may want to use a larger EC2 instance type than normal.  This project was prepared using a `t2.xlarge` instance.  Just remember that the larger the instance, the higher the per-hour charge, so be sure to remember to shut your instance down when you're done, as always.\n",
    "\n",
    "### About the data\n",
    "\n",
    "We will use JSON data from Twitter; we saw an example of this in class.  It should parse cleanly, allowing you to focus on analysis.\n",
    "\n",
    "This data was gathered using GWU Libraries' [Social Feed Manager](http://sfm.library.gwu.edu/) application during a recent game of the MLB World Series featuring the Los Angeles Dodgers and Houston Astros.  This first file tells you a little bit about how it was gathered:"
   ]
  },
  {
   "cell_type": "code",
   "execution_count": 1,
   "metadata": {
    "collapsed": false
   },
   "outputs": [
    {
     "name": "stdout",
     "output_type": "stream",
     "text": [
      "--2017-11-08 20:49:36--  https://s3.amazonaws.com/2017-dmfa/project-3/9670f3399f774789b7c3e18975d25611-README.txt\n",
      "Resolving s3.amazonaws.com (s3.amazonaws.com)... 52.216.230.77\n",
      "Connecting to s3.amazonaws.com (s3.amazonaws.com)|52.216.230.77|:443... connected.\n",
      "HTTP request sent, awaiting response... 200 OK\n",
      "Length: 1920 (1.9K) [text/plain]\n",
      "Saving to: ‘9670f3399f774789b7c3e18975d25611-README.txt’\n",
      "\n",
      "9670f3399f774789b7c 100%[===================>]   1.88K  --.-KB/s    in 0s      \n",
      "\n",
      "2017-11-08 20:49:36 (151 MB/s) - ‘9670f3399f774789b7c3e18975d25611-README.txt’ saved [1920/1920]\n",
      "\n"
     ]
    }
   ],
   "source": [
    "!wget https://s3.amazonaws.com/2017-dmfa/project-3/9670f3399f774789b7c3e18975d25611-README.txt"
   ]
  },
  {
   "cell_type": "code",
   "execution_count": 2,
   "metadata": {
    "collapsed": false,
    "scrolled": true
   },
   "outputs": [
    {
     "name": "stdout",
     "output_type": "stream",
     "text": [
      "This is an export created with Social Feed Manager.\r\n",
      "\r\n",
      "EXPORT INFORMATION\r\n",
      "Selected seeds: All seeds\r\n",
      "Export id: 9670f3399f774789b7c3e18975d25611\r\n",
      "Export type: twitter_filter\r\n",
      "Format: Full JSON\r\n",
      "Export completed:  Oct. 30, 2017, 11:21:04 p.m. EDT\r\n",
      "Deduplicate: No\r\n",
      "\r\n",
      "COLLECTION INFORMATION\r\n",
      "Collection name: test set for world series\r\n",
      "Collection id: 34e3f7460b5c4df09d64a1e61fd81238\r\n",
      "Collection set: mlb-test (collection set id d6e8c27b1bc942e78790aa55a82b3a7a)\r\n",
      "Harvest type: Twitter filter\r\n",
      "Collection description: running for just one hour, just for fun.\r\n",
      "\r\n",
      "Harvest options:\r\n",
      "Media: No\r\n",
      "Web resources: No\r\n",
      "\r\n",
      "Seeds:\r\n",
      "* Track: dodgers,astros - Active\r\n",
      "\r\n",
      "Change log:\r\n",
      "\r\n",
      "Change to test set for world series (collection) on Oct. 30, 2017, 10:59:56 p.m. EDT by dchud:\r\n",
      "* is_active: \"True\" changed to \"False\"\r\n",
      "\r\n",
      "Change to test set for world series (collection) on Oct. 30, 2017, 10:58:51 p.m. EDT by dchud:\r\n",
      "* is_on: \"True\" changed to \"False\"\r\n",
      "\r\n",
      "Change to test set for world series (collection) on Oct. 29, 2017, 8:01:24 p.m. EDT by dchud:\r\n",
      "* is_on: \"False\" changed to \"True\"\r\n",
      "\r\n",
      "Change to Track: dodgers,astros (seed) on Oct. 29, 2017, 8:01:21 p.m. EDT by dchud:\r\n",
      "* token: \"blank\" changed to \"{\"track\": \"dodgers,astros\"}\"\r\n",
      "* is_active: \"blank\" changed to \"True\"\r\n",
      "\r\n",
      "Change to test set for world series (collection) on Oct. 29, 2017, 8:01:06 p.m. EDT by dchud:\r\n",
      "* credential: \"blank\" changed to \"dchud's twitter credential\"\r\n",
      "* harvest_type: \"blank\" changed to \"twitter_filter\"\r\n",
      "* is_on: \"blank\" changed to \"False\"\r\n",
      "* end_date: \"blank\" changed to \"Oct. 31, 2017, 8:00:38 p.m. EDT\"\r\n",
      "* description: \"blank\" changed to \"running for just one hour, just for fun.\"\r\n",
      "* collection_set: \"blank\" changed to \"mlb-test\"\r\n",
      "* is_active: \"blank\" changed to \"True\"\r\n",
      "* visibility: \"blank\" changed to \"default\"\r\n",
      "* harvest_options: \"blank\" changed to \"{\"media\": false, \"web_resources\": false}\"\r\n",
      "* name: \"blank\" changed to \"test set for world series\"\r\n",
      "\r\n",
      "\r\n",
      "Created on Oct. 30, 2017, 11:21:04 p.m. EDT\r\n"
     ]
    }
   ],
   "source": [
    "!cat 9670f3399f774789b7c3e18975d25611-README.txt"
   ]
  },
  {
   "cell_type": "markdown",
   "metadata": {},
   "source": [
    "The most important pieces in that metadata are:\n",
    "\n",
    " * It tracked tweets that mentioned \"dodgers\" or \"astros\".  Every item in this set should refer to one or the other, or both.\n",
    " * This data was not deduplicated; we may see individual items more than once.\n",
    " * Data was collected between October 29 and October 30.  Game 5 of the Series was played during this time.\n",
    " \n",
    "You should not need to know anything about baseball to complete this assignment.\n",
    "\n",
    "**Please note**: sometimes social media data contains offensive material.  This data set has not been filtered; if you do come across something inappropriate, please do your best to ignore it if you can."
   ]
  },
  {
   "cell_type": "markdown",
   "metadata": {},
   "source": [
    "## Fetch the data\n",
    "\n",
    "The following files are available:\n",
    "\n",
    " * https://s3.amazonaws.com/2017-dmfa/project-3/9670f3399f774789b7c3e18975d25611_003.json\n",
    " * https://s3.amazonaws.com/2017-dmfa/project-3/9670f3399f774789b7c3e18975d25611_004.json\n",
    " * https://s3.amazonaws.com/2017-dmfa/project-3/9670f3399f774789b7c3e18975d25611_005.json\n",
    " * https://s3.amazonaws.com/2017-dmfa/project-3/9670f3399f774789b7c3e18975d25611_006.json\n",
    " \n",
    "### Q1.1 - Select at least one and obtain it using `wget`.  Verify the file sizes using the command line.\n",
    "\n",
    "Each file should contain exactly 100,000 tweets.  \n",
    "\n",
    "*Note*: you are only required to use one of these files, but you may use more than one.  It will be easier to process more data if you use a larger EC2 instance type, as suggested above.  Use the exact same set of files throughout the assignment.\n",
    "\n",
    "**Answer**"
   ]
  },
  {
   "cell_type": "markdown",
   "metadata": {},
   "source": [
    "#### Let's use all the files for our project."
   ]
  },
  {
   "cell_type": "code",
   "execution_count": 3,
   "metadata": {
    "collapsed": false
   },
   "outputs": [
    {
     "name": "stdout",
     "output_type": "stream",
     "text": [
      "--2017-11-08 20:52:13--  https://s3.amazonaws.com/2017-dmfa/project-3/9670f3399f774789b7c3e18975d25611_003.json\n",
      "Resolving s3.amazonaws.com (s3.amazonaws.com)... 52.216.160.149\n",
      "Connecting to s3.amazonaws.com (s3.amazonaws.com)|52.216.160.149|:443... connected.\n",
      "HTTP request sent, awaiting response... 200 OK\n",
      "Length: 595711407 (568M) [application/json]\n",
      "Saving to: ‘9670f3399f774789b7c3e18975d25611_003.json’\n",
      "\n",
      "9670f3399f774789b7c 100%[===================>] 568.11M  96.2MB/s    in 6.4s    \n",
      "\n",
      "2017-11-08 20:52:20 (88.7 MB/s) - ‘9670f3399f774789b7c3e18975d25611_003.json’ saved [595711407/595711407]\n",
      "\n"
     ]
    }
   ],
   "source": [
    "!wget https://s3.amazonaws.com/2017-dmfa/project-3/9670f3399f774789b7c3e18975d25611_003.json"
   ]
  },
  {
   "cell_type": "code",
   "execution_count": 4,
   "metadata": {
    "collapsed": false
   },
   "outputs": [
    {
     "name": "stdout",
     "output_type": "stream",
     "text": [
      "--2017-11-08 20:52:48--  https://s3.amazonaws.com/2017-dmfa/project-3/9670f3399f774789b7c3e18975d25611_004.json\n",
      "Resolving s3.amazonaws.com (s3.amazonaws.com)... 52.216.85.157\n",
      "Connecting to s3.amazonaws.com (s3.amazonaws.com)|52.216.85.157|:443... connected.\n",
      "HTTP request sent, awaiting response... 200 OK\n",
      "Length: 549995846 (525M) [application/json]\n",
      "Saving to: ‘9670f3399f774789b7c3e18975d25611_004.json’\n",
      "\n",
      "9670f3399f774789b7c 100%[===================>] 524.52M  84.8MB/s    in 6.2s    \n",
      "\n",
      "2017-11-08 20:52:54 (84.3 MB/s) - ‘9670f3399f774789b7c3e18975d25611_004.json’ saved [549995846/549995846]\n",
      "\n"
     ]
    }
   ],
   "source": [
    "!wget https://s3.amazonaws.com/2017-dmfa/project-3/9670f3399f774789b7c3e18975d25611_004.json"
   ]
  },
  {
   "cell_type": "code",
   "execution_count": 5,
   "metadata": {
    "collapsed": false
   },
   "outputs": [
    {
     "name": "stdout",
     "output_type": "stream",
     "text": [
      "--2017-11-08 20:52:54--  https://s3.amazonaws.com/2017-dmfa/project-3/9670f3399f774789b7c3e18975d25611_005.json\n",
      "Resolving s3.amazonaws.com (s3.amazonaws.com)... 54.231.120.50\n",
      "Connecting to s3.amazonaws.com (s3.amazonaws.com)|54.231.120.50|:443... connected.\n",
      "HTTP request sent, awaiting response... 200 OK\n",
      "Length: 530698683 (506M) [application/json]\n",
      "Saving to: ‘9670f3399f774789b7c3e18975d25611_005.json’\n",
      "\n",
      "9670f3399f774789b7c 100%[===================>] 506.11M  90.0MB/s    in 5.6s    \n",
      "\n",
      "2017-11-08 20:53:00 (91.2 MB/s) - ‘9670f3399f774789b7c3e18975d25611_005.json’ saved [530698683/530698683]\n",
      "\n"
     ]
    }
   ],
   "source": [
    "!wget https://s3.amazonaws.com/2017-dmfa/project-3/9670f3399f774789b7c3e18975d25611_005.json"
   ]
  },
  {
   "cell_type": "code",
   "execution_count": 6,
   "metadata": {
    "collapsed": false
   },
   "outputs": [
    {
     "name": "stdout",
     "output_type": "stream",
     "text": [
      "--2017-11-08 20:53:00--  https://s3.amazonaws.com/2017-dmfa/project-3/9670f3399f774789b7c3e18975d25611_006.json\n",
      "Resolving s3.amazonaws.com (s3.amazonaws.com)... 54.231.114.140\n",
      "Connecting to s3.amazonaws.com (s3.amazonaws.com)|54.231.114.140|:443... connected.\n",
      "HTTP request sent, awaiting response... 200 OK\n",
      "Length: 545081593 (520M) [application/json]\n",
      "Saving to: ‘9670f3399f774789b7c3e18975d25611_006.json’\n",
      "\n",
      "9670f3399f774789b7c 100%[===================>] 519.83M  81.4MB/s    in 6.4s    \n",
      "\n",
      "2017-11-08 20:53:06 (81.5 MB/s) - ‘9670f3399f774789b7c3e18975d25611_006.json’ saved [545081593/545081593]\n",
      "\n"
     ]
    }
   ],
   "source": [
    "!wget https://s3.amazonaws.com/2017-dmfa/project-3/9670f3399f774789b7c3e18975d25611_006.json"
   ]
  },
  {
   "cell_type": "markdown",
   "metadata": {},
   "source": [
    "* file size"
   ]
  },
  {
   "cell_type": "code",
   "execution_count": 12,
   "metadata": {
    "collapsed": false
   },
   "outputs": [
    {
     "name": "stdout",
     "output_type": "stream",
     "text": [
      "-rw-rw-r-- 1 ubuntu ubuntu 569M Nov  3 11:25 9670f3399f774789b7c3e18975d25611_003.json\r\n",
      "-rw-rw-r-- 1 ubuntu ubuntu 525M Nov  3 11:25 9670f3399f774789b7c3e18975d25611_004.json\r\n",
      "-rw-rw-r-- 1 ubuntu ubuntu 507M Nov  3 11:25 9670f3399f774789b7c3e18975d25611_005.json\r\n",
      "-rw-rw-r-- 1 ubuntu ubuntu 520M Nov  3 11:25 9670f3399f774789b7c3e18975d25611_006.json\r\n"
     ]
    }
   ],
   "source": [
    "!ls -lh 9670f3399f774789b7c3e18975d25611_*.json"
   ]
  },
  {
   "cell_type": "markdown",
   "metadata": {},
   "source": [
    "* lines"
   ]
  },
  {
   "cell_type": "code",
   "execution_count": 9,
   "metadata": {
    "collapsed": false
   },
   "outputs": [
    {
     "name": "stdout",
     "output_type": "stream",
     "text": [
      "    100000 9670f3399f774789b7c3e18975d25611_003.json\n",
      "    100000 9670f3399f774789b7c3e18975d25611_004.json\n",
      "    100000 9670f3399f774789b7c3e18975d25611_005.json\n",
      "    100000 9670f3399f774789b7c3e18975d25611_006.json\n",
      "    400000 total\n"
     ]
    }
   ],
   "source": [
    "!wc -l 9670f3399f774789b7c3e18975d25611_*.json"
   ]
  },
  {
   "cell_type": "markdown",
   "metadata": {},
   "source": [
    "For your reference, here is the text of one Tweet, randomly selected from one of these files.  You might wish to study its structure and refer to it later."
   ]
  },
  {
   "cell_type": "code",
   "execution_count": 210,
   "metadata": {
    "collapsed": true
   },
   "outputs": [],
   "source": [
    "!cat *.json | shuf -n 1 > example-tweet.json"
   ]
  },
  {
   "cell_type": "code",
   "execution_count": 211,
   "metadata": {
    "collapsed": false,
    "scrolled": true
   },
   "outputs": [
    {
     "name": "stdout",
     "output_type": "stream",
     "text": [
      "{\n",
      "        \"truncated\": false,\n",
      "        \"in_reply_to_status_id_str\": null,\n",
      "        \"geo\": null,\n",
      "        \"timestamp_ms\": \"1509337860060\",\n",
      "        \"lang\": \"en\",\n",
      "        \"favorite_count\": 0,\n",
      "        \"source\": \"<a href=\\\"http://twitter.com/download/iphone\\\" rel=\\\"nofollow\\\">Twitter for iPhone</a>\",\n",
      "        \"user\": {\n",
      "                \"favourites_count\": 6330,\n",
      "                \"profile_image_url_https\": \"https://pbs.twimg.com/profile_images/882463949454790658/FmGy_av5_normal.jpg\",\n",
      "                \"url\": null,\n",
      "                \"profile_text_color\": \"333333\",\n",
      "                \"name\": \"Blainooooo\",\n",
      "                \"utc_offset\": null,\n",
      "                \"description\": \"2017 Texas High school State Baseball Champion\\ud83d\\udc8d\\u26be\\ufe0f\",\n",
      "                \"default_profile\": true,\n",
      "                \"followers_count\": 678,\n",
      "                \"profile_background_color\": \"C0DEED\",\n",
      "                \"friends_count\": 914,\n",
      "                \"verified\": false,\n",
      "                \"location\": null,\n",
      "                \"contributors_enabled\": false,\n",
      "                \"following\": null,\n",
      "                \"created_at\": \"Sat Jan 28 16:51:10 +0000 2012\",\n",
      "                \"statuses_count\": 3478,\n",
      "                \"profile_banner_url\": \"https://pbs.twimg.com/profile_banners/476918422/1494254722\",\n",
      "                \"profile_sidebar_fill_color\": \"DDEEF6\",\n",
      "                \"profile_background_image_url_https\": \"https://abs.twimg.com/images/themes/theme1/bg.png\",\n",
      "                \"profile_background_tile\": false,\n",
      "                \"translator_type\": \"none\",\n",
      "                \"follow_request_sent\": null,\n",
      "                \"geo_enabled\": false,\n",
      "                \"is_translator\": false,\n",
      "                \"notifications\": null,\n",
      "                \"profile_image_url\": \"http://pbs.twimg.com/profile_images/882463949454790658/FmGy_av5_normal.jpg\",\n",
      "                \"id_str\": \"476918422\",\n",
      "                \"lang\": \"en\",\n",
      "                \"profile_background_image_url\": \"http://abs.twimg.com/images/themes/theme1/bg.png\",\n",
      "                \"id\": 476918422,\n",
      "                \"protected\": false,\n",
      "                \"profile_link_color\": \"1DA1F2\",\n",
      "                \"profile_use_background_image\": true,\n",
      "                \"listed_count\": 0,\n",
      "                \"default_profile_image\": false,\n",
      "                \"screen_name\": \"BHBeast7\",\n",
      "                \"profile_sidebar_border_color\": \"C0DEED\",\n",
      "                \"time_zone\": null\n",
      "        },\n",
      "        \"entities\": {\n",
      "                \"hashtags\": [\n",
      "                        {\n",
      "                                \"indices\": [\n",
      "                                        121,\n",
      "                                        133\n",
      "                                ],\n",
      "                                \"text\": \"WorldSeries\"\n",
      "                        }\n",
      "                ],\n",
      "                \"symbols\": [],\n",
      "                \"user_mentions\": [\n",
      "                        {\n",
      "                                \"id\": 784419106242125825,\n",
      "                                \"name\": \"Timeless Sports\",\n",
      "                                \"indices\": [\n",
      "                                        3,\n",
      "                                        19\n",
      "                                ],\n",
      "                                \"id_str\": \"784419106242125825\",\n",
      "                                \"screen_name\": \"timelesssports_\"\n",
      "                        }\n",
      "                ],\n",
      "                \"urls\": []\n",
      "        },\n",
      "        \"favorited\": false,\n",
      "        \"in_reply_to_user_id_str\": null,\n",
      "        \"in_reply_to_status_id\": null,\n",
      "        \"is_quote_status\": false,\n",
      "        \"quote_count\": 0,\n",
      "        \"retweeted\": false,\n",
      "        \"reply_count\": 0,\n",
      "        \"retweeted_status\": {\n",
      "                \"truncated\": false,\n",
      "                \"in_reply_to_status_id_str\": null,\n",
      "                \"geo\": null,\n",
      "                \"lang\": \"en\",\n",
      "                \"favorite_count\": 227,\n",
      "                \"source\": \"<a href=\\\"http://twitter.com/download/iphone\\\" rel=\\\"nofollow\\\">Twitter for iPhone</a>\",\n",
      "                \"user\": {\n",
      "                        \"favourites_count\": 905,\n",
      "                        \"profile_image_url_https\": \"https://pbs.twimg.com/profile_images/867441470202142720/5DWaSlKO_normal.jpg\",\n",
      "                        \"url\": \"http://instagram.com/timelesssports\",\n",
      "                        \"profile_text_color\": \"333333\",\n",
      "                        \"name\": \"Timeless Sports\",\n",
      "                        \"utc_offset\": null,\n",
      "                        \"description\": \"Insightful. Eternal. Timeless. Staying present with the past. Your # 1 source for daily throwbacks and breaking news on yesterday's stars!\",\n",
      "                        \"default_profile\": true,\n",
      "                        \"followers_count\": 32177,\n",
      "                        \"profile_background_color\": \"F5F8FA\",\n",
      "                        \"friends_count\": 46,\n",
      "                        \"verified\": false,\n",
      "                        \"location\": null,\n",
      "                        \"contributors_enabled\": false,\n",
      "                        \"following\": null,\n",
      "                        \"created_at\": \"Fri Oct 07 15:44:23 +0000 2016\",\n",
      "                        \"statuses_count\": 2134,\n",
      "                        \"profile_banner_url\": \"https://pbs.twimg.com/profile_banners/784419106242125825/1480614924\",\n",
      "                        \"profile_sidebar_fill_color\": \"DDEEF6\",\n",
      "                        \"profile_background_image_url_https\": \"\",\n",
      "                        \"profile_background_tile\": false,\n",
      "                        \"translator_type\": \"none\",\n",
      "                        \"follow_request_sent\": null,\n",
      "                        \"geo_enabled\": false,\n",
      "                        \"is_translator\": false,\n",
      "                        \"notifications\": null,\n",
      "                        \"profile_image_url\": \"http://pbs.twimg.com/profile_images/867441470202142720/5DWaSlKO_normal.jpg\",\n",
      "                        \"id_str\": \"784419106242125825\",\n",
      "                        \"lang\": \"en\",\n",
      "                        \"profile_background_image_url\": \"\",\n",
      "                        \"id\": 784419106242125825,\n",
      "                        \"protected\": false,\n",
      "                        \"profile_link_color\": \"1DA1F2\",\n",
      "                        \"profile_use_background_image\": true,\n",
      "                        \"listed_count\": 213,\n",
      "                        \"default_profile_image\": false,\n",
      "                        \"screen_name\": \"timelesssports_\",\n",
      "                        \"profile_sidebar_border_color\": \"C0DEED\",\n",
      "                        \"time_zone\": null\n",
      "                },\n",
      "                \"entities\": {\n",
      "                        \"hashtags\": [\n",
      "                                {\n",
      "                                        \"indices\": [\n",
      "                                                100,\n",
      "                                                112\n",
      "                                        ],\n",
      "                                        \"text\": \"WorldSeries\"\n",
      "                                }\n",
      "                        ],\n",
      "                        \"symbols\": [],\n",
      "                        \"user_mentions\": [],\n",
      "                        \"urls\": [],\n",
      "                        \"media\": [\n",
      "                                {\n",
      "                                        \"id\": 924851862414680065,\n",
      "                                        \"url\": \"https://t.co/nlHv9vAwiI\",\n",
      "                                        \"expanded_url\": \"https://twitter.com/timelesssports_/status/924851942077222913/video/1\",\n",
      "                                        \"media_url\": \"http://pbs.twimg.com/ext_tw_video_thumb/924851862414680065/pu/img/8ruuEuajskQMbdhf.jpg\",\n",
      "                                        \"sizes\": {\n",
      "                                                \"large\": {\n",
      "                                                        \"resize\": \"fit\",\n",
      "                                                        \"h\": 480,\n",
      "                                                        \"w\": 480\n",
      "                                                },\n",
      "                                                \"medium\": {\n",
      "                                                        \"resize\": \"fit\",\n",
      "                                                        \"h\": 480,\n",
      "                                                        \"w\": 480\n",
      "                                                },\n",
      "                                                \"small\": {\n",
      "                                                        \"resize\": \"fit\",\n",
      "                                                        \"h\": 340,\n",
      "                                                        \"w\": 340\n",
      "                                                },\n",
      "                                                \"thumb\": {\n",
      "                                                        \"resize\": \"crop\",\n",
      "                                                        \"h\": 150,\n",
      "                                                        \"w\": 150\n",
      "                                                }\n",
      "                                        },\n",
      "                                        \"media_url_https\": \"https://pbs.twimg.com/ext_tw_video_thumb/924851862414680065/pu/img/8ruuEuajskQMbdhf.jpg\",\n",
      "                                        \"indices\": [\n",
      "                                                113,\n",
      "                                                136\n",
      "                                        ],\n",
      "                                        \"id_str\": \"924851862414680065\",\n",
      "                                        \"display_url\": \"pic.twitter.com/nlHv9vAwiI\",\n",
      "                                        \"type\": \"photo\"\n",
      "                                }\n",
      "                        ]\n",
      "                },\n",
      "                \"display_text_range\": [\n",
      "                        0,\n",
      "                        112\n",
      "                ],\n",
      "                \"in_reply_to_user_id_str\": null,\n",
      "                \"in_reply_to_status_id\": null,\n",
      "                \"is_quote_status\": false,\n",
      "                \"possibly_sensitive\": false,\n",
      "                \"quote_count\": 7,\n",
      "                \"retweeted\": false,\n",
      "                \"reply_count\": 1,\n",
      "                \"coordinates\": null,\n",
      "                \"id_str\": \"924851942077222913\",\n",
      "                \"extended_entities\": {\n",
      "                        \"media\": [\n",
      "                                {\n",
      "                                        \"id\": 924851862414680065,\n",
      "                                        \"url\": \"https://t.co/nlHv9vAwiI\",\n",
      "                                        \"expanded_url\": \"https://twitter.com/timelesssports_/status/924851942077222913/video/1\",\n",
      "                                        \"media_url\": \"http://pbs.twimg.com/ext_tw_video_thumb/924851862414680065/pu/img/8ruuEuajskQMbdhf.jpg\",\n",
      "                                        \"video_info\": {\n",
      "                                                \"duration_millis\": 58363,\n",
      "                                                \"variants\": [\n",
      "                                                        {\n",
      "                                                                \"content_type\": \"application/x-mpegURL\",\n",
      "                                                                \"url\": \"https://video.twimg.com/ext_tw_video/924851862414680065/pu/pl/P6Ct5s0N100k9bYr.m3u8\"\n",
      "                                                        },\n",
      "                                                        {\n",
      "                                                                \"bitrate\": 320000,\n",
      "                                                                \"content_type\": \"video/mp4\",\n",
      "                                                                \"url\": \"https://video.twimg.com/ext_tw_video/924851862414680065/pu/vid/240x240/6RghC2i0c53VCHqn.mp4\"\n",
      "                                                        },\n",
      "                                                        {\n",
      "                                                                \"bitrate\": 832000,\n",
      "                                                                \"content_type\": \"video/mp4\",\n",
      "                                                                \"url\": \"https://video.twimg.com/ext_tw_video/924851862414680065/pu/vid/480x480/jZymHdZMB7yHldgd.mp4\"\n",
      "                                                        }\n",
      "                                                ],\n",
      "                                                \"aspect_ratio\": [\n",
      "                                                        1,\n",
      "                                                        1\n",
      "                                                ]\n",
      "                                        },\n",
      "                                        \"sizes\": {\n",
      "                                                \"large\": {\n",
      "                                                        \"resize\": \"fit\",\n",
      "                                                        \"h\": 480,\n",
      "                                                        \"w\": 480\n",
      "                                                },\n",
      "                                                \"medium\": {\n",
      "                                                        \"resize\": \"fit\",\n",
      "                                                        \"h\": 480,\n",
      "                                                        \"w\": 480\n",
      "                                                },\n",
      "                                                \"small\": {\n",
      "                                                        \"resize\": \"fit\",\n",
      "                                                        \"h\": 340,\n",
      "                                                        \"w\": 340\n",
      "                                                },\n",
      "                                                \"thumb\": {\n",
      "                                                        \"resize\": \"crop\",\n",
      "                                                        \"h\": 150,\n",
      "                                                        \"w\": 150\n",
      "                                                }\n",
      "                                        },\n",
      "                                        \"media_url_https\": \"https://pbs.twimg.com/ext_tw_video_thumb/924851862414680065/pu/img/8ruuEuajskQMbdhf.jpg\",\n",
      "                                        \"indices\": [\n",
      "                                                113,\n",
      "                                                136\n",
      "                                        ],\n",
      "                                        \"id_str\": \"924851862414680065\",\n",
      "                                        \"display_url\": \"pic.twitter.com/nlHv9vAwiI\",\n",
      "                                        \"type\": \"video\"\n",
      "                                }\n",
      "                        ]\n",
      "                },\n",
      "                \"created_at\": \"Mon Oct 30 04:14:20 +0000 2017\",\n",
      "                \"in_reply_to_user_id\": null,\n",
      "                \"id\": 924851942077222913,\n",
      "                \"contributors\": null,\n",
      "                \"text\": \"(2011) Jose Altuve's first career home run, an inside-the-park HR his rookie season for the Astros. #WorldSeries https://t.co/nlHv9vAwiI\",\n",
      "                \"in_reply_to_screen_name\": null,\n",
      "                \"retweet_count\": 117,\n",
      "                \"favorited\": false,\n",
      "                \"filter_level\": \"low\",\n",
      "                \"place\": null\n",
      "        },\n",
      "        \"coordinates\": null,\n",
      "        \"id_str\": \"924856134258786305\",\n",
      "        \"created_at\": \"Mon Oct 30 04:31:00 +0000 2017\",\n",
      "        \"in_reply_to_user_id\": null,\n",
      "        \"id\": 924856134258786305,\n",
      "        \"contributors\": null,\n",
      "        \"text\": \"RT @timelesssports_: (2011) Jose Altuve's first career home run, an inside-the-park HR his rookie season for the Astros. #WorldSeries https\\u2026\",\n",
      "        \"in_reply_to_screen_name\": null,\n",
      "        \"retweet_count\": 0,\n",
      "        \"filter_level\": \"low\",\n",
      "        \"place\": null\n",
      "}\n"
     ]
    }
   ],
   "source": [
    "import json\n",
    "print(json.dumps(json.load(open(\"example-tweet.json\")), indent=8))"
   ]
  },
  {
   "cell_type": "markdown",
   "metadata": {},
   "source": [
    "You can find several key elements in this example; the text, time, and language of the tweet, whether it was a reply to another user, the user's screen name along with their primary language and other account information like creation date, follower/friend/tweet counts, and perhaps their location.  If there are hashtags, user mentions, or urls present in their tweet, they will be present in the `entities` section; these are not present in every tweet.  If this is a retweet, you will see the original tweet and its information nested within."
   ]
  },
  {
   "cell_type": "markdown",
   "metadata": {},
   "source": [
    "### Q1.2 - Start up Spark, and verify the file sizes."
   ]
  },
  {
   "cell_type": "markdown",
   "metadata": {},
   "source": [
    "We will use our normal startup sequence here:"
   ]
  },
  {
   "cell_type": "code",
   "execution_count": 1,
   "metadata": {
    "collapsed": true
   },
   "outputs": [],
   "source": [
    "import os"
   ]
  },
  {
   "cell_type": "code",
   "execution_count": 2,
   "metadata": {
    "collapsed": true
   },
   "outputs": [],
   "source": [
    "os.environ['SPARK_HOME'] = '/usr/local/lib/spark'"
   ]
  },
  {
   "cell_type": "code",
   "execution_count": 3,
   "metadata": {
    "collapsed": true
   },
   "outputs": [],
   "source": [
    "import findspark"
   ]
  },
  {
   "cell_type": "code",
   "execution_count": 4,
   "metadata": {
    "collapsed": true
   },
   "outputs": [],
   "source": [
    "findspark.init()"
   ]
  },
  {
   "cell_type": "code",
   "execution_count": 5,
   "metadata": {
    "collapsed": true
   },
   "outputs": [],
   "source": [
    "from pyspark import SparkContext"
   ]
  },
  {
   "cell_type": "code",
   "execution_count": 6,
   "metadata": {
    "collapsed": true
   },
   "outputs": [],
   "source": [
    "spark = SparkContext(appName='project-03')"
   ]
  },
  {
   "cell_type": "code",
   "execution_count": 7,
   "metadata": {
    "collapsed": false
   },
   "outputs": [
    {
     "data": {
      "text/html": [
       "\n",
       "        <div>\n",
       "            <p><b>SparkContext</b></p>\n",
       "\n",
       "            <p><a href=\"http://172.31.26.233:4040\">Spark UI</a></p>\n",
       "\n",
       "            <dl>\n",
       "              <dt>Version</dt>\n",
       "                <dd><code>v2.2.0</code></dd>\n",
       "              <dt>Master</dt>\n",
       "                <dd><code>local[*]</code></dd>\n",
       "              <dt>AppName</dt>\n",
       "                <dd><code>project-03</code></dd>\n",
       "            </dl>\n",
       "        </div>\n",
       "        "
      ],
      "text/plain": [
       "<SparkContext master=local[*] appName=project-03>"
      ]
     },
     "execution_count": 7,
     "metadata": {},
     "output_type": "execute_result"
    }
   ],
   "source": [
    "spark"
   ]
  },
  {
   "cell_type": "code",
   "execution_count": 8,
   "metadata": {
    "collapsed": true
   },
   "outputs": [],
   "source": [
    "from pyspark import SQLContext"
   ]
  },
  {
   "cell_type": "code",
   "execution_count": 9,
   "metadata": {
    "collapsed": true
   },
   "outputs": [],
   "source": [
    "sqlc = SQLContext(spark)"
   ]
  },
  {
   "cell_type": "code",
   "execution_count": 10,
   "metadata": {
    "collapsed": false
   },
   "outputs": [
    {
     "data": {
      "text/plain": [
       "<pyspark.sql.context.SQLContext at 0x7f9bfc133ef0>"
      ]
     },
     "execution_count": 10,
     "metadata": {},
     "output_type": "execute_result"
    }
   ],
   "source": [
    "sqlc"
   ]
  },
  {
   "cell_type": "code",
   "execution_count": 11,
   "metadata": {
    "collapsed": true
   },
   "outputs": [],
   "source": [
    "tweets = sqlc.read.json(\"9670f3399f774789b7c3e18975d25611_*.json\")"
   ]
  },
  {
   "cell_type": "markdown",
   "metadata": {},
   "source": [
    "Verify that Spark has loaded the same number of tweets you saw before:\n",
    "\n",
    "**Answer**"
   ]
  },
  {
   "cell_type": "code",
   "execution_count": 12,
   "metadata": {
    "collapsed": false
   },
   "outputs": [
    {
     "data": {
      "text/plain": [
       "400000"
      ]
     },
     "execution_count": 12,
     "metadata": {},
     "output_type": "execute_result"
    }
   ],
   "source": [
    "tweets.count()"
   ]
  },
  {
   "cell_type": "code",
   "execution_count": 13,
   "metadata": {
    "collapsed": false,
    "scrolled": false
   },
   "outputs": [
    {
     "data": {
      "text/plain": [
       "400000"
      ]
     },
     "execution_count": 13,
     "metadata": {},
     "output_type": "execute_result"
    }
   ],
   "source": [
    "tweets.rdd.count()"
   ]
  },
  {
   "cell_type": "markdown",
   "metadata": {},
   "source": [
    "## Part 2 - Comparing DataFrames and Spark SQL\n",
    "\n",
    "For the next three questions, we will look at operations using both DataFrames and SQL queries. Note that `tweets` is already a DataFrame:"
   ]
  },
  {
   "cell_type": "code",
   "execution_count": 37,
   "metadata": {
    "collapsed": false
   },
   "outputs": [
    {
     "data": {
      "text/plain": [
       "DataFrame[contributors: string, coordinates: struct<coordinates:array<double>,type:string>, created_at: string, display_text_range: array<bigint>, entities: struct<hashtags:array<struct<indices:array<bigint>,text:string>>,media:array<struct<display_url:string,expanded_url:string,id:bigint,id_str:string,indices:array<bigint>,media_url:string,media_url_https:string,sizes:struct<large:struct<h:bigint,resize:string,w:bigint>,medium:struct<h:bigint,resize:string,w:bigint>,small:struct<h:bigint,resize:string,w:bigint>,thumb:struct<h:bigint,resize:string,w:bigint>>,source_status_id:bigint,source_status_id_str:string,source_user_id:bigint,source_user_id_str:string,type:string,url:string>>,symbols:array<struct<indices:array<bigint>,text:string>>,urls:array<struct<display_url:string,expanded_url:string,indices:array<bigint>,url:string>>,user_mentions:array<struct<id:bigint,id_str:string,indices:array<bigint>,name:string,screen_name:string>>>, extended_entities: struct<media:array<struct<display_url:string,expanded_url:string,id:bigint,id_str:string,indices:array<bigint>,media_url:string,media_url_https:string,sizes:struct<large:struct<h:bigint,resize:string,w:bigint>,medium:struct<h:bigint,resize:string,w:bigint>,small:struct<h:bigint,resize:string,w:bigint>,thumb:struct<h:bigint,resize:string,w:bigint>>,source_status_id:bigint,source_status_id_str:string,source_user_id:bigint,source_user_id_str:string,type:string,url:string,video_info:struct<aspect_ratio:array<bigint>,duration_millis:bigint,variants:array<struct<bitrate:bigint,content_type:string,url:string>>>>>>, extended_tweet: struct<display_text_range:array<bigint>,entities:struct<hashtags:array<struct<indices:array<bigint>,text:string>>,media:array<struct<display_url:string,expanded_url:string,id:bigint,id_str:string,indices:array<bigint>,media_url:string,media_url_https:string,sizes:struct<large:struct<h:bigint,resize:string,w:bigint>,medium:struct<h:bigint,resize:string,w:bigint>,small:struct<h:bigint,resize:string,w:bigint>,thumb:struct<h:bigint,resize:string,w:bigint>>,source_status_id:bigint,source_status_id_str:string,source_user_id:bigint,source_user_id_str:string,type:string,url:string,video_info:struct<aspect_ratio:array<bigint>,duration_millis:bigint,variants:array<struct<bitrate:bigint,content_type:string,url:string>>>>>,symbols:array<string>,urls:array<struct<display_url:string,expanded_url:string,indices:array<bigint>,url:string>>,user_mentions:array<struct<id:bigint,id_str:string,indices:array<bigint>,name:string,screen_name:string>>>,extended_entities:struct<media:array<struct<display_url:string,expanded_url:string,id:bigint,id_str:string,indices:array<bigint>,media_url:string,media_url_https:string,sizes:struct<large:struct<h:bigint,resize:string,w:bigint>,medium:struct<h:bigint,resize:string,w:bigint>,small:struct<h:bigint,resize:string,w:bigint>,thumb:struct<h:bigint,resize:string,w:bigint>>,source_status_id:bigint,source_status_id_str:string,source_user_id:bigint,source_user_id_str:string,type:string,url:string,video_info:struct<aspect_ratio:array<bigint>,duration_millis:bigint,variants:array<struct<bitrate:bigint,content_type:string,url:string>>>>>>,full_text:string>, favorite_count: bigint, favorited: boolean, filter_level: string, geo: struct<coordinates:array<double>,type:string>, id: bigint, id_str: string, in_reply_to_screen_name: string, in_reply_to_status_id: bigint, in_reply_to_status_id_str: string, in_reply_to_user_id: bigint, in_reply_to_user_id_str: string, is_quote_status: boolean, lang: string, place: struct<bounding_box:struct<coordinates:array<array<array<double>>>,type:string>,country:string,country_code:string,full_name:string,id:string,name:string,place_type:string,url:string>, possibly_sensitive: boolean, quote_count: bigint, quoted_status: struct<contributors:string,coordinates:struct<coordinates:array<double>,type:string>,created_at:string,display_text_range:array<bigint>,entities:struct<hashtags:array<struct<indices:array<bigint>,text:string>>,media:array<struct<description:string,display_url:string,expanded_url:string,id:bigint,id_str:string,indices:array<bigint>,media_url:string,media_url_https:string,sizes:struct<large:struct<h:bigint,resize:string,w:bigint>,medium:struct<h:bigint,resize:string,w:bigint>,small:struct<h:bigint,resize:string,w:bigint>,thumb:struct<h:bigint,resize:string,w:bigint>>,source_status_id:bigint,source_status_id_str:string,source_user_id:bigint,source_user_id_str:string,type:string,url:string>>,symbols:array<string>,urls:array<struct<display_url:string,expanded_url:string,indices:array<bigint>,url:string>>,user_mentions:array<struct<id:bigint,id_str:string,indices:array<bigint>,name:string,screen_name:string>>>,extended_entities:struct<media:array<struct<description:string,display_url:string,expanded_url:string,id:bigint,id_str:string,indices:array<bigint>,media_url:string,media_url_https:string,sizes:struct<large:struct<h:bigint,resize:string,w:bigint>,medium:struct<h:bigint,resize:string,w:bigint>,small:struct<h:bigint,resize:string,w:bigint>,thumb:struct<h:bigint,resize:string,w:bigint>>,source_status_id:bigint,source_status_id_str:string,source_user_id:bigint,source_user_id_str:string,type:string,url:string,video_info:struct<aspect_ratio:array<bigint>,duration_millis:bigint,variants:array<struct<bitrate:bigint,content_type:string,url:string>>>>>>,extended_tweet:struct<display_text_range:array<bigint>,entities:struct<hashtags:array<struct<indices:array<bigint>,text:string>>,media:array<struct<display_url:string,expanded_url:string,id:bigint,id_str:string,indices:array<bigint>,media_url:string,media_url_https:string,sizes:struct<large:struct<h:bigint,resize:string,w:bigint>,medium:struct<h:bigint,resize:string,w:bigint>,small:struct<h:bigint,resize:string,w:bigint>,thumb:struct<h:bigint,resize:string,w:bigint>>,source_status_id:bigint,source_status_id_str:string,source_user_id:bigint,source_user_id_str:string,type:string,url:string,video_info:struct<aspect_ratio:array<bigint>,duration_millis:bigint,variants:array<struct<bitrate:bigint,content_type:string,url:string>>>>>,symbols:array<string>,urls:array<struct<display_url:string,expanded_url:string,indices:array<bigint>,url:string>>,user_mentions:array<struct<id:bigint,id_str:string,indices:array<bigint>,name:string,screen_name:string>>>,extended_entities:struct<media:array<struct<display_url:string,expanded_url:string,id:bigint,id_str:string,indices:array<bigint>,media_url:string,media_url_https:string,sizes:struct<large:struct<h:bigint,resize:string,w:bigint>,medium:struct<h:bigint,resize:string,w:bigint>,small:struct<h:bigint,resize:string,w:bigint>,thumb:struct<h:bigint,resize:string,w:bigint>>,source_status_id:bigint,source_status_id_str:string,source_user_id:bigint,source_user_id_str:string,type:string,url:string,video_info:struct<aspect_ratio:array<bigint>,duration_millis:bigint,variants:array<struct<bitrate:bigint,content_type:string,url:string>>>>>>,full_text:string>,favorite_count:bigint,favorited:boolean,filter_level:string,geo:struct<coordinates:array<double>,type:string>,id:bigint,id_str:string,in_reply_to_screen_name:string,in_reply_to_status_id:bigint,in_reply_to_status_id_str:string,in_reply_to_user_id:bigint,in_reply_to_user_id_str:string,is_quote_status:boolean,lang:string,place:struct<bounding_box:struct<coordinates:array<array<array<double>>>,type:string>,country:string,country_code:string,full_name:string,id:string,name:string,place_type:string,url:string>,possibly_sensitive:boolean,quote_count:bigint,quoted_status_id:bigint,quoted_status_id_str:string,reply_count:bigint,retweet_count:bigint,retweeted:boolean,scopes:struct<followers:boolean>,source:string,text:string,truncated:boolean,user:struct<contributors_enabled:boolean,created_at:string,default_profile:boolean,default_profile_image:boolean,description:string,favourites_count:bigint,follow_request_sent:string,followers_count:bigint,following:string,friends_count:bigint,geo_enabled:boolean,id:bigint,id_str:string,is_translator:boolean,lang:string,listed_count:bigint,location:string,name:string,notifications:string,profile_background_color:string,profile_background_image_url:string,profile_background_image_url_https:string,profile_background_tile:boolean,profile_banner_url:string,profile_image_url:string,profile_image_url_https:string,profile_link_color:string,profile_sidebar_border_color:string,profile_sidebar_fill_color:string,profile_text_color:string,profile_use_background_image:boolean,protected:boolean,screen_name:string,statuses_count:bigint,time_zone:string,translator_type:string,url:string,utc_offset:bigint,verified:boolean>>, quoted_status_id: bigint, quoted_status_id_str: string, reply_count: bigint, retweet_count: bigint, retweeted: boolean, retweeted_status: struct<contributors:string,coordinates:struct<coordinates:array<double>,type:string>,created_at:string,display_text_range:array<bigint>,entities:struct<hashtags:array<struct<indices:array<bigint>,text:string>>,media:array<struct<display_url:string,expanded_url:string,id:bigint,id_str:string,indices:array<bigint>,media_url:string,media_url_https:string,sizes:struct<large:struct<h:bigint,resize:string,w:bigint>,medium:struct<h:bigint,resize:string,w:bigint>,small:struct<h:bigint,resize:string,w:bigint>,thumb:struct<h:bigint,resize:string,w:bigint>>,source_status_id:bigint,source_status_id_str:string,source_user_id:bigint,source_user_id_str:string,type:string,url:string>>,symbols:array<struct<indices:array<bigint>,text:string>>,urls:array<struct<display_url:string,expanded_url:string,indices:array<bigint>,url:string>>,user_mentions:array<struct<id:bigint,id_str:string,indices:array<bigint>,name:string,screen_name:string>>>,extended_entities:struct<media:array<struct<display_url:string,expanded_url:string,id:bigint,id_str:string,indices:array<bigint>,media_url:string,media_url_https:string,sizes:struct<large:struct<h:bigint,resize:string,w:bigint>,medium:struct<h:bigint,resize:string,w:bigint>,small:struct<h:bigint,resize:string,w:bigint>,thumb:struct<h:bigint,resize:string,w:bigint>>,source_status_id:bigint,source_status_id_str:string,source_user_id:bigint,source_user_id_str:string,type:string,url:string,video_info:struct<aspect_ratio:array<bigint>,duration_millis:bigint,variants:array<struct<bitrate:bigint,content_type:string,url:string>>>>>>,extended_tweet:struct<display_text_range:array<bigint>,entities:struct<hashtags:array<struct<indices:array<bigint>,text:string>>,media:array<struct<description:string,display_url:string,expanded_url:string,id:bigint,id_str:string,indices:array<bigint>,media_url:string,media_url_https:string,sizes:struct<large:struct<h:bigint,resize:string,w:bigint>,medium:struct<h:bigint,resize:string,w:bigint>,small:struct<h:bigint,resize:string,w:bigint>,thumb:struct<h:bigint,resize:string,w:bigint>>,source_status_id:bigint,source_status_id_str:string,source_user_id:bigint,source_user_id_str:string,type:string,url:string,video_info:struct<aspect_ratio:array<bigint>,duration_millis:bigint,variants:array<struct<bitrate:bigint,content_type:string,url:string>>>>>,symbols:array<string>,urls:array<struct<display_url:string,expanded_url:string,indices:array<bigint>,url:string>>,user_mentions:array<struct<id:bigint,id_str:string,indices:array<bigint>,name:string,screen_name:string>>>,extended_entities:struct<media:array<struct<description:string,display_url:string,expanded_url:string,id:bigint,id_str:string,indices:array<bigint>,media_url:string,media_url_https:string,sizes:struct<large:struct<h:bigint,resize:string,w:bigint>,medium:struct<h:bigint,resize:string,w:bigint>,small:struct<h:bigint,resize:string,w:bigint>,thumb:struct<h:bigint,resize:string,w:bigint>>,source_status_id:bigint,source_status_id_str:string,source_user_id:bigint,source_user_id_str:string,type:string,url:string,video_info:struct<aspect_ratio:array<bigint>,duration_millis:bigint,variants:array<struct<bitrate:bigint,content_type:string,url:string>>>>>>,full_text:string>,favorite_count:bigint,favorited:boolean,filter_level:string,geo:struct<coordinates:array<double>,type:string>,id:bigint,id_str:string,in_reply_to_screen_name:string,in_reply_to_status_id:bigint,in_reply_to_status_id_str:string,in_reply_to_user_id:bigint,in_reply_to_user_id_str:string,is_quote_status:boolean,lang:string,place:struct<bounding_box:struct<coordinates:array<array<array<double>>>,type:string>,country:string,country_code:string,full_name:string,id:string,name:string,place_type:string,url:string>,possibly_sensitive:boolean,quote_count:bigint,quoted_status:struct<contributors:string,coordinates:struct<coordinates:array<double>,type:string>,created_at:string,display_text_range:array<bigint>,entities:struct<hashtags:array<struct<indices:array<bigint>,text:string>>,media:array<struct<display_url:string,expanded_url:string,id:bigint,id_str:string,indices:array<bigint>,media_url:string,media_url_https:string,sizes:struct<large:struct<h:bigint,resize:string,w:bigint>,medium:struct<h:bigint,resize:string,w:bigint>,small:struct<h:bigint,resize:string,w:bigint>,thumb:struct<h:bigint,resize:string,w:bigint>>,source_status_id:bigint,source_status_id_str:string,source_user_id:bigint,source_user_id_str:string,type:string,url:string>>,symbols:array<string>,urls:array<struct<display_url:string,expanded_url:string,indices:array<bigint>,url:string>>,user_mentions:array<struct<id:bigint,id_str:string,indices:array<bigint>,name:string,screen_name:string>>>,extended_entities:struct<media:array<struct<display_url:string,expanded_url:string,id:bigint,id_str:string,indices:array<bigint>,media_url:string,media_url_https:string,sizes:struct<large:struct<h:bigint,resize:string,w:bigint>,medium:struct<h:bigint,resize:string,w:bigint>,small:struct<h:bigint,resize:string,w:bigint>,thumb:struct<h:bigint,resize:string,w:bigint>>,source_status_id:bigint,source_status_id_str:string,source_user_id:bigint,source_user_id_str:string,type:string,url:string,video_info:struct<aspect_ratio:array<bigint>,duration_millis:bigint,variants:array<struct<bitrate:bigint,content_type:string,url:string>>>>>>,extended_tweet:struct<display_text_range:array<bigint>,entities:struct<hashtags:array<struct<indices:array<bigint>,text:string>>,media:array<struct<display_url:string,expanded_url:string,id:bigint,id_str:string,indices:array<bigint>,media_url:string,media_url_https:string,sizes:struct<large:struct<h:bigint,resize:string,w:bigint>,medium:struct<h:bigint,resize:string,w:bigint>,small:struct<h:bigint,resize:string,w:bigint>,thumb:struct<h:bigint,resize:string,w:bigint>>,type:string,url:string,video_info:struct<aspect_ratio:array<bigint>,duration_millis:bigint,variants:array<struct<bitrate:bigint,content_type:string,url:string>>>>>,symbols:array<string>,urls:array<struct<display_url:string,expanded_url:string,indices:array<bigint>,url:string>>,user_mentions:array<struct<id:bigint,id_str:string,indices:array<bigint>,name:string,screen_name:string>>>,extended_entities:struct<media:array<struct<display_url:string,expanded_url:string,id:bigint,id_str:string,indices:array<bigint>,media_url:string,media_url_https:string,sizes:struct<large:struct<h:bigint,resize:string,w:bigint>,medium:struct<h:bigint,resize:string,w:bigint>,small:struct<h:bigint,resize:string,w:bigint>,thumb:struct<h:bigint,resize:string,w:bigint>>,type:string,url:string,video_info:struct<aspect_ratio:array<bigint>,duration_millis:bigint,variants:array<struct<bitrate:bigint,content_type:string,url:string>>>>>>,full_text:string>,favorite_count:bigint,favorited:boolean,filter_level:string,geo:struct<coordinates:array<double>,type:string>,id:bigint,id_str:string,in_reply_to_screen_name:string,in_reply_to_status_id:bigint,in_reply_to_status_id_str:string,in_reply_to_user_id:bigint,in_reply_to_user_id_str:string,is_quote_status:boolean,lang:string,place:struct<bounding_box:struct<coordinates:array<array<array<double>>>,type:string>,country:string,country_code:string,full_name:string,id:string,name:string,place_type:string,url:string>,possibly_sensitive:boolean,quote_count:bigint,quoted_status_id:bigint,quoted_status_id_str:string,reply_count:bigint,retweet_count:bigint,retweeted:boolean,scopes:struct<followers:boolean>,source:string,text:string,truncated:boolean,user:struct<contributors_enabled:boolean,created_at:string,default_profile:boolean,default_profile_image:boolean,description:string,favourites_count:bigint,follow_request_sent:string,followers_count:bigint,following:string,friends_count:bigint,geo_enabled:boolean,id:bigint,id_str:string,is_translator:boolean,lang:string,listed_count:bigint,location:string,name:string,notifications:string,profile_background_color:string,profile_background_image_url:string,profile_background_image_url_https:string,profile_background_tile:boolean,profile_banner_url:string,profile_image_url:string,profile_image_url_https:string,profile_link_color:string,profile_sidebar_border_color:string,profile_sidebar_fill_color:string,profile_text_color:string,profile_use_background_image:boolean,protected:boolean,screen_name:string,statuses_count:bigint,time_zone:string,translator_type:string,url:string,utc_offset:bigint,verified:boolean>>,quoted_status_id:bigint,quoted_status_id_str:string,reply_count:bigint,retweet_count:bigint,retweeted:boolean,source:string,text:string,truncated:boolean,user:struct<contributors_enabled:boolean,created_at:string,default_profile:boolean,default_profile_image:boolean,description:string,favourites_count:bigint,follow_request_sent:string,followers_count:bigint,following:string,friends_count:bigint,geo_enabled:boolean,id:bigint,id_str:string,is_translator:boolean,lang:string,listed_count:bigint,location:string,name:string,notifications:string,profile_background_color:string,profile_background_image_url:string,profile_background_image_url_https:string,profile_background_tile:boolean,profile_banner_url:string,profile_image_url:string,profile_image_url_https:string,profile_link_color:string,profile_sidebar_border_color:string,profile_sidebar_fill_color:string,profile_text_color:string,profile_use_background_image:boolean,protected:boolean,screen_name:string,statuses_count:bigint,time_zone:string,translator_type:string,url:string,utc_offset:bigint,verified:boolean>>, source: string, text: string, timestamp_ms: string, truncated: boolean, user: struct<contributors_enabled:boolean,created_at:string,default_profile:boolean,default_profile_image:boolean,description:string,favourites_count:bigint,follow_request_sent:string,followers_count:bigint,following:string,friends_count:bigint,geo_enabled:boolean,id:bigint,id_str:string,is_translator:boolean,lang:string,listed_count:bigint,location:string,name:string,notifications:string,profile_background_color:string,profile_background_image_url:string,profile_background_image_url_https:string,profile_background_tile:boolean,profile_banner_url:string,profile_image_url:string,profile_image_url_https:string,profile_link_color:string,profile_sidebar_border_color:string,profile_sidebar_fill_color:string,profile_text_color:string,profile_use_background_image:boolean,protected:boolean,screen_name:string,statuses_count:bigint,time_zone:string,translator_type:string,url:string,utc_offset:bigint,verified:boolean>]"
      ]
     },
     "execution_count": 37,
     "metadata": {},
     "output_type": "execute_result"
    }
   ],
   "source": [
    "tweets"
   ]
  },
  {
   "cell_type": "code",
   "execution_count": 36,
   "metadata": {
    "collapsed": false
   },
   "outputs": [
    {
     "data": {
      "text/plain": [
       "pyspark.sql.dataframe.DataFrame"
      ]
     },
     "execution_count": 36,
     "metadata": {},
     "output_type": "execute_result"
    }
   ],
   "source": [
    "type(tweets)"
   ]
  },
  {
   "cell_type": "code",
   "execution_count": 44,
   "metadata": {
    "collapsed": false,
    "scrolled": true
   },
   "outputs": [
    {
     "data": {
      "text/plain": [
       "['contributors',\n",
       " 'coordinates',\n",
       " 'created_at',\n",
       " 'display_text_range',\n",
       " 'entities',\n",
       " 'extended_entities',\n",
       " 'extended_tweet',\n",
       " 'favorite_count',\n",
       " 'favorited',\n",
       " 'filter_level',\n",
       " 'geo',\n",
       " 'id',\n",
       " 'id_str',\n",
       " 'in_reply_to_screen_name',\n",
       " 'in_reply_to_status_id',\n",
       " 'in_reply_to_status_id_str',\n",
       " 'in_reply_to_user_id',\n",
       " 'in_reply_to_user_id_str',\n",
       " 'is_quote_status',\n",
       " 'lang',\n",
       " 'place',\n",
       " 'possibly_sensitive',\n",
       " 'quote_count',\n",
       " 'quoted_status',\n",
       " 'quoted_status_id',\n",
       " 'quoted_status_id_str',\n",
       " 'reply_count',\n",
       " 'retweet_count',\n",
       " 'retweeted',\n",
       " 'retweeted_status',\n",
       " 'source',\n",
       " 'text',\n",
       " 'timestamp_ms',\n",
       " 'truncated',\n",
       " 'user']"
      ]
     },
     "execution_count": 44,
     "metadata": {},
     "output_type": "execute_result"
    }
   ],
   "source": [
    "tweets.columns"
   ]
  },
  {
   "cell_type": "code",
   "execution_count": 45,
   "metadata": {
    "collapsed": false
   },
   "outputs": [
    {
     "name": "stdout",
     "output_type": "stream",
     "text": [
      "root\n",
      " |-- contributors: string (nullable = true)\n",
      " |-- coordinates: struct (nullable = true)\n",
      " |    |-- coordinates: array (nullable = true)\n",
      " |    |    |-- element: double (containsNull = true)\n",
      " |    |-- type: string (nullable = true)\n",
      " |-- created_at: string (nullable = true)\n",
      " |-- display_text_range: array (nullable = true)\n",
      " |    |-- element: long (containsNull = true)\n",
      " |-- entities: struct (nullable = true)\n",
      " |    |-- hashtags: array (nullable = true)\n",
      " |    |    |-- element: struct (containsNull = true)\n",
      " |    |    |    |-- indices: array (nullable = true)\n",
      " |    |    |    |    |-- element: long (containsNull = true)\n",
      " |    |    |    |-- text: string (nullable = true)\n",
      " |    |-- media: array (nullable = true)\n",
      " |    |    |-- element: struct (containsNull = true)\n",
      " |    |    |    |-- display_url: string (nullable = true)\n",
      " |    |    |    |-- expanded_url: string (nullable = true)\n",
      " |    |    |    |-- id: long (nullable = true)\n",
      " |    |    |    |-- id_str: string (nullable = true)\n",
      " |    |    |    |-- indices: array (nullable = true)\n",
      " |    |    |    |    |-- element: long (containsNull = true)\n",
      " |    |    |    |-- media_url: string (nullable = true)\n",
      " |    |    |    |-- media_url_https: string (nullable = true)\n",
      " |    |    |    |-- sizes: struct (nullable = true)\n",
      " |    |    |    |    |-- large: struct (nullable = true)\n",
      " |    |    |    |    |    |-- h: long (nullable = true)\n",
      " |    |    |    |    |    |-- resize: string (nullable = true)\n",
      " |    |    |    |    |    |-- w: long (nullable = true)\n",
      " |    |    |    |    |-- medium: struct (nullable = true)\n",
      " |    |    |    |    |    |-- h: long (nullable = true)\n",
      " |    |    |    |    |    |-- resize: string (nullable = true)\n",
      " |    |    |    |    |    |-- w: long (nullable = true)\n",
      " |    |    |    |    |-- small: struct (nullable = true)\n",
      " |    |    |    |    |    |-- h: long (nullable = true)\n",
      " |    |    |    |    |    |-- resize: string (nullable = true)\n",
      " |    |    |    |    |    |-- w: long (nullable = true)\n",
      " |    |    |    |    |-- thumb: struct (nullable = true)\n",
      " |    |    |    |    |    |-- h: long (nullable = true)\n",
      " |    |    |    |    |    |-- resize: string (nullable = true)\n",
      " |    |    |    |    |    |-- w: long (nullable = true)\n",
      " |    |    |    |-- source_status_id: long (nullable = true)\n",
      " |    |    |    |-- source_status_id_str: string (nullable = true)\n",
      " |    |    |    |-- source_user_id: long (nullable = true)\n",
      " |    |    |    |-- source_user_id_str: string (nullable = true)\n",
      " |    |    |    |-- type: string (nullable = true)\n",
      " |    |    |    |-- url: string (nullable = true)\n",
      " |    |-- symbols: array (nullable = true)\n",
      " |    |    |-- element: struct (containsNull = true)\n",
      " |    |    |    |-- indices: array (nullable = true)\n",
      " |    |    |    |    |-- element: long (containsNull = true)\n",
      " |    |    |    |-- text: string (nullable = true)\n",
      " |    |-- urls: array (nullable = true)\n",
      " |    |    |-- element: struct (containsNull = true)\n",
      " |    |    |    |-- display_url: string (nullable = true)\n",
      " |    |    |    |-- expanded_url: string (nullable = true)\n",
      " |    |    |    |-- indices: array (nullable = true)\n",
      " |    |    |    |    |-- element: long (containsNull = true)\n",
      " |    |    |    |-- url: string (nullable = true)\n",
      " |    |-- user_mentions: array (nullable = true)\n",
      " |    |    |-- element: struct (containsNull = true)\n",
      " |    |    |    |-- id: long (nullable = true)\n",
      " |    |    |    |-- id_str: string (nullable = true)\n",
      " |    |    |    |-- indices: array (nullable = true)\n",
      " |    |    |    |    |-- element: long (containsNull = true)\n",
      " |    |    |    |-- name: string (nullable = true)\n",
      " |    |    |    |-- screen_name: string (nullable = true)\n",
      " |-- extended_entities: struct (nullable = true)\n",
      " |    |-- media: array (nullable = true)\n",
      " |    |    |-- element: struct (containsNull = true)\n",
      " |    |    |    |-- display_url: string (nullable = true)\n",
      " |    |    |    |-- expanded_url: string (nullable = true)\n",
      " |    |    |    |-- id: long (nullable = true)\n",
      " |    |    |    |-- id_str: string (nullable = true)\n",
      " |    |    |    |-- indices: array (nullable = true)\n",
      " |    |    |    |    |-- element: long (containsNull = true)\n",
      " |    |    |    |-- media_url: string (nullable = true)\n",
      " |    |    |    |-- media_url_https: string (nullable = true)\n",
      " |    |    |    |-- sizes: struct (nullable = true)\n",
      " |    |    |    |    |-- large: struct (nullable = true)\n",
      " |    |    |    |    |    |-- h: long (nullable = true)\n",
      " |    |    |    |    |    |-- resize: string (nullable = true)\n",
      " |    |    |    |    |    |-- w: long (nullable = true)\n",
      " |    |    |    |    |-- medium: struct (nullable = true)\n",
      " |    |    |    |    |    |-- h: long (nullable = true)\n",
      " |    |    |    |    |    |-- resize: string (nullable = true)\n",
      " |    |    |    |    |    |-- w: long (nullable = true)\n",
      " |    |    |    |    |-- small: struct (nullable = true)\n",
      " |    |    |    |    |    |-- h: long (nullable = true)\n",
      " |    |    |    |    |    |-- resize: string (nullable = true)\n",
      " |    |    |    |    |    |-- w: long (nullable = true)\n",
      " |    |    |    |    |-- thumb: struct (nullable = true)\n",
      " |    |    |    |    |    |-- h: long (nullable = true)\n",
      " |    |    |    |    |    |-- resize: string (nullable = true)\n",
      " |    |    |    |    |    |-- w: long (nullable = true)\n",
      " |    |    |    |-- source_status_id: long (nullable = true)\n",
      " |    |    |    |-- source_status_id_str: string (nullable = true)\n",
      " |    |    |    |-- source_user_id: long (nullable = true)\n",
      " |    |    |    |-- source_user_id_str: string (nullable = true)\n",
      " |    |    |    |-- type: string (nullable = true)\n",
      " |    |    |    |-- url: string (nullable = true)\n",
      " |    |    |    |-- video_info: struct (nullable = true)\n",
      " |    |    |    |    |-- aspect_ratio: array (nullable = true)\n",
      " |    |    |    |    |    |-- element: long (containsNull = true)\n",
      " |    |    |    |    |-- duration_millis: long (nullable = true)\n",
      " |    |    |    |    |-- variants: array (nullable = true)\n",
      " |    |    |    |    |    |-- element: struct (containsNull = true)\n",
      " |    |    |    |    |    |    |-- bitrate: long (nullable = true)\n",
      " |    |    |    |    |    |    |-- content_type: string (nullable = true)\n",
      " |    |    |    |    |    |    |-- url: string (nullable = true)\n",
      " |-- extended_tweet: struct (nullable = true)\n",
      " |    |-- display_text_range: array (nullable = true)\n",
      " |    |    |-- element: long (containsNull = true)\n",
      " |    |-- entities: struct (nullable = true)\n",
      " |    |    |-- hashtags: array (nullable = true)\n",
      " |    |    |    |-- element: struct (containsNull = true)\n",
      " |    |    |    |    |-- indices: array (nullable = true)\n",
      " |    |    |    |    |    |-- element: long (containsNull = true)\n",
      " |    |    |    |    |-- text: string (nullable = true)\n",
      " |    |    |-- media: array (nullable = true)\n",
      " |    |    |    |-- element: struct (containsNull = true)\n",
      " |    |    |    |    |-- display_url: string (nullable = true)\n",
      " |    |    |    |    |-- expanded_url: string (nullable = true)\n",
      " |    |    |    |    |-- id: long (nullable = true)\n",
      " |    |    |    |    |-- id_str: string (nullable = true)\n",
      " |    |    |    |    |-- indices: array (nullable = true)\n",
      " |    |    |    |    |    |-- element: long (containsNull = true)\n",
      " |    |    |    |    |-- media_url: string (nullable = true)\n",
      " |    |    |    |    |-- media_url_https: string (nullable = true)\n",
      " |    |    |    |    |-- sizes: struct (nullable = true)\n",
      " |    |    |    |    |    |-- large: struct (nullable = true)\n",
      " |    |    |    |    |    |    |-- h: long (nullable = true)\n",
      " |    |    |    |    |    |    |-- resize: string (nullable = true)\n",
      " |    |    |    |    |    |    |-- w: long (nullable = true)\n",
      " |    |    |    |    |    |-- medium: struct (nullable = true)\n",
      " |    |    |    |    |    |    |-- h: long (nullable = true)\n",
      " |    |    |    |    |    |    |-- resize: string (nullable = true)\n",
      " |    |    |    |    |    |    |-- w: long (nullable = true)\n",
      " |    |    |    |    |    |-- small: struct (nullable = true)\n",
      " |    |    |    |    |    |    |-- h: long (nullable = true)\n",
      " |    |    |    |    |    |    |-- resize: string (nullable = true)\n",
      " |    |    |    |    |    |    |-- w: long (nullable = true)\n",
      " |    |    |    |    |    |-- thumb: struct (nullable = true)\n",
      " |    |    |    |    |    |    |-- h: long (nullable = true)\n",
      " |    |    |    |    |    |    |-- resize: string (nullable = true)\n",
      " |    |    |    |    |    |    |-- w: long (nullable = true)\n",
      " |    |    |    |    |-- source_status_id: long (nullable = true)\n",
      " |    |    |    |    |-- source_status_id_str: string (nullable = true)\n",
      " |    |    |    |    |-- source_user_id: long (nullable = true)\n",
      " |    |    |    |    |-- source_user_id_str: string (nullable = true)\n",
      " |    |    |    |    |-- type: string (nullable = true)\n",
      " |    |    |    |    |-- url: string (nullable = true)\n",
      " |    |    |    |    |-- video_info: struct (nullable = true)\n",
      " |    |    |    |    |    |-- aspect_ratio: array (nullable = true)\n",
      " |    |    |    |    |    |    |-- element: long (containsNull = true)\n",
      " |    |    |    |    |    |-- duration_millis: long (nullable = true)\n",
      " |    |    |    |    |    |-- variants: array (nullable = true)\n",
      " |    |    |    |    |    |    |-- element: struct (containsNull = true)\n",
      " |    |    |    |    |    |    |    |-- bitrate: long (nullable = true)\n",
      " |    |    |    |    |    |    |    |-- content_type: string (nullable = true)\n",
      " |    |    |    |    |    |    |    |-- url: string (nullable = true)\n",
      " |    |    |-- symbols: array (nullable = true)\n",
      " |    |    |    |-- element: string (containsNull = true)\n",
      " |    |    |-- urls: array (nullable = true)\n",
      " |    |    |    |-- element: struct (containsNull = true)\n",
      " |    |    |    |    |-- display_url: string (nullable = true)\n",
      " |    |    |    |    |-- expanded_url: string (nullable = true)\n",
      " |    |    |    |    |-- indices: array (nullable = true)\n",
      " |    |    |    |    |    |-- element: long (containsNull = true)\n",
      " |    |    |    |    |-- url: string (nullable = true)\n",
      " |    |    |-- user_mentions: array (nullable = true)\n",
      " |    |    |    |-- element: struct (containsNull = true)\n",
      " |    |    |    |    |-- id: long (nullable = true)\n",
      " |    |    |    |    |-- id_str: string (nullable = true)\n",
      " |    |    |    |    |-- indices: array (nullable = true)\n",
      " |    |    |    |    |    |-- element: long (containsNull = true)\n",
      " |    |    |    |    |-- name: string (nullable = true)\n",
      " |    |    |    |    |-- screen_name: string (nullable = true)\n",
      " |    |-- extended_entities: struct (nullable = true)\n",
      " |    |    |-- media: array (nullable = true)\n",
      " |    |    |    |-- element: struct (containsNull = true)\n",
      " |    |    |    |    |-- display_url: string (nullable = true)\n",
      " |    |    |    |    |-- expanded_url: string (nullable = true)\n",
      " |    |    |    |    |-- id: long (nullable = true)\n",
      " |    |    |    |    |-- id_str: string (nullable = true)\n",
      " |    |    |    |    |-- indices: array (nullable = true)\n",
      " |    |    |    |    |    |-- element: long (containsNull = true)\n",
      " |    |    |    |    |-- media_url: string (nullable = true)\n",
      " |    |    |    |    |-- media_url_https: string (nullable = true)\n",
      " |    |    |    |    |-- sizes: struct (nullable = true)\n",
      " |    |    |    |    |    |-- large: struct (nullable = true)\n",
      " |    |    |    |    |    |    |-- h: long (nullable = true)\n",
      " |    |    |    |    |    |    |-- resize: string (nullable = true)\n",
      " |    |    |    |    |    |    |-- w: long (nullable = true)\n",
      " |    |    |    |    |    |-- medium: struct (nullable = true)\n",
      " |    |    |    |    |    |    |-- h: long (nullable = true)\n",
      " |    |    |    |    |    |    |-- resize: string (nullable = true)\n",
      " |    |    |    |    |    |    |-- w: long (nullable = true)\n",
      " |    |    |    |    |    |-- small: struct (nullable = true)\n",
      " |    |    |    |    |    |    |-- h: long (nullable = true)\n",
      " |    |    |    |    |    |    |-- resize: string (nullable = true)\n",
      " |    |    |    |    |    |    |-- w: long (nullable = true)\n",
      " |    |    |    |    |    |-- thumb: struct (nullable = true)\n",
      " |    |    |    |    |    |    |-- h: long (nullable = true)\n",
      " |    |    |    |    |    |    |-- resize: string (nullable = true)\n",
      " |    |    |    |    |    |    |-- w: long (nullable = true)\n",
      " |    |    |    |    |-- source_status_id: long (nullable = true)\n",
      " |    |    |    |    |-- source_status_id_str: string (nullable = true)\n",
      " |    |    |    |    |-- source_user_id: long (nullable = true)\n",
      " |    |    |    |    |-- source_user_id_str: string (nullable = true)\n",
      " |    |    |    |    |-- type: string (nullable = true)\n",
      " |    |    |    |    |-- url: string (nullable = true)\n",
      " |    |    |    |    |-- video_info: struct (nullable = true)\n",
      " |    |    |    |    |    |-- aspect_ratio: array (nullable = true)\n",
      " |    |    |    |    |    |    |-- element: long (containsNull = true)\n",
      " |    |    |    |    |    |-- duration_millis: long (nullable = true)\n",
      " |    |    |    |    |    |-- variants: array (nullable = true)\n",
      " |    |    |    |    |    |    |-- element: struct (containsNull = true)\n",
      " |    |    |    |    |    |    |    |-- bitrate: long (nullable = true)\n",
      " |    |    |    |    |    |    |    |-- content_type: string (nullable = true)\n",
      " |    |    |    |    |    |    |    |-- url: string (nullable = true)\n",
      " |    |-- full_text: string (nullable = true)\n",
      " |-- favorite_count: long (nullable = true)\n",
      " |-- favorited: boolean (nullable = true)\n",
      " |-- filter_level: string (nullable = true)\n",
      " |-- geo: struct (nullable = true)\n",
      " |    |-- coordinates: array (nullable = true)\n",
      " |    |    |-- element: double (containsNull = true)\n",
      " |    |-- type: string (nullable = true)\n",
      " |-- id: long (nullable = true)\n",
      " |-- id_str: string (nullable = true)\n",
      " |-- in_reply_to_screen_name: string (nullable = true)\n",
      " |-- in_reply_to_status_id: long (nullable = true)\n",
      " |-- in_reply_to_status_id_str: string (nullable = true)\n",
      " |-- in_reply_to_user_id: long (nullable = true)\n",
      " |-- in_reply_to_user_id_str: string (nullable = true)\n",
      " |-- is_quote_status: boolean (nullable = true)\n",
      " |-- lang: string (nullable = true)\n",
      " |-- place: struct (nullable = true)\n",
      " |    |-- bounding_box: struct (nullable = true)\n",
      " |    |    |-- coordinates: array (nullable = true)\n",
      " |    |    |    |-- element: array (containsNull = true)\n",
      " |    |    |    |    |-- element: array (containsNull = true)\n",
      " |    |    |    |    |    |-- element: double (containsNull = true)\n",
      " |    |    |-- type: string (nullable = true)\n",
      " |    |-- country: string (nullable = true)\n",
      " |    |-- country_code: string (nullable = true)\n",
      " |    |-- full_name: string (nullable = true)\n",
      " |    |-- id: string (nullable = true)\n",
      " |    |-- name: string (nullable = true)\n",
      " |    |-- place_type: string (nullable = true)\n",
      " |    |-- url: string (nullable = true)\n",
      " |-- possibly_sensitive: boolean (nullable = true)\n",
      " |-- quote_count: long (nullable = true)\n",
      " |-- quoted_status: struct (nullable = true)\n",
      " |    |-- contributors: string (nullable = true)\n",
      " |    |-- coordinates: struct (nullable = true)\n",
      " |    |    |-- coordinates: array (nullable = true)\n",
      " |    |    |    |-- element: double (containsNull = true)\n",
      " |    |    |-- type: string (nullable = true)\n",
      " |    |-- created_at: string (nullable = true)\n",
      " |    |-- display_text_range: array (nullable = true)\n",
      " |    |    |-- element: long (containsNull = true)\n",
      " |    |-- entities: struct (nullable = true)\n",
      " |    |    |-- hashtags: array (nullable = true)\n",
      " |    |    |    |-- element: struct (containsNull = true)\n",
      " |    |    |    |    |-- indices: array (nullable = true)\n",
      " |    |    |    |    |    |-- element: long (containsNull = true)\n",
      " |    |    |    |    |-- text: string (nullable = true)\n",
      " |    |    |-- media: array (nullable = true)\n",
      " |    |    |    |-- element: struct (containsNull = true)\n",
      " |    |    |    |    |-- description: string (nullable = true)\n",
      " |    |    |    |    |-- display_url: string (nullable = true)\n",
      " |    |    |    |    |-- expanded_url: string (nullable = true)\n",
      " |    |    |    |    |-- id: long (nullable = true)\n",
      " |    |    |    |    |-- id_str: string (nullable = true)\n",
      " |    |    |    |    |-- indices: array (nullable = true)\n",
      " |    |    |    |    |    |-- element: long (containsNull = true)\n",
      " |    |    |    |    |-- media_url: string (nullable = true)\n",
      " |    |    |    |    |-- media_url_https: string (nullable = true)\n",
      " |    |    |    |    |-- sizes: struct (nullable = true)\n",
      " |    |    |    |    |    |-- large: struct (nullable = true)\n",
      " |    |    |    |    |    |    |-- h: long (nullable = true)\n",
      " |    |    |    |    |    |    |-- resize: string (nullable = true)\n",
      " |    |    |    |    |    |    |-- w: long (nullable = true)\n",
      " |    |    |    |    |    |-- medium: struct (nullable = true)\n",
      " |    |    |    |    |    |    |-- h: long (nullable = true)\n",
      " |    |    |    |    |    |    |-- resize: string (nullable = true)\n",
      " |    |    |    |    |    |    |-- w: long (nullable = true)\n",
      " |    |    |    |    |    |-- small: struct (nullable = true)\n",
      " |    |    |    |    |    |    |-- h: long (nullable = true)\n",
      " |    |    |    |    |    |    |-- resize: string (nullable = true)\n",
      " |    |    |    |    |    |    |-- w: long (nullable = true)\n",
      " |    |    |    |    |    |-- thumb: struct (nullable = true)\n",
      " |    |    |    |    |    |    |-- h: long (nullable = true)\n",
      " |    |    |    |    |    |    |-- resize: string (nullable = true)\n",
      " |    |    |    |    |    |    |-- w: long (nullable = true)\n",
      " |    |    |    |    |-- source_status_id: long (nullable = true)\n",
      " |    |    |    |    |-- source_status_id_str: string (nullable = true)\n",
      " |    |    |    |    |-- source_user_id: long (nullable = true)\n",
      " |    |    |    |    |-- source_user_id_str: string (nullable = true)\n",
      " |    |    |    |    |-- type: string (nullable = true)\n",
      " |    |    |    |    |-- url: string (nullable = true)\n",
      " |    |    |-- symbols: array (nullable = true)\n",
      " |    |    |    |-- element: string (containsNull = true)\n",
      " |    |    |-- urls: array (nullable = true)\n",
      " |    |    |    |-- element: struct (containsNull = true)\n",
      " |    |    |    |    |-- display_url: string (nullable = true)\n",
      " |    |    |    |    |-- expanded_url: string (nullable = true)\n",
      " |    |    |    |    |-- indices: array (nullable = true)\n",
      " |    |    |    |    |    |-- element: long (containsNull = true)\n",
      " |    |    |    |    |-- url: string (nullable = true)\n",
      " |    |    |-- user_mentions: array (nullable = true)\n",
      " |    |    |    |-- element: struct (containsNull = true)\n",
      " |    |    |    |    |-- id: long (nullable = true)\n",
      " |    |    |    |    |-- id_str: string (nullable = true)\n",
      " |    |    |    |    |-- indices: array (nullable = true)\n",
      " |    |    |    |    |    |-- element: long (containsNull = true)\n",
      " |    |    |    |    |-- name: string (nullable = true)\n",
      " |    |    |    |    |-- screen_name: string (nullable = true)\n",
      " |    |-- extended_entities: struct (nullable = true)\n",
      " |    |    |-- media: array (nullable = true)\n",
      " |    |    |    |-- element: struct (containsNull = true)\n",
      " |    |    |    |    |-- description: string (nullable = true)\n",
      " |    |    |    |    |-- display_url: string (nullable = true)\n",
      " |    |    |    |    |-- expanded_url: string (nullable = true)\n",
      " |    |    |    |    |-- id: long (nullable = true)\n",
      " |    |    |    |    |-- id_str: string (nullable = true)\n",
      " |    |    |    |    |-- indices: array (nullable = true)\n",
      " |    |    |    |    |    |-- element: long (containsNull = true)\n",
      " |    |    |    |    |-- media_url: string (nullable = true)\n",
      " |    |    |    |    |-- media_url_https: string (nullable = true)\n",
      " |    |    |    |    |-- sizes: struct (nullable = true)\n",
      " |    |    |    |    |    |-- large: struct (nullable = true)\n",
      " |    |    |    |    |    |    |-- h: long (nullable = true)\n",
      " |    |    |    |    |    |    |-- resize: string (nullable = true)\n",
      " |    |    |    |    |    |    |-- w: long (nullable = true)\n",
      " |    |    |    |    |    |-- medium: struct (nullable = true)\n",
      " |    |    |    |    |    |    |-- h: long (nullable = true)\n",
      " |    |    |    |    |    |    |-- resize: string (nullable = true)\n",
      " |    |    |    |    |    |    |-- w: long (nullable = true)\n",
      " |    |    |    |    |    |-- small: struct (nullable = true)\n",
      " |    |    |    |    |    |    |-- h: long (nullable = true)\n",
      " |    |    |    |    |    |    |-- resize: string (nullable = true)\n",
      " |    |    |    |    |    |    |-- w: long (nullable = true)\n",
      " |    |    |    |    |    |-- thumb: struct (nullable = true)\n",
      " |    |    |    |    |    |    |-- h: long (nullable = true)\n",
      " |    |    |    |    |    |    |-- resize: string (nullable = true)\n",
      " |    |    |    |    |    |    |-- w: long (nullable = true)\n",
      " |    |    |    |    |-- source_status_id: long (nullable = true)\n",
      " |    |    |    |    |-- source_status_id_str: string (nullable = true)\n",
      " |    |    |    |    |-- source_user_id: long (nullable = true)\n",
      " |    |    |    |    |-- source_user_id_str: string (nullable = true)\n",
      " |    |    |    |    |-- type: string (nullable = true)\n",
      " |    |    |    |    |-- url: string (nullable = true)\n",
      " |    |    |    |    |-- video_info: struct (nullable = true)\n",
      " |    |    |    |    |    |-- aspect_ratio: array (nullable = true)\n",
      " |    |    |    |    |    |    |-- element: long (containsNull = true)\n",
      " |    |    |    |    |    |-- duration_millis: long (nullable = true)\n",
      " |    |    |    |    |    |-- variants: array (nullable = true)\n",
      " |    |    |    |    |    |    |-- element: struct (containsNull = true)\n",
      " |    |    |    |    |    |    |    |-- bitrate: long (nullable = true)\n",
      " |    |    |    |    |    |    |    |-- content_type: string (nullable = true)\n",
      " |    |    |    |    |    |    |    |-- url: string (nullable = true)\n",
      " |    |-- extended_tweet: struct (nullable = true)\n",
      " |    |    |-- display_text_range: array (nullable = true)\n",
      " |    |    |    |-- element: long (containsNull = true)\n",
      " |    |    |-- entities: struct (nullable = true)\n",
      " |    |    |    |-- hashtags: array (nullable = true)\n",
      " |    |    |    |    |-- element: struct (containsNull = true)\n",
      " |    |    |    |    |    |-- indices: array (nullable = true)\n",
      " |    |    |    |    |    |    |-- element: long (containsNull = true)\n",
      " |    |    |    |    |    |-- text: string (nullable = true)\n",
      " |    |    |    |-- media: array (nullable = true)\n",
      " |    |    |    |    |-- element: struct (containsNull = true)\n",
      " |    |    |    |    |    |-- display_url: string (nullable = true)\n",
      " |    |    |    |    |    |-- expanded_url: string (nullable = true)\n",
      " |    |    |    |    |    |-- id: long (nullable = true)\n",
      " |    |    |    |    |    |-- id_str: string (nullable = true)\n",
      " |    |    |    |    |    |-- indices: array (nullable = true)\n",
      " |    |    |    |    |    |    |-- element: long (containsNull = true)\n",
      " |    |    |    |    |    |-- media_url: string (nullable = true)\n",
      " |    |    |    |    |    |-- media_url_https: string (nullable = true)\n",
      " |    |    |    |    |    |-- sizes: struct (nullable = true)\n",
      " |    |    |    |    |    |    |-- large: struct (nullable = true)\n",
      " |    |    |    |    |    |    |    |-- h: long (nullable = true)\n",
      " |    |    |    |    |    |    |    |-- resize: string (nullable = true)\n",
      " |    |    |    |    |    |    |    |-- w: long (nullable = true)\n",
      " |    |    |    |    |    |    |-- medium: struct (nullable = true)\n",
      " |    |    |    |    |    |    |    |-- h: long (nullable = true)\n",
      " |    |    |    |    |    |    |    |-- resize: string (nullable = true)\n",
      " |    |    |    |    |    |    |    |-- w: long (nullable = true)\n",
      " |    |    |    |    |    |    |-- small: struct (nullable = true)\n",
      " |    |    |    |    |    |    |    |-- h: long (nullable = true)\n",
      " |    |    |    |    |    |    |    |-- resize: string (nullable = true)\n",
      " |    |    |    |    |    |    |    |-- w: long (nullable = true)\n",
      " |    |    |    |    |    |    |-- thumb: struct (nullable = true)\n",
      " |    |    |    |    |    |    |    |-- h: long (nullable = true)\n",
      " |    |    |    |    |    |    |    |-- resize: string (nullable = true)\n",
      " |    |    |    |    |    |    |    |-- w: long (nullable = true)\n",
      " |    |    |    |    |    |-- source_status_id: long (nullable = true)\n",
      " |    |    |    |    |    |-- source_status_id_str: string (nullable = true)\n",
      " |    |    |    |    |    |-- source_user_id: long (nullable = true)\n",
      " |    |    |    |    |    |-- source_user_id_str: string (nullable = true)\n",
      " |    |    |    |    |    |-- type: string (nullable = true)\n",
      " |    |    |    |    |    |-- url: string (nullable = true)\n",
      " |    |    |    |    |    |-- video_info: struct (nullable = true)\n",
      " |    |    |    |    |    |    |-- aspect_ratio: array (nullable = true)\n",
      " |    |    |    |    |    |    |    |-- element: long (containsNull = true)\n",
      " |    |    |    |    |    |    |-- duration_millis: long (nullable = true)\n",
      " |    |    |    |    |    |    |-- variants: array (nullable = true)\n",
      " |    |    |    |    |    |    |    |-- element: struct (containsNull = true)\n",
      " |    |    |    |    |    |    |    |    |-- bitrate: long (nullable = true)\n",
      " |    |    |    |    |    |    |    |    |-- content_type: string (nullable = true)\n",
      " |    |    |    |    |    |    |    |    |-- url: string (nullable = true)\n",
      " |    |    |    |-- symbols: array (nullable = true)\n",
      " |    |    |    |    |-- element: string (containsNull = true)\n",
      " |    |    |    |-- urls: array (nullable = true)\n",
      " |    |    |    |    |-- element: struct (containsNull = true)\n",
      " |    |    |    |    |    |-- display_url: string (nullable = true)\n",
      " |    |    |    |    |    |-- expanded_url: string (nullable = true)\n",
      " |    |    |    |    |    |-- indices: array (nullable = true)\n",
      " |    |    |    |    |    |    |-- element: long (containsNull = true)\n",
      " |    |    |    |    |    |-- url: string (nullable = true)\n",
      " |    |    |    |-- user_mentions: array (nullable = true)\n",
      " |    |    |    |    |-- element: struct (containsNull = true)\n",
      " |    |    |    |    |    |-- id: long (nullable = true)\n",
      " |    |    |    |    |    |-- id_str: string (nullable = true)\n",
      " |    |    |    |    |    |-- indices: array (nullable = true)\n",
      " |    |    |    |    |    |    |-- element: long (containsNull = true)\n",
      " |    |    |    |    |    |-- name: string (nullable = true)\n",
      " |    |    |    |    |    |-- screen_name: string (nullable = true)\n",
      " |    |    |-- extended_entities: struct (nullable = true)\n",
      " |    |    |    |-- media: array (nullable = true)\n",
      " |    |    |    |    |-- element: struct (containsNull = true)\n",
      " |    |    |    |    |    |-- display_url: string (nullable = true)\n",
      " |    |    |    |    |    |-- expanded_url: string (nullable = true)\n",
      " |    |    |    |    |    |-- id: long (nullable = true)\n",
      " |    |    |    |    |    |-- id_str: string (nullable = true)\n",
      " |    |    |    |    |    |-- indices: array (nullable = true)\n",
      " |    |    |    |    |    |    |-- element: long (containsNull = true)\n",
      " |    |    |    |    |    |-- media_url: string (nullable = true)\n",
      " |    |    |    |    |    |-- media_url_https: string (nullable = true)\n",
      " |    |    |    |    |    |-- sizes: struct (nullable = true)\n",
      " |    |    |    |    |    |    |-- large: struct (nullable = true)\n",
      " |    |    |    |    |    |    |    |-- h: long (nullable = true)\n",
      " |    |    |    |    |    |    |    |-- resize: string (nullable = true)\n",
      " |    |    |    |    |    |    |    |-- w: long (nullable = true)\n",
      " |    |    |    |    |    |    |-- medium: struct (nullable = true)\n",
      " |    |    |    |    |    |    |    |-- h: long (nullable = true)\n",
      " |    |    |    |    |    |    |    |-- resize: string (nullable = true)\n",
      " |    |    |    |    |    |    |    |-- w: long (nullable = true)\n",
      " |    |    |    |    |    |    |-- small: struct (nullable = true)\n",
      " |    |    |    |    |    |    |    |-- h: long (nullable = true)\n",
      " |    |    |    |    |    |    |    |-- resize: string (nullable = true)\n",
      " |    |    |    |    |    |    |    |-- w: long (nullable = true)\n",
      " |    |    |    |    |    |    |-- thumb: struct (nullable = true)\n",
      " |    |    |    |    |    |    |    |-- h: long (nullable = true)\n",
      " |    |    |    |    |    |    |    |-- resize: string (nullable = true)\n",
      " |    |    |    |    |    |    |    |-- w: long (nullable = true)\n",
      " |    |    |    |    |    |-- source_status_id: long (nullable = true)\n",
      " |    |    |    |    |    |-- source_status_id_str: string (nullable = true)\n",
      " |    |    |    |    |    |-- source_user_id: long (nullable = true)\n",
      " |    |    |    |    |    |-- source_user_id_str: string (nullable = true)\n",
      " |    |    |    |    |    |-- type: string (nullable = true)\n",
      " |    |    |    |    |    |-- url: string (nullable = true)\n",
      " |    |    |    |    |    |-- video_info: struct (nullable = true)\n",
      " |    |    |    |    |    |    |-- aspect_ratio: array (nullable = true)\n",
      " |    |    |    |    |    |    |    |-- element: long (containsNull = true)\n",
      " |    |    |    |    |    |    |-- duration_millis: long (nullable = true)\n",
      " |    |    |    |    |    |    |-- variants: array (nullable = true)\n",
      " |    |    |    |    |    |    |    |-- element: struct (containsNull = true)\n",
      " |    |    |    |    |    |    |    |    |-- bitrate: long (nullable = true)\n",
      " |    |    |    |    |    |    |    |    |-- content_type: string (nullable = true)\n",
      " |    |    |    |    |    |    |    |    |-- url: string (nullable = true)\n",
      " |    |    |-- full_text: string (nullable = true)\n",
      " |    |-- favorite_count: long (nullable = true)\n",
      " |    |-- favorited: boolean (nullable = true)\n",
      " |    |-- filter_level: string (nullable = true)\n",
      " |    |-- geo: struct (nullable = true)\n",
      " |    |    |-- coordinates: array (nullable = true)\n",
      " |    |    |    |-- element: double (containsNull = true)\n",
      " |    |    |-- type: string (nullable = true)\n",
      " |    |-- id: long (nullable = true)\n",
      " |    |-- id_str: string (nullable = true)\n",
      " |    |-- in_reply_to_screen_name: string (nullable = true)\n",
      " |    |-- in_reply_to_status_id: long (nullable = true)\n",
      " |    |-- in_reply_to_status_id_str: string (nullable = true)\n",
      " |    |-- in_reply_to_user_id: long (nullable = true)\n",
      " |    |-- in_reply_to_user_id_str: string (nullable = true)\n",
      " |    |-- is_quote_status: boolean (nullable = true)\n",
      " |    |-- lang: string (nullable = true)\n",
      " |    |-- place: struct (nullable = true)\n",
      " |    |    |-- bounding_box: struct (nullable = true)\n",
      " |    |    |    |-- coordinates: array (nullable = true)\n",
      " |    |    |    |    |-- element: array (containsNull = true)\n",
      " |    |    |    |    |    |-- element: array (containsNull = true)\n",
      " |    |    |    |    |    |    |-- element: double (containsNull = true)\n",
      " |    |    |    |-- type: string (nullable = true)\n",
      " |    |    |-- country: string (nullable = true)\n",
      " |    |    |-- country_code: string (nullable = true)\n",
      " |    |    |-- full_name: string (nullable = true)\n",
      " |    |    |-- id: string (nullable = true)\n",
      " |    |    |-- name: string (nullable = true)\n",
      " |    |    |-- place_type: string (nullable = true)\n",
      " |    |    |-- url: string (nullable = true)\n",
      " |    |-- possibly_sensitive: boolean (nullable = true)\n",
      " |    |-- quote_count: long (nullable = true)\n",
      " |    |-- quoted_status_id: long (nullable = true)\n",
      " |    |-- quoted_status_id_str: string (nullable = true)\n",
      " |    |-- reply_count: long (nullable = true)\n",
      " |    |-- retweet_count: long (nullable = true)\n",
      " |    |-- retweeted: boolean (nullable = true)\n",
      " |    |-- scopes: struct (nullable = true)\n",
      " |    |    |-- followers: boolean (nullable = true)\n",
      " |    |-- source: string (nullable = true)\n",
      " |    |-- text: string (nullable = true)\n",
      " |    |-- truncated: boolean (nullable = true)\n",
      " |    |-- user: struct (nullable = true)\n",
      " |    |    |-- contributors_enabled: boolean (nullable = true)\n",
      " |    |    |-- created_at: string (nullable = true)\n",
      " |    |    |-- default_profile: boolean (nullable = true)\n",
      " |    |    |-- default_profile_image: boolean (nullable = true)\n",
      " |    |    |-- description: string (nullable = true)\n",
      " |    |    |-- favourites_count: long (nullable = true)\n",
      " |    |    |-- follow_request_sent: string (nullable = true)\n",
      " |    |    |-- followers_count: long (nullable = true)\n",
      " |    |    |-- following: string (nullable = true)\n",
      " |    |    |-- friends_count: long (nullable = true)\n",
      " |    |    |-- geo_enabled: boolean (nullable = true)\n",
      " |    |    |-- id: long (nullable = true)\n",
      " |    |    |-- id_str: string (nullable = true)\n",
      " |    |    |-- is_translator: boolean (nullable = true)\n",
      " |    |    |-- lang: string (nullable = true)\n",
      " |    |    |-- listed_count: long (nullable = true)\n",
      " |    |    |-- location: string (nullable = true)\n",
      " |    |    |-- name: string (nullable = true)\n",
      " |    |    |-- notifications: string (nullable = true)\n",
      " |    |    |-- profile_background_color: string (nullable = true)\n",
      " |    |    |-- profile_background_image_url: string (nullable = true)\n",
      " |    |    |-- profile_background_image_url_https: string (nullable = true)\n",
      " |    |    |-- profile_background_tile: boolean (nullable = true)\n",
      " |    |    |-- profile_banner_url: string (nullable = true)\n",
      " |    |    |-- profile_image_url: string (nullable = true)\n",
      " |    |    |-- profile_image_url_https: string (nullable = true)\n",
      " |    |    |-- profile_link_color: string (nullable = true)\n",
      " |    |    |-- profile_sidebar_border_color: string (nullable = true)\n",
      " |    |    |-- profile_sidebar_fill_color: string (nullable = true)\n",
      " |    |    |-- profile_text_color: string (nullable = true)\n",
      " |    |    |-- profile_use_background_image: boolean (nullable = true)\n",
      " |    |    |-- protected: boolean (nullable = true)\n",
      " |    |    |-- screen_name: string (nullable = true)\n",
      " |    |    |-- statuses_count: long (nullable = true)\n",
      " |    |    |-- time_zone: string (nullable = true)\n",
      " |    |    |-- translator_type: string (nullable = true)\n",
      " |    |    |-- url: string (nullable = true)\n",
      " |    |    |-- utc_offset: long (nullable = true)\n",
      " |    |    |-- verified: boolean (nullable = true)\n",
      " |-- quoted_status_id: long (nullable = true)\n",
      " |-- quoted_status_id_str: string (nullable = true)\n",
      " |-- reply_count: long (nullable = true)\n",
      " |-- retweet_count: long (nullable = true)\n",
      " |-- retweeted: boolean (nullable = true)\n",
      " |-- retweeted_status: struct (nullable = true)\n",
      " |    |-- contributors: string (nullable = true)\n",
      " |    |-- coordinates: struct (nullable = true)\n",
      " |    |    |-- coordinates: array (nullable = true)\n",
      " |    |    |    |-- element: double (containsNull = true)\n",
      " |    |    |-- type: string (nullable = true)\n",
      " |    |-- created_at: string (nullable = true)\n",
      " |    |-- display_text_range: array (nullable = true)\n",
      " |    |    |-- element: long (containsNull = true)\n",
      " |    |-- entities: struct (nullable = true)\n",
      " |    |    |-- hashtags: array (nullable = true)\n",
      " |    |    |    |-- element: struct (containsNull = true)\n",
      " |    |    |    |    |-- indices: array (nullable = true)\n",
      " |    |    |    |    |    |-- element: long (containsNull = true)\n",
      " |    |    |    |    |-- text: string (nullable = true)\n",
      " |    |    |-- media: array (nullable = true)\n",
      " |    |    |    |-- element: struct (containsNull = true)\n",
      " |    |    |    |    |-- display_url: string (nullable = true)\n",
      " |    |    |    |    |-- expanded_url: string (nullable = true)\n",
      " |    |    |    |    |-- id: long (nullable = true)\n",
      " |    |    |    |    |-- id_str: string (nullable = true)\n",
      " |    |    |    |    |-- indices: array (nullable = true)\n",
      " |    |    |    |    |    |-- element: long (containsNull = true)\n",
      " |    |    |    |    |-- media_url: string (nullable = true)\n",
      " |    |    |    |    |-- media_url_https: string (nullable = true)\n",
      " |    |    |    |    |-- sizes: struct (nullable = true)\n",
      " |    |    |    |    |    |-- large: struct (nullable = true)\n",
      " |    |    |    |    |    |    |-- h: long (nullable = true)\n",
      " |    |    |    |    |    |    |-- resize: string (nullable = true)\n",
      " |    |    |    |    |    |    |-- w: long (nullable = true)\n",
      " |    |    |    |    |    |-- medium: struct (nullable = true)\n",
      " |    |    |    |    |    |    |-- h: long (nullable = true)\n",
      " |    |    |    |    |    |    |-- resize: string (nullable = true)\n",
      " |    |    |    |    |    |    |-- w: long (nullable = true)\n",
      " |    |    |    |    |    |-- small: struct (nullable = true)\n",
      " |    |    |    |    |    |    |-- h: long (nullable = true)\n",
      " |    |    |    |    |    |    |-- resize: string (nullable = true)\n",
      " |    |    |    |    |    |    |-- w: long (nullable = true)\n",
      " |    |    |    |    |    |-- thumb: struct (nullable = true)\n",
      " |    |    |    |    |    |    |-- h: long (nullable = true)\n",
      " |    |    |    |    |    |    |-- resize: string (nullable = true)\n",
      " |    |    |    |    |    |    |-- w: long (nullable = true)\n",
      " |    |    |    |    |-- source_status_id: long (nullable = true)\n",
      " |    |    |    |    |-- source_status_id_str: string (nullable = true)\n",
      " |    |    |    |    |-- source_user_id: long (nullable = true)\n",
      " |    |    |    |    |-- source_user_id_str: string (nullable = true)\n",
      " |    |    |    |    |-- type: string (nullable = true)\n",
      " |    |    |    |    |-- url: string (nullable = true)\n",
      " |    |    |-- symbols: array (nullable = true)\n",
      " |    |    |    |-- element: struct (containsNull = true)\n",
      " |    |    |    |    |-- indices: array (nullable = true)\n",
      " |    |    |    |    |    |-- element: long (containsNull = true)\n",
      " |    |    |    |    |-- text: string (nullable = true)\n",
      " |    |    |-- urls: array (nullable = true)\n",
      " |    |    |    |-- element: struct (containsNull = true)\n",
      " |    |    |    |    |-- display_url: string (nullable = true)\n",
      " |    |    |    |    |-- expanded_url: string (nullable = true)\n",
      " |    |    |    |    |-- indices: array (nullable = true)\n",
      " |    |    |    |    |    |-- element: long (containsNull = true)\n",
      " |    |    |    |    |-- url: string (nullable = true)\n",
      " |    |    |-- user_mentions: array (nullable = true)\n",
      " |    |    |    |-- element: struct (containsNull = true)\n",
      " |    |    |    |    |-- id: long (nullable = true)\n",
      " |    |    |    |    |-- id_str: string (nullable = true)\n",
      " |    |    |    |    |-- indices: array (nullable = true)\n",
      " |    |    |    |    |    |-- element: long (containsNull = true)\n",
      " |    |    |    |    |-- name: string (nullable = true)\n",
      " |    |    |    |    |-- screen_name: string (nullable = true)\n",
      " |    |-- extended_entities: struct (nullable = true)\n",
      " |    |    |-- media: array (nullable = true)\n",
      " |    |    |    |-- element: struct (containsNull = true)\n",
      " |    |    |    |    |-- display_url: string (nullable = true)\n",
      " |    |    |    |    |-- expanded_url: string (nullable = true)\n",
      " |    |    |    |    |-- id: long (nullable = true)\n",
      " |    |    |    |    |-- id_str: string (nullable = true)\n",
      " |    |    |    |    |-- indices: array (nullable = true)\n",
      " |    |    |    |    |    |-- element: long (containsNull = true)\n",
      " |    |    |    |    |-- media_url: string (nullable = true)\n",
      " |    |    |    |    |-- media_url_https: string (nullable = true)\n",
      " |    |    |    |    |-- sizes: struct (nullable = true)\n",
      " |    |    |    |    |    |-- large: struct (nullable = true)\n",
      " |    |    |    |    |    |    |-- h: long (nullable = true)\n",
      " |    |    |    |    |    |    |-- resize: string (nullable = true)\n",
      " |    |    |    |    |    |    |-- w: long (nullable = true)\n",
      " |    |    |    |    |    |-- medium: struct (nullable = true)\n",
      " |    |    |    |    |    |    |-- h: long (nullable = true)\n",
      " |    |    |    |    |    |    |-- resize: string (nullable = true)\n",
      " |    |    |    |    |    |    |-- w: long (nullable = true)\n",
      " |    |    |    |    |    |-- small: struct (nullable = true)\n",
      " |    |    |    |    |    |    |-- h: long (nullable = true)\n",
      " |    |    |    |    |    |    |-- resize: string (nullable = true)\n",
      " |    |    |    |    |    |    |-- w: long (nullable = true)\n",
      " |    |    |    |    |    |-- thumb: struct (nullable = true)\n",
      " |    |    |    |    |    |    |-- h: long (nullable = true)\n",
      " |    |    |    |    |    |    |-- resize: string (nullable = true)\n",
      " |    |    |    |    |    |    |-- w: long (nullable = true)\n",
      " |    |    |    |    |-- source_status_id: long (nullable = true)\n",
      " |    |    |    |    |-- source_status_id_str: string (nullable = true)\n",
      " |    |    |    |    |-- source_user_id: long (nullable = true)\n",
      " |    |    |    |    |-- source_user_id_str: string (nullable = true)\n",
      " |    |    |    |    |-- type: string (nullable = true)\n",
      " |    |    |    |    |-- url: string (nullable = true)\n",
      " |    |    |    |    |-- video_info: struct (nullable = true)\n",
      " |    |    |    |    |    |-- aspect_ratio: array (nullable = true)\n",
      " |    |    |    |    |    |    |-- element: long (containsNull = true)\n",
      " |    |    |    |    |    |-- duration_millis: long (nullable = true)\n",
      " |    |    |    |    |    |-- variants: array (nullable = true)\n",
      " |    |    |    |    |    |    |-- element: struct (containsNull = true)\n",
      " |    |    |    |    |    |    |    |-- bitrate: long (nullable = true)\n",
      " |    |    |    |    |    |    |    |-- content_type: string (nullable = true)\n",
      " |    |    |    |    |    |    |    |-- url: string (nullable = true)\n",
      " |    |-- extended_tweet: struct (nullable = true)\n",
      " |    |    |-- display_text_range: array (nullable = true)\n",
      " |    |    |    |-- element: long (containsNull = true)\n",
      " |    |    |-- entities: struct (nullable = true)\n",
      " |    |    |    |-- hashtags: array (nullable = true)\n",
      " |    |    |    |    |-- element: struct (containsNull = true)\n",
      " |    |    |    |    |    |-- indices: array (nullable = true)\n",
      " |    |    |    |    |    |    |-- element: long (containsNull = true)\n",
      " |    |    |    |    |    |-- text: string (nullable = true)\n",
      " |    |    |    |-- media: array (nullable = true)\n",
      " |    |    |    |    |-- element: struct (containsNull = true)\n",
      " |    |    |    |    |    |-- description: string (nullable = true)\n",
      " |    |    |    |    |    |-- display_url: string (nullable = true)\n",
      " |    |    |    |    |    |-- expanded_url: string (nullable = true)\n",
      " |    |    |    |    |    |-- id: long (nullable = true)\n",
      " |    |    |    |    |    |-- id_str: string (nullable = true)\n",
      " |    |    |    |    |    |-- indices: array (nullable = true)\n",
      " |    |    |    |    |    |    |-- element: long (containsNull = true)\n",
      " |    |    |    |    |    |-- media_url: string (nullable = true)\n",
      " |    |    |    |    |    |-- media_url_https: string (nullable = true)\n",
      " |    |    |    |    |    |-- sizes: struct (nullable = true)\n",
      " |    |    |    |    |    |    |-- large: struct (nullable = true)\n",
      " |    |    |    |    |    |    |    |-- h: long (nullable = true)\n",
      " |    |    |    |    |    |    |    |-- resize: string (nullable = true)\n",
      " |    |    |    |    |    |    |    |-- w: long (nullable = true)\n",
      " |    |    |    |    |    |    |-- medium: struct (nullable = true)\n",
      " |    |    |    |    |    |    |    |-- h: long (nullable = true)\n",
      " |    |    |    |    |    |    |    |-- resize: string (nullable = true)\n",
      " |    |    |    |    |    |    |    |-- w: long (nullable = true)\n",
      " |    |    |    |    |    |    |-- small: struct (nullable = true)\n",
      " |    |    |    |    |    |    |    |-- h: long (nullable = true)\n",
      " |    |    |    |    |    |    |    |-- resize: string (nullable = true)\n",
      " |    |    |    |    |    |    |    |-- w: long (nullable = true)\n",
      " |    |    |    |    |    |    |-- thumb: struct (nullable = true)\n",
      " |    |    |    |    |    |    |    |-- h: long (nullable = true)\n",
      " |    |    |    |    |    |    |    |-- resize: string (nullable = true)\n",
      " |    |    |    |    |    |    |    |-- w: long (nullable = true)\n",
      " |    |    |    |    |    |-- source_status_id: long (nullable = true)\n",
      " |    |    |    |    |    |-- source_status_id_str: string (nullable = true)\n",
      " |    |    |    |    |    |-- source_user_id: long (nullable = true)\n",
      " |    |    |    |    |    |-- source_user_id_str: string (nullable = true)\n",
      " |    |    |    |    |    |-- type: string (nullable = true)\n",
      " |    |    |    |    |    |-- url: string (nullable = true)\n",
      " |    |    |    |    |    |-- video_info: struct (nullable = true)\n",
      " |    |    |    |    |    |    |-- aspect_ratio: array (nullable = true)\n",
      " |    |    |    |    |    |    |    |-- element: long (containsNull = true)\n",
      " |    |    |    |    |    |    |-- duration_millis: long (nullable = true)\n",
      " |    |    |    |    |    |    |-- variants: array (nullable = true)\n",
      " |    |    |    |    |    |    |    |-- element: struct (containsNull = true)\n",
      " |    |    |    |    |    |    |    |    |-- bitrate: long (nullable = true)\n",
      " |    |    |    |    |    |    |    |    |-- content_type: string (nullable = true)\n",
      " |    |    |    |    |    |    |    |    |-- url: string (nullable = true)\n",
      " |    |    |    |-- symbols: array (nullable = true)\n",
      " |    |    |    |    |-- element: string (containsNull = true)\n",
      " |    |    |    |-- urls: array (nullable = true)\n",
      " |    |    |    |    |-- element: struct (containsNull = true)\n",
      " |    |    |    |    |    |-- display_url: string (nullable = true)\n",
      " |    |    |    |    |    |-- expanded_url: string (nullable = true)\n",
      " |    |    |    |    |    |-- indices: array (nullable = true)\n",
      " |    |    |    |    |    |    |-- element: long (containsNull = true)\n",
      " |    |    |    |    |    |-- url: string (nullable = true)\n",
      " |    |    |    |-- user_mentions: array (nullable = true)\n",
      " |    |    |    |    |-- element: struct (containsNull = true)\n",
      " |    |    |    |    |    |-- id: long (nullable = true)\n",
      " |    |    |    |    |    |-- id_str: string (nullable = true)\n",
      " |    |    |    |    |    |-- indices: array (nullable = true)\n",
      " |    |    |    |    |    |    |-- element: long (containsNull = true)\n",
      " |    |    |    |    |    |-- name: string (nullable = true)\n",
      " |    |    |    |    |    |-- screen_name: string (nullable = true)\n",
      " |    |    |-- extended_entities: struct (nullable = true)\n",
      " |    |    |    |-- media: array (nullable = true)\n",
      " |    |    |    |    |-- element: struct (containsNull = true)\n",
      " |    |    |    |    |    |-- description: string (nullable = true)\n",
      " |    |    |    |    |    |-- display_url: string (nullable = true)\n",
      " |    |    |    |    |    |-- expanded_url: string (nullable = true)\n",
      " |    |    |    |    |    |-- id: long (nullable = true)\n",
      " |    |    |    |    |    |-- id_str: string (nullable = true)\n",
      " |    |    |    |    |    |-- indices: array (nullable = true)\n",
      " |    |    |    |    |    |    |-- element: long (containsNull = true)\n",
      " |    |    |    |    |    |-- media_url: string (nullable = true)\n",
      " |    |    |    |    |    |-- media_url_https: string (nullable = true)\n",
      " |    |    |    |    |    |-- sizes: struct (nullable = true)\n",
      " |    |    |    |    |    |    |-- large: struct (nullable = true)\n",
      " |    |    |    |    |    |    |    |-- h: long (nullable = true)\n",
      " |    |    |    |    |    |    |    |-- resize: string (nullable = true)\n",
      " |    |    |    |    |    |    |    |-- w: long (nullable = true)\n",
      " |    |    |    |    |    |    |-- medium: struct (nullable = true)\n",
      " |    |    |    |    |    |    |    |-- h: long (nullable = true)\n",
      " |    |    |    |    |    |    |    |-- resize: string (nullable = true)\n",
      " |    |    |    |    |    |    |    |-- w: long (nullable = true)\n",
      " |    |    |    |    |    |    |-- small: struct (nullable = true)\n",
      " |    |    |    |    |    |    |    |-- h: long (nullable = true)\n",
      " |    |    |    |    |    |    |    |-- resize: string (nullable = true)\n",
      " |    |    |    |    |    |    |    |-- w: long (nullable = true)\n",
      " |    |    |    |    |    |    |-- thumb: struct (nullable = true)\n",
      " |    |    |    |    |    |    |    |-- h: long (nullable = true)\n",
      " |    |    |    |    |    |    |    |-- resize: string (nullable = true)\n",
      " |    |    |    |    |    |    |    |-- w: long (nullable = true)\n",
      " |    |    |    |    |    |-- source_status_id: long (nullable = true)\n",
      " |    |    |    |    |    |-- source_status_id_str: string (nullable = true)\n",
      " |    |    |    |    |    |-- source_user_id: long (nullable = true)\n",
      " |    |    |    |    |    |-- source_user_id_str: string (nullable = true)\n",
      " |    |    |    |    |    |-- type: string (nullable = true)\n",
      " |    |    |    |    |    |-- url: string (nullable = true)\n",
      " |    |    |    |    |    |-- video_info: struct (nullable = true)\n",
      " |    |    |    |    |    |    |-- aspect_ratio: array (nullable = true)\n",
      " |    |    |    |    |    |    |    |-- element: long (containsNull = true)\n",
      " |    |    |    |    |    |    |-- duration_millis: long (nullable = true)\n",
      " |    |    |    |    |    |    |-- variants: array (nullable = true)\n",
      " |    |    |    |    |    |    |    |-- element: struct (containsNull = true)\n",
      " |    |    |    |    |    |    |    |    |-- bitrate: long (nullable = true)\n",
      " |    |    |    |    |    |    |    |    |-- content_type: string (nullable = true)\n",
      " |    |    |    |    |    |    |    |    |-- url: string (nullable = true)\n",
      " |    |    |-- full_text: string (nullable = true)\n",
      " |    |-- favorite_count: long (nullable = true)\n",
      " |    |-- favorited: boolean (nullable = true)\n",
      " |    |-- filter_level: string (nullable = true)\n",
      " |    |-- geo: struct (nullable = true)\n",
      " |    |    |-- coordinates: array (nullable = true)\n",
      " |    |    |    |-- element: double (containsNull = true)\n",
      " |    |    |-- type: string (nullable = true)\n",
      " |    |-- id: long (nullable = true)\n",
      " |    |-- id_str: string (nullable = true)\n",
      " |    |-- in_reply_to_screen_name: string (nullable = true)\n",
      " |    |-- in_reply_to_status_id: long (nullable = true)\n",
      " |    |-- in_reply_to_status_id_str: string (nullable = true)\n",
      " |    |-- in_reply_to_user_id: long (nullable = true)\n",
      " |    |-- in_reply_to_user_id_str: string (nullable = true)\n",
      " |    |-- is_quote_status: boolean (nullable = true)\n",
      " |    |-- lang: string (nullable = true)\n",
      " |    |-- place: struct (nullable = true)\n",
      " |    |    |-- bounding_box: struct (nullable = true)\n",
      " |    |    |    |-- coordinates: array (nullable = true)\n",
      " |    |    |    |    |-- element: array (containsNull = true)\n",
      " |    |    |    |    |    |-- element: array (containsNull = true)\n",
      " |    |    |    |    |    |    |-- element: double (containsNull = true)\n",
      " |    |    |    |-- type: string (nullable = true)\n",
      " |    |    |-- country: string (nullable = true)\n",
      " |    |    |-- country_code: string (nullable = true)\n",
      " |    |    |-- full_name: string (nullable = true)\n",
      " |    |    |-- id: string (nullable = true)\n",
      " |    |    |-- name: string (nullable = true)\n",
      " |    |    |-- place_type: string (nullable = true)\n",
      " |    |    |-- url: string (nullable = true)\n",
      " |    |-- possibly_sensitive: boolean (nullable = true)\n",
      " |    |-- quote_count: long (nullable = true)\n",
      " |    |-- quoted_status: struct (nullable = true)\n",
      " |    |    |-- contributors: string (nullable = true)\n",
      " |    |    |-- coordinates: struct (nullable = true)\n",
      " |    |    |    |-- coordinates: array (nullable = true)\n",
      " |    |    |    |    |-- element: double (containsNull = true)\n",
      " |    |    |    |-- type: string (nullable = true)\n",
      " |    |    |-- created_at: string (nullable = true)\n",
      " |    |    |-- display_text_range: array (nullable = true)\n",
      " |    |    |    |-- element: long (containsNull = true)\n",
      " |    |    |-- entities: struct (nullable = true)\n",
      " |    |    |    |-- hashtags: array (nullable = true)\n",
      " |    |    |    |    |-- element: struct (containsNull = true)\n",
      " |    |    |    |    |    |-- indices: array (nullable = true)\n",
      " |    |    |    |    |    |    |-- element: long (containsNull = true)\n",
      " |    |    |    |    |    |-- text: string (nullable = true)\n",
      " |    |    |    |-- media: array (nullable = true)\n",
      " |    |    |    |    |-- element: struct (containsNull = true)\n",
      " |    |    |    |    |    |-- display_url: string (nullable = true)\n",
      " |    |    |    |    |    |-- expanded_url: string (nullable = true)\n",
      " |    |    |    |    |    |-- id: long (nullable = true)\n",
      " |    |    |    |    |    |-- id_str: string (nullable = true)\n",
      " |    |    |    |    |    |-- indices: array (nullable = true)\n",
      " |    |    |    |    |    |    |-- element: long (containsNull = true)\n",
      " |    |    |    |    |    |-- media_url: string (nullable = true)\n",
      " |    |    |    |    |    |-- media_url_https: string (nullable = true)\n",
      " |    |    |    |    |    |-- sizes: struct (nullable = true)\n",
      " |    |    |    |    |    |    |-- large: struct (nullable = true)\n",
      " |    |    |    |    |    |    |    |-- h: long (nullable = true)\n",
      " |    |    |    |    |    |    |    |-- resize: string (nullable = true)\n",
      " |    |    |    |    |    |    |    |-- w: long (nullable = true)\n",
      " |    |    |    |    |    |    |-- medium: struct (nullable = true)\n",
      " |    |    |    |    |    |    |    |-- h: long (nullable = true)\n",
      " |    |    |    |    |    |    |    |-- resize: string (nullable = true)\n",
      " |    |    |    |    |    |    |    |-- w: long (nullable = true)\n",
      " |    |    |    |    |    |    |-- small: struct (nullable = true)\n",
      " |    |    |    |    |    |    |    |-- h: long (nullable = true)\n",
      " |    |    |    |    |    |    |    |-- resize: string (nullable = true)\n",
      " |    |    |    |    |    |    |    |-- w: long (nullable = true)\n",
      " |    |    |    |    |    |    |-- thumb: struct (nullable = true)\n",
      " |    |    |    |    |    |    |    |-- h: long (nullable = true)\n",
      " |    |    |    |    |    |    |    |-- resize: string (nullable = true)\n",
      " |    |    |    |    |    |    |    |-- w: long (nullable = true)\n",
      " |    |    |    |    |    |-- source_status_id: long (nullable = true)\n",
      " |    |    |    |    |    |-- source_status_id_str: string (nullable = true)\n",
      " |    |    |    |    |    |-- source_user_id: long (nullable = true)\n",
      " |    |    |    |    |    |-- source_user_id_str: string (nullable = true)\n",
      " |    |    |    |    |    |-- type: string (nullable = true)\n",
      " |    |    |    |    |    |-- url: string (nullable = true)\n",
      " |    |    |    |-- symbols: array (nullable = true)\n",
      " |    |    |    |    |-- element: string (containsNull = true)\n",
      " |    |    |    |-- urls: array (nullable = true)\n",
      " |    |    |    |    |-- element: struct (containsNull = true)\n",
      " |    |    |    |    |    |-- display_url: string (nullable = true)\n",
      " |    |    |    |    |    |-- expanded_url: string (nullable = true)\n",
      " |    |    |    |    |    |-- indices: array (nullable = true)\n",
      " |    |    |    |    |    |    |-- element: long (containsNull = true)\n",
      " |    |    |    |    |    |-- url: string (nullable = true)\n",
      " |    |    |    |-- user_mentions: array (nullable = true)\n",
      " |    |    |    |    |-- element: struct (containsNull = true)\n",
      " |    |    |    |    |    |-- id: long (nullable = true)\n",
      " |    |    |    |    |    |-- id_str: string (nullable = true)\n",
      " |    |    |    |    |    |-- indices: array (nullable = true)\n",
      " |    |    |    |    |    |    |-- element: long (containsNull = true)\n",
      " |    |    |    |    |    |-- name: string (nullable = true)\n",
      " |    |    |    |    |    |-- screen_name: string (nullable = true)\n",
      " |    |    |-- extended_entities: struct (nullable = true)\n",
      " |    |    |    |-- media: array (nullable = true)\n",
      " |    |    |    |    |-- element: struct (containsNull = true)\n",
      " |    |    |    |    |    |-- display_url: string (nullable = true)\n",
      " |    |    |    |    |    |-- expanded_url: string (nullable = true)\n",
      " |    |    |    |    |    |-- id: long (nullable = true)\n",
      " |    |    |    |    |    |-- id_str: string (nullable = true)\n",
      " |    |    |    |    |    |-- indices: array (nullable = true)\n",
      " |    |    |    |    |    |    |-- element: long (containsNull = true)\n",
      " |    |    |    |    |    |-- media_url: string (nullable = true)\n",
      " |    |    |    |    |    |-- media_url_https: string (nullable = true)\n",
      " |    |    |    |    |    |-- sizes: struct (nullable = true)\n",
      " |    |    |    |    |    |    |-- large: struct (nullable = true)\n",
      " |    |    |    |    |    |    |    |-- h: long (nullable = true)\n",
      " |    |    |    |    |    |    |    |-- resize: string (nullable = true)\n",
      " |    |    |    |    |    |    |    |-- w: long (nullable = true)\n",
      " |    |    |    |    |    |    |-- medium: struct (nullable = true)\n",
      " |    |    |    |    |    |    |    |-- h: long (nullable = true)\n",
      " |    |    |    |    |    |    |    |-- resize: string (nullable = true)\n",
      " |    |    |    |    |    |    |    |-- w: long (nullable = true)\n",
      " |    |    |    |    |    |    |-- small: struct (nullable = true)\n",
      " |    |    |    |    |    |    |    |-- h: long (nullable = true)\n",
      " |    |    |    |    |    |    |    |-- resize: string (nullable = true)\n",
      " |    |    |    |    |    |    |    |-- w: long (nullable = true)\n",
      " |    |    |    |    |    |    |-- thumb: struct (nullable = true)\n",
      " |    |    |    |    |    |    |    |-- h: long (nullable = true)\n",
      " |    |    |    |    |    |    |    |-- resize: string (nullable = true)\n",
      " |    |    |    |    |    |    |    |-- w: long (nullable = true)\n",
      " |    |    |    |    |    |-- source_status_id: long (nullable = true)\n",
      " |    |    |    |    |    |-- source_status_id_str: string (nullable = true)\n",
      " |    |    |    |    |    |-- source_user_id: long (nullable = true)\n",
      " |    |    |    |    |    |-- source_user_id_str: string (nullable = true)\n",
      " |    |    |    |    |    |-- type: string (nullable = true)\n",
      " |    |    |    |    |    |-- url: string (nullable = true)\n",
      " |    |    |    |    |    |-- video_info: struct (nullable = true)\n",
      " |    |    |    |    |    |    |-- aspect_ratio: array (nullable = true)\n",
      " |    |    |    |    |    |    |    |-- element: long (containsNull = true)\n",
      " |    |    |    |    |    |    |-- duration_millis: long (nullable = true)\n",
      " |    |    |    |    |    |    |-- variants: array (nullable = true)\n",
      " |    |    |    |    |    |    |    |-- element: struct (containsNull = true)\n",
      " |    |    |    |    |    |    |    |    |-- bitrate: long (nullable = true)\n",
      " |    |    |    |    |    |    |    |    |-- content_type: string (nullable = true)\n",
      " |    |    |    |    |    |    |    |    |-- url: string (nullable = true)\n",
      " |    |    |-- extended_tweet: struct (nullable = true)\n",
      " |    |    |    |-- display_text_range: array (nullable = true)\n",
      " |    |    |    |    |-- element: long (containsNull = true)\n",
      " |    |    |    |-- entities: struct (nullable = true)\n",
      " |    |    |    |    |-- hashtags: array (nullable = true)\n",
      " |    |    |    |    |    |-- element: struct (containsNull = true)\n",
      " |    |    |    |    |    |    |-- indices: array (nullable = true)\n",
      " |    |    |    |    |    |    |    |-- element: long (containsNull = true)\n",
      " |    |    |    |    |    |    |-- text: string (nullable = true)\n",
      " |    |    |    |    |-- media: array (nullable = true)\n",
      " |    |    |    |    |    |-- element: struct (containsNull = true)\n",
      " |    |    |    |    |    |    |-- display_url: string (nullable = true)\n",
      " |    |    |    |    |    |    |-- expanded_url: string (nullable = true)\n",
      " |    |    |    |    |    |    |-- id: long (nullable = true)\n",
      " |    |    |    |    |    |    |-- id_str: string (nullable = true)\n",
      " |    |    |    |    |    |    |-- indices: array (nullable = true)\n",
      " |    |    |    |    |    |    |    |-- element: long (containsNull = true)\n",
      " |    |    |    |    |    |    |-- media_url: string (nullable = true)\n",
      " |    |    |    |    |    |    |-- media_url_https: string (nullable = true)\n",
      " |    |    |    |    |    |    |-- sizes: struct (nullable = true)\n",
      " |    |    |    |    |    |    |    |-- large: struct (nullable = true)\n",
      " |    |    |    |    |    |    |    |    |-- h: long (nullable = true)\n",
      " |    |    |    |    |    |    |    |    |-- resize: string (nullable = true)\n",
      " |    |    |    |    |    |    |    |    |-- w: long (nullable = true)\n",
      " |    |    |    |    |    |    |    |-- medium: struct (nullable = true)\n",
      " |    |    |    |    |    |    |    |    |-- h: long (nullable = true)\n",
      " |    |    |    |    |    |    |    |    |-- resize: string (nullable = true)\n",
      " |    |    |    |    |    |    |    |    |-- w: long (nullable = true)\n",
      " |    |    |    |    |    |    |    |-- small: struct (nullable = true)\n",
      " |    |    |    |    |    |    |    |    |-- h: long (nullable = true)\n",
      " |    |    |    |    |    |    |    |    |-- resize: string (nullable = true)\n",
      " |    |    |    |    |    |    |    |    |-- w: long (nullable = true)\n",
      " |    |    |    |    |    |    |    |-- thumb: struct (nullable = true)\n",
      " |    |    |    |    |    |    |    |    |-- h: long (nullable = true)\n",
      " |    |    |    |    |    |    |    |    |-- resize: string (nullable = true)\n",
      " |    |    |    |    |    |    |    |    |-- w: long (nullable = true)\n",
      " |    |    |    |    |    |    |-- type: string (nullable = true)\n",
      " |    |    |    |    |    |    |-- url: string (nullable = true)\n",
      " |    |    |    |    |    |    |-- video_info: struct (nullable = true)\n",
      " |    |    |    |    |    |    |    |-- aspect_ratio: array (nullable = true)\n",
      " |    |    |    |    |    |    |    |    |-- element: long (containsNull = true)\n",
      " |    |    |    |    |    |    |    |-- duration_millis: long (nullable = true)\n",
      " |    |    |    |    |    |    |    |-- variants: array (nullable = true)\n",
      " |    |    |    |    |    |    |    |    |-- element: struct (containsNull = true)\n",
      " |    |    |    |    |    |    |    |    |    |-- bitrate: long (nullable = true)\n",
      " |    |    |    |    |    |    |    |    |    |-- content_type: string (nullable = true)\n",
      " |    |    |    |    |    |    |    |    |    |-- url: string (nullable = true)\n",
      " |    |    |    |    |-- symbols: array (nullable = true)\n",
      " |    |    |    |    |    |-- element: string (containsNull = true)\n",
      " |    |    |    |    |-- urls: array (nullable = true)\n",
      " |    |    |    |    |    |-- element: struct (containsNull = true)\n",
      " |    |    |    |    |    |    |-- display_url: string (nullable = true)\n",
      " |    |    |    |    |    |    |-- expanded_url: string (nullable = true)\n",
      " |    |    |    |    |    |    |-- indices: array (nullable = true)\n",
      " |    |    |    |    |    |    |    |-- element: long (containsNull = true)\n",
      " |    |    |    |    |    |    |-- url: string (nullable = true)\n",
      " |    |    |    |    |-- user_mentions: array (nullable = true)\n",
      " |    |    |    |    |    |-- element: struct (containsNull = true)\n",
      " |    |    |    |    |    |    |-- id: long (nullable = true)\n",
      " |    |    |    |    |    |    |-- id_str: string (nullable = true)\n",
      " |    |    |    |    |    |    |-- indices: array (nullable = true)\n",
      " |    |    |    |    |    |    |    |-- element: long (containsNull = true)\n",
      " |    |    |    |    |    |    |-- name: string (nullable = true)\n",
      " |    |    |    |    |    |    |-- screen_name: string (nullable = true)\n",
      " |    |    |    |-- extended_entities: struct (nullable = true)\n",
      " |    |    |    |    |-- media: array (nullable = true)\n",
      " |    |    |    |    |    |-- element: struct (containsNull = true)\n",
      " |    |    |    |    |    |    |-- display_url: string (nullable = true)\n",
      " |    |    |    |    |    |    |-- expanded_url: string (nullable = true)\n",
      " |    |    |    |    |    |    |-- id: long (nullable = true)\n",
      " |    |    |    |    |    |    |-- id_str: string (nullable = true)\n",
      " |    |    |    |    |    |    |-- indices: array (nullable = true)\n",
      " |    |    |    |    |    |    |    |-- element: long (containsNull = true)\n",
      " |    |    |    |    |    |    |-- media_url: string (nullable = true)\n",
      " |    |    |    |    |    |    |-- media_url_https: string (nullable = true)\n",
      " |    |    |    |    |    |    |-- sizes: struct (nullable = true)\n",
      " |    |    |    |    |    |    |    |-- large: struct (nullable = true)\n",
      " |    |    |    |    |    |    |    |    |-- h: long (nullable = true)\n",
      " |    |    |    |    |    |    |    |    |-- resize: string (nullable = true)\n",
      " |    |    |    |    |    |    |    |    |-- w: long (nullable = true)\n",
      " |    |    |    |    |    |    |    |-- medium: struct (nullable = true)\n",
      " |    |    |    |    |    |    |    |    |-- h: long (nullable = true)\n",
      " |    |    |    |    |    |    |    |    |-- resize: string (nullable = true)\n",
      " |    |    |    |    |    |    |    |    |-- w: long (nullable = true)\n",
      " |    |    |    |    |    |    |    |-- small: struct (nullable = true)\n",
      " |    |    |    |    |    |    |    |    |-- h: long (nullable = true)\n",
      " |    |    |    |    |    |    |    |    |-- resize: string (nullable = true)\n",
      " |    |    |    |    |    |    |    |    |-- w: long (nullable = true)\n",
      " |    |    |    |    |    |    |    |-- thumb: struct (nullable = true)\n",
      " |    |    |    |    |    |    |    |    |-- h: long (nullable = true)\n",
      " |    |    |    |    |    |    |    |    |-- resize: string (nullable = true)\n",
      " |    |    |    |    |    |    |    |    |-- w: long (nullable = true)\n",
      " |    |    |    |    |    |    |-- type: string (nullable = true)\n",
      " |    |    |    |    |    |    |-- url: string (nullable = true)\n",
      " |    |    |    |    |    |    |-- video_info: struct (nullable = true)\n",
      " |    |    |    |    |    |    |    |-- aspect_ratio: array (nullable = true)\n",
      " |    |    |    |    |    |    |    |    |-- element: long (containsNull = true)\n",
      " |    |    |    |    |    |    |    |-- duration_millis: long (nullable = true)\n",
      " |    |    |    |    |    |    |    |-- variants: array (nullable = true)\n",
      " |    |    |    |    |    |    |    |    |-- element: struct (containsNull = true)\n",
      " |    |    |    |    |    |    |    |    |    |-- bitrate: long (nullable = true)\n",
      " |    |    |    |    |    |    |    |    |    |-- content_type: string (nullable = true)\n",
      " |    |    |    |    |    |    |    |    |    |-- url: string (nullable = true)\n",
      " |    |    |    |-- full_text: string (nullable = true)\n",
      " |    |    |-- favorite_count: long (nullable = true)\n",
      " |    |    |-- favorited: boolean (nullable = true)\n",
      " |    |    |-- filter_level: string (nullable = true)\n",
      " |    |    |-- geo: struct (nullable = true)\n",
      " |    |    |    |-- coordinates: array (nullable = true)\n",
      " |    |    |    |    |-- element: double (containsNull = true)\n",
      " |    |    |    |-- type: string (nullable = true)\n",
      " |    |    |-- id: long (nullable = true)\n",
      " |    |    |-- id_str: string (nullable = true)\n",
      " |    |    |-- in_reply_to_screen_name: string (nullable = true)\n",
      " |    |    |-- in_reply_to_status_id: long (nullable = true)\n",
      " |    |    |-- in_reply_to_status_id_str: string (nullable = true)\n",
      " |    |    |-- in_reply_to_user_id: long (nullable = true)\n",
      " |    |    |-- in_reply_to_user_id_str: string (nullable = true)\n",
      " |    |    |-- is_quote_status: boolean (nullable = true)\n",
      " |    |    |-- lang: string (nullable = true)\n",
      " |    |    |-- place: struct (nullable = true)\n",
      " |    |    |    |-- bounding_box: struct (nullable = true)\n",
      " |    |    |    |    |-- coordinates: array (nullable = true)\n",
      " |    |    |    |    |    |-- element: array (containsNull = true)\n",
      " |    |    |    |    |    |    |-- element: array (containsNull = true)\n",
      " |    |    |    |    |    |    |    |-- element: double (containsNull = true)\n",
      " |    |    |    |    |-- type: string (nullable = true)\n",
      " |    |    |    |-- country: string (nullable = true)\n",
      " |    |    |    |-- country_code: string (nullable = true)\n",
      " |    |    |    |-- full_name: string (nullable = true)\n",
      " |    |    |    |-- id: string (nullable = true)\n",
      " |    |    |    |-- name: string (nullable = true)\n",
      " |    |    |    |-- place_type: string (nullable = true)\n",
      " |    |    |    |-- url: string (nullable = true)\n",
      " |    |    |-- possibly_sensitive: boolean (nullable = true)\n",
      " |    |    |-- quote_count: long (nullable = true)\n",
      " |    |    |-- quoted_status_id: long (nullable = true)\n",
      " |    |    |-- quoted_status_id_str: string (nullable = true)\n",
      " |    |    |-- reply_count: long (nullable = true)\n",
      " |    |    |-- retweet_count: long (nullable = true)\n",
      " |    |    |-- retweeted: boolean (nullable = true)\n",
      " |    |    |-- scopes: struct (nullable = true)\n",
      " |    |    |    |-- followers: boolean (nullable = true)\n",
      " |    |    |-- source: string (nullable = true)\n",
      " |    |    |-- text: string (nullable = true)\n",
      " |    |    |-- truncated: boolean (nullable = true)\n",
      " |    |    |-- user: struct (nullable = true)\n",
      " |    |    |    |-- contributors_enabled: boolean (nullable = true)\n",
      " |    |    |    |-- created_at: string (nullable = true)\n",
      " |    |    |    |-- default_profile: boolean (nullable = true)\n",
      " |    |    |    |-- default_profile_image: boolean (nullable = true)\n",
      " |    |    |    |-- description: string (nullable = true)\n",
      " |    |    |    |-- favourites_count: long (nullable = true)\n",
      " |    |    |    |-- follow_request_sent: string (nullable = true)\n",
      " |    |    |    |-- followers_count: long (nullable = true)\n",
      " |    |    |    |-- following: string (nullable = true)\n",
      " |    |    |    |-- friends_count: long (nullable = true)\n",
      " |    |    |    |-- geo_enabled: boolean (nullable = true)\n",
      " |    |    |    |-- id: long (nullable = true)\n",
      " |    |    |    |-- id_str: string (nullable = true)\n",
      " |    |    |    |-- is_translator: boolean (nullable = true)\n",
      " |    |    |    |-- lang: string (nullable = true)\n",
      " |    |    |    |-- listed_count: long (nullable = true)\n",
      " |    |    |    |-- location: string (nullable = true)\n",
      " |    |    |    |-- name: string (nullable = true)\n",
      " |    |    |    |-- notifications: string (nullable = true)\n",
      " |    |    |    |-- profile_background_color: string (nullable = true)\n",
      " |    |    |    |-- profile_background_image_url: string (nullable = true)\n",
      " |    |    |    |-- profile_background_image_url_https: string (nullable = true)\n",
      " |    |    |    |-- profile_background_tile: boolean (nullable = true)\n",
      " |    |    |    |-- profile_banner_url: string (nullable = true)\n",
      " |    |    |    |-- profile_image_url: string (nullable = true)\n",
      " |    |    |    |-- profile_image_url_https: string (nullable = true)\n",
      " |    |    |    |-- profile_link_color: string (nullable = true)\n",
      " |    |    |    |-- profile_sidebar_border_color: string (nullable = true)\n",
      " |    |    |    |-- profile_sidebar_fill_color: string (nullable = true)\n",
      " |    |    |    |-- profile_text_color: string (nullable = true)\n",
      " |    |    |    |-- profile_use_background_image: boolean (nullable = true)\n",
      " |    |    |    |-- protected: boolean (nullable = true)\n",
      " |    |    |    |-- screen_name: string (nullable = true)\n",
      " |    |    |    |-- statuses_count: long (nullable = true)\n",
      " |    |    |    |-- time_zone: string (nullable = true)\n",
      " |    |    |    |-- translator_type: string (nullable = true)\n",
      " |    |    |    |-- url: string (nullable = true)\n",
      " |    |    |    |-- utc_offset: long (nullable = true)\n",
      " |    |    |    |-- verified: boolean (nullable = true)\n",
      " |    |-- quoted_status_id: long (nullable = true)\n",
      " |    |-- quoted_status_id_str: string (nullable = true)\n",
      " |    |-- reply_count: long (nullable = true)\n",
      " |    |-- retweet_count: long (nullable = true)\n",
      " |    |-- retweeted: boolean (nullable = true)\n",
      " |    |-- source: string (nullable = true)\n",
      " |    |-- text: string (nullable = true)\n",
      " |    |-- truncated: boolean (nullable = true)\n",
      " |    |-- user: struct (nullable = true)\n",
      " |    |    |-- contributors_enabled: boolean (nullable = true)\n",
      " |    |    |-- created_at: string (nullable = true)\n",
      " |    |    |-- default_profile: boolean (nullable = true)\n",
      " |    |    |-- default_profile_image: boolean (nullable = true)\n",
      " |    |    |-- description: string (nullable = true)\n",
      " |    |    |-- favourites_count: long (nullable = true)\n",
      " |    |    |-- follow_request_sent: string (nullable = true)\n",
      " |    |    |-- followers_count: long (nullable = true)\n",
      " |    |    |-- following: string (nullable = true)\n",
      " |    |    |-- friends_count: long (nullable = true)\n",
      " |    |    |-- geo_enabled: boolean (nullable = true)\n",
      " |    |    |-- id: long (nullable = true)\n",
      " |    |    |-- id_str: string (nullable = true)\n",
      " |    |    |-- is_translator: boolean (nullable = true)\n",
      " |    |    |-- lang: string (nullable = true)\n",
      " |    |    |-- listed_count: long (nullable = true)\n",
      " |    |    |-- location: string (nullable = true)\n",
      " |    |    |-- name: string (nullable = true)\n",
      " |    |    |-- notifications: string (nullable = true)\n",
      " |    |    |-- profile_background_color: string (nullable = true)\n",
      " |    |    |-- profile_background_image_url: string (nullable = true)\n",
      " |    |    |-- profile_background_image_url_https: string (nullable = true)\n",
      " |    |    |-- profile_background_tile: boolean (nullable = true)\n",
      " |    |    |-- profile_banner_url: string (nullable = true)\n",
      " |    |    |-- profile_image_url: string (nullable = true)\n",
      " |    |    |-- profile_image_url_https: string (nullable = true)\n",
      " |    |    |-- profile_link_color: string (nullable = true)\n",
      " |    |    |-- profile_sidebar_border_color: string (nullable = true)\n",
      " |    |    |-- profile_sidebar_fill_color: string (nullable = true)\n",
      " |    |    |-- profile_text_color: string (nullable = true)\n",
      " |    |    |-- profile_use_background_image: boolean (nullable = true)\n",
      " |    |    |-- protected: boolean (nullable = true)\n",
      " |    |    |-- screen_name: string (nullable = true)\n",
      " |    |    |-- statuses_count: long (nullable = true)\n",
      " |    |    |-- time_zone: string (nullable = true)\n",
      " |    |    |-- translator_type: string (nullable = true)\n",
      " |    |    |-- url: string (nullable = true)\n",
      " |    |    |-- utc_offset: long (nullable = true)\n",
      " |    |    |-- verified: boolean (nullable = true)\n",
      " |-- source: string (nullable = true)\n",
      " |-- text: string (nullable = true)\n",
      " |-- timestamp_ms: string (nullable = true)\n",
      " |-- truncated: boolean (nullable = true)\n",
      " |-- user: struct (nullable = true)\n",
      " |    |-- contributors_enabled: boolean (nullable = true)\n",
      " |    |-- created_at: string (nullable = true)\n",
      " |    |-- default_profile: boolean (nullable = true)\n",
      " |    |-- default_profile_image: boolean (nullable = true)\n",
      " |    |-- description: string (nullable = true)\n",
      " |    |-- favourites_count: long (nullable = true)\n",
      " |    |-- follow_request_sent: string (nullable = true)\n",
      " |    |-- followers_count: long (nullable = true)\n",
      " |    |-- following: string (nullable = true)\n",
      " |    |-- friends_count: long (nullable = true)\n",
      " |    |-- geo_enabled: boolean (nullable = true)\n",
      " |    |-- id: long (nullable = true)\n",
      " |    |-- id_str: string (nullable = true)\n",
      " |    |-- is_translator: boolean (nullable = true)\n",
      " |    |-- lang: string (nullable = true)\n",
      " |    |-- listed_count: long (nullable = true)\n",
      " |    |-- location: string (nullable = true)\n",
      " |    |-- name: string (nullable = true)\n",
      " |    |-- notifications: string (nullable = true)\n",
      " |    |-- profile_background_color: string (nullable = true)\n",
      " |    |-- profile_background_image_url: string (nullable = true)\n",
      " |    |-- profile_background_image_url_https: string (nullable = true)\n",
      " |    |-- profile_background_tile: boolean (nullable = true)\n",
      " |    |-- profile_banner_url: string (nullable = true)\n",
      " |    |-- profile_image_url: string (nullable = true)\n",
      " |    |-- profile_image_url_https: string (nullable = true)\n",
      " |    |-- profile_link_color: string (nullable = true)\n",
      " |    |-- profile_sidebar_border_color: string (nullable = true)\n",
      " |    |-- profile_sidebar_fill_color: string (nullable = true)\n",
      " |    |-- profile_text_color: string (nullable = true)\n",
      " |    |-- profile_use_background_image: boolean (nullable = true)\n",
      " |    |-- protected: boolean (nullable = true)\n",
      " |    |-- screen_name: string (nullable = true)\n",
      " |    |-- statuses_count: long (nullable = true)\n",
      " |    |-- time_zone: string (nullable = true)\n",
      " |    |-- translator_type: string (nullable = true)\n",
      " |    |-- url: string (nullable = true)\n",
      " |    |-- utc_offset: long (nullable = true)\n",
      " |    |-- verified: boolean (nullable = true)\n",
      "\n"
     ]
    }
   ],
   "source": [
    "tweets.printSchema()"
   ]
  },
  {
   "cell_type": "markdown",
   "metadata": {},
   "source": [
    "To issue SQL queries, we need to register a table based on `tweets`:"
   ]
  },
  {
   "cell_type": "code",
   "execution_count": 59,
   "metadata": {
    "collapsed": true
   },
   "outputs": [],
   "source": [
    "tweets.createOrReplaceTempView(\"tweets\")"
   ]
  },
  {
   "cell_type": "markdown",
   "metadata": {},
   "source": [
    "### Q2.1 - Which 10 languages are most commonly used in tweets?  Verify your result by executing it with both the dataframe and with SQL.\n",
    "\n",
    "Hint: for the dataframe, use `groupBy`, `count`, and `orderBy`.  See the documentation at https://spark.apache.org/docs/2.2.0/api/python/pyspark.sql.html for details on these and other functions.\n",
    "\n",
    "**Answer**"
   ]
  },
  {
   "cell_type": "markdown",
   "metadata": {
    "collapsed": true
   },
   "source": [
    "##### dataframe commands"
   ]
  },
  {
   "cell_type": "code",
   "execution_count": 83,
   "metadata": {
    "collapsed": false
   },
   "outputs": [
    {
     "name": "stdout",
     "output_type": "stream",
     "text": [
      "+----+------+\n",
      "|lang| count|\n",
      "+----+------+\n",
      "|  en|346302|\n",
      "|  es| 31869|\n",
      "| und| 14659|\n",
      "|  in|  2355|\n",
      "|  fr|   997|\n",
      "+----+------+\n",
      "only showing top 5 rows\n",
      "\n"
     ]
    }
   ],
   "source": [
    "tweets.groupBy(\"lang\").count().sort(\"count\",ascending=False).show(10)"
   ]
  },
  {
   "cell_type": "markdown",
   "metadata": {},
   "source": [
    "##### SQL queries"
   ]
  },
  {
   "cell_type": "code",
   "execution_count": 15,
   "metadata": {
    "collapsed": false
   },
   "outputs": [
    {
     "name": "stdout",
     "output_type": "stream",
     "text": [
      "+--------+---------+\n",
      "|language|frequency|\n",
      "+--------+---------+\n",
      "|      en|   346302|\n",
      "|      es|    31869|\n",
      "|     und|    14659|\n",
      "|      in|     2355|\n",
      "|      fr|      997|\n",
      "+--------+---------+\n",
      "only showing top 5 rows\n",
      "\n"
     ]
    }
   ],
   "source": [
    "queries='''\n",
    "SELECT lang AS language, count(lang) AS frequency\n",
    "FROM tweets\n",
    "GROUP BY lang\n",
    "ORDER BY frequency DESC\n",
    "'''\n",
    "sqlc.sql(queries).show(10)"
   ]
  },
  {
   "cell_type": "markdown",
   "metadata": {},
   "source": [
    "### Q2.2 - Which 10 time zones are most common among users?  Verify your result with both the dataframe and SQL.\n",
    "\n",
    "*Note*: for this question, you may leave NULL values present in your results, as a way to help you understand what data is present and what is missing.\n",
    "\n",
    "**Answer**"
   ]
  },
  {
   "cell_type": "markdown",
   "metadata": {},
   "source": [
    "##### dataframe commands"
   ]
  },
  {
   "cell_type": "code",
   "execution_count": 96,
   "metadata": {
    "collapsed": false
   },
   "outputs": [
    {
     "name": "stdout",
     "output_type": "stream",
     "text": [
      "+--------------------+------+\n",
      "|           time_zone| count|\n",
      "+--------------------+------+\n",
      "|                null|166386|\n",
      "|Pacific Time (US ...| 72214|\n",
      "|Central Time (US ...| 63664|\n",
      "|Eastern Time (US ...| 35889|\n",
      "|             Arizona| 10748|\n",
      "|Mountain Time (US...| 10057|\n",
      "|Atlantic Time (Ca...|  4805|\n",
      "|               Quito|  4397|\n",
      "|             Caracas|  4218|\n",
      "|         Mexico City|  3935|\n",
      "+--------------------+------+\n",
      "only showing top 10 rows\n",
      "\n"
     ]
    }
   ],
   "source": [
    "tweets.groupBy(\"user.time_zone\").count().sort(\"count\",ascending=False).show(11)"
   ]
  },
  {
   "cell_type": "markdown",
   "metadata": {},
   "source": [
    "##### SQL Queries"
   ]
  },
  {
   "cell_type": "code",
   "execution_count": 233,
   "metadata": {
    "collapsed": false
   },
   "outputs": [
    {
     "name": "stdout",
     "output_type": "stream",
     "text": [
      "+--------------------+---------+\n",
      "|            timezone|frequency|\n",
      "+--------------------+---------+\n",
      "|Pacific Time (US ...|    72214|\n",
      "|Central Time (US ...|    63664|\n",
      "|Eastern Time (US ...|    35889|\n",
      "|             Arizona|    10748|\n",
      "|Mountain Time (US...|    10057|\n",
      "|Atlantic Time (Ca...|     4805|\n",
      "|               Quito|     4397|\n",
      "|             Caracas|     4218|\n",
      "|         Mexico City|     3935|\n",
      "|              Hawaii|     3489|\n",
      "+--------------------+---------+\n",
      "only showing top 10 rows\n",
      "\n"
     ]
    }
   ],
   "source": [
    "queries='''\n",
    "SELECT user.time_zone AS timezone, count(user.time_zone) AS frequency\n",
    "FROM tweets\n",
    "GROUP BY user.time_zone\n",
    "ORDER BY frequency DESC\n",
    "'''\n",
    "sqlc.sql(queries).show(10)"
   ]
  },
  {
   "cell_type": "markdown",
   "metadata": {},
   "source": [
    "* Null values are gone in SQL!"
   ]
  },
  {
   "cell_type": "markdown",
   "metadata": {},
   "source": [
    "### Q2.3 - How many tweets mention the Dodgers?  How many mention the Astros?  How many mention both?\n",
    "\n",
    "You may use either the dataframe or SQL to answer.  Explain why you have chosen that approach.\n",
    "\n",
    "Hint:  you will want to look at the value of the `text` field.\n",
    "\n",
    "**Answer**"
   ]
  },
  {
   "cell_type": "markdown",
   "metadata": {},
   "source": [
    "* We choose both and the reason is just for fun. It seems that DataFrame Commands are more simple than SQL Queries."
   ]
  },
  {
   "cell_type": "markdown",
   "metadata": {},
   "source": [
    "##### dataframe commands"
   ]
  },
  {
   "cell_type": "markdown",
   "metadata": {},
   "source": [
    "* Two ways to do it:"
   ]
  },
  {
   "cell_type": "code",
   "execution_count": 86,
   "metadata": {
    "collapsed": false,
    "scrolled": false
   },
   "outputs": [
    {
     "data": {
      "text/plain": [
       "142448"
      ]
     },
     "execution_count": 86,
     "metadata": {},
     "output_type": "execute_result"
    }
   ],
   "source": [
    "tweets.select(\"text\").filter(tweets.text.contains(\"Dodgers\")).count()"
   ]
  },
  {
   "cell_type": "code",
   "execution_count": 34,
   "metadata": {
    "collapsed": false
   },
   "outputs": [
    {
     "data": {
      "text/plain": [
       "142448"
      ]
     },
     "execution_count": 34,
     "metadata": {},
     "output_type": "execute_result"
    }
   ],
   "source": [
    "tweets.select(\"text\").filter(tweets.text.like(\"%Dodgers%\")).count()"
   ]
  },
  {
   "cell_type": "markdown",
   "metadata": {},
   "source": [
    "* Make our commands case insensitive:"
   ]
  },
  {
   "cell_type": "code",
   "execution_count": 15,
   "metadata": {
    "collapsed": true
   },
   "outputs": [],
   "source": [
    "from pyspark.sql import functions"
   ]
  },
  {
   "cell_type": "code",
   "execution_count": 93,
   "metadata": {
    "collapsed": false
   },
   "outputs": [
    {
     "data": {
      "text/plain": [
       "168218"
      ]
     },
     "execution_count": 93,
     "metadata": {},
     "output_type": "execute_result"
    }
   ],
   "source": [
    "tweets.select(\"text\").filter(functions.lower(tweets.text).contains(\"dodgers\")).count()"
   ]
  },
  {
   "cell_type": "markdown",
   "metadata": {},
   "source": [
    "* Verify the result:"
   ]
  },
  {
   "cell_type": "code",
   "execution_count": 213,
   "metadata": {
    "collapsed": false
   },
   "outputs": [
    {
     "data": {
      "text/plain": [
       "21254"
      ]
     },
     "execution_count": 213,
     "metadata": {},
     "output_type": "execute_result"
    }
   ],
   "source": [
    "tweets.select(\"text\").filter(tweets.text.contains(\"dodgers\")).count()"
   ]
  },
  {
   "cell_type": "code",
   "execution_count": 89,
   "metadata": {
    "collapsed": false
   },
   "outputs": [
    {
     "data": {
      "text/plain": [
       "142448"
      ]
     },
     "execution_count": 89,
     "metadata": {},
     "output_type": "execute_result"
    }
   ],
   "source": [
    "tweets.select(\"text\").filter(tweets.text.contains(\"Dodgers\")).count()"
   ]
  },
  {
   "cell_type": "markdown",
   "metadata": {},
   "source": [
    "* They are quite close, but there is still a 5000 difference. Maybe it's because of other upper characters, for example \"DODGERS\"."
   ]
  },
  {
   "cell_type": "code",
   "execution_count": 99,
   "metadata": {
    "collapsed": false
   },
   "outputs": [
    {
     "data": {
      "text/plain": [
       "6143"
      ]
     },
     "execution_count": 99,
     "metadata": {},
     "output_type": "execute_result"
    }
   ],
   "source": [
    "tweets.select(\"text\").filter(tweets.text.contains(\"DODGERS\")).count()"
   ]
  },
  {
   "cell_type": "markdown",
   "metadata": {},
   "source": [
    "* Bingo!\n",
    "* But wait, 21254+142448+6143>168218. Weird!"
   ]
  },
  {
   "cell_type": "code",
   "execution_count": 223,
   "metadata": {
    "collapsed": false
   },
   "outputs": [
    {
     "data": {
      "text/plain": [
       "1298"
      ]
     },
     "execution_count": 223,
     "metadata": {},
     "output_type": "execute_result"
    }
   ],
   "source": [
    "tweets.select(\"text\").filter(tweets.text.contains(\"dodgers\")) \\\n",
    "                     .filter(tweets.text.contains(\"Dodgers\")) \\\n",
    "                     .count()"
   ]
  },
  {
   "cell_type": "markdown",
   "metadata": {},
   "source": [
    "* You gotta be kidding me! Overlapping!\n",
    "* It seems our primary answer makes sense."
   ]
  },
  {
   "cell_type": "markdown",
   "metadata": {},
   "source": [
    "* Same for Astros:"
   ]
  },
  {
   "cell_type": "code",
   "execution_count": 218,
   "metadata": {
    "collapsed": false
   },
   "outputs": [
    {
     "data": {
      "text/plain": [
       "246465"
      ]
     },
     "execution_count": 218,
     "metadata": {},
     "output_type": "execute_result"
    }
   ],
   "source": [
    "tweets.select(\"text\").filter(functions.lower(tweets.text).contains(\"astros\")).count()"
   ]
  },
  {
   "cell_type": "markdown",
   "metadata": {},
   "source": [
    "* What about the tweets that contains both?"
   ]
  },
  {
   "cell_type": "code",
   "execution_count": 165,
   "metadata": {
    "collapsed": false
   },
   "outputs": [
    {
     "data": {
      "text/plain": [
       "49545"
      ]
     },
     "execution_count": 165,
     "metadata": {},
     "output_type": "execute_result"
    }
   ],
   "source": [
    "tweets.select(\"text\").filter(functions.lower(tweets.text).contains(\"astros\")) \\\n",
    "                     .filter(functions.lower(tweets.text).contains(\"dodgers\")) \\\n",
    "                     .count()"
   ]
  },
  {
   "cell_type": "markdown",
   "metadata": {},
   "source": [
    "#### We got 168218 Dodgers' tweets and 246465 Astros' tweets.\n",
    "#### Among them, 49545 tweets contain both Dodgers and Astros."
   ]
  },
  {
   "cell_type": "markdown",
   "metadata": {},
   "source": [
    "* How about some visualization?"
   ]
  },
  {
   "cell_type": "code",
   "execution_count": 228,
   "metadata": {
    "collapsed": false
   },
   "outputs": [
    {
     "data": {
      "image/png": "[encoded data removed]",
      "text/plain": [
       "<matplotlib.figure.Figure at 0x7f7a8c56d240>"
      ]
     },
     "metadata": {},
     "output_type": "display_data"
    }
   ],
   "source": [
    "import matplotlib.pyplot as plt\n",
    "plt.figure(figsize=(10,5))\n",
    "plt.subplot(121)\n",
    "plt.bar([1,2,3],[168218-49545,246465-49545,49545])\n",
    "plt.xticks((1,2,3),(\"Dodgers\",\"Astros\",\"D&A\"))\n",
    "plt.ylabel(\"Number of Tweets\")\n",
    "\n",
    "plt.subplot(122)\n",
    "plt.pie(x=[168218-49545,246465-49545,49545],labels=[\"Dodgers\",\"Astros\",\"D&A\"],explode=[0.05,0.05,0.1],autopct='%1.1f%%'\n",
    "        ,shadow=True,startangle = 90,pctdistance = 0.5)\n",
    "\n",
    "plt.show()"
   ]
  },
  {
   "cell_type": "markdown",
   "metadata": {},
   "source": [
    "##### SQL Queries"
   ]
  },
  {
   "cell_type": "code",
   "execution_count": 243,
   "metadata": {
    "collapsed": false
   },
   "outputs": [
    {
     "name": "stdout",
     "output_type": "stream",
     "text": [
      "+----------------------+\n",
      "|Dodgers_Tweets_Numbers|\n",
      "+----------------------+\n",
      "|                168218|\n",
      "+----------------------+\n",
      "\n"
     ]
    }
   ],
   "source": [
    "queries='''\n",
    "SELECT count(text) AS Dodgers_Tweets_Numbers\n",
    "FROM tweets\n",
    "WHERE lower(text) LIKE \"%dodgers%\"\n",
    "'''\n",
    "sqlc.sql(queries).show()"
   ]
  },
  {
   "cell_type": "code",
   "execution_count": 244,
   "metadata": {
    "collapsed": false
   },
   "outputs": [
    {
     "name": "stdout",
     "output_type": "stream",
     "text": [
      "+---------------------+\n",
      "|Astros_Tweets_Numbers|\n",
      "+---------------------+\n",
      "|               246465|\n",
      "+---------------------+\n",
      "\n"
     ]
    }
   ],
   "source": [
    "queries='''\n",
    "SELECT count(text) AS Astros_Tweets_Numbers\n",
    "FROM tweets\n",
    "WHERE lower(text) LIKE \"%astros%\"\n",
    "'''\n",
    "sqlc.sql(queries).show()"
   ]
  },
  {
   "cell_type": "code",
   "execution_count": 246,
   "metadata": {
    "collapsed": false
   },
   "outputs": [
    {
     "name": "stdout",
     "output_type": "stream",
     "text": [
      "+-----------------+\n",
      "|DA_Tweets_Numbers|\n",
      "+-----------------+\n",
      "|            49545|\n",
      "+-----------------+\n",
      "\n"
     ]
    }
   ],
   "source": [
    "queries='''\n",
    "SELECT count(text) AS DA_Tweets_Numbers\n",
    "FROM tweets\n",
    "WHERE lower(text) LIKE \"%dodgers%\" AND  lower(text) LIKE \"%astros%\" \n",
    "'''\n",
    "sqlc.sql(queries).show()"
   ]
  },
  {
   "cell_type": "markdown",
   "metadata": {},
   "source": [
    "* The results are the same."
   ]
  },
  {
   "cell_type": "markdown",
   "metadata": {},
   "source": [
    "## Part 3 - More complex queries\n",
    "\n",
    "For this section, you may choose to use dataframe queries or SQL.  If you wish, you may verify results by using both, as in Part 2, but this is not required for this section.\n",
    "\n",
    "### Q3.1 - Team mentions by location\n",
    "\n",
    "In which users' locations are the Astros and the Dodgers being mentioned the most?  Consider each team separately, one at a time.  Discuss your findings.\n",
    "\n",
    "Hint:  you may use either the time zones or user-specified locations for this question.\n",
    "\n",
    "**Answer**"
   ]
  },
  {
   "cell_type": "markdown",
   "metadata": {
    "collapsed": true
   },
   "source": [
    "* Let's start with SQL."
   ]
  },
  {
   "cell_type": "markdown",
   "metadata": {},
   "source": [
    "* Dodgers:"
   ]
  },
  {
   "cell_type": "code",
   "execution_count": 20,
   "metadata": {
    "collapsed": false
   },
   "outputs": [
    {
     "name": "stdout",
     "output_type": "stream",
     "text": [
      "+---------------+----------------------+\n",
      "|       location|Dodgers_Tweets_Numbers|\n",
      "+---------------+----------------------+\n",
      "|           null|                 49988|\n",
      "|Los Angeles, CA|                  6361|\n",
      "|California, USA|                  2701|\n",
      "|    Houston, TX|                  2362|\n",
      "|    Los Angeles|                  1967|\n",
      "+---------------+----------------------+\n",
      "only showing top 5 rows\n",
      "\n"
     ]
    }
   ],
   "source": [
    "queries='''\n",
    "SELECT user.location AS location, count(text) AS Dodgers_Tweets_Numbers\n",
    "FROM tweets\n",
    "WHERE lower(text) LIKE \"%dodgers%\"\n",
    "GROUP BY user.location\n",
    "ORDER BY Dodgers_Tweets_Numbers DESC\n",
    "'''\n",
    "sqlc.sql(queries).show(5)"
   ]
  },
  {
   "cell_type": "markdown",
   "metadata": {},
   "source": [
    "* ASTROS:"
   ]
  },
  {
   "cell_type": "code",
   "execution_count": 22,
   "metadata": {
    "collapsed": false
   },
   "outputs": [
    {
     "name": "stdout",
     "output_type": "stream",
     "text": [
      "+---------------+---------------------+\n",
      "|       location|Astros_Tweets_Numbers|\n",
      "+---------------+---------------------+\n",
      "|           null|                67295|\n",
      "|    Houston, TX|                17639|\n",
      "|     Texas, USA|                 4159|\n",
      "|          Texas|                 2647|\n",
      "|Los Angeles, CA|                 2448|\n",
      "+---------------+---------------------+\n",
      "only showing top 5 rows\n",
      "\n"
     ]
    }
   ],
   "source": [
    "queries='''\n",
    "SELECT user.location AS location, count(text) AS Astros_Tweets_Numbers\n",
    "FROM tweets\n",
    "WHERE lower(text) LIKE \"%astros%\" \n",
    "GROUP BY user.location\n",
    "ORDER BY Astros_Tweets_Numbers DESC\n",
    "'''\n",
    "sqlc.sql(queries).show(5)"
   ]
  },
  {
   "cell_type": "markdown",
   "metadata": {},
   "source": [
    "* That's it! LA VS Houston!"
   ]
  },
  {
   "cell_type": "markdown",
   "metadata": {},
   "source": [
    "##### DataFrame Commands"
   ]
  },
  {
   "cell_type": "code",
   "execution_count": 16,
   "metadata": {
    "collapsed": true
   },
   "outputs": [],
   "source": [
    "from pyspark.sql import functions"
   ]
  },
  {
   "cell_type": "markdown",
   "metadata": {},
   "source": [
    "* Astros:"
   ]
  },
  {
   "cell_type": "code",
   "execution_count": 182,
   "metadata": {
    "collapsed": false
   },
   "outputs": [
    {
     "name": "stdout",
     "output_type": "stream",
     "text": [
      "+---------------+-----+\n",
      "|       location|count|\n",
      "+---------------+-----+\n",
      "|           null|67295|\n",
      "|    Houston, TX|17639|\n",
      "|     Texas, USA| 4159|\n",
      "|          Texas| 2647|\n",
      "|Los Angeles, CA| 2448|\n",
      "+---------------+-----+\n",
      "only showing top 5 rows\n",
      "\n"
     ]
    }
   ],
   "source": [
    "tweets.filter(functions.lower(tweets.text).like(\"%astros%\")) \\\n",
    "      .groupBy(\"user.location\") \\\n",
    "      .count() \\\n",
    "      .sort(\"count\",ascending=False) \\\n",
    "      .show(5)"
   ]
  },
  {
   "cell_type": "markdown",
   "metadata": {},
   "source": [
    "* Dodgers:"
   ]
  },
  {
   "cell_type": "code",
   "execution_count": 29,
   "metadata": {
    "collapsed": false
   },
   "outputs": [
    {
     "name": "stdout",
     "output_type": "stream",
     "text": [
      "+---------------+-----+\n",
      "|       location|count|\n",
      "+---------------+-----+\n",
      "|           null|49988|\n",
      "|Los Angeles, CA| 6361|\n",
      "|California, USA| 2701|\n",
      "|    Houston, TX| 2362|\n",
      "|    Los Angeles| 1967|\n",
      "+---------------+-----+\n",
      "only showing top 5 rows\n",
      "\n"
     ]
    }
   ],
   "source": [
    "tweets.filter(functions.lower(tweets.text).like(\"%dodgers%\")) \\\n",
    "      .groupBy(\"user.location\") \\\n",
    "      .count() \\\n",
    "      .sort(\"count\",ascending=False) \\\n",
    "      .show(5)"
   ]
  },
  {
   "cell_type": "markdown",
   "metadata": {},
   "source": [
    "* Same results!"
   ]
  },
  {
   "cell_type": "markdown",
   "metadata": {},
   "source": [
    "### Q3.2 - Which Twitter users are being replied to the most?\n",
    "\n",
    "Discuss your findings.\n",
    "\n",
    "Hint: use the top-level `in_reply_to_screen_name` for this.\n",
    "\n",
    "**Answer**"
   ]
  },
  {
   "cell_type": "markdown",
   "metadata": {
    "collapsed": true
   },
   "source": [
    "##### SQL Queries"
   ]
  },
  {
   "cell_type": "code",
   "execution_count": 69,
   "metadata": {
    "collapsed": false
   },
   "outputs": [
    {
     "name": "stdout",
     "output_type": "stream",
     "text": [
      "+-----------------------+--------------+\n",
      "|in_reply_to_screen_name|replied_number|\n",
      "+-----------------------+--------------+\n",
      "|                 astros|          4034|\n",
      "|                Dodgers|          3297|\n",
      "|                    MLB|           705|\n",
      "|          stephenasmith|           332|\n",
      "|               MLBONFOX|           217|\n",
      "|              adevaldes|           180|\n",
      "|          DodgersNation|           165|\n",
      "|          rolandsmartin|           141|\n",
      "|        JustinVerlander|           118|\n",
      "|          DodgerInsider|           113|\n",
      "+-----------------------+--------------+\n",
      "\n"
     ]
    }
   ],
   "source": [
    "queries='''\n",
    "SELECT in_reply_to_screen_name, COUNT(in_reply_to_screen_name) AS replied_number\n",
    "FROM tweets\n",
    "WHERE in_reply_to_screen_name is not NULL\n",
    "GROUP BY in_reply_to_screen_name\n",
    "ORDER BY replied_number DESC\n",
    "LIMIT 10\n",
    "'''\n",
    "sqlc.sql(queries).show(10)"
   ]
  },
  {
   "cell_type": "markdown",
   "metadata": {},
   "source": [
    "##### DataFrame Commands"
   ]
  },
  {
   "cell_type": "code",
   "execution_count": 181,
   "metadata": {
    "collapsed": false
   },
   "outputs": [
    {
     "name": "stdout",
     "output_type": "stream",
     "text": [
      "+-----------------------+-----+\n",
      "|in_reply_to_screen_name|count|\n",
      "+-----------------------+-----+\n",
      "|                 astros| 4034|\n",
      "|                Dodgers| 3297|\n",
      "|                    MLB|  705|\n",
      "|          stephenasmith|  332|\n",
      "|               MLBONFOX|  217|\n",
      "|              adevaldes|  180|\n",
      "|          DodgersNation|  165|\n",
      "|          rolandsmartin|  141|\n",
      "|        JustinVerlander|  118|\n",
      "|          DodgerInsider|  113|\n",
      "+-----------------------+-----+\n",
      "only showing top 10 rows\n",
      "\n"
     ]
    }
   ],
   "source": [
    "tweets.select(\"in_reply_to_screen_name\") \\\n",
    "      .groupBy(\"in_reply_to_screen_name\") \\\n",
    "      .count() \\\n",
    "      .filter(tweets.in_reply_to_screen_name.isNotNull()) \\\n",
    "      .sort(\"count\",ascending=False) \\\n",
    "      .show(10)"
   ]
  },
  {
   "cell_type": "markdown",
   "metadata": {},
   "source": [
    "* Same results."
   ]
  },
  {
   "cell_type": "markdown",
   "metadata": {},
   "source": [
    "* Undoubtedly, two official team twitter accounts, @astros and @Dodgers, together with @MLB, got the most replies.\n",
    "* Note that @stephenasmith is an ESPN commentator and he also won so many retweets."
   ]
  },
  {
   "cell_type": "markdown",
   "metadata": {},
   "source": [
    "### Q3.3 - Which 10 verified users have the most followers?  Which 10 unverified users have the most followers?\n",
    "\n",
    "Provide both the screen names and follower counts for each.\n",
    "\n",
    "Discuss your findings.\n",
    "\n",
    "**Answer**"
   ]
  },
  {
   "cell_type": "markdown",
   "metadata": {
    "collapsed": true
   },
   "source": [
    "##### SQL Queries"
   ]
  },
  {
   "cell_type": "code",
   "execution_count": 120,
   "metadata": {
    "collapsed": false,
    "scrolled": true
   },
   "outputs": [
    {
     "name": "stdout",
     "output_type": "stream",
     "text": [
      "+--------------+---------+---------------+\n",
      "|   screen_name|       id|followers_count|\n",
      "+--------------+---------+---------------+\n",
      "|        cnnbrk|   428333|       53191119|\n",
      "|       nytimes|   807095|       39959480|\n",
      "|           CNN|   759251|       38209973|\n",
      "|       Reuters|  1652541|       18937529|\n",
      "|       FoxNews|  1367531|       16272836|\n",
      "|           ABC| 28785486|       12551437|\n",
      "|washingtonpost|  2467791|       11417638|\n",
      "|   lopezdoriga|236636515|        7859821|\n",
      "|           MLB| 18479513|        7841255|\n",
      "|           MLB| 18479513|        7840827|\n",
      "|           MLB| 18479513|        7840739|\n",
      "|           MLB| 18479513|        7840722|\n",
      "|           MLB| 18479513|        7840418|\n",
      "|           MLB| 18479513|        7840013|\n",
      "|           MLB| 18479513|        7839381|\n",
      "|           MLB| 18479513|        7839037|\n",
      "|           MLB| 18479513|        7837673|\n",
      "|           MLB| 18479513|        7837211|\n",
      "|           NPR|  5392522|        7289619|\n",
      "|           NPR|  5392522|        7289492|\n",
      "+--------------+---------+---------------+\n",
      "\n"
     ]
    }
   ],
   "source": [
    "queries='''\n",
    "SELECT user.screen_name, user.id, user.followers_count\n",
    "FROM tweets\n",
    "WHERE user.verified = true\n",
    "ORDER BY user.followers_count DESC\n",
    "LIMIT 20\n",
    "'''\n",
    "sqlc.sql(queries).show(20)"
   ]
  },
  {
   "cell_type": "markdown",
   "metadata": {},
   "source": [
    "* Are you kidding me? We've got so many MLBs before NPR showed up!\n",
    "* Let's clean the mess."
   ]
  },
  {
   "cell_type": "markdown",
   "metadata": {},
   "source": [
    "##### For verified user:"
   ]
  },
  {
   "cell_type": "code",
   "execution_count": 121,
   "metadata": {
    "collapsed": false
   },
   "outputs": [
    {
     "name": "stdout",
     "output_type": "stream",
     "text": [
      "+---------+--------------+---------+\n",
      "|       id|   screen_name|followers|\n",
      "+---------+--------------+---------+\n",
      "|   428333|        cnnbrk| 53191119|\n",
      "|   807095|       nytimes| 39959480|\n",
      "|   759251|           CNN| 38209973|\n",
      "|  1652541|       Reuters| 18937529|\n",
      "|  1367531|       FoxNews| 16272836|\n",
      "| 28785486|           ABC| 12551437|\n",
      "|  2467791|washingtonpost| 11417638|\n",
      "|236636515|   lopezdoriga|  7859821|\n",
      "| 18479513|           MLB|  7841255|\n",
      "|  5392522|           NPR|  7289619|\n",
      "+---------+--------------+---------+\n",
      "\n"
     ]
    }
   ],
   "source": [
    "queries='''\n",
    "SELECT user.id, user.screen_name, MAX(user.followers_count) AS followers\n",
    "FROM tweets\n",
    "WHERE user.verified = true\n",
    "GROUP BY user.id, user.screen_name\n",
    "ORDER BY followers DESC\n",
    "LIMIT 10\n",
    "'''\n",
    "sqlc.sql(queries).show(10)"
   ]
  },
  {
   "cell_type": "markdown",
   "metadata": {},
   "source": [
    "##### For unverified user:"
   ]
  },
  {
   "cell_type": "code",
   "execution_count": 122,
   "metadata": {
    "collapsed": false
   },
   "outputs": [
    {
     "name": "stdout",
     "output_type": "stream",
     "text": [
      "+----------+---------------+---------+\n",
      "|        id|    screen_name|followers|\n",
      "+----------+---------------+---------+\n",
      "|  99943864|Daminous_Purity|   998742|\n",
      "|  29614331|        chochos|   833669|\n",
      "| 202409095|     TexasHumor|   816301|\n",
      "|  82971772|  el_carabobeno|   725952|\n",
      "|  20897273|       PAMsLOvE|   712254|\n",
      "|  18691328| mlbtraderumors|   659851|\n",
      "|  24733117|        jilevin|   568341|\n",
      "|2796081233|    sun_das_ill|   559669|\n",
      "|  59714229|   DiegoArcos14|   544926|\n",
      "|  54989438|    TVCDeportes|   543095|\n",
      "+----------+---------------+---------+\n",
      "\n"
     ]
    }
   ],
   "source": [
    "queries='''\n",
    "SELECT user.id, user.screen_name, MAX(user.followers_count) AS followers\n",
    "FROM tweets\n",
    "WHERE user.verified = false\n",
    "GROUP BY user.id, user.screen_name\n",
    "ORDER BY followers DESC\n",
    "LIMIT 10\n",
    "'''\n",
    "sqlc.sql(queries).show(10)"
   ]
  },
  {
   "cell_type": "markdown",
   "metadata": {},
   "source": [
    "##### DataFrame Commands"
   ]
  },
  {
   "cell_type": "code",
   "execution_count": 179,
   "metadata": {
    "collapsed": false,
    "scrolled": true
   },
   "outputs": [
    {
     "name": "stdout",
     "output_type": "stream",
     "text": [
      "+--------+---------+--------------+--------------------+\n",
      "|verified|       id|   screen_name|max(followers_count)|\n",
      "+--------+---------+--------------+--------------------+\n",
      "|    true|   428333|        cnnbrk|            53191119|\n",
      "|    true|   807095|       nytimes|            39959480|\n",
      "|    true|   759251|           CNN|            38209973|\n",
      "|    true|  1652541|       Reuters|            18937529|\n",
      "|    true|  1367531|       FoxNews|            16272836|\n",
      "|    true| 28785486|           ABC|            12551437|\n",
      "|    true|  2467791|washingtonpost|            11417638|\n",
      "|    true|236636515|   lopezdoriga|             7859821|\n",
      "|    true| 18479513|           MLB|             7841255|\n",
      "|    true|  5392522|           NPR|             7289619|\n",
      "+--------+---------+--------------+--------------------+\n",
      "only showing top 10 rows\n",
      "\n"
     ]
    }
   ],
   "source": [
    "tweets.select(\"user.verified\",\"user.id\", \"user.screen_name\", \"user.followers_count\") \\\n",
    "      .groupBy(\"verified\",\"id\",\"screen_name\") \\\n",
    "      .max(\"followers_count\") \\\n",
    "      .sort(\"max(followers_count)\",ascending=False) \\\n",
    "      .filter('verified=\"true\"') \\\n",
    "      .show(10)"
   ]
  },
  {
   "cell_type": "code",
   "execution_count": 180,
   "metadata": {
    "collapsed": false
   },
   "outputs": [
    {
     "name": "stdout",
     "output_type": "stream",
     "text": [
      "+--------+----------+---------------+--------------------+\n",
      "|verified|        id|    screen_name|max(followers_count)|\n",
      "+--------+----------+---------------+--------------------+\n",
      "|   false|  99943864|Daminous_Purity|              998742|\n",
      "|   false|  29614331|        chochos|              833669|\n",
      "|   false| 202409095|     TexasHumor|              816301|\n",
      "|   false|  82971772|  el_carabobeno|              725952|\n",
      "|   false|  20897273|       PAMsLOvE|              712254|\n",
      "|   false|  18691328| mlbtraderumors|              659851|\n",
      "|   false|  24733117|        jilevin|              568341|\n",
      "|   false|2796081233|    sun_das_ill|              559669|\n",
      "|   false|  59714229|   DiegoArcos14|              544926|\n",
      "|   false|  54989438|    TVCDeportes|              543095|\n",
      "+--------+----------+---------------+--------------------+\n",
      "only showing top 10 rows\n",
      "\n"
     ]
    }
   ],
   "source": [
    "tweets.select(\"user.verified\",\"user.id\", \"user.screen_name\", \"user.followers_count\") \\\n",
    "      .groupBy(\"verified\",\"id\",\"screen_name\") \\\n",
    "      .max(\"followers_count\") \\\n",
    "      .sort(\"max(followers_count)\",ascending=False) \\\n",
    "      .filter('verified=\"false\"') \\\n",
    "      .show(10)"
   ]
  },
  {
   "cell_type": "markdown",
   "metadata": {},
   "source": [
    "* Again, same results!"
   ]
  },
  {
   "cell_type": "markdown",
   "metadata": {},
   "source": [
    "* We can see that some twitter users are gaining more followers, especially MLB.\n",
    "* It seems that every time MLB post a tweet, the follower number increased a lot.\n",
    "* MLB is the official account of the whole series games. No wonder more people followed MLB during that time."
   ]
  },
  {
   "cell_type": "markdown",
   "metadata": {},
   "source": [
    "### Q3.4 - What are the most popular sets of hashtags among users with many followers?  Are they the same as among users with few followers?\n",
    "\n",
    "Decide for yourself exactly how many followers you believe to be \"many\", and explain your decision.  You may use queries and statistics to support this decision if you wish.\n",
    "\n",
    "Hint: if your sample tweet above does not include hashtags under the `entities` field, generate a new example by running the `shuf` command again until you find one that does.\n",
    "\n",
    "Hint 2: the hashtag texts will be in an array, so you may need some functions you haven't used before.  If you're using SQL, see the docs for [Hive SQL](https://docs.treasuredata.com/articles/hive-functions) for details, (and consider `CONCAT_WS`, for example).\n",
    "\n",
    "Discuss your findings.\n",
    "\n",
    "**Answer**"
   ]
  },
  {
   "cell_type": "markdown",
   "metadata": {},
   "source": [
    "* Let's see the quantiles of follower numbers first."
   ]
  },
  {
   "cell_type": "code",
   "execution_count": 200,
   "metadata": {
    "collapsed": false
   },
   "outputs": [
    {
     "data": {
      "text/plain": [
       "[1.0, 17.0, 41.0, 127.0, 694.0, 1618.0, 3449.0, 27438.0]"
      ]
     },
     "execution_count": 200,
     "metadata": {},
     "output_type": "execute_result"
    }
   ],
   "source": [
    "tweets.select(\"user.id\", \"user.followers_count\") \\\n",
    "      .groupBy(\"id\") \\\n",
    "      .max(\"followers_count\") \\\n",
    "      .sort(\"max(followers_count)\",ascending=False) \\\n",
    "      .approxQuantile(\"max(followers_count)\",(0.01,0.05,0.1,0.25,0.75,0.9,0.95,0.99),relativeError=0)"
   ]
  },
  {
   "cell_type": "markdown",
   "metadata": {},
   "source": [
    "##### We will choose the top 10% most followed users as Many-Follower-Users and the last 10% most followed users as Few-Follower-Users.\n",
    "##### Top10%: users with more than 1618 followers\n",
    "##### Last 10%: users with less than 41 followers"
   ]
  },
  {
   "cell_type": "markdown",
   "metadata": {},
   "source": [
    "* Let's see some hashtag examples."
   ]
  },
  {
   "cell_type": "code",
   "execution_count": 71,
   "metadata": {
    "collapsed": false
   },
   "outputs": [
    {
     "name": "stdout",
     "output_type": "stream",
     "text": [
      "+--------------------+\n",
      "|                text|\n",
      "+--------------------+\n",
      "|            [Astros]|\n",
      "|                  []|\n",
      "|                  []|\n",
      "|                  []|\n",
      "|       [WorldSeries]|\n",
      "|       [WorldSeries]|\n",
      "|         [ASTROSWIN]|\n",
      "|[LosAstros, Serie...|\n",
      "|                  []|\n",
      "|[ThisTeam, WorldS...|\n",
      "+--------------------+\n",
      "only showing top 10 rows\n",
      "\n"
     ]
    }
   ],
   "source": [
    "tweets.select(\"entities.hashtags.text\").show(10)"
   ]
  },
  {
   "cell_type": "markdown",
   "metadata": {},
   "source": [
    "##### DataFrame Commands"
   ]
  },
  {
   "cell_type": "code",
   "execution_count": 58,
   "metadata": {
    "collapsed": true
   },
   "outputs": [],
   "source": [
    "from pyspark.sql import functions"
   ]
  },
  {
   "cell_type": "code",
   "execution_count": 63,
   "metadata": {
    "collapsed": true,
    "scrolled": true
   },
   "outputs": [],
   "source": [
    "many=tweets.select(\"entities.hashtags.text\", \"user.followers_count\") \\\n",
    "      .sort(\"followers_count\",ascending=False) \\\n",
    "      .filter('followers_count > 1618') \\\n",
    "      .select(\"text\") \\\n",
    "      .select(functions.collect_list(\"text\")) \\\n",
    "      .take(1)[0][0]"
   ]
  },
  {
   "cell_type": "code",
   "execution_count": 66,
   "metadata": {
    "collapsed": false
   },
   "outputs": [
    {
     "data": {
      "text/plain": [
       "[('WorldSeries', 8514),\n",
       " ('Astros', 5655),\n",
       " ('Dodgers', 4514),\n",
       " ('EarnHistory', 4268),\n",
       " ('ThisTeam', 3903),\n",
       " ('HR4HR', 967),\n",
       " ('SerieMundial', 914),\n",
       " ('WorldSeries2017', 880),\n",
       " ('worldseries', 745),\n",
       " ('astros', 514)]"
      ]
     },
     "execution_count": 66,
     "metadata": {},
     "output_type": "execute_result"
    }
   ],
   "source": [
    "from operator import add  \n",
    "mylist=[]\n",
    "for everylist in many:\n",
    "    for everyhashtag in everylist:\n",
    "        mylist.append(everyhashtag)\n",
    "myspark=spark.parallelize(mylist)\n",
    "myspark.map(lambda x:(x,1)) \\\n",
    "       .reduceByKey(add) \\\n",
    "       .map(lambda x: (x[1], x[0])) \\\n",
    "       .sortByKey(ascending=False) \\\n",
    "       .map(lambda x: (x[1], x[0])) \\\n",
    "       .take(10)"
   ]
  },
  {
   "cell_type": "code",
   "execution_count": 339,
   "metadata": {
    "collapsed": true
   },
   "outputs": [],
   "source": [
    "few=tweets.select(\"entities.hashtags.text\", \"user.followers_count\") \\\n",
    "      .sort(\"followers_count\",ascending=False) \\\n",
    "      .filter('followers_count < 41') \\\n",
    "      .select(\"text\") \\\n",
    "      .select(functions.collect_list(\"text\")) \\\n",
    "      .take(1)[0][0]"
   ]
  },
  {
   "cell_type": "code",
   "execution_count": 340,
   "metadata": {
    "collapsed": false
   },
   "outputs": [
    {
     "data": {
      "text/plain": [
       "[(4482, 'WorldSeries'),\n",
       " (3646, 'HR4HR'),\n",
       " (3495, 'ThisTeam'),\n",
       " (3208, 'EarnHistory'),\n",
       " (2614, 'Astros'),\n",
       " (1784, 'Dodgers'),\n",
       " (1101, 'LetsCloseThisOut'),\n",
       " (811, 'WorldSeries2017'),\n",
       " (547, 'astros'),\n",
       " (523, 'worldseries')]"
      ]
     },
     "execution_count": 340,
     "metadata": {},
     "output_type": "execute_result"
    }
   ],
   "source": [
    "from operator import add  \n",
    "mylist=[]\n",
    "for everylist in few:\n",
    "    for everyhashtag in everylist:\n",
    "        mylist.append(everyhashtag)\n",
    "myspark=spark.parallelize(mylist)\n",
    "myspark.map(lambda x:(x,1)) \\\n",
    "       .reduceByKey(add) \\\n",
    "       .map(lambda x: (x[1], x[0])) \\\n",
    "       .sortByKey(ascending=False) \\\n",
    "       .map(lambda x: (x[1], x[0])) \\\n",
    "       .take(10)"
   ]
  },
  {
   "cell_type": "markdown",
   "metadata": {},
   "source": [
    "* Two user groups almost share the same popular hashtag sets."
   ]
  },
  {
   "cell_type": "markdown",
   "metadata": {},
   "source": [
    "* But we can see the difference in hashtags:\n",
    "* \"SerieMundial\" only in Many-Follower-Users;\n",
    "* \"LetsCloseThisOut\" only in Few-Follower-Users."
   ]
  },
  {
   "cell_type": "markdown",
   "metadata": {},
   "source": [
    "* The above method is a more python-based method.\n",
    "* Let's try another way to do it!"
   ]
  },
  {
   "cell_type": "code",
   "execution_count": 69,
   "metadata": {
    "collapsed": false
   },
   "outputs": [
    {
     "data": {
      "text/plain": [
       "[('WorldSeries', 8514),\n",
       " ('Astros', 5655),\n",
       " ('Dodgers', 4514),\n",
       " ('EarnHistory', 4268),\n",
       " ('ThisTeam', 3903),\n",
       " ('HR4HR', 967),\n",
       " ('SerieMundial', 914),\n",
       " ('WorldSeries2017', 880),\n",
       " ('worldseries', 745),\n",
       " ('astros', 514)]"
      ]
     },
     "execution_count": 69,
     "metadata": {},
     "output_type": "execute_result"
    }
   ],
   "source": [
    "tweets.filter(\"user.followers_count > 1618\").select(\"entities.hashtags.text\").rdd \\\n",
    "        .flatMap(lambda x:x[0]) \\\n",
    "        .map(lambda x:(x,1)) \\\n",
    "        .reduceByKey(lambda a, b: a + b) \\\n",
    "        .takeOrdered(10, key=lambda pair: -pair[1])"
   ]
  },
  {
   "cell_type": "code",
   "execution_count": 70,
   "metadata": {
    "collapsed": false
   },
   "outputs": [
    {
     "data": {
      "text/plain": [
       "[('WorldSeries', 4482),\n",
       " ('HR4HR', 3646),\n",
       " ('ThisTeam', 3495),\n",
       " ('EarnHistory', 3208),\n",
       " ('Astros', 2614),\n",
       " ('Dodgers', 1784),\n",
       " ('LetsCloseThisOut', 1101),\n",
       " ('WorldSeries2017', 811),\n",
       " ('astros', 547),\n",
       " ('worldseries', 523)]"
      ]
     },
     "execution_count": 70,
     "metadata": {},
     "output_type": "execute_result"
    }
   ],
   "source": [
    "tweets.filter(\"user.followers_count < 41\").select(\"entities.hashtags.text\").rdd \\\n",
    "        .flatMap(lambda x:x[0]) \\\n",
    "        .map(lambda x:(x,1)) \\\n",
    "        .reduceByKey(lambda a, b: a + b) \\\n",
    "        .takeOrdered(10, key=lambda pair: -pair[1])"
   ]
  },
  {
   "cell_type": "markdown",
   "metadata": {},
   "source": [
    "* Same results!"
   ]
  },
  {
   "cell_type": "markdown",
   "metadata": {},
   "source": [
    "##### SQL Queries"
   ]
  },
  {
   "cell_type": "code",
   "execution_count": 78,
   "metadata": {
    "collapsed": false
   },
   "outputs": [
    {
     "name": "stdout",
     "output_type": "stream",
     "text": [
      "+---------------+------+\n",
      "|        hashtag|number|\n",
      "+---------------+------+\n",
      "|    WorldSeries|  8514|\n",
      "|         Astros|  5655|\n",
      "|        Dodgers|  4514|\n",
      "|    EarnHistory|  4268|\n",
      "|       ThisTeam|  3903|\n",
      "|          HR4HR|   967|\n",
      "|   SerieMundial|   914|\n",
      "|WorldSeries2017|   880|\n",
      "|    worldseries|   745|\n",
      "|         astros|   514|\n",
      "+---------------+------+\n",
      "\n"
     ]
    }
   ],
   "source": [
    "queries='''\n",
    "SELECT hashtag, COUNT(1) AS number\n",
    "FROM \n",
    "(SELECT explode(entities.hashtags.text) AS hashtag \n",
    "FROM tweets \n",
    "WHERE user.followers_count > 1618)\n",
    "GROUP BY hashtag \n",
    "ORDER BY number DESC\n",
    "LIMIT 10\n",
    "'''\n",
    "sqlc.sql(queries).show(10)"
   ]
  },
  {
   "cell_type": "code",
   "execution_count": 79,
   "metadata": {
    "collapsed": false
   },
   "outputs": [
    {
     "name": "stdout",
     "output_type": "stream",
     "text": [
      "+----------------+------+\n",
      "|         hashtag|number|\n",
      "+----------------+------+\n",
      "|     WorldSeries|  4482|\n",
      "|           HR4HR|  3646|\n",
      "|        ThisTeam|  3495|\n",
      "|     EarnHistory|  3208|\n",
      "|          Astros|  2614|\n",
      "|         Dodgers|  1784|\n",
      "|LetsCloseThisOut|  1101|\n",
      "| WorldSeries2017|   811|\n",
      "|          astros|   547|\n",
      "|     worldseries|   523|\n",
      "+----------------+------+\n",
      "\n"
     ]
    }
   ],
   "source": [
    "queries='''\n",
    "SELECT hashtag, COUNT(1) AS number\n",
    "FROM \n",
    "(SELECT explode(entities.hashtags.text) AS hashtag \n",
    "FROM tweets \n",
    "WHERE user.followers_count < 41)\n",
    "GROUP BY hashtag \n",
    "ORDER BY number DESC\n",
    "LIMIT 10\n",
    "'''\n",
    "sqlc.sql(queries).show(10)"
   ]
  },
  {
   "cell_type": "markdown",
   "metadata": {},
   "source": [
    "* Again, same results!"
   ]
  },
  {
   "cell_type": "markdown",
   "metadata": {},
   "source": [
    "### Q3.5 - Analyze common words in tweet text\n",
    "\n",
    "Following the example in class, use `tweets.rdd` to find the most common interesting words in tweet text.  To keep it \"interesting\", add a filter that removes at least 10 common stop words found in tweets, like \"a\", \"an\", \"the\", and \"RT\" (you might want to derive these stop words from initial results).  To split lines into words, a simple split on text whitespace like we had in class is sufficient; you do not have to account for punctuation.\n",
    "\n",
    "After you find the most common words, use dataframe or SQL queries to find patterns among how those words are used.  For example, are they more frequently used by Dodgers or Astros fans, or by people in one part of the country over another?  Explore and see what you can find, and discuss your findings.\n",
    "\n",
    "Hint: don't forget all the word count pipeline steps we used earlier in class.\n",
    "\n",
    "**Answer**"
   ]
  },
  {
   "cell_type": "markdown",
   "metadata": {},
   "source": [
    "* Let's see some tweet text examples."
   ]
  },
  {
   "cell_type": "code",
   "execution_count": 17,
   "metadata": {
    "collapsed": false
   },
   "outputs": [
    {
     "data": {
      "text/plain": [
       "[Row(text='@ROSGO21 Hey gal.  #Astros'),\n",
       " Row(text='RT @brianmctaggart: The Astros will give the ball to Justin Verlander on Tuesday night with a chance to win their first World Series.'),\n",
       " Row(text='@TwitterMoments @astros @Dodgers Hell yeah!! NFL has nothing on MLB! https://t.co/IEhPtgMlsd'),\n",
       " Row(text='Hall-of-Fame caliber tweet https://t.co/0NQFE9oUp5'),\n",
       " Row(text='RT @abc13sports: We literally love the @astros rn. #WorldSeries')]"
      ]
     },
     "execution_count": 17,
     "metadata": {},
     "output_type": "execute_result"
    }
   ],
   "source": [
    "tweets.select(\"text\").rdd.take(5)"
   ]
  },
  {
   "cell_type": "markdown",
   "metadata": {},
   "source": [
    "* Note that the most used language is en(English) and es(Spanish). So, we will add some Spanish stopwords to our list."
   ]
  },
  {
   "cell_type": "code",
   "execution_count": 55,
   "metadata": {
    "collapsed": true
   },
   "outputs": [],
   "source": [
    "mystoplist=[\"\",\"en\",\"los\",\"el\",\"la\",\"rt\",\"i\",\"a\", \"about\", \"above\", \"across\", \"after\", \"afterwards\", \"again\",\n",
    "            \"all\", \"almost\", \"alone\", \"along\", \"already\", \"also\",\"although\",\"always\",\"am\",\"among\", \"amongst\",\n",
    "            \"amoungst\", \"amount\",  \"an\", \"and\", \"another\", \"any\",\"anyhow\",\"anyone\",\"anything\",\"anyway\", \n",
    "            \"anywhere\", \"are\", \"around\", \"as\",  \"at\", \"back\",\"be\",\"became\", \"because\",\"become\",\"becomes\", \n",
    "            \"becoming\", \"been\", \"before\", \"beforehand\", \"behind\", \"being\", \"below\", \"beside\", \"besides\", \n",
    "            \"between\", \"beyond\", \"bill\", \"both\", \"bottom\",\"but\", \"by\", \"call\", \"can\", \"cannot\", \"cant\", \"co\",\n",
    "            \"con\", \"could\", \"couldnt\", \"cry\", \"de\", \"describe\", \"detail\", \"do\", \"done\", \"down\", \"due\", \n",
    "            \"during\", \"each\", \"eg\", \"eight\", \"either\", \"eleven\",\"else\", \"elsewhere\", \"empty\", \"enough\", \"etc\",\n",
    "            \"even\", \"ever\", \"every\", \"everyone\", \"everything\", \"everywhere\", \"except\", \"few\",\n",
    "            \"fify\", \"fill\", \"find\", \"fire\",\"for\", \"former\", \"formerly\", \"found\",\n",
    "            \"from\", \"front\", \"full\", \"further\", \"get\", \"give\", \"go\", \"had\", \"has\", \"hasnt\", \"have\",\n",
    "            \"he\", \"hence\", \"her\", \"here\", \"hereafter\", \"hereby\", \"herein\", \"hereupon\", \"hers\", \"herself\", \n",
    "            \"him\", \"himself\", \"his\", \"how\", \"however\", \"hundred\", \"ie\", \"if\", \"in\", \"inc\", \"indeed\", \n",
    "            \"interest\", \"into\", \"is\", \"it\", \"its\", \"itself\",\"last\", \"latter\", \"latterly\", \"least\",\n",
    "            \"less\", \"ltd\", \"made\", \"many\", \"may\", \"me\", \"meanwhile\", \"might\", \"mill\", \"mine\", \"more\", \n",
    "            \"moreover\", \"most\", \"mostly\", \"move\", \"much\", \"must\", \"my\", \"myself\", \"name\", \"namely\", \"neither\",\n",
    "            \"never\", \"nevertheless\", \"next\", \"no\", \"nobody\", \"none\", \"noone\", \"nor\", \"not\", \"nothing\", \n",
    "            \"now\", \"nowhere\", \"of\", \"off\", \"often\", \"on\", \"once\", \"one\", \"only\", \"onto\", \"or\", \"other\", \"others\", \n",
    "            \"otherwise\", \"our\", \"ours\", \"ourselves\", \"out\", \"over\", \"own\",\"part\", \"per\", \"perhaps\", \"please\",\n",
    "            \"put\", \"rather\", \"re\", \"same\", \"see\", \"seem\", \"seemed\", \"seeming\", \"seems\", \"serious\", \"several\", \n",
    "            \"she\", \"should\", \"show\", \"side\", \"since\", \"sincere\", \"so\", \"some\", \"somehow\", \n",
    "            \"someone\", \"something\", \"sometime\", \"sometimes\", \"somewhere\", \"still\", \"such\", \"system\", \"take\", \n",
    "            \"ten\", \"than\", \"that\", \"the\", \"their\", \"them\", \"themselves\", \"then\", \"thence\", \"there\", \"thereafter\", \n",
    "            \"thereby\", \"therefore\", \"therein\", \"thereupon\", \"these\", \"they\", \"thickv\", \"thin\", \"third\", \"this\",\n",
    "            \"those\", \"though\",\"through\", \"throughout\", \"thru\", \"thus\", \"to\", \"together\", \"too\", \"top\",\n",
    "            \"toward\", \"towards\",\"un\", \"under\", \"until\", \"up\", \"upon\", \"us\", \"very\", \n",
    "            \"via\", \"was\", \"we\", \"well\", \"were\", \"what\", \"whatever\", \"when\", \"whence\", \"whenever\", \"where\",\n",
    "            \"whereafter\", \"whereas\", \"whereby\", \"wherein\", \"whereupon\", \"wherever\", \"whether\", \"which\", \"while\",\n",
    "            \"whither\", \"who\", \"whoever\", \"whole\", \"whom\", \"whose\", \"why\", \"will\", \"with\", \"within\", \"without\", \n",
    "            \"would\", \"yet\", \"you\", \"your\", \"yours\", \"yourself\", \"yourselves\", \"the\"]"
   ]
  },
  {
   "cell_type": "code",
   "execution_count": 52,
   "metadata": {
    "collapsed": false
   },
   "outputs": [
    {
     "data": {
      "text/plain": [
       "[('Astros', 69114),\n",
       " ('Dodgers', 52408),\n",
       " ('@astros:', 49821),\n",
       " ('#WorldSeries', 49706),\n",
       " ('@astros', 37272),\n",
       " ('#ThisTeam', 36593),\n",
       " ('#EarnHistory', 34614),\n",
       " ('@Dodgers', 28882),\n",
       " ('#Astros', 26485),\n",
       " ('game', 26401)]"
      ]
     },
     "execution_count": 52,
     "metadata": {},
     "output_type": "execute_result"
    }
   ],
   "source": [
    "tweets.rdd \\\n",
    "    .flatMap(lambda x:x[\"text\"].split(' ')) \\\n",
    "    .filter(lambda x:x.lower() not in mystoplist) \\\n",
    "    .map(lambda t: (t, 1)) \\\n",
    "    .reduceByKey(lambda a, b: a + b) \\\n",
    "    .takeOrdered(10, key=lambda pair: -pair[1])"
   ]
  },
  {
   "cell_type": "markdown",
   "metadata": {},
   "source": [
    "* But most words we have is @twitterusers and #hashtags."
   ]
  },
  {
   "cell_type": "markdown",
   "metadata": {},
   "source": [
    "* We will eliminate these words for that we have discussed some ideas about hashtags and replies."
   ]
  },
  {
   "cell_type": "code",
   "execution_count": 53,
   "metadata": {
    "collapsed": false
   },
   "outputs": [
    {
     "data": {
      "text/plain": [
       "[('Astros', 69114),\n",
       " ('Dodgers', 52408),\n",
       " ('game', 26401),\n",
       " ('win', 19276),\n",
       " ('World', 14800),\n",
       " ('just', 14678),\n",
       " ('dodgers', 14512),\n",
       " ('Series', 12568),\n",
       " ('Game', 11636),\n",
       " ('5', 11606),\n",
       " ('ASTROS', 10086),\n",
       " ('TIE', 9977),\n",
       " ('astros', 9744),\n",
       " ('fan', 9031),\n",
       " ('lead', 8801),\n",
       " ('like', 8734),\n",
       " ('&amp;', 8331),\n",
       " (\"LET'S\", 7997),\n",
       " ('fans', 7968),\n",
       " ('home', 7960)]"
      ]
     },
     "execution_count": 53,
     "metadata": {},
     "output_type": "execute_result"
    }
   ],
   "source": [
    "tweets.rdd \\\n",
    "    .flatMap(lambda x:x[\"text\"].split(' ')) \\\n",
    "    .filter(lambda x:x.lower() not in mystoplist) \\\n",
    "    .filter(lambda x: (\"@\" not in x) and (\"#\" not in x)) \\\n",
    "    .map(lambda t: (t, 1)) \\\n",
    "    .reduceByKey(lambda a, b: a + b) \\\n",
    "    .takeOrdered(20, key=lambda pair: -pair[1])"
   ]
  },
  {
   "cell_type": "markdown",
   "metadata": {},
   "source": [
    "* We will transform all the upper case to lower case and see what we can get."
   ]
  },
  {
   "cell_type": "code",
   "execution_count": 56,
   "metadata": {
    "collapsed": false,
    "scrolled": false
   },
   "outputs": [
    {
     "data": {
      "text/plain": [
       "[('astros', 88985),\n",
       " ('dodgers', 70845),\n",
       " ('game', 45437),\n",
       " ('win', 23221),\n",
       " ('series', 18643),\n",
       " ('world', 18191),\n",
       " ('just', 16684),\n",
       " (\"let's\", 13985),\n",
       " ('tie', 13172),\n",
       " ('5', 11606),\n",
       " ('lead', 10961),\n",
       " ('fan', 10088),\n",
       " ('come', 9461),\n",
       " ('like', 9364),\n",
       " ('home', 9340),\n",
       " ('fans', 8974),\n",
       " ('houston', 8459),\n",
       " ('&amp;', 8331),\n",
       " ('damn', 7945),\n",
       " ('run', 7718)]"
      ]
     },
     "execution_count": 56,
     "metadata": {},
     "output_type": "execute_result"
    }
   ],
   "source": [
    "tweets.rdd \\\n",
    "    .flatMap(lambda x:x[\"text\"].split(' ')) \\\n",
    "    .filter(lambda x:x.lower() not in mystoplist) \\\n",
    "    .filter(lambda x: (\"@\" not in x) and (\"#\" not in x)) \\\n",
    "    .map(lambda t: (t.lower(), 1)) \\\n",
    "    .reduceByKey(lambda a, b: a + b) \\\n",
    "    .takeOrdered(20, key=lambda pair: -pair[1])"
   ]
  },
  {
   "cell_type": "markdown",
   "metadata": {},
   "source": [
    "* We find some interesting words: \"damn\",\"run\",\"home\" and \"tie\"."
   ]
  },
  {
   "cell_type": "markdown",
   "metadata": {},
   "source": [
    "* We will use SQL to do analysis because SQL queries are easier to modify."
   ]
  },
  {
   "cell_type": "code",
   "execution_count": 89,
   "metadata": {
    "collapsed": false,
    "scrolled": true
   },
   "outputs": [
    {
     "data": {
      "text/plain": [
       "[Row(text='RT @NBCSports: Behind barrage of home runs, @astros outslug @Dodgers to win Game 5, 13-12, in extra innings. #WorldSeries… '),\n",
       " Row(text=\"RT @BPinstripes: I know they're going back home but facing Verlander/McCullers possibly in next 2 games and having a burnt-out bullpen, Dod…\"),\n",
       " Row(text='RT @HoustonChron: Astros win.\\n\\nAlex Bregman hits a walk-off home run in the bottom of the tenth.\\n\\n#WorldSeries Game 5: Astros 13, Dod… '),\n",
       " Row(text='RT @HoustonChron: Astros win.\\n\\nAlex Bregman hits a walk-off home run in the bottom of the tenth.\\n\\n#WorldSeries Game 5: Astros 13, Dod… '),\n",
       " Row(text='RT @Dbacks_4: Can someone on the Astros hit a home run so I can go to bed please. I have school in the morning. Appreciate it 👌🏻')]"
      ]
     },
     "execution_count": 89,
     "metadata": {},
     "output_type": "execute_result"
    }
   ],
   "source": [
    "queries='''\n",
    "SELECT text\n",
    "FROM tweets \n",
    "WHERE LOWER(text) like \"% home %\" or text like \"% run %\"\n",
    "LIMIT 10\n",
    "'''\n",
    "sqlc.sql(queries).take(5)"
   ]
  },
  {
   "cell_type": "markdown",
   "metadata": {},
   "source": [
    "* A home run by Astros!"
   ]
  },
  {
   "cell_type": "code",
   "execution_count": 90,
   "metadata": {
    "collapsed": false
   },
   "outputs": [
    {
     "data": {
      "text/plain": [
       "[Row(text='We saw this coming.  Astros, Dodgers tie World Series record for most homers in one series (Update: They broke it) https://t.co/PeXfMjauKa'),\n",
       " Row(text=\"RT @astros: TIE GAME YULI GURRIEL LET'S GOOOOOO!!! https://t.co/zYarNVCfv3\"),\n",
       " Row(text='Ladies and gentleman we have a tie for 2nd most runs EVER in a #WorldSeries game #Astros 13-12 #DodgersVsAstros https://t.co/wNG4aT5z2L'),\n",
       " Row(text='RT @latimes: Astros, Dodgers tie World Series record for most homers in one series (Update: They broke it)… '),\n",
       " Row(text='RT @astros: 🐐🐐🐐🐐🐐🐐🐐🐐🐐🐐🐐🐐🐐🐐🐐🐐🐐🐐🐐🐐🐐🐐🐐🐐🐐🐐🐐🐐🐐🐐🐐🐐🐐🐐🐐🐐🐐🐐🐐🐐🐐🐐🐐🐐🐐🐐🐐🐐🐐🐐🐐🐐🐐🐐🐐🐐🐐🐐🐐🐐🐐 TIE GAME 🐐🐐🐐🐐🐐🐐🐐🐐🐐🐐🐐🐐🐐🐐🐐🐐🐐🐐🐐🐐🐐🐐🐐🐐🐐🐐🐐🐐🐐🐐🐐🐐🐐🐐🐐🐐🐐🐐🐐🐐🐐🐐🐐🐐… ')]"
      ]
     },
     "execution_count": 90,
     "metadata": {},
     "output_type": "execute_result"
    }
   ],
   "source": [
    "queries='''\n",
    "SELECT text\n",
    "FROM tweets \n",
    "WHERE LOWER(text) like \"% tie %\"\n",
    "LIMIT 10\n",
    "'''\n",
    "sqlc.sql(queries).take(5)"
   ]
  },
  {
   "cell_type": "markdown",
   "metadata": {},
   "source": [
    "* Astros and Dodgers tied World Series!"
   ]
  },
  {
   "cell_type": "markdown",
   "metadata": {},
   "source": [
    "* How about \"damn\"? Let's see some examples."
   ]
  },
  {
   "cell_type": "code",
   "execution_count": 91,
   "metadata": {
    "collapsed": false
   },
   "outputs": [
    {
     "data": {
      "text/plain": [
       "[Row(text=\"@Dodgers Chokeshaw is a damn liberal cuck who needs to find a new team. I'm so damn sick of all these pussy fucking… https://t.co/ViK8n8P5Yz\"),\n",
       " Row(text='@astros @ABREG_1 Series MVP is going to the whole damn team! Great job stros!'),\n",
       " Row(text='Dear @Dodgers , \\n  Tell your pitchers to quit walking the world and hanging damn curveballs.\\n  Best Regards,\\n  Rene'),\n",
       " Row(text='Pinchè Astros just won’t go away!! Got damn it \\U0001f926🏽\\u200d♂️'),\n",
       " Row(text=\"I'm watching The World Series, and I don't know the first damn thing about Baseball... OH! The ASTROS just made a TOUCHDOWN!!! 👏\")]"
      ]
     },
     "execution_count": 91,
     "metadata": {},
     "output_type": "execute_result"
    }
   ],
   "source": [
    "queries='''\n",
    "SELECT DISTINCT text\n",
    "FROM tweets \n",
    "WHERE LOWER(text) like \"% damn %\"\n",
    "LIMIT 10\n",
    "'''\n",
    "sqlc.sql(queries).take(5)"
   ]
  },
  {
   "cell_type": "code",
   "execution_count": 124,
   "metadata": {
    "collapsed": false
   },
   "outputs": [
    {
     "name": "stdout",
     "output_type": "stream",
     "text": [
      "+---------+------+\n",
      "|memtioned|number|\n",
      "+---------+------+\n",
      "|  unknown|  6088|\n",
      "|   astros|  1163|\n",
      "|  dodgers|   214|\n",
      "|     both|    38|\n",
      "+---------+------+\n",
      "\n"
     ]
    }
   ],
   "source": [
    "queries='''\n",
    "SELECT\n",
    "    CASE WHEN LOWER(text) like \"% astros %\" AND LOWER(text) like \"% dodgers %\" THEN \"both\"\n",
    "         WHEN LOWER(text) like \"% astros %\" THEN \"astros\"\n",
    "         WHEN LOWER(text) like \"% dodgers %\" THEN \"dodgers\"\n",
    "         ELSE \"unknown\"\n",
    "    END AS memtioned\n",
    ",COUNT(1) AS number\n",
    "FROM tweets\n",
    "WHERE LOWER(text) like \"% damn %\"\n",
    "GROUP BY memtioned\n",
    "ORDER BY number DESC\n",
    "'''\n",
    "sqlc.sql(queries).show()"
   ]
  },
  {
   "cell_type": "markdown",
   "metadata": {},
   "source": [
    "* Astros are more frequently memtioned in those \"damn\"-tweets."
   ]
  },
  {
   "cell_type": "code",
   "execution_count": 104,
   "metadata": {
    "collapsed": false
   },
   "outputs": [
    {
     "name": "stdout",
     "output_type": "stream",
     "text": [
      "+--------------+------+\n",
      "|      location|number|\n",
      "+--------------+------+\n",
      "|          null|  2232|\n",
      "|   Houston, TX|   712|\n",
      "|    Texas, USA|   144|\n",
      "|         Texas|    90|\n",
      "|Houston, Texas|    59|\n",
      "+--------------+------+\n",
      "only showing top 5 rows\n",
      "\n"
     ]
    }
   ],
   "source": [
    "queries='''\n",
    "SELECT user.location, count(text) AS number\n",
    "FROM tweets \n",
    "WHERE LOWER(text) like \"% damn %\"\n",
    "GROUP BY user.location\n",
    "ORDER BY number DESC\n",
    "LIMIT 10\n",
    "'''\n",
    "sqlc.sql(queries).show(5)"
   ]
  },
  {
   "cell_type": "markdown",
   "metadata": {},
   "source": [
    "* Most \"damn\" were from Texas, especially Houston.\n",
    "* No wonder Astros are more frequently memtioned in those \"damn\"-tweets."
   ]
  },
  {
   "cell_type": "code",
   "execution_count": 110,
   "metadata": {
    "collapsed": false
   },
   "outputs": [
    {
     "name": "stdout",
     "output_type": "stream",
     "text": [
      "+----------------------------------------------+\n",
      "|avg(user.followers_count AS `followers_count`)|\n",
      "+----------------------------------------------+\n",
      "|                            1648.6881247500999|\n",
      "+----------------------------------------------+\n",
      "\n"
     ]
    }
   ],
   "source": [
    "queries='''\n",
    "SELECT AVG(user.followers_count)\n",
    "FROM tweets \n",
    "WHERE LOWER(text) like \"% damn %\"\n",
    "'''\n",
    "sqlc.sql(queries).show()"
   ]
  },
  {
   "cell_type": "markdown",
   "metadata": {},
   "source": [
    "* Those users who used \"damn\" have an average follower number of 1648.\n",
    "* It's more than that number of top 10% Many-Follower-Users.\n",
    "* Who are these guys!"
   ]
  },
  {
   "cell_type": "code",
   "execution_count": 117,
   "metadata": {
    "collapsed": false
   },
   "outputs": [
    {
     "name": "stdout",
     "output_type": "stream",
     "text": [
      "+----------+---------------+---------+\n",
      "|        id|    screen_name|followers|\n",
      "+----------+---------------+---------+\n",
      "|  23022687|        tedcruz|  3072380|\n",
      "|  16116288|  rolandsmartin|   479829|\n",
      "|1032487710|       5HonTour|   270932|\n",
      "|  28355356|    LSUbaseball|   255541|\n",
      "|  38271176|    xxFABLIFExx|   147356|\n",
      "| 208164406|iRhymeForReason|   108888|\n",
      "|  20731383|      mattpro13|    89354|\n",
      "|  24987045|    PageKennedy|    88031|\n",
      "| 971053291|     5HWorldCom|    81267|\n",
      "|  50807740|alexandrafranco|    70753|\n",
      "+----------+---------------+---------+\n",
      "\n"
     ]
    }
   ],
   "source": [
    "queries='''\n",
    "SELECT user.id, user.screen_name , MAX(user.followers_count) AS followers\n",
    "FROM tweets \n",
    "WHERE LOWER(text) like \"% damn %\"\n",
    "GROUP BY user.id, user.screen_name\n",
    "ORDER BY followers DESC\n",
    "LIMIT 10 \n",
    "'''\n",
    "sqlc.sql(queries).show(10)"
   ]
  },
  {
   "cell_type": "markdown",
   "metadata": {},
   "source": [
    "* Oh, come on, Ted Cruz is here!"
   ]
  },
  {
   "cell_type": "markdown",
   "metadata": {},
   "source": [
    "* DAMN!"
   ]
  }
 ],
 "metadata": {
  "kernelspec": {
   "display_name": "Python 3",
   "language": "python",
   "name": "python3"
  },
  "language_info": {
   "codemirror_mode": {
    "name": "ipython",
    "version": 3
   },
   "file_extension": ".py",
   "mimetype": "text/x-python",
   "name": "python",
   "nbconvert_exporter": "python",
   "pygments_lexer": "ipython3",
   "version": "3.5.2"
  }
 },
 "nbformat": 4,
 "nbformat_minor": 2
}
