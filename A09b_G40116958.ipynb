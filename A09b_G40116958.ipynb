{
 "cells": [
  {
   "cell_type": "markdown",
   "metadata": {},
   "source": [
    "# preparation\n",
    "### --import modules\n",
    "### --connect to databases\n",
    "### --create MYFLTDATA database"
   ]
  },
  {
   "cell_type": "code",
   "execution_count": 1,
   "metadata": {
    "collapsed": false
   },
   "outputs": [
    {
     "data": {
      "text/plain": [
       "()"
      ]
     },
     "execution_count": 1,
     "metadata": {},
     "output_type": "execute_result"
    }
   ],
   "source": [
    "import pymysql as mysql\n",
    "con= mysql.connect(host='localhost', user='localhost', passwd='root')\n",
    "cursor = con.cursor()\n",
    "\n",
    "sql = 'SHOW DATABASES'\n",
    "cursor.execute(sql)\n",
    "cursor.fetchall()\n",
    "\n",
    "sql = 'DROP DATABASE IF EXISTS MYFLTDATA' \n",
    "cursor.execute(sql)\n",
    "\n",
    "sql = 'CREATE DATABASE MYFLTDATA' \n",
    "cursor.execute(sql)\n",
    "\n",
    "sql = 'USE MYFLTDATA' \n",
    "cursor.execute(sql)\n",
    "\n",
    "sql = 'SHOW TABLES' \n",
    "cursor.execute(sql)\n",
    "\n",
    "cursor.fetchall()"
   ]
  },
  {
   "cell_type": "markdown",
   "metadata": {},
   "source": [
    "# the below codes are used to reconnect to database\n",
    "# change the host user and passwd to your SQL-setting"
   ]
  },
  {
   "cell_type": "code",
   "execution_count": 2,
   "metadata": {
    "collapsed": false
   },
   "outputs": [
    {
     "data": {
      "text/plain": [
       "0"
      ]
     },
     "execution_count": 2,
     "metadata": {},
     "output_type": "execute_result"
    }
   ],
   "source": [
    "import pymysql as mysql\n",
    "con= mysql.connect(host='localhost', user='localhost', passwd='root')\n",
    "cursor = con.cursor()\n",
    "cursor.execute('use MYFLTDATA')"
   ]
  },
  {
   "cell_type": "markdown",
   "metadata": {},
   "source": [
    "# TEST"
   ]
  },
  {
   "cell_type": "code",
   "execution_count": 3,
   "metadata": {
    "collapsed": false
   },
   "outputs": [
    {
     "name": "stderr",
     "output_type": "stream",
     "text": [
      "E:\\Anaconda\\lib\\site-packages\\pymysql\\cursors.py:166: Warning: (1051, \"Unknown table 'myfltdata.test'\")\n",
      "  result = self._query(query)\n"
     ]
    },
    {
     "data": {
      "text/plain": [
       "1"
      ]
     },
     "execution_count": 3,
     "metadata": {},
     "output_type": "execute_result"
    }
   ],
   "source": [
    "sql = ' DROP TABLE IF EXISTS test;'\n",
    "cursor.execute(sql)\n",
    "\n",
    "sql = '''\n",
    "        CREATE TABLE test ( facId CHAR(6),\n",
    "        name CHAR(20) NOT NULL,\n",
    "        department CHAR(20) NOT NULL, rank CHAR(10),\n",
    "        CONSTRAINT Faculty_facId_pk PRIMARY KEY (facId)\n",
    "        );\n",
    "    '''\n",
    "cursor.execute(sql)\n",
    "\n",
    "sql = '''\n",
    "        INSERT INTO test VALUES (\"F101\", \"Adams\", \"Art\", \"Professor\"); \n",
    "        INSERT INTO test VALUES (\"F105\", \"Tanaka\", \"CSC\", \"Instructor\"); \n",
    "        INSERT INTO test VALUES (\"F110\", \"Byrne\", \"Math\", \"Assistant\"); \n",
    "        INSERT INTO test VALUES (\"F115\", \"Smith\", \"History\", \"Associate\"); \n",
    "        INSERT INTO test VALUES (\"F221\", \"Smith\", \"CSC\", \"Professor\");\n",
    "    '''\n",
    "cursor.execute(sql)"
   ]
  },
  {
   "cell_type": "code",
   "execution_count": 4,
   "metadata": {
    "collapsed": true
   },
   "outputs": [],
   "source": [
    "con.commit()"
   ]
  },
  {
   "cell_type": "code",
   "execution_count": 5,
   "metadata": {
    "collapsed": false
   },
   "outputs": [
    {
     "data": {
      "text/plain": [
       "(('F101', 'Adams', 'Art', 'Professor'),\n",
       " ('F105', 'Tanaka', 'CSC', 'Instructor'),\n",
       " ('F110', 'Byrne', 'Math', 'Assistant'),\n",
       " ('F115', 'Smith', 'History', 'Associate'),\n",
       " ('F221', 'Smith', 'CSC', 'Professor'))"
      ]
     },
     "execution_count": 5,
     "metadata": {},
     "output_type": "execute_result"
    }
   ],
   "source": [
    "cursor.execute('SELECT * FROM test')\n",
    "cursor.fetchall()"
   ]
  },
  {
   "cell_type": "code",
   "execution_count": 6,
   "metadata": {
    "collapsed": false
   },
   "outputs": [
    {
     "data": {
      "text/plain": [
       "()"
      ]
     },
     "execution_count": 6,
     "metadata": {},
     "output_type": "execute_result"
    }
   ],
   "source": [
    "cursor.execute('DROP TABLE IF EXISTS test;')\n",
    "\n",
    "cursor.execute('SHOW TABLES')\n",
    "\n",
    "cursor.fetchall()"
   ]
  },
  {
   "cell_type": "markdown",
   "metadata": {},
   "source": [
    "# test completed"
   ]
  },
  {
   "cell_type": "markdown",
   "metadata": {
    "collapsed": true
   },
   "source": [
    "# load CSVs"
   ]
  },
  {
   "cell_type": "code",
   "execution_count": 7,
   "metadata": {
    "collapsed": true
   },
   "outputs": [],
   "source": [
    "import csv"
   ]
  },
  {
   "cell_type": "markdown",
   "metadata": {},
   "source": [
    "### create a table"
   ]
  },
  {
   "cell_type": "code",
   "execution_count": 8,
   "metadata": {
    "collapsed": false
   },
   "outputs": [
    {
     "name": "stderr",
     "output_type": "stream",
     "text": [
      "E:\\Anaconda\\lib\\site-packages\\pymysql\\cursors.py:166: Warning: (1051, \"Unknown table 'myfltdata.flights'\")\n",
      "  result = self._query(query)\n"
     ]
    },
    {
     "data": {
      "text/plain": [
       "0"
      ]
     },
     "execution_count": 8,
     "metadata": {},
     "output_type": "execute_result"
    }
   ],
   "source": [
    "cursor.execute('drop table if exists flights')"
   ]
  },
  {
   "cell_type": "code",
   "execution_count": 9,
   "metadata": {
    "collapsed": false
   },
   "outputs": [
    {
     "data": {
      "text/plain": [
       "0"
      ]
     },
     "execution_count": 9,
     "metadata": {},
     "output_type": "execute_result"
    }
   ],
   "source": [
    "sql='''\n",
    "    CREATE TABLE flights(number VARCHAR(8),\n",
    "    year CHAR(4),\n",
    "    month VARCHAR(2),\n",
    "    day VARCHAR(2),\n",
    "    dep_time VARCHAR(4),\n",
    "    sched_dep_time VARCHAR(4),\n",
    "    dep_delay VARCHAR(10),\n",
    "    arr_time VARCHAR(4),\n",
    "    sched_arr_time VARCHAR(4),\n",
    "    arr_delay VARCHAR(10),\n",
    "    carrier VARCHAR(10),\n",
    "    flight VARCHAR(10),\n",
    "    tailnum VARCHAR(10),\n",
    "    origin CHAR(3),\n",
    "    dest CHAR(3),\n",
    "    air_time VARCHAR(10),\n",
    "    distance VARCHAR(10),\n",
    "    hour VARCHAR(4),\n",
    "    minute VARCHAR(4),\n",
    "    time_hour VARCHAR(20)\n",
    "    )\n",
    "'''\n",
    "cursor.execute(sql)"
   ]
  },
  {
   "cell_type": "markdown",
   "metadata": {},
   "source": [
    "### load data into the table"
   ]
  },
  {
   "cell_type": "code",
   "execution_count": 10,
   "metadata": {
    "collapsed": false
   },
   "outputs": [
    {
     "name": "stdout",
     "output_type": "stream",
     "text": [
      "['', 'year', 'month', 'day', 'dep_time', 'sched_dep_time', 'dep_delay', 'arr_time', 'sched_arr_time', 'arr_delay', 'carrier', 'flight', 'tailnum', 'origin', 'dest', 'air_time', 'distance', 'hour', 'minute', 'time_hour']\n"
     ]
    }
   ],
   "source": [
    "# this cell might take minutes\n",
    "with open('flights.csv', newline='') as f:\n",
    "    flight=csv.reader(f)\n",
    "    for row in flight:\n",
    "        try:\n",
    "            sql = 'INSERT INTO flights VALUES (%s,%s,%s,%s,%s,%s,%s,%s,%s,%s,%s,%s,%s,%s,%s,%s,%s,%s,%s,%s)'\n",
    "            cursor.execute(sql,tuple(row))\n",
    "        except:\n",
    "            print (row)"
   ]
  },
  {
   "cell_type": "code",
   "execution_count": 11,
   "metadata": {
    "collapsed": true
   },
   "outputs": [],
   "source": [
    "con.commit()"
   ]
  },
  {
   "cell_type": "code",
   "execution_count": 12,
   "metadata": {
    "collapsed": false,
    "scrolled": true
   },
   "outputs": [
    {
     "data": {
      "text/plain": [
       "(336776,)"
      ]
     },
     "execution_count": 12,
     "metadata": {},
     "output_type": "execute_result"
    }
   ],
   "source": [
    "cursor.execute(\"SELECT COUNT(flight) FROM flights\")\n",
    "cursor.fetchone()"
   ]
  },
  {
   "cell_type": "markdown",
   "metadata": {},
   "source": [
    "### create a table"
   ]
  },
  {
   "cell_type": "code",
   "execution_count": 13,
   "metadata": {
    "collapsed": false
   },
   "outputs": [
    {
     "name": "stderr",
     "output_type": "stream",
     "text": [
      "E:\\Anaconda\\lib\\site-packages\\pymysql\\cursors.py:166: Warning: (1051, \"Unknown table 'myfltdata.weather'\")\n",
      "  result = self._query(query)\n"
     ]
    },
    {
     "data": {
      "text/plain": [
       "0"
      ]
     },
     "execution_count": 13,
     "metadata": {},
     "output_type": "execute_result"
    }
   ],
   "source": [
    "cursor.execute('drop table if exists weather')"
   ]
  },
  {
   "cell_type": "code",
   "execution_count": 14,
   "metadata": {
    "collapsed": false
   },
   "outputs": [
    {
     "data": {
      "text/plain": [
       "0"
      ]
     },
     "execution_count": 14,
     "metadata": {},
     "output_type": "execute_result"
    }
   ],
   "source": [
    "sql='''\n",
    "    CREATE TABLE weather(number VARCHAR(8),\n",
    "    origin VARCHAR(3),\n",
    "    year CHAR(4),\n",
    "    month VARCHAR(2),\n",
    "    day VARCHAR(2),\n",
    "    hour VARCHAR(2),\n",
    "    temp VARCHAR(20),\n",
    "    dewp VARCHAR(20),\n",
    "    humid VARCHAR(20),\n",
    "    wind_dir VARCHAR(20),\n",
    "    wind_speed VARCHAR(20),\n",
    "    wind_gust VARCHAR(20),\n",
    "    precip VARCHAR(20),\n",
    "    pressure VARCHAR(20),\n",
    "    visib VARCHAR(20),\n",
    "    time_hour VARCHAR(30)\n",
    "    )\n",
    "'''\n",
    "cursor.execute(sql)"
   ]
  },
  {
   "cell_type": "markdown",
   "metadata": {},
   "source": [
    "### load data into the table"
   ]
  },
  {
   "cell_type": "code",
   "execution_count": 15,
   "metadata": {
    "collapsed": false,
    "scrolled": true
   },
   "outputs": [
    {
     "name": "stdout",
     "output_type": "stream",
     "text": [
      "['', 'origin', 'year', 'month', 'day', 'hour', 'temp', 'dewp', 'humid', 'wind_dir', 'wind_speed', 'wind_gust', 'precip', 'pressure', 'visib', 'time_hour']\n"
     ]
    }
   ],
   "source": [
    "# this cell might take minutes\n",
    "with open('weather.csv', newline='') as f:\n",
    "    weather=csv.reader(f)\n",
    "    for row in weather:\n",
    "        try:\n",
    "            sql = 'INSERT INTO weather VALUES (%s,%s,%s,%s,%s,%s,%s,%s,%s,%s,%s,%s,%s,%s,%s,%s)'\n",
    "            cursor.execute(sql,tuple(row))\n",
    "        except:\n",
    "            print (row)"
   ]
  },
  {
   "cell_type": "code",
   "execution_count": 16,
   "metadata": {
    "collapsed": true
   },
   "outputs": [],
   "source": [
    "con.commit()"
   ]
  },
  {
   "cell_type": "code",
   "execution_count": 17,
   "metadata": {
    "collapsed": false
   },
   "outputs": [
    {
     "data": {
      "text/plain": [
       "(26130,)"
      ]
     },
     "execution_count": 17,
     "metadata": {},
     "output_type": "execute_result"
    }
   ],
   "source": [
    "cursor.execute(\"SELECT COUNT(number) FROM weather\")\n",
    "cursor.fetchone()"
   ]
  },
  {
   "cell_type": "code",
   "execution_count": 18,
   "metadata": {
    "collapsed": false,
    "scrolled": true
   },
   "outputs": [
    {
     "data": {
      "text/plain": [
       "(('7',\n",
       "  '2013',\n",
       "  '1',\n",
       "  '1',\n",
       "  '555',\n",
       "  '600',\n",
       "  '-5',\n",
       "  '913',\n",
       "  '854',\n",
       "  '19',\n",
       "  'B6',\n",
       "  '507',\n",
       "  'N516JB',\n",
       "  'EWR',\n",
       "  'FLL',\n",
       "  '158',\n",
       "  '1065',\n",
       "  '6',\n",
       "  '0',\n",
       "  '2013-01-01 06:00:00',\n",
       "  '6',\n",
       "  'EWR',\n",
       "  '2013',\n",
       "  '1',\n",
       "  '1',\n",
       "  '6',\n",
       "  '39.02',\n",
       "  '26.06',\n",
       "  '59.37',\n",
       "  '270',\n",
       "  '10.35702',\n",
       "  '11.9186514756',\n",
       "  '0',\n",
       "  '1012',\n",
       "  '10',\n",
       "  '2013-01-01 01:00:00'),\n",
       " ('14',\n",
       "  '2013',\n",
       "  '1',\n",
       "  '1',\n",
       "  '558',\n",
       "  '600',\n",
       "  '-2',\n",
       "  '923',\n",
       "  '937',\n",
       "  '-14',\n",
       "  'UA',\n",
       "  '1124',\n",
       "  'N53441',\n",
       "  'EWR',\n",
       "  'SFO',\n",
       "  '361',\n",
       "  '2565',\n",
       "  '6',\n",
       "  '0',\n",
       "  '2013-01-01 06:00:00',\n",
       "  '6',\n",
       "  'EWR',\n",
       "  '2013',\n",
       "  '1',\n",
       "  '1',\n",
       "  '6',\n",
       "  '39.02',\n",
       "  '26.06',\n",
       "  '59.37',\n",
       "  '270',\n",
       "  '10.35702',\n",
       "  '11.9186514756',\n",
       "  '0',\n",
       "  '1012',\n",
       "  '10',\n",
       "  '2013-01-01 01:00:00'),\n",
       " ('17',\n",
       "  '2013',\n",
       "  '1',\n",
       "  '1',\n",
       "  '559',\n",
       "  '600',\n",
       "  '-1',\n",
       "  '854',\n",
       "  '902',\n",
       "  '-8',\n",
       "  'UA',\n",
       "  '1187',\n",
       "  'N76515',\n",
       "  'EWR',\n",
       "  'LAS',\n",
       "  '337',\n",
       "  '2227',\n",
       "  '6',\n",
       "  '0',\n",
       "  '2013-01-01 06:00:00',\n",
       "  '6',\n",
       "  'EWR',\n",
       "  '2013',\n",
       "  '1',\n",
       "  '1',\n",
       "  '6',\n",
       "  '39.02',\n",
       "  '26.06',\n",
       "  '59.37',\n",
       "  '270',\n",
       "  '10.35702',\n",
       "  '11.9186514756',\n",
       "  '0',\n",
       "  '1012',\n",
       "  '10',\n",
       "  '2013-01-01 01:00:00'),\n",
       " ('20',\n",
       "  '2013',\n",
       "  '1',\n",
       "  '1',\n",
       "  '601',\n",
       "  '600',\n",
       "  '1',\n",
       "  '844',\n",
       "  '850',\n",
       "  '-6',\n",
       "  'B6',\n",
       "  '343',\n",
       "  'N644JB',\n",
       "  'EWR',\n",
       "  'PBI',\n",
       "  '147',\n",
       "  '1023',\n",
       "  '6',\n",
       "  '0',\n",
       "  '2013-01-01 06:00:00',\n",
       "  '6',\n",
       "  'EWR',\n",
       "  '2013',\n",
       "  '1',\n",
       "  '1',\n",
       "  '6',\n",
       "  '39.02',\n",
       "  '26.06',\n",
       "  '59.37',\n",
       "  '270',\n",
       "  '10.35702',\n",
       "  '11.9186514756',\n",
       "  '0',\n",
       "  '1012',\n",
       "  '10',\n",
       "  '2013-01-01 01:00:00'),\n",
       " ('23',\n",
       "  '2013',\n",
       "  '1',\n",
       "  '1',\n",
       "  '606',\n",
       "  '610',\n",
       "  '-4',\n",
       "  '858',\n",
       "  '910',\n",
       "  '-12',\n",
       "  'AA',\n",
       "  '1895',\n",
       "  'N633AA',\n",
       "  'EWR',\n",
       "  'MIA',\n",
       "  '152',\n",
       "  '1085',\n",
       "  '6',\n",
       "  '10',\n",
       "  '2013-01-01 06:00:00',\n",
       "  '6',\n",
       "  'EWR',\n",
       "  '2013',\n",
       "  '1',\n",
       "  '1',\n",
       "  '6',\n",
       "  '39.02',\n",
       "  '26.06',\n",
       "  '59.37',\n",
       "  '270',\n",
       "  '10.35702',\n",
       "  '11.9186514756',\n",
       "  '0',\n",
       "  '1012',\n",
       "  '10',\n",
       "  '2013-01-01 01:00:00'))"
      ]
     },
     "execution_count": 18,
     "metadata": {},
     "output_type": "execute_result"
    }
   ],
   "source": [
    "# the commands might take too long to respond. So, I set the limit.\n",
    "cursor.execute('''\n",
    "               SELECT * FROM flights LEFT OUTER JOIN weather\n",
    "               ON (flights.year=weather.year \n",
    "               AND flights.month=weather.month\n",
    "               AND flights.day=weather.day\n",
    "               AND flights.hour=weather.hour\n",
    "               AND flights.origin=weather.origin)\n",
    "               LIMIT 100\n",
    "               ''')\n",
    "cursor.fetchmany(5)"
   ]
  },
  {
   "cell_type": "markdown",
   "metadata": {},
   "source": [
    "### if the commands in the above cell were interrupted, we need to reconnect to the database"
   ]
  },
  {
   "cell_type": "code",
   "execution_count": 19,
   "metadata": {
    "collapsed": false
   },
   "outputs": [
    {
     "data": {
      "text/plain": [
       "0"
      ]
     },
     "execution_count": 19,
     "metadata": {},
     "output_type": "execute_result"
    }
   ],
   "source": [
    "import pymysql as mysql\n",
    "con= mysql.connect(host='localhost', user='localhost', passwd='root')\n",
    "cursor = con.cursor()\n",
    "cursor.execute('use MYFLTDATA')"
   ]
  },
  {
   "cell_type": "markdown",
   "metadata": {},
   "source": [
    "### create a table"
   ]
  },
  {
   "cell_type": "code",
   "execution_count": 20,
   "metadata": {
    "collapsed": false,
    "scrolled": true
   },
   "outputs": [
    {
     "data": {
      "text/plain": [
       "0"
      ]
     },
     "execution_count": 20,
     "metadata": {},
     "output_type": "execute_result"
    }
   ],
   "source": [
    "sql='''\n",
    "    CREATE TABLE mydelay(number VARCHAR(8),\n",
    "    year CHAR(4),\n",
    "    month VARCHAR(2),\n",
    "    day VARCHAR(2),\n",
    "    dep_time VARCHAR(4),\n",
    "    sched_dep_time VARCHAR(4),\n",
    "    dep_delay VARCHAR(10),\n",
    "    arr_time VARCHAR(4),\n",
    "    sched_arr_time VARCHAR(4),\n",
    "    arr_delay VARCHAR(10),\n",
    "    carrier VARCHAR(10),\n",
    "    flight VARCHAR(10),\n",
    "    tailnum VARCHAR(10),\n",
    "    origin CHAR(3),\n",
    "    dest CHAR(3),\n",
    "    air_time VARCHAR(10),\n",
    "    distance VARCHAR(10),\n",
    "    hour VARCHAR(4),\n",
    "    minute VARCHAR(4),\n",
    "    time_hour VARCHAR(20)\n",
    "    )\n",
    "'''\n",
    "cursor.execute(sql)"
   ]
  },
  {
   "cell_type": "markdown",
   "metadata": {},
   "source": [
    "### get all required records"
   ]
  },
  {
   "cell_type": "code",
   "execution_count": 21,
   "metadata": {
    "collapsed": false
   },
   "outputs": [],
   "source": [
    "cursor.execute('''\n",
    "               SELECT * FROM flights WHERE ((origin=\"JFK\") AND (dep_delay/60>10))\n",
    "               ''')\n",
    "delay=cursor.fetchall()"
   ]
  },
  {
   "cell_type": "markdown",
   "metadata": {},
   "source": [
    "### store the records into the table"
   ]
  },
  {
   "cell_type": "code",
   "execution_count": 22,
   "metadata": {
    "collapsed": true
   },
   "outputs": [],
   "source": [
    "for row in delay:\n",
    "    try:\n",
    "        sql = 'INSERT INTO mydelay VALUES (%s,%s,%s,%s,%s,%s,%s,%s,%s,%s,%s,%s,%s,%s,%s,%s,%s,%s,%s,%s)'\n",
    "        cursor.execute(sql,tuple(row))\n",
    "    except:\n",
    "        print (row)"
   ]
  },
  {
   "cell_type": "code",
   "execution_count": 23,
   "metadata": {
    "collapsed": true
   },
   "outputs": [],
   "source": [
    "con.commit()"
   ]
  },
  {
   "cell_type": "markdown",
   "metadata": {},
   "source": [
    "### check if the commands worked"
   ]
  },
  {
   "cell_type": "code",
   "execution_count": 24,
   "metadata": {
    "collapsed": false
   },
   "outputs": [
    {
     "data": {
      "text/plain": [
       "(18,)"
      ]
     },
     "execution_count": 24,
     "metadata": {},
     "output_type": "execute_result"
    }
   ],
   "source": [
    "cursor.execute(\"SELECT COUNT(number) FROM mydelay\")\n",
    "cursor.fetchone()"
   ]
  },
  {
   "cell_type": "markdown",
   "metadata": {},
   "source": [
    "### check the records in table"
   ]
  },
  {
   "cell_type": "code",
   "execution_count": 25,
   "metadata": {
    "collapsed": false,
    "scrolled": true
   },
   "outputs": [
    {
     "data": {
      "text/plain": [
       "('152',\n",
       " '2013',\n",
       " '1',\n",
       " '1',\n",
       " '848',\n",
       " '1835',\n",
       " '853',\n",
       " '1001',\n",
       " '1950',\n",
       " '851',\n",
       " 'MQ',\n",
       " '3944',\n",
       " 'N942MQ',\n",
       " 'JFK',\n",
       " 'BWI',\n",
       " '41',\n",
       " '184',\n",
       " '18',\n",
       " '35',\n",
       " '2013-01-01 18:00:00')"
      ]
     },
     "execution_count": 25,
     "metadata": {},
     "output_type": "execute_result"
    }
   ],
   "source": [
    "cursor.execute(\"SELECT * FROM mydelay\")\n",
    "cursor.fetchone()"
   ]
  },
  {
   "cell_type": "code",
   "execution_count": 26,
   "metadata": {
    "collapsed": false
   },
   "outputs": [
    {
     "data": {
      "text/plain": [
       "((57.370000000000005,\n",
       "  69.3722222222222,\n",
       "  13.233970000000005,\n",
       "  0.0022222222222222222),)"
      ]
     },
     "execution_count": 26,
     "metadata": {},
     "output_type": "execute_result"
    }
   ],
   "source": [
    "cursor.execute('''\n",
    "                SELECT avg(weather.temp),avg(weather.humid),avg(weather.wind_speed),avg(weather.precip)  \n",
    "                FROM weather \n",
    "                RIGHT OUTER JOIN mydelay \n",
    "                ON (mydelay.year=weather.year \n",
    "                AND mydelay.month=weather.month\n",
    "                AND mydelay.day=weather.day\n",
    "                AND mydelay.hour=weather.hour\n",
    "                AND mydelay.origin=weather.origin)\n",
    "               ''')\n",
    "cursor.fetchall()"
   ]
  },
  {
   "cell_type": "markdown",
   "metadata": {},
   "source": [
    "### For these delayed flights,\n",
    "### the average temperature is 57.37,\n",
    "### the average humidityis 69.37,\n",
    "### the average wind speed is 13.23,\n",
    "### the average precipitation is 0.0022."
   ]
  },
  {
   "cell_type": "markdown",
   "metadata": {},
   "source": [
    "# draw plots"
   ]
  },
  {
   "cell_type": "code",
   "execution_count": 27,
   "metadata": {
    "collapsed": true
   },
   "outputs": [],
   "source": [
    "import pandas as pd\n",
    "import numpy as np\n",
    "import matplotlib.pyplot as plt\n",
    "import seaborn as sns\n",
    "%matplotlib inline"
   ]
  },
  {
   "cell_type": "markdown",
   "metadata": {},
   "source": [
    "# extract data from database"
   ]
  },
  {
   "cell_type": "code",
   "execution_count": 28,
   "metadata": {
    "collapsed": false
   },
   "outputs": [
    {
     "name": "stdout",
     "output_type": "stream",
     "text": [
      "('NA', 'NA', '12.65858', '0.03')\n",
      "('NA', 'NA', '12.65858', '0.03')\n",
      "('51.98', '27.02', 'NA', '0')\n",
      "('73.04', '93.52', 'NA', '0')\n",
      "('80.96', '71.92', 'NA', '0')\n"
     ]
    }
   ],
   "source": [
    "cursor.execute('''\n",
    "                SELECT temp,humid,wind_speed,precip\n",
    "                FROM weather\n",
    "               ''')\n",
    "x=cursor.fetchall()\n",
    "temp=[]\n",
    "humidity=[]\n",
    "windspeed=[]\n",
    "precipitation=[]\n",
    "for n in x:\n",
    "    try:\n",
    "        temp.append(float(n[0]))\n",
    "    except:\n",
    "        print(n)\n",
    "for n in x:\n",
    "    try:\n",
    "        humidity.append(float(n[1]))\n",
    "    except:\n",
    "        print(n)\n",
    "for n in x:\n",
    "    try:\n",
    "        windspeed.append(float(n[2]))\n",
    "    except:\n",
    "        print(n)\n",
    "for n in x:\n",
    "    try:\n",
    "        precipitation.append(float(n[3]))\n",
    "    except:\n",
    "        print(n)"
   ]
  },
  {
   "cell_type": "markdown",
   "metadata": {},
   "source": [
    "## plots"
   ]
  },
  {
   "cell_type": "code",
   "execution_count": 29,
   "metadata": {
    "collapsed": false
   },
   "outputs": [
    {
     "data": {
      "image/png": "[encoded data removed]",
      "text/plain": [
       "<matplotlib.figure.Figure at 0xb634128>"
      ]
     },
     "metadata": {},
     "output_type": "display_data"
    }
   ],
   "source": [
    "plt.hist(temp,50,color=\"b\",alpha=0.4)\n",
    "plt.axis([0, 120, 0, 1500])\n",
    "plt.xlabel(\"Temperature\")\n",
    "plt.ylabel(\"Frequency\")\n",
    "plt.title(\"Temperature Distribution\")\n",
    "plt.grid(True)"
   ]
  },
  {
   "cell_type": "code",
   "execution_count": 30,
   "metadata": {
    "collapsed": false
   },
   "outputs": [
    {
     "data": {
      "image/png": "[encoded data removed]",
      "text/plain": [
       "<matplotlib.figure.Figure at 0xc169320>"
      ]
     },
     "metadata": {},
     "output_type": "display_data"
    }
   ],
   "source": [
    "plt.hist(humidity,50,color=\"g\",alpha=0.4)\n",
    "plt.axis([0, 120, 0, 1500])\n",
    "plt.xlabel(\"Humidity\")\n",
    "plt.ylabel(\"Frequency\")\n",
    "plt.title(\"Humidity Distribution\")\n",
    "plt.grid(True)"
   ]
  },
  {
   "cell_type": "code",
   "execution_count": 31,
   "metadata": {
    "collapsed": false
   },
   "outputs": [
    {
     "data": {
      "image/png": "[encoded data removed]",
      "text/plain": [
       "<matplotlib.figure.Figure at 0xc4b2ba8>"
      ]
     },
     "metadata": {},
     "output_type": "display_data"
    }
   ],
   "source": [
    "plt.hist(windspeed,900,color=\"r\",alpha=0.4)\n",
    "plt.axis([0, 40, 0, 3000])\n",
    "plt.xlabel(\"Windspeed\")\n",
    "plt.ylabel(\"Frequency\")\n",
    "plt.title(\"Windspeed Distribution\")\n",
    "plt.grid(True)"
   ]
  },
  {
   "cell_type": "code",
   "execution_count": 32,
   "metadata": {
    "collapsed": false
   },
   "outputs": [
    {
     "data": {
      "image/png": "[encoded data removed]",
      "text/plain": [
       "<matplotlib.figure.Figure at 0xcefe7b8>"
      ]
     },
     "metadata": {},
     "output_type": "display_data"
    }
   ],
   "source": [
    "plt.hist(precipitation,10,color=\"c\",alpha=0.4)\n",
    "plt.axis([0, 1, 0, 30000])\n",
    "plt.xlabel(\"Precipitation\")\n",
    "plt.ylabel(\"Frequency\")\n",
    "plt.title(\"Precipitation Distribution\")\n",
    "plt.grid(True)"
   ]
  },
  {
   "cell_type": "markdown",
   "metadata": {},
   "source": [
    "# save data from mydelay into a csv file"
   ]
  },
  {
   "cell_type": "code",
   "execution_count": 33,
   "metadata": {
    "collapsed": false,
    "scrolled": true
   },
   "outputs": [
    {
     "name": "stdout",
     "output_type": "stream",
     "text": [
      "['number', 'year', 'month', 'day', 'dep_time', 'sched_dep_time', 'dep_delay', 'arr_time', 'sched_arr_time', 'arr_delay', 'carrier', 'flight', 'tailnum', 'origin', 'dest', 'air_time', 'distance', 'hour', 'minute', 'time_hour']\n"
     ]
    }
   ],
   "source": [
    "import csv\n",
    "cursor.execute('''\n",
    "                SELECT *\n",
    "                FROM mydelay\n",
    "               ''')\n",
    "x=cursor.fetchall()\n",
    "\n",
    "with open('mydelay.csv','w',newline='') as f:\n",
    "    writecsv=csv.writer(f, delimiter=\",\")\n",
    "    header=[\"number\",\"year\",\"month\",\"day\",\"dep_time\",\"sched_dep_time\",\n",
    "            \"dep_delay\",\"arr_time\",\"sched_arr_time\",\"arr_delay\",\n",
    "            \"carrier\",\"flight\",\"tailnum\",\"origin\",\"dest\",\"air_time\",\n",
    "            \"distance\",\"hour\",\"minute\",\"time_hour\"]\n",
    "    writecsv.writerow(header)\n",
    "    for row in x:\n",
    "        writecsv.writerow(row)\n",
    "    print (header)"
   ]
  },
  {
   "cell_type": "code",
   "execution_count": 34,
   "metadata": {
    "collapsed": false
   },
   "outputs": [],
   "source": [
    "cursor.close()\n",
    "con.close()"
   ]
  }
 ],
 "metadata": {
  "anaconda-cloud": {},
  "kernelspec": {
   "display_name": "Python [default]",
   "language": "python",
   "name": "python3"
  },
  "language_info": {
   "codemirror_mode": {
    "name": "ipython",
    "version": 3
   },
   "file_extension": ".py",
   "mimetype": "text/x-python",
   "name": "python",
   "nbconvert_exporter": "python",
   "pygments_lexer": "ipython3",
   "version": "3.5.2"
  }
 },
 "nbformat": 4,
 "nbformat_minor": 1
}
