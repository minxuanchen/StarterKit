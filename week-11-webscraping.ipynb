{
 "cells": [
  {
   "cell_type": "markdown",
   "metadata": {},
   "source": [
    "**Setup**\n",
    "\n",
    "1. Install chromium browser, beautifulsoup and requests\n",
    "    1. sudo apt-get install chromium-browser \n",
    "    + conda install beautifulsoup4\n",
    "    + conda install requests\n",
    "+ Make sure all the files are available in the folder that you are working with "
   ]
  },
  {
   "cell_type": "code",
   "execution_count": 10,
   "metadata": {
    "collapsed": false
   },
   "outputs": [
    {
     "name": "stdout",
     "output_type": "stream",
     "text": [
      "<!DOCTYPE html>\n",
      "\n",
      "<html>\n",
      "\n",
      "<body>\n",
      "\n",
      "    This is my first <br> web page\n",
      "\n",
      "</body>\n",
      "\n",
      "</html>\n",
      "\n"
     ]
    }
   ],
   "source": [
    "with open(\"C:/Users/Administrator/Desktop/Workfiles/programming/files/first.html\") as f:\n",
    "    x=f.readlines()\n",
    "    for line in x:\n",
    "        print (line)"
   ]
  },
  {
   "cell_type": "code",
   "execution_count": null,
   "metadata": {
    "collapsed": true
   },
   "outputs": [],
   "source": [
    "# Slide 5\n",
    "# Open \"Files\" file organizer\n",
    "# Right-click on \"simple.html\"\n",
    "# Right-click on document and \"inspect\""
   ]
  },
  {
   "cell_type": "code",
   "execution_count": null,
   "metadata": {
    "collapsed": true
   },
   "outputs": [],
   "source": [
    "#path = \"C:/Users/kanungo/odrive/Google Drive/mydata/Courses/Programming for analytics/Fall 2017/Slides PPT/Week 11 - Web scraping/code and materials/files/\"\n",
    "#path = \"/home/drk/kanungo/DNSC6211/week11/code and materials/files/\""
   ]
  },
  {
   "cell_type": "code",
   "execution_count": 11,
   "metadata": {
    "collapsed": false,
    "scrolled": true
   },
   "outputs": [
    {
     "name": "stdout",
     "output_type": "stream",
     "text": [
      "Date: Fri, 10 Nov 2017 01:03:41 GMT\n",
      "Expires: -1\n",
      "Cache-Control: private, max-age=0\n",
      "Content-Type: text/html; charset=ISO-8859-1\n",
      "P3P: CP=\"This is not a P3P policy! See g.co/p3phelp for more info.\"\n",
      "Server: gws\n",
      "X-XSS-Protection: 1; mode=block\n",
      "X-Frame-Options: SAMEORIGIN\n",
      "Set-Cookie: 1P_JAR=2017-11-10-01; expires=Sun, 10-Dec-2017 01:03:41 GMT; path=/; domain=.google.com\n",
      "Set-Cookie: NID=116=Zu5ZILcy60QGXllllVhLjlwIcgXeC36YAli28LHaCMYmq26Bp84BVRGUEDCTuiBkw49xU2g0wJrf4V-AIlydP6aFkCoGeI9eNNVzbh1N1LAiWsa74Vrx7sxig_672sEr; expires=Sat, 12-May-2018 01:03:41 GMT; path=/; domain=.google.com; HttpOnly\n",
      "Accept-Ranges: none\n",
      "Vary: Accept-Encoding\n",
      "Connection: close\n",
      "\n",
      "\n"
     ]
    }
   ],
   "source": [
    "# Slide 17\n",
    "import urllib.request\n",
    "url = \"http://www.google.com/\"\n",
    "request = urllib.request.Request(url)\n",
    "response = urllib.request.urlopen(request)\n",
    "print (response.info())\n",
    "html = response.read()\n",
    "# print (html)                   #  <-- Try this out \n",
    "response.close()                 # best to close the file "
   ]
  },
  {
   "cell_type": "code",
   "execution_count": 14,
   "metadata": {
    "collapsed": true
   },
   "outputs": [],
   "source": [
    "path = \"C:/Users/Administrator/Desktop/Workfiles/programming/files/\""
   ]
  },
  {
   "cell_type": "code",
   "execution_count": 36,
   "metadata": {
    "collapsed": false
   },
   "outputs": [
    {
     "name": "stdout",
     "output_type": "stream",
     "text": [
      "<HTML>\r\n",
      "  <HEAD>\r\n",
      "    <TITLE>\r\n",
      "      Page Title\r\n",
      "    </TITLE>\r\n",
      "  <BODY>\r\n",
      "    <H1>Level One Header </H1>\r\n",
      "    <p id=\"RipVanWinkle\">\r\n",
      "      RipVanWinkle Paragraph.\r\n",
      "    </p>\r\n",
      "  </BODY>\r\n",
      "</HTML>\r\n",
      "\n"
     ]
    }
   ],
   "source": [
    "# Slide 18\n",
    "import urllib.request\n",
    "filename = \"simple.html\"\n",
    "url = \"file:///\"+path+filename\n",
    "request = urllib.request.Request(url)\n",
    "response = urllib.request.urlopen(request)\n",
    "data = response.read().decode(\"utf-8\")\n",
    "print (data)\n",
    "response.close() "
   ]
  },
  {
   "cell_type": "code",
   "execution_count": null,
   "metadata": {
    "collapsed": true
   },
   "outputs": [],
   "source": [
    "# Slide 20\n",
    "# Next few cells\n",
    "# Before you go to the next few cells\n",
    "#    Go to www.gwu.edu\n",
    "#    Explore the page using inspect (in any browser)\n",
    "#    Look for all the <a> tags"
   ]
  },
  {
   "cell_type": "code",
   "execution_count": 19,
   "metadata": {
    "collapsed": true,
    "scrolled": true
   },
   "outputs": [],
   "source": [
    "from bs4 import BeautifulSoup as bs"
   ]
  },
  {
   "cell_type": "code",
   "execution_count": 20,
   "metadata": {
    "collapsed": true
   },
   "outputs": [],
   "source": [
    "import requests"
   ]
  },
  {
   "cell_type": "code",
   "execution_count": 21,
   "metadata": {
    "collapsed": true
   },
   "outputs": [],
   "source": [
    "r = requests.get(\"http://www.gwu.edu\")"
   ]
  },
  {
   "cell_type": "code",
   "execution_count": 22,
   "metadata": {
    "collapsed": true
   },
   "outputs": [],
   "source": [
    "data = r.text"
   ]
  },
  {
   "cell_type": "code",
   "execution_count": 28,
   "metadata": {
    "collapsed": true
   },
   "outputs": [],
   "source": [
    "soup = bs(data, \"html.parser\")"
   ]
  },
  {
   "cell_type": "code",
   "execution_count": 31,
   "metadata": {
    "collapsed": false,
    "scrolled": true
   },
   "outputs": [
    {
     "name": "stdout",
     "output_type": "stream",
     "text": [
      "#main-content\n",
      "https://students.gwu.edu/?utm_source=utilitynav&utm_medium=audience-students&utm_campaign=gwhomepage-utility\n",
      "https://www.gwu.edu/faculty-staff\n",
      "https://alumni.gwu.edu/?utm_source=utilitynav&utm_medium=audience-alumni&utm_campaign=gwhomepage-utility\n",
      "https://www.gwu.edu/email\n",
      "https://banweb.gwu.edu?utm_source=utilitynav&utm_medium=task-gweb&utm_campaign=gwhomepage-utility\n",
      "https://blackboard.gwu.edu/webapps/login/?new_loc=/webapps/portal/execute/defaultTab%3Futm_source%3Dutilitynav&utm_medium=task-utility&utm_campaign=gwhomepage-utility\n",
      "http://my.gwu.edu/mod/directory?utm_source=utilitynav&utm_medium=task-directoryi&utm_campaign=gwhomepage-utility\n",
      "https://giving.gwu.edu?utm_source=utilitynav&utm_medium=task-give&utm_campaign=gwhomepage-utility\n",
      "https://www.gwu.edu\n",
      "https://www.gwu.edu/admissions-aid\n",
      "https://www.gwu.edu\n",
      "https://www.gwu.edu/admissions-aid\n",
      "/about\n",
      "/leadership\n",
      "/our-priorities\n",
      "/our-location\n",
      "/foggy-bottom-campus\n",
      "/mount-vernon-campus\n",
      "/virginia-science-technology-campus\n",
      "/online-virginia-academic-centers\n",
      "/admissions-aid\n",
      "/undergraduate-admissions\n",
      "/graduate-admissions\n",
      "/academics\n",
      "/schools-colleges\n",
      "/academic-calendar\n",
      "/research\n",
      "/research-resources\n",
      "/gw-experience\n",
      "/campus-life\n",
      "/traditions\n",
      "/internships\n",
      "/athletics-recreation\n",
      "/campus-health\n",
      "/arts-culture\n",
      "None\n",
      "https://programs.gwu.edu/\n",
      "node/43\n",
      "node/15\n",
      "/player.vimeo.com/video/228264353?autopause=1&autoplay=0&badge=1&byline=1&loop=0&portrait=1&autopause=1&fullscreen=1\n",
      "https://president.gwu.edu/\n",
      "/academics\n",
      "https://gwtoday.gwu.edu?utm_source=gwtoday-header&utm_medium=gwtoday-logo&utm_campaign=gwhomepage-gwtoday\n",
      "https://gwtoday.gwu.edu/how-i-got-job-aisha-azimi-aims-make-global-impact?utm_source=GW%20Today%20Section&utm_medium=GWToday_MainStory%202&utm_campaign=gwhomepage-gwtoday\n",
      "https://gwtoday.gwu.edu/gw-community-comes-together-16th-annual-interfaith-dinner?utm_source=GW%20Today%20Section&utm_medium=Link1&utm_campaign=gwhomepage-gwtoday\n",
      "https://gwtoday.gwu.edu/opioid-addiction-has-wide-ranging-impact?utm_source=GW%20Today%20Section&utm_medium=Link2&utm_campaign=gwhomepage-gwtoday\n",
      "https://gwtoday.gwu.edu/gw-receives-41-million-grant-support-diverse-doctoral-students?utm_medium=Link3&utm_campaign=gwhomepage-gwtoday\n",
      "/frontpage?qt-events_feed_homepage=0#qt-events_feed_homepage\n",
      "http://browse.calendar.gwu.edu/EventList.aspx?view=EventDetails&eventidn=15267&information_id=28747&type=&rss=rss\n",
      "http://browse.calendar.gwu.edu/EventList.aspx?view=EventDetails&eventidn=15064&information_id=28316&type=&rss=rss\n",
      "http://browse.calendar.gwu.edu/EventList.aspx?view=EventDetails&eventidn=15280&information_id=28773&type=&rss=rss\n",
      "http://browse.calendar.gwu.edu/EventList.aspx?view=EventDetails&eventidn=15066&information_id=28320&type=&rss=rss\n",
      "http://calendar.gwu.edu\n",
      "https://inauguration.gwu.edu?utm_source=community_stories&utm_medium=top-story&utm_campaign=gwhomepage-flex-space&utm_content=leblanc-inauguration\n",
      "https://gwtoday.gwu.edu/hear-eight-recipients-alumni-achievement-award?utm_source=community_stories&utm_medium=2nd_row_left&utm_campaign=gwhomepage-flex-space&utm_content=alumni-achievement\n",
      "https://inauguration.gwu.edu/president-leblanc-live?utm_source=community_stories&utm_medium=2nd_row_left&utm_campaign=gwhomepage-flex-space&utm_content=leblanc-live\n",
      "https://museum.gwu.edu/boxproject?utm_source=community_stories&utm_medium=2nd_row_right&utm_campaign=gwhomepage-flex-space&utm_content=box-project\n",
      "https://museum.gwu.edu/boxprojectutm_source=community_stories&utm_medium=2nd_row_right&utm_campaign=gwhomepage-flex-space&utm_content=box-project\n",
      "https://giving.gwu.edu/?utm_campaign=gwhomepage-footer&utm_source=footer-cta&utm_medium=task-give&utm_content=button-ghost\n",
      "https://virtualtour.gwu.edu?utm_campaign=gwhomepage-footer&utm_source=footer-cta&utm_medium=virtualtour&utm_content=button-ghost\n",
      "http://www.gwsports.com/?utm_campaign=gwhomepage-footer&utm_source=footer-cta&utm_medium=athletics&utm_content=button-ghost\n",
      "https://www.facebook.com/georgewashingtonuniversity/\n",
      "https://www.instagram.com/gwuniversity/?hl=en\n",
      "https://twitter.com/GWtweets?lang=en\n",
      "https://www.youtube.com/user/discovergw\n",
      "https://gwtoday.gwu.edu\n",
      "https://mediarelations.gwu.edu\n",
      "https://magazine.gwu.edu\n",
      "https://www.gwu.edu/social-media\n",
      "https://calendar.gwu.edu\n",
      "https://undergraduate.admissions.gwu.edu/visit-gw\n",
      "https://graduate.admissions.gwu.edu/campus-visits\n",
      "https://www.gwu.edu/admissions-aid\n",
      "https://www.gwu.jobs\n",
      "https://www.gwu.edu/az-index\n",
      "https://www.gwu.edu/copyright\n",
      "http://my.gwu.edu/files/policies/EqualEmploymentOpportunityStatement.pdf\n",
      "https://www.gwu.edu/privacy-policy\n",
      "https://haven.gwu.edu/gw-policies-title-ix\n",
      "https://undocumented.gwu.edu\n",
      "https://www.gwu.edu/contact-gw\n",
      "https://www.gwu.edu/terms-use\n",
      "https://accessibility.gwu.edu\n",
      "https://campusadvisories.gwu.edu\n",
      "http://www.gwu.edu/\n"
     ]
    }
   ],
   "source": [
    "for link in soup.find_all('a'):\n",
    "        print(link.get('href'))"
   ]
  },
  {
   "cell_type": "code",
   "execution_count": null,
   "metadata": {
    "collapsed": true
   },
   "outputs": [],
   "source": [
    "# Slide 19"
   ]
  },
  {
   "cell_type": "code",
   "execution_count": 32,
   "metadata": {
    "collapsed": false
   },
   "outputs": [
    {
     "name": "stdout",
     "output_type": "stream",
     "text": [
      "<html>\n",
      " <head>\n",
      "  <title>\n",
      "   Page Title\n",
      "  </title>\n",
      "  <body>\n",
      "   <h1>\n",
      "    Level One Header\n",
      "   </h1>\n",
      "   <p id=\"RipVanWinkle\">\n",
      "    RipVanWinkle Paragraph.\n",
      "   </p>\n",
      "  </body>\n",
      " </head>\n",
      "</html>\n",
      "\n"
     ]
    }
   ],
   "source": [
    "# Slide 22\n",
    "import urllib.request\n",
    "from bs4 import BeautifulSoup as bs\n",
    "\n",
    "filename = \"simple.html\"\n",
    "url = \"file:///\"+path+filename\n",
    "request = urllib.request.Request(url)\n",
    "response = urllib.request.urlopen(request)\n",
    "data = response.read()\n",
    "response.close()\n",
    "\n",
    "# Create the soup\n",
    "soup = bs(data, \"html.parser\")\n",
    "\n",
    "# Print parse tree\n",
    "print(soup.prettify())"
   ]
  },
  {
   "cell_type": "code",
   "execution_count": 37,
   "metadata": {
    "collapsed": false
   },
   "outputs": [
    {
     "name": "stdout",
     "output_type": "stream",
     "text": [
      "2\n",
      "18\n"
     ]
    }
   ],
   "source": [
    "# Slide 22\n",
    "import urllib.request\n",
    "from bs4 import BeautifulSoup as bs\n",
    "\n",
    "filename = \"multipleparas.html\"\n",
    "url = \"file:///\"+path+filename\n",
    "request = urllib.request.Request(url)\n",
    "response = urllib.request.urlopen(request)\n",
    "data = response.read()\n",
    "response.close()\n",
    "\n",
    "# Create the soup\n",
    "soup = bs(data, \"html.parser\")\n",
    "\n",
    "a = soup.find('p')\n",
    "b = soup.findAll('p')\n",
    "\n",
    "print(len(a))\n",
    "print(len(b))"
   ]
  },
  {
   "cell_type": "code",
   "execution_count": 40,
   "metadata": {
    "collapsed": false
   },
   "outputs": [
    {
     "data": {
      "text/plain": [
       "<li><a href=\"http://www.cnn.com\"><img alt=\"First one\" height=\"100\" src=\"apple1.jpg\" width=\"100\"/></a></li>"
      ]
     },
     "execution_count": 40,
     "metadata": {},
     "output_type": "execute_result"
    }
   ],
   "source": [
    "# Slide 25\n",
    "import urllib.request\n",
    "from bs4 import BeautifulSoup as bs\n",
    "\n",
    "filename = \"third.html\"\n",
    "url = \"file:///\"+path+filename\n",
    "request = urllib.request.Request(url)\n",
    "response = urllib.request.urlopen(request)\n",
    "data = response.read()\n",
    "response.close()\n",
    "\n",
    "# Create the soup\n",
    "soup = bs(data, \"html.parser\")\n",
    "\n",
    "soup.li"
   ]
  },
  {
   "cell_type": "code",
   "execution_count": 41,
   "metadata": {
    "collapsed": false
   },
   "outputs": [
    {
     "data": {
      "text/plain": [
       "bs4.element.Tag"
      ]
     },
     "execution_count": 41,
     "metadata": {},
     "output_type": "execute_result"
    }
   ],
   "source": [
    "# Slide 25\n",
    "type(soup.li)"
   ]
  },
  {
   "cell_type": "code",
   "execution_count": 43,
   "metadata": {
    "collapsed": false
   },
   "outputs": [
    {
     "data": {
      "text/plain": [
       "'li'"
      ]
     },
     "execution_count": 43,
     "metadata": {},
     "output_type": "execute_result"
    }
   ],
   "source": [
    "# Slide 25\n",
    "tag = soup.li\n",
    "tag.name"
   ]
  },
  {
   "cell_type": "code",
   "execution_count": 44,
   "metadata": {
    "collapsed": false
   },
   "outputs": [
    {
     "data": {
      "text/plain": [
       "{}"
      ]
     },
     "execution_count": 44,
     "metadata": {},
     "output_type": "execute_result"
    }
   ],
   "source": [
    "# Slide 25\n",
    "tag.attrs"
   ]
  },
  {
   "cell_type": "code",
   "execution_count": 45,
   "metadata": {
    "collapsed": false
   },
   "outputs": [
    {
     "data": {
      "text/plain": [
       "<head>\n",
       "<title>Picking apples</title>\n",
       "</head>"
      ]
     },
     "execution_count": 45,
     "metadata": {},
     "output_type": "execute_result"
    }
   ],
   "source": [
    "# Slide 26\n",
    "soup.head"
   ]
  },
  {
   "cell_type": "code",
   "execution_count": 46,
   "metadata": {
    "collapsed": false
   },
   "outputs": [
    {
     "data": {
      "text/plain": [
       "<title>Picking apples</title>"
      ]
     },
     "execution_count": 46,
     "metadata": {},
     "output_type": "execute_result"
    }
   ],
   "source": [
    "# Slide 26\n",
    "soup.head.title"
   ]
  },
  {
   "cell_type": "code",
   "execution_count": 47,
   "metadata": {
    "collapsed": false
   },
   "outputs": [
    {
     "data": {
      "text/plain": [
       "[<a href=\"http://www.cnn.com\"><img alt=\"First one\" height=\"100\" src=\"apple1.jpg\" width=\"100\"/></a>]"
      ]
     },
     "execution_count": 47,
     "metadata": {},
     "output_type": "execute_result"
    }
   ],
   "source": [
    "# Slide 26\n",
    "soup.li.contents"
   ]
  },
  {
   "cell_type": "code",
   "execution_count": 48,
   "metadata": {
    "collapsed": false
   },
   "outputs": [
    {
     "data": {
      "text/plain": [
       "<title>Picking apples</title>"
      ]
     },
     "execution_count": 48,
     "metadata": {},
     "output_type": "execute_result"
    }
   ],
   "source": [
    "# Slide 27\n",
    "soup.title"
   ]
  },
  {
   "cell_type": "code",
   "execution_count": 49,
   "metadata": {
    "collapsed": false
   },
   "outputs": [
    {
     "data": {
      "text/plain": [
       "bs4.element.Tag"
      ]
     },
     "execution_count": 49,
     "metadata": {},
     "output_type": "execute_result"
    }
   ],
   "source": [
    "# Slide 27\n",
    "type(soup.title)"
   ]
  },
  {
   "cell_type": "code",
   "execution_count": 50,
   "metadata": {
    "collapsed": false
   },
   "outputs": [
    {
     "data": {
      "text/plain": [
       "'Picking apples'"
      ]
     },
     "execution_count": 50,
     "metadata": {},
     "output_type": "execute_result"
    }
   ],
   "source": [
    "# Slide 27\n",
    "soup.title.string"
   ]
  },
  {
   "cell_type": "code",
   "execution_count": 51,
   "metadata": {
    "collapsed": false
   },
   "outputs": [
    {
     "data": {
      "text/plain": [
       "bs4.element.NavigableString"
      ]
     },
     "execution_count": 51,
     "metadata": {},
     "output_type": "execute_result"
    }
   ],
   "source": [
    "# Slide 27\n",
    "type(soup.title.string)"
   ]
  },
  {
   "cell_type": "code",
   "execution_count": 52,
   "metadata": {
    "collapsed": false
   },
   "outputs": [
    {
     "data": {
      "text/plain": [
       "<title>Picking apples</title>"
      ]
     },
     "execution_count": 52,
     "metadata": {},
     "output_type": "execute_result"
    }
   ],
   "source": [
    "# Slide 27\n",
    "soup.title.string.parent"
   ]
  },
  {
   "cell_type": "code",
   "execution_count": 53,
   "metadata": {
    "collapsed": false
   },
   "outputs": [
    {
     "data": {
      "text/plain": [
       "'Picking apples'"
      ]
     },
     "execution_count": 53,
     "metadata": {},
     "output_type": "execute_result"
    }
   ],
   "source": [
    "# Slide 27\n",
    "str(soup.title.string)"
   ]
  },
  {
   "cell_type": "code",
   "execution_count": 54,
   "metadata": {
    "collapsed": true
   },
   "outputs": [],
   "source": [
    "# Slide 28\n",
    "# Please explore slide 28 by inspecting it"
   ]
  },
  {
   "cell_type": "code",
   "execution_count": 55,
   "metadata": {
    "collapsed": true
   },
   "outputs": [],
   "source": [
    "# Slide 29\n",
    "# Do in class"
   ]
  },
  {
   "cell_type": "code",
   "execution_count": 56,
   "metadata": {
    "collapsed": false,
    "scrolled": true
   },
   "outputs": [
    {
     "name": "stdout",
     "output_type": "stream",
     "text": [
      "Jill\n",
      "Smith\n",
      "50\n",
      "Eve\n",
      "Jackson\n",
      "94\n",
      "John\n",
      "Doe\n",
      "20\n",
      "Adam\n",
      "Johnson\n",
      "99\n",
      "George\n",
      "Washington\n",
      "29\n",
      "Lady\n",
      "Bird\n",
      "24\n",
      "Steve\n",
      "Spear\n",
      "70\n",
      "Ronnie\n",
      "Carter\n",
      "19\n"
     ]
    }
   ],
   "source": [
    "# Slide 30\n",
    "import urllib.request\n",
    "from bs4 import BeautifulSoup as bs\n",
    "\n",
    "filename = \"table.html\"\n",
    "url = \"file:///\"+path+filename\n",
    "request = urllib.request.Request(url)\n",
    "response = urllib.request.urlopen(request)\n",
    "data = response.read()\n",
    "response.close()\n",
    "\n",
    "# Create the soup\n",
    "soup = bs(data, \"html.parser\")\n",
    "\n",
    "# ---- Now we start parsing the table\n",
    "\n",
    "tables = soup.findAll('table')\n",
    "\n",
    "for table in tables:\n",
    "    rows = table.findAll('tr')\n",
    "    for row in rows:\n",
    "        cells = row.findAll('td')\n",
    "        for cell in cells:\n",
    "            print (cell.getText())"
   ]
  },
  {
   "cell_type": "code",
   "execution_count": 57,
   "metadata": {
    "collapsed": false
   },
   "outputs": [
    {
     "name": "stdout",
     "output_type": "stream",
     "text": [
      "[[['Jill', 'Smith', '50'], ['Eve', 'Jackson', '94'], ['John', 'Doe', '20'], ['Adam', 'Johnson', '99']], [['George', 'Washington', '29'], ['Lady', 'Bird', '24'], ['Steve', 'Spear', '70'], ['Ronnie', 'Carter', '19']]]\n"
     ]
    }
   ],
   "source": [
    "# Slide 31\n",
    "import urllib.request\n",
    "from bs4 import BeautifulSoup as bs\n",
    "\n",
    "filename = \"table.html\"\n",
    "url = \"file:///\"+path+filename\n",
    "request = urllib.request.Request(url)\n",
    "response = urllib.request.urlopen(request)\n",
    "data = response.read()\n",
    "response.close()\n",
    "\n",
    "# Create the soup\n",
    "soup = bs(data, \"html.parser\")\n",
    "\n",
    "# ---- Now we start parsing the table\n",
    "\n",
    "tables = soup.findAll('table')\n",
    "\n",
    "myLists = []\n",
    "\n",
    "for table in tables:\n",
    "    rows = table.findAll('tr')\n",
    "    # print \"number of rows =\", len(rows)\n",
    "    r = []\n",
    "    for row in rows:\n",
    "        cells = row.findAll('td')\n",
    "        # print \"number of cols =\", len(cells)\n",
    "        c = []        \n",
    "        for cell in cells:\n",
    "            c.append(cell.getText())\n",
    "        # print c\n",
    "        r.append(c)\n",
    "    myLists.append(r)\n",
    "\n",
    "print (myLists)"
   ]
  },
  {
   "cell_type": "code",
   "execution_count": 58,
   "metadata": {
    "collapsed": false
   },
   "outputs": [
    {
     "name": "stdout",
     "output_type": "stream",
     "text": [
      "  Heading1 Heading2 Heading3\n",
      "0     Jill    Smith       50\n",
      "1      Eve  Jackson       94\n",
      "2     John      Doe       20\n",
      "3     Adam  Johnson       99\n",
      "  Heading1    Heading2 Heading3\n",
      "0   George  Washington       29\n",
      "1     Lady        Bird       24\n",
      "2    Steve       Spear       70\n",
      "3   Ronnie      Carter       19\n"
     ]
    }
   ],
   "source": [
    "# Slide 31\n",
    "# This part shows how you get Pandas dataframes from lists\n",
    "\n",
    "import pandas as pd\n",
    "\n",
    "headings = ['Heading1', 'Heading2','Heading3']\n",
    "\n",
    "df1 = pd.DataFrame(myLists[0], columns=headings)\n",
    "df2 = pd.DataFrame(myLists[1], columns=headings)\n",
    "\n",
    "print(df1)\n",
    "\n",
    "print(df2)"
   ]
  },
  {
   "cell_type": "code",
   "execution_count": 59,
   "metadata": {
    "collapsed": false
   },
   "outputs": [
    {
     "name": "stdout",
     "output_type": "stream",
     "text": [
      "[<tr><td class=\"ranking\">\n",
      "                                \n",
      "                                    1\n",
      "                                \n",
      "                            </td><td class=\"team_slug\"><a class=\"sp-head-team-link\" href=\"/sports/nfl/eagles/\"><span class=\"logo\"><span class=\"logo-s\"><img src=\"https://www.gannett-cdn.com/media/SMG/sports_logos/nfl-whitebg/30/PHI.png\"/></span></span><span class=\"first_name\">Philadelphia</span><br><span class=\"last_name\">Eagles</span></br></a></td><td class=\"record\">\n",
      "                                \n",
      "                                    8-1\n",
      "                                \n",
      "                            </td><td class=\"ranking_diff\"><span class=\"rank-sm-no\"></span></td><td class=\"ranking_hilo\">\n",
      "                                \n",
      "                                    1 / 24\n",
      "                                \n",
      "                            </td><td class=\"notes\">\n",
      "                                \n",
      "                                    Today's first history lesson - the previous four times Philly started a season 8-1, they advanced to the NFL title game / Super Bowl.\n",
      "                                \n",
      "                            </td></tr>, <tr><td class=\"ranking\">\n",
      "                                \n",
      "                                    2\n",
      "                                \n",
      "                            </td><td class=\"team_slug\"><a class=\"sp-head-team-link\" href=\"/sports/nfl/steelers/\"><span class=\"logo\"><span class=\"logo-s\"><img src=\"https://www.gannett-cdn.com/media/SMG/sports_logos/nfl-whitebg/30/PIT.png\"/></span></span><span class=\"first_name\">Pittsburgh</span><br><span class=\"last_name\">Steelers</span></br></a></td><td class=\"record\">\n",
      "                                \n",
      "                                    6-2\n",
      "                                \n",
      "                            </td><td class=\"ranking_diff\"><span class=\"rank-sm-no\"></span></td><td class=\"ranking_hilo\">\n",
      "                                \n",
      "                                    2 / 14\n",
      "                                \n",
      "                            </td><td class=\"notes\">\n",
      "                                \n",
      "                                    They have a bad habit of playing to their level of competition. But barring injuries, Pittsburgh SHOULD be no worse than 6-2 in second half.\n",
      "                                \n",
      "                            </td></tr>, <tr><td class=\"ranking\">\n",
      "                                \n",
      "                                    3\n",
      "                                \n",
      "                            </td><td class=\"team_slug\"><a class=\"sp-head-team-link\" href=\"/sports/nfl/patriots/\"><span class=\"logo\"><span class=\"logo-s\"><img src=\"https://www.gannett-cdn.com/media/SMG/sports_logos/nfl-whitebg/30/NE.png\"/></span></span><span class=\"first_name\">New England</span><br><span class=\"last_name\">Patriots</span></br></a></td><td class=\"record\">\n",
      "                                \n",
      "                                    6-2\n",
      "                                \n",
      "                            </td><td class=\"ranking_diff\"><span class=\"rank-sm-up\">1</span></td><td class=\"ranking_hilo\">\n",
      "                                \n",
      "                                    1 / 12\n",
      "                                \n",
      "                            </td><td class=\"notes\">\n",
      "                                \n",
      "                                    Don't accuse schedule makers of favoring Pats. Coming out of their bye, they play five of next six on road, including a trip to Mexico City.\n",
      "                                \n",
      "                            </td></tr>, <tr><td class=\"ranking\">\n",
      "                                \n",
      "                                    4\n",
      "                                \n",
      "                            </td><td class=\"team_slug\"><a class=\"sp-head-team-link\" href=\"/sports/nfl/rams/\"><span class=\"logo\"><span class=\"logo-s\"><img src=\"https://www.gannett-cdn.com/media/SMG/sports_logos/nfl-whitebg/30/LA.png\"/></span></span><span class=\"first_name\">Los Angeles</span><br><span class=\"last_name\">Rams</span></br></a></td><td class=\"record\">\n",
      "                                \n",
      "                                    6-2\n",
      "                                \n",
      "                            </td><td class=\"ranking_diff\"><span class=\"rank-sm-up\">2</span></td><td class=\"ranking_hilo\">\n",
      "                                \n",
      "                                    4 / 28\n",
      "                                \n",
      "                            </td><td class=\"notes\">\n",
      "                                \n",
      "                                    They're just blowing doors off their opponents lately. Some credit must go to the defense, which has allowed 12.5 points per game over last four.\n",
      "                                \n",
      "                            </td></tr>, <tr><td class=\"ranking\">\n",
      "                                \n",
      "                                    5\n",
      "                                \n",
      "                            </td><td class=\"team_slug\"><a class=\"sp-head-team-link\" href=\"/sports/nfl/saints/\"><span class=\"logo\"><span class=\"logo-s\"><img src=\"https://www.gannett-cdn.com/media/SMG/sports_logos/nfl-whitebg/30/NO.png\"/></span></span><span class=\"first_name\">New Orleans</span><br><span class=\"last_name\">Saints</span></br></a></td><td class=\"record\">\n",
      "                                \n",
      "                                    6-2\n",
      "                                \n",
      "                            </td><td class=\"ranking_diff\"><span class=\"rank-sm-up\">3</span></td><td class=\"ranking_hilo\">\n",
      "                                \n",
      "                                    5 / 26\n",
      "                                \n",
      "                            </td><td class=\"notes\">\n",
      "                                \n",
      "                                    Today's second history lesson - only other teams since 1966 to win six straight after an 0-2 start ('93 Cowboys, '07 Giants) both won Super Bowl.\n",
      "                                \n",
      "                            </td></tr>, <tr><td class=\"ranking\">\n",
      "                                \n",
      "                                    6\n",
      "                                \n",
      "                            </td><td class=\"team_slug\"><a class=\"sp-head-team-link\" href=\"/sports/nfl/panthers/\"><span class=\"logo\"><span class=\"logo-s\"><img src=\"https://www.gannett-cdn.com/media/SMG/sports_logos/nfl-whitebg/30/CAR.png\"/></span></span><span class=\"first_name\">Carolina</span><br><span class=\"last_name\">Panthers</span></br></a></td><td class=\"record\">\n",
      "                                \n",
      "                                    6-3\n",
      "                                \n",
      "                            </td><td class=\"ranking_diff\"><span class=\"rank-sm-up\">6</span></td><td class=\"ranking_hilo\">\n",
      "                                \n",
      "                                    2 / 20\n",
      "                                \n",
      "                            </td><td class=\"notes\">\n",
      "                                \n",
      "                                    If Carolina thought Cam Newton might spread ball more without WR Kelvin Benjamin, well, he completed passes to just three receivers Sunday.\n",
      "                                \n",
      "                            </td></tr>, <tr><td class=\"ranking\">\n",
      "                                \n",
      "                                    7\n",
      "                                \n",
      "                            </td><td class=\"team_slug\"><a class=\"sp-head-team-link\" href=\"/sports/nfl/cowboys/\"><span class=\"logo\"><span class=\"logo-s\"><img src=\"https://www.gannett-cdn.com/media/SMG/sports_logos/nfl-whitebg/30/DAL.png\"/></span></span><span class=\"first_name\">Dallas</span><br><span class=\"last_name\">Cowboys</span></br></a></td><td class=\"record\">\n",
      "                                \n",
      "                                    5-3\n",
      "                                \n",
      "                            </td><td class=\"ranking_diff\"><span class=\"rank-sm-up\">7</span></td><td class=\"ranking_hilo\">\n",
      "                                \n",
      "                                    5 / 19\n",
      "                                \n",
      "                            </td><td class=\"notes\">\n",
      "                                \n",
      "                                    If Zeke's banishment ever begins, Dallas will need to lean on defense that's allowed average of 15.3 points, 299.3 yards during three-game win streak.\n",
      "                                \n",
      "                            </td></tr>, <tr><td class=\"ranking\">\n",
      "                                \n",
      "                                    8\n",
      "                                \n",
      "                            </td><td class=\"team_slug\"><a class=\"sp-head-team-link\" href=\"/sports/nfl/chiefs/\"><span class=\"logo\"><span class=\"logo-s\"><img src=\"https://www.gannett-cdn.com/media/SMG/sports_logos/nfl-whitebg/30/KC.png\"/></span></span><span class=\"first_name\">Kansas City</span><br><span class=\"last_name\">Chiefs</span></br></a></td><td class=\"record\">\n",
      "                                \n",
      "                                    6-3\n",
      "                                \n",
      "                            </td><td class=\"ranking_diff\"><span class=\"rank-sm-dn\">5</span></td><td class=\"ranking_hilo\">\n",
      "                                \n",
      "                                    1 / 9\n",
      "                                \n",
      "                            </td><td class=\"notes\">\n",
      "                                \n",
      "                                    One major they're suddenly struggling? The defense can't get off the field. No team has allowed more first downs than Kansas City's 213.\n",
      "                                \n",
      "                            </td></tr>, <tr><td class=\"ranking\">\n",
      "                                \n",
      "                                    9\n",
      "                                \n",
      "                            </td><td class=\"team_slug\"><a class=\"sp-head-team-link\" href=\"/sports/nfl/jaguars/\"><span class=\"logo\"><span class=\"logo-s\"><img src=\"https://www.gannett-cdn.com/media/SMG/sports_logos/nfl-whitebg/30/JAC.png\"/></span></span><span class=\"first_name\">Jacksonville</span><br><span class=\"last_name\">Jaguars</span></br></a></td><td class=\"record\">\n",
      "                                \n",
      "                                    5-3\n",
      "                                \n",
      "                            </td><td class=\"ranking_diff\"><span class=\"rank-sm-no\"></span></td><td class=\"ranking_hilo\">\n",
      "                                \n",
      "                                    9 / 26\n",
      "                                \n",
      "                            </td><td class=\"notes\">\n",
      "                                \n",
      "                                    How much have they missed RB Leonard Fournette in last two games? Not a whole lot. They average 165.8 rushing yards when he plays, 168 when he doesn't.\n",
      "                                \n",
      "                            </td></tr>, <tr><td class=\"ranking\">\n",
      "                                \n",
      "                                    10\n",
      "                                \n",
      "                            </td><td class=\"team_slug\"><a class=\"sp-head-team-link\" href=\"/sports/nfl/redskins/\"><span class=\"logo\"><span class=\"logo-s\"><img src=\"https://www.gannett-cdn.com/media/SMG/sports_logos/nfl-whitebg/30/WAS.png\"/></span></span><span class=\"first_name\">Washington</span><br><span class=\"last_name\">Redskins</span></br></a></td><td class=\"record\">\n",
      "                                \n",
      "                                    4-4\n",
      "                                \n",
      "                            </td><td class=\"ranking_diff\"><span class=\"rank-sm-up\">8</span></td><td class=\"ranking_hilo\">\n",
      "                                \n",
      "                                    6 / 25\n",
      "                                \n",
      "                            </td><td class=\"notes\">\n",
      "                                \n",
      "                                    Stat sheet suggests they got blown out in Seattle. Yet they managed to steal one in league's most hostile yard - sign of a pretty good team.\n",
      "                                \n",
      "                            </td></tr>, <tr><td class=\"ranking\">\n",
      "                                \n",
      "                                    11\n",
      "                                \n",
      "                            </td><td class=\"team_slug\"><a class=\"sp-head-team-link\" href=\"/sports/nfl/seahawks/\"><span class=\"logo\"><span class=\"logo-s\"><img src=\"https://www.gannett-cdn.com/media/SMG/sports_logos/nfl-whitebg/30/SEA.png\"/></span></span><span class=\"first_name\">Seattle</span><br><span class=\"last_name\">Seahawks</span></br></a></td><td class=\"record\">\n",
      "                                \n",
      "                                    5-3\n",
      "                                \n",
      "                            </td><td class=\"ranking_diff\"><span class=\"rank-sm-dn\">6</span></td><td class=\"ranking_hilo\">\n",
      "                                \n",
      "                                    3 / 15\n",
      "                                \n",
      "                            </td><td class=\"notes\">\n",
      "                                \n",
      "                                    After watching K Blair Walsh go 0-for-3 in a three-point loss, we'd suggest decision to let Stephen Hauschka go was a major miscalculation.\n",
      "                                \n",
      "                            </td></tr>, <tr><td class=\"ranking\">\n",
      "                                \n",
      "                                    12\n",
      "                                \n",
      "                            </td><td class=\"team_slug\"><a class=\"sp-head-team-link\" href=\"/sports/nfl/vikings/\"><span class=\"logo\"><span class=\"logo-s\"><img src=\"https://www.gannett-cdn.com/media/SMG/sports_logos/nfl-whitebg/30/MIN.png\"/></span></span><span class=\"first_name\">Minnesota</span><br><span class=\"last_name\">Vikings</span></br></a></td><td class=\"record\">\n",
      "                                \n",
      "                                    6-2\n",
      "                                \n",
      "                            </td><td class=\"ranking_diff\"><span class=\"rank-sm-dn\">5</span></td><td class=\"ranking_hilo\">\n",
      "                                \n",
      "                                    7 / 19\n",
      "                                \n",
      "                            </td><td class=\"notes\">\n",
      "                                \n",
      "                                    How do they drop this far in bye week? Their schedule looks increasingly suspect, the best win when Sam Bradford helped beat Saints in Week 1.\n",
      "                                \n",
      "                            </td></tr>, <tr><td class=\"ranking\">\n",
      "                                \n",
      "                                    13\n",
      "                                \n",
      "                            </td><td class=\"team_slug\"><a class=\"sp-head-team-link\" href=\"/sports/nfl/bills/\"><span class=\"logo\"><span class=\"logo-s\"><img src=\"https://www.gannett-cdn.com/media/SMG/sports_logos/nfl-whitebg/30/BUF.png\"/></span></span><span class=\"first_name\">Buffalo</span><br><span class=\"last_name\">Bills</span></br></a></td><td class=\"record\">\n",
      "                                \n",
      "                                    5-3\n",
      "                                \n",
      "                            </td><td class=\"ranking_diff\"><span class=\"rank-sm-dn\">3</span></td><td class=\"ranking_hilo\">\n",
      "                                \n",
      "                                    3 / 28\n",
      "                                \n",
      "                            </td><td class=\"notes\">\n",
      "                                \n",
      "                                    They're clearly not good enough to overcome three turnovers (Thursday's miscues doubled season total to six). Also just 1-3 away from Buffalo.\n",
      "                                \n",
      "                            </td></tr>, <tr><td class=\"ranking\">\n",
      "                                \n",
      "                                    14\n",
      "                                \n",
      "                            </td><td class=\"team_slug\"><a class=\"sp-head-team-link\" href=\"/sports/nfl/falcons/\"><span class=\"logo\"><span class=\"logo-s\"><img src=\"https://www.gannett-cdn.com/media/SMG/sports_logos/nfl-whitebg/30/ATL.png\"/></span></span><span class=\"first_name\">Atlanta</span><br><span class=\"last_name\">Falcons</span></br></a></td><td class=\"record\">\n",
      "                                \n",
      "                                    4-4\n",
      "                                \n",
      "                            </td><td class=\"ranking_diff\"><span class=\"rank-sm-dn\">3</span></td><td class=\"ranking_hilo\">\n",
      "                                \n",
      "                                    2 / 14\n",
      "                                \n",
      "                            </td><td class=\"notes\">\n",
      "                                \n",
      "                                    So apparently OC Steve Sarkisian knew what he was doing all along by limiting QB Matt Ryan's targets to WR Julio Butterfingers Jones.\n",
      "                                \n",
      "                            </td></tr>, <tr><td class=\"ranking\">\n",
      "                                \n",
      "                                    15\n",
      "                                \n",
      "                            </td><td class=\"team_slug\"><a class=\"sp-head-team-link\" href=\"/sports/nfl/titans/\"><span class=\"logo\"><span class=\"logo-s\"><img src=\"https://www.gannett-cdn.com/media/SMG/sports_logos/nfl-whitebg/30/TEN.png\"/></span></span><span class=\"first_name\">Tennessee</span><br><span class=\"last_name\">Titans</span></br></a></td><td class=\"record\">\n",
      "                                \n",
      "                                    5-3\n",
      "                                \n",
      "                            </td><td class=\"ranking_diff\"><span class=\"rank-sm-no\"></span></td><td class=\"ranking_hilo\">\n",
      "                                \n",
      "                                    7 / 23\n",
      "                                \n",
      "                            </td><td class=\"notes\">\n",
      "                                \n",
      "                                    Had you heard of S Kevin Byard two weeks ago? Better pay attention now. He's fifth player since merger to total five INTs in consecutive games.\n",
      "                                \n",
      "                            </td></tr>, <tr><td class=\"ranking\">\n",
      "                                \n",
      "                                    16\n",
      "                                \n",
      "                            </td><td class=\"team_slug\"><a class=\"sp-head-team-link\" href=\"/sports/nfl/lions/\"><span class=\"logo\"><span class=\"logo-s\"><img src=\"https://www.gannett-cdn.com/media/SMG/sports_logos/nfl-whitebg/30/DET.png\"/></span></span><span class=\"first_name\">Detroit</span><br><span class=\"last_name\">Lions</span></br></a></td><td class=\"record\">\n",
      "                                \n",
      "                                    4-4\n",
      "                                \n",
      "                            </td><td class=\"ranking_diff\"><span class=\"rank-sm-no\"></span></td><td class=\"ranking_hilo\">\n",
      "                                \n",
      "                                    2 / 23\n",
      "                                \n",
      "                            </td><td class=\"notes\">\n",
      "                                \n",
      "                                    Still tough to take them seriously as a contender given their inability to mount any semblance of a run game to take pressure off Matthew Stafford.\n",
      "                                \n",
      "                            </td></tr>, <tr><td class=\"ranking\">\n",
      "                                \n",
      "                                    17\n",
      "                                \n",
      "                            </td><td class=\"team_slug\"><a class=\"sp-head-team-link\" href=\"/sports/nfl/chargers/\"><span class=\"logo\"><span class=\"logo-s\"><img src=\"https://www.gannett-cdn.com/media/SMG/sports_logos/nfl-whitebg/30/LAC.png\"/></span></span><span class=\"first_name\">Los Angeles</span><br><span class=\"last_name\">Chargers</span></br></a></td><td class=\"record\">\n",
      "                                \n",
      "                                    3-5\n",
      "                                \n",
      "                            </td><td class=\"ranking_diff\"><span class=\"rank-sm-no\"></span></td><td class=\"ranking_hilo\">\n",
      "                                \n",
      "                                    13 / 31\n",
      "                                \n",
      "                            </td><td class=\"notes\">\n",
      "                                \n",
      "                                    Hope they rested during off week. Next three games are all against opponents who are currently 5-3, a stretch likely to define Bolts' outlook.\n",
      "                                \n",
      "                            </td></tr>, <tr><td class=\"ranking\">\n",
      "                                \n",
      "                                    18\n",
      "                                \n",
      "                            </td><td class=\"team_slug\"><a class=\"sp-head-team-link\" href=\"/sports/nfl/raiders/\"><span class=\"logo\"><span class=\"logo-s\"><img src=\"https://www.gannett-cdn.com/media/SMG/sports_logos/nfl-whitebg/30/OAK.png\"/></span></span><span class=\"first_name\">Oakland</span><br><span class=\"last_name\">Raiders</span></br></a></td><td class=\"record\">\n",
      "                                \n",
      "                                    4-5\n",
      "                                \n",
      "                            </td><td class=\"ranking_diff\"><span class=\"rank-sm-up\">2</span></td><td class=\"ranking_hilo\">\n",
      "                                \n",
      "                                    3 / 22\n",
      "                                \n",
      "                            </td><td class=\"notes\">\n",
      "                                \n",
      "                                    Marshawn Lynch looked rather spry Sunday night, his 14 carries the second-highest total of the season. It's probably time to ramp up his touches.\n",
      "                                \n",
      "                            </td></tr>, <tr><td class=\"ranking\">\n",
      "                                \n",
      "                                    19\n",
      "                                \n",
      "                            </td><td class=\"team_slug\"><a class=\"sp-head-team-link\" href=\"/sports/nfl/bears/\"><span class=\"logo\"><span class=\"logo-s\"><img src=\"https://www.gannett-cdn.com/media/SMG/sports_logos/nfl-whitebg/30/CHI.png\"/></span></span><span class=\"first_name\">Chicago</span><br><span class=\"last_name\">Bears</span></br></a></td><td class=\"record\">\n",
      "                                \n",
      "                                    3-5\n",
      "                                \n",
      "                            </td><td class=\"ranking_diff\"><span class=\"rank-sm-up\">4</span></td><td class=\"ranking_hilo\">\n",
      "                                \n",
      "                                    19 / 30\n",
      "                                \n",
      "                            </td><td class=\"notes\">\n",
      "                                \n",
      "                                    Aside from Week 12 date at Philadelphia, second-half schedule appears quite manageable. Might these cubbies have a wild-card run in them?\n",
      "                                \n",
      "                            </td></tr>, <tr><td class=\"ranking\">\n",
      "                                \n",
      "                                    20\n",
      "                                \n",
      "                            </td><td class=\"team_slug\"><a class=\"sp-head-team-link\" href=\"/sports/nfl/broncos/\"><span class=\"logo\"><span class=\"logo-s\"><img src=\"https://www.gannett-cdn.com/media/SMG/sports_logos/nfl-whitebg/30/DEN.png\"/></span></span><span class=\"first_name\">Denver</span><br><span class=\"last_name\">Broncos</span></br></a></td><td class=\"record\">\n",
      "                                \n",
      "                                    3-5\n",
      "                                \n",
      "                            </td><td class=\"ranking_diff\"><span class=\"rank-sm-dn\">1</span></td><td class=\"ranking_hilo\">\n",
      "                                \n",
      "                                    4 / 20\n",
      "                                \n",
      "                            </td><td class=\"notes\">\n",
      "                                \n",
      "                                    Issues under center are legit. But previously top-ranked defense just embarrassed itself. Expect losing skid to reach five vs. rested Patriots.\n",
      "                                \n",
      "                            </td></tr>, <tr><td class=\"ranking\">\n",
      "                                \n",
      "                                    21\n",
      "                                \n",
      "                            </td><td class=\"team_slug\"><a class=\"sp-head-team-link\" href=\"/sports/nfl/jets/\"><span class=\"logo\"><span class=\"logo-s\"><img src=\"https://www.gannett-cdn.com/media/SMG/sports_logos/nfl-whitebg/30/NYJ.png\"/></span></span><span class=\"first_name\">New York</span><br><span class=\"last_name\">Jets</span></br></a></td><td class=\"record\">\n",
      "                                \n",
      "                                    4-5\n",
      "                                \n",
      "                            </td><td class=\"ranking_diff\"><span class=\"rank-sm-up\">3</span></td><td class=\"ranking_hilo\">\n",
      "                                \n",
      "                                    20 / 32\n",
      "                                \n",
      "                            </td><td class=\"notes\">\n",
      "                                \n",
      "                                    Who would have imagined they might reach bye at 5-5? That will be the case if they can use 10 days of prep time to beat undermanned Bucs on Sunday.\n",
      "                                \n",
      "                            </td></tr>, <tr><td class=\"ranking\">\n",
      "                                \n",
      "                                    22\n",
      "                                \n",
      "                            </td><td class=\"team_slug\"><a class=\"sp-head-team-link\" href=\"/sports/nfl/ravens/\"><span class=\"logo\"><span class=\"logo-s\"><img src=\"https://www.gannett-cdn.com/media/SMG/sports_logos/nfl-whitebg/30/BAL.png\"/></span></span><span class=\"first_name\">Baltimore</span><br><span class=\"last_name\">Ravens</span></br></a></td><td class=\"record\">\n",
      "                                \n",
      "                                    4-5\n",
      "                                \n",
      "                            </td><td class=\"ranking_diff\"><span class=\"rank-sm-up\">3</span></td><td class=\"ranking_hilo\">\n",
      "                                \n",
      "                                    11 / 28\n",
      "                                \n",
      "                            </td><td class=\"notes\">\n",
      "                                \n",
      "                                    Heading into their bye at 4-5, they've been quite unimpressive to date. That said, they might be favored to win six of their last seven games.\n",
      "                                \n",
      "                            </td></tr>, <tr><td class=\"ranking\">\n",
      "                                \n",
      "                                    23\n",
      "                                \n",
      "                            </td><td class=\"team_slug\"><a class=\"sp-head-team-link\" href=\"/sports/nfl/dolphins/\"><span class=\"logo\"><span class=\"logo-s\"><img src=\"https://www.gannett-cdn.com/media/SMG/sports_logos/nfl-whitebg/30/MIA.png\"/></span></span><span class=\"first_name\">Miami</span><br><span class=\"last_name\">Dolphins</span></br></a></td><td class=\"record\">\n",
      "                                \n",
      "                                    4-4\n",
      "                                \n",
      "                            </td><td class=\"ranking_diff\"><span class=\"rank-sm-up\">3</span></td><td class=\"ranking_hilo\">\n",
      "                                \n",
      "                                    11 / 30\n",
      "                                \n",
      "                            </td><td class=\"notes\">\n",
      "                                \n",
      "                                    At least they were competitive in defeat. Battered Jay Cutler led them to 24 points Sunday after Fins averaged two in three previous losses.\n",
      "                                \n",
      "                            </td></tr>, <tr><td class=\"ranking\">\n",
      "                                \n",
      "                                    24\n",
      "                                \n",
      "                            </td><td class=\"team_slug\"><a class=\"sp-head-team-link\" href=\"/sports/nfl/cardinals/\"><span class=\"logo\"><span class=\"logo-s\"><img src=\"https://www.gannett-cdn.com/media/SMG/sports_logos/nfl-whitebg/30/ARI.png\"/></span></span><span class=\"first_name\">Arizona</span><br><span class=\"last_name\">Cardinals</span></br></a></td><td class=\"record\">\n",
      "                                \n",
      "                                    4-4\n",
      "                                \n",
      "                            </td><td class=\"ranking_diff\"><span class=\"rank-sm-up\">3</span></td><td class=\"ranking_hilo\">\n",
      "                                \n",
      "                                    11 / 28\n",
      "                                \n",
      "                            </td><td class=\"notes\">\n",
      "                                \n",
      "                                    Hard to knock strategy of running offense through relatively fresh Adrian Peterson. But 37 carries for a 32-year-old who has to play Thursday?\n",
      "                                \n",
      "                            </td></tr>, <tr><td class=\"ranking\">\n",
      "                                \n",
      "                                    25\n",
      "                                \n",
      "                            </td><td class=\"team_slug\"><a class=\"sp-head-team-link\" href=\"/sports/nfl/bengals/\"><span class=\"logo\"><span class=\"logo-s\"><img src=\"https://www.gannett-cdn.com/media/SMG/sports_logos/nfl-whitebg/30/CIN.png\"/></span></span><span class=\"first_name\">Cincinnati</span><br><span class=\"last_name\">Bengals</span></br></a></td><td class=\"record\">\n",
      "                                \n",
      "                                    3-5\n",
      "                                \n",
      "                            </td><td class=\"ranking_diff\"><span class=\"rank-sm-dn\">4</span></td><td class=\"ranking_hilo\">\n",
      "                                \n",
      "                                    21 / 31\n",
      "                                \n",
      "                            </td><td class=\"notes\">\n",
      "                                \n",
      "                                    Advice to A.J. Green - next time you're facing an extremely chatty corner, we suggest you watch Andre Johnson v. Cortland Finnegan pregame.\n",
      "                                \n",
      "                            </td></tr>, <tr><td class=\"ranking\">\n",
      "                                \n",
      "                                    26\n",
      "                                \n",
      "                            </td><td class=\"team_slug\"><a class=\"sp-head-team-link\" href=\"/sports/nfl/packers/\"><span class=\"logo\"><span class=\"logo-s\"><img src=\"https://www.gannett-cdn.com/media/SMG/sports_logos/nfl-whitebg/30/GB.png\"/></span></span><span class=\"first_name\">Green Bay</span><br><span class=\"last_name\">Packers</span></br></a></td><td class=\"record\">\n",
      "                                \n",
      "                                    4-4\n",
      "                                \n",
      "                            </td><td class=\"ranking_diff\"><span class=\"rank-sm-dn\">4</span></td><td class=\"ranking_hilo\">\n",
      "                                \n",
      "                                    2 / 26\n",
      "                                \n",
      "                            </td><td class=\"notes\">\n",
      "                                \n",
      "                                    Looks like they missed their chance to trade Brett Hundley to Cleveland for a first-round pick back when his value peaked in preseason.\n",
      "                                \n",
      "                            </td></tr>, <tr><td class=\"ranking\">\n",
      "                                \n",
      "                                    27\n",
      "                                \n",
      "                            </td><td class=\"team_slug\"><a class=\"sp-head-team-link\" href=\"/sports/nfl/texans/\"><span class=\"logo\"><span class=\"logo-s\"><img src=\"https://www.gannett-cdn.com/media/SMG/sports_logos/nfl-whitebg/30/HOU.png\"/></span></span><span class=\"first_name\">Houston</span><br><span class=\"last_name\">Texans</span></br></a></td><td class=\"record\">\n",
      "                                \n",
      "                                    3-5\n",
      "                                \n",
      "                            </td><td class=\"ranking_diff\"><span class=\"rank-sm-dn\">14</span></td><td class=\"ranking_hilo\">\n",
      "                                \n",
      "                                    11 / 27\n",
      "                                \n",
      "                            </td><td class=\"notes\">\n",
      "                                \n",
      "                                    From football perspective, loss of Deshaun Watson was tragic. But decision to export LT Duane Brown may have directly cost them a win Sunday.\n",
      "                                \n",
      "                            </td></tr>, <tr><td class=\"ranking\">\n",
      "                                \n",
      "                                    28\n",
      "                                \n",
      "                            </td><td class=\"team_slug\"><a class=\"sp-head-team-link\" href=\"/sports/nfl/buccaneers/\"><span class=\"logo\"><span class=\"logo-s\"><img src=\"https://www.gannett-cdn.com/media/SMG/sports_logos/nfl-whitebg/30/TB.png\"/></span></span><span class=\"first_name\">Tampa Bay</span><br><span class=\"last_name\">Buccaneers</span></br></a></td><td class=\"record\">\n",
      "                                \n",
      "                                    2-6\n",
      "                                \n",
      "                            </td><td class=\"ranking_diff\"><span class=\"rank-sm-no\"></span></td><td class=\"ranking_hilo\">\n",
      "                                \n",
      "                                    8 / 28\n",
      "                                \n",
      "                            </td><td class=\"notes\">\n",
      "                                \n",
      "                                    Last season, this seemed like a young and HUNGRY team on the rise. Apparently it's a young and IMMATURE team that's still at least a year away.\n",
      "                                \n",
      "                            </td></tr>, <tr><td class=\"ranking\">\n",
      "                                \n",
      "                                    29\n",
      "                                \n",
      "                            </td><td class=\"team_slug\"><a class=\"sp-head-team-link\" href=\"/sports/nfl/colts/\"><span class=\"logo\"><span class=\"logo-s\"><img src=\"https://www.gannett-cdn.com/media/SMG/sports_logos/nfl-whitebg/30/IND.png\"/></span></span><span class=\"first_name\">Indianapolis</span><br><span class=\"last_name\">Colts</span></br></a></td><td class=\"record\">\n",
      "                                \n",
      "                                    3-6\n",
      "                                \n",
      "                            </td><td class=\"ranking_diff\"><span class=\"rank-sm-up\">1</span></td><td class=\"ranking_hilo\">\n",
      "                                \n",
      "                                    23 / 30\n",
      "                                \n",
      "                            </td><td class=\"notes\">\n",
      "                                \n",
      "                                    Sunday's defeat of the Watson-less Texans was Indy's first victory in 2017 over a team that has actually broken into win column. Baby steps.\n",
      "                                \n",
      "                            </td></tr>, <tr><td class=\"ranking\">\n",
      "                                \n",
      "                                    30\n",
      "                                \n",
      "                            </td><td class=\"team_slug\"><a class=\"sp-head-team-link\" href=\"/sports/nfl/giants/\"><span class=\"logo\"><span class=\"logo-s\"><img src=\"https://www.gannett-cdn.com/media/SMG/sports_logos/nfl-whitebg/30/NYG.png\"/></span></span><span class=\"first_name\">New York</span><br><span class=\"last_name\">Giants</span></br></a></td><td class=\"record\">\n",
      "                                \n",
      "                                    1-7\n",
      "                                \n",
      "                            </td><td class=\"ranking_diff\"><span class=\"rank-sm-dn\">1</span></td><td class=\"ranking_hilo\">\n",
      "                                \n",
      "                                    10 / 31\n",
      "                                \n",
      "                            </td><td class=\"notes\">\n",
      "                                \n",
      "                                    Maybe Ben McAdoo should just suspend Eli Manning ... that would make it a lot easier to justify getting rookie QB Davis Webb into the lineup.\n",
      "                                \n",
      "                            </td></tr>, <tr><td class=\"ranking\">\n",
      "                                \n",
      "                                    31\n",
      "                                \n",
      "                            </td><td class=\"team_slug\"><a class=\"sp-head-team-link\" href=\"/sports/nfl/49ers/\"><span class=\"logo\"><span class=\"logo-s\"><img src=\"https://www.gannett-cdn.com/media/SMG/sports_logos/nfl-whitebg/30/SF.png\"/></span></span><span class=\"first_name\">San Francisco</span><br><span class=\"last_name\">49ers</span></br></a></td><td class=\"record\">\n",
      "                                \n",
      "                                    0-9\n",
      "                                \n",
      "                            </td><td class=\"ranking_diff\"><span class=\"rank-sm-no\"></span></td><td class=\"ranking_hilo\">\n",
      "                                \n",
      "                                    24 / 31\n",
      "                                \n",
      "                            </td><td class=\"notes\">\n",
      "                                \n",
      "                                    Big opportunity to get off mat this week with 1-7 Giants coming to Silicon Valley. Might also be right time to roll out fresh tech at quarterback.\n",
      "                                \n",
      "                            </td></tr>, <tr><td class=\"ranking\">\n",
      "                                \n",
      "                                    32\n",
      "                                \n",
      "                            </td><td class=\"team_slug\"><a class=\"sp-head-team-link\" href=\"/sports/nfl/browns/\"><span class=\"logo\"><span class=\"logo-s\"><img src=\"https://www.gannett-cdn.com/media/SMG/sports_logos/nfl-whitebg/30/CLE.png\"/></span></span><span class=\"first_name\">Cleveland</span><br><span class=\"last_name\">Browns</span></br></a></td><td class=\"record\">\n",
      "                                \n",
      "                                    0-8\n",
      "                                \n",
      "                            </td><td class=\"ranking_diff\"><span class=\"rank-sm-no\"></span></td><td class=\"ranking_hilo\">\n",
      "                                \n",
      "                                    27 / 32\n",
      "                                \n",
      "                            </td><td class=\"notes\">\n",
      "                                \n",
      "                                    We assumed bye week would spare them another defeat, then the franchise embarrassed itself anew with aborted AJ McCarron trade debacle.\n",
      "                                \n",
      "                            </td></tr>]\n",
      "length of teams 1\n",
      "<class 'NoneType'>   None\n",
      "<class 'bs4.element.Tag'>   <td class=\"ranking\">\n",
      "                                \n",
      "                                    1\n",
      "                                \n",
      "                            </td>\n",
      "<class 'bs4.element.Tag'>   <td class=\"ranking\">\n",
      "                                \n",
      "                                    2\n",
      "                                \n",
      "                            </td>\n",
      "<class 'bs4.element.Tag'>   <td class=\"ranking\">\n",
      "                                \n",
      "                                    3\n",
      "                                \n",
      "                            </td>\n",
      "<class 'bs4.element.Tag'>   <td class=\"ranking\">\n",
      "                                \n",
      "                                    4\n",
      "                                \n",
      "                            </td>\n",
      "<class 'bs4.element.Tag'>   <td class=\"ranking\">\n",
      "                                \n",
      "                                    5\n",
      "                                \n",
      "                            </td>\n",
      "<class 'bs4.element.Tag'>   <td class=\"ranking\">\n",
      "                                \n",
      "                                    6\n",
      "                                \n",
      "                            </td>\n",
      "<class 'bs4.element.Tag'>   <td class=\"ranking\">\n",
      "                                \n",
      "                                    7\n",
      "                                \n",
      "                            </td>\n",
      "<class 'bs4.element.Tag'>   <td class=\"ranking\">\n",
      "                                \n",
      "                                    8\n",
      "                                \n",
      "                            </td>\n",
      "<class 'bs4.element.Tag'>   <td class=\"ranking\">\n",
      "                                \n",
      "                                    9\n",
      "                                \n",
      "                            </td>\n",
      "<class 'bs4.element.Tag'>   <td class=\"ranking\">\n",
      "                                \n",
      "                                    10\n",
      "                                \n",
      "                            </td>\n",
      "<class 'bs4.element.Tag'>   <td class=\"ranking\">\n",
      "                                \n",
      "                                    11\n",
      "                                \n",
      "                            </td>\n",
      "<class 'bs4.element.Tag'>   <td class=\"ranking\">\n",
      "                                \n",
      "                                    12\n",
      "                                \n",
      "                            </td>\n",
      "<class 'bs4.element.Tag'>   <td class=\"ranking\">\n",
      "                                \n",
      "                                    13\n",
      "                                \n",
      "                            </td>\n",
      "<class 'bs4.element.Tag'>   <td class=\"ranking\">\n",
      "                                \n",
      "                                    14\n",
      "                                \n",
      "                            </td>\n",
      "<class 'bs4.element.Tag'>   <td class=\"ranking\">\n",
      "                                \n",
      "                                    15\n",
      "                                \n",
      "                            </td>\n",
      "<class 'bs4.element.Tag'>   <td class=\"ranking\">\n",
      "                                \n",
      "                                    16\n",
      "                                \n",
      "                            </td>\n",
      "<class 'bs4.element.Tag'>   <td class=\"ranking\">\n",
      "                                \n",
      "                                    17\n",
      "                                \n",
      "                            </td>\n",
      "<class 'bs4.element.Tag'>   <td class=\"ranking\">\n",
      "                                \n",
      "                                    18\n",
      "                                \n",
      "                            </td>\n",
      "<class 'bs4.element.Tag'>   <td class=\"ranking\">\n",
      "                                \n",
      "                                    19\n",
      "                                \n",
      "                            </td>\n",
      "<class 'bs4.element.Tag'>   <td class=\"ranking\">\n",
      "                                \n",
      "                                    20\n",
      "                                \n",
      "                            </td>\n",
      "<class 'bs4.element.Tag'>   <td class=\"ranking\">\n",
      "                                \n",
      "                                    21\n",
      "                                \n",
      "                            </td>\n",
      "<class 'bs4.element.Tag'>   <td class=\"ranking\">\n",
      "                                \n",
      "                                    22\n",
      "                                \n",
      "                            </td>\n",
      "<class 'bs4.element.Tag'>   <td class=\"ranking\">\n",
      "                                \n",
      "                                    23\n",
      "                                \n",
      "                            </td>\n",
      "<class 'bs4.element.Tag'>   <td class=\"ranking\">\n",
      "                                \n",
      "                                    24\n",
      "                                \n",
      "                            </td>\n",
      "<class 'bs4.element.Tag'>   <td class=\"ranking\">\n",
      "                                \n",
      "                                    25\n",
      "                                \n",
      "                            </td>\n",
      "<class 'bs4.element.Tag'>   <td class=\"ranking\">\n",
      "                                \n",
      "                                    26\n",
      "                                \n",
      "                            </td>\n",
      "<class 'bs4.element.Tag'>   <td class=\"ranking\">\n",
      "                                \n",
      "                                    27\n",
      "                                \n",
      "                            </td>\n",
      "<class 'bs4.element.Tag'>   <td class=\"ranking\">\n",
      "                                \n",
      "                                    28\n",
      "                                \n",
      "                            </td>\n",
      "<class 'bs4.element.Tag'>   <td class=\"ranking\">\n",
      "                                \n",
      "                                    29\n",
      "                                \n",
      "                            </td>\n",
      "<class 'bs4.element.Tag'>   <td class=\"ranking\">\n",
      "                                \n",
      "                                    30\n",
      "                                \n",
      "                            </td>\n",
      "<class 'bs4.element.Tag'>   <td class=\"ranking\">\n",
      "                                \n",
      "                                    31\n",
      "                                \n",
      "                            </td>\n",
      "<class 'bs4.element.Tag'>   <td class=\"ranking\">\n",
      "                                \n",
      "                                    32\n",
      "                                \n",
      "                            </td>\n"
     ]
    }
   ],
   "source": [
    "# Slide 32\n",
    "from bs4 import BeautifulSoup as bs\n",
    "import requests\n",
    "\n",
    "url=\"http://www.usatoday.com/sports/nfl/rankings/\"\n",
    "r = requests.get(url)\n",
    "data = r.text    \n",
    "soup = bs(data, \"html.parser\")\n",
    "\n",
    "rows = soup.find(\"table\").find(\"tbody\").find_all(\"tr\")\n",
    "print(rows)\n",
    "\n",
    "teams = soup.findAll('table',{'class':'ribbonfx rankings no-autorank'})\n",
    "print(\"length of teams\", len(teams))\n",
    "\n",
    "for team in teams:\n",
    "    rows = team.findAll('tr')\n",
    "    for row in rows:\n",
    "        teamRank = row.find('td',{'class':'ranking'})\n",
    "        teamSlug = row.findAll('td',{'class':'team_slug'})\n",
    "        teamRcrd = row.findAll('td',{'class':'record'})\n",
    "        teamDiff = row.findAll('td',{'class':'ranking diff'})\n",
    "        teamHilo = row.findAll('td',{'class':'ranking hilo'})\n",
    "        teamNote = row.findAll('td',{'class':'notes'})\n",
    "        print(type(teamRank), \" \", teamRank)\n",
    "            "
   ]
  },
  {
   "cell_type": "code",
   "execution_count": null,
   "metadata": {
    "collapsed": true
   },
   "outputs": [],
   "source": [
    "# Slide 32\n",
    "from bs4 import BeautifulSoup as bs\n",
    "import requests\n",
    "\n",
    "url=\"http://www.usatoday.com/sports/nfl/rankings/\"\n",
    "r = requests.get(url)\n",
    "data = r.text    \n",
    "soup = bs(data, \"html.parser\")\n",
    "\n",
    "rows = soup.find(\"table\").find(\"tbody\").findAll(\"tr\")\n",
    "\n",
    "for row in rows:\n",
    "    teamRank = row.find('td',{'class':'ranking'})\n",
    "    teamSlug = row.findAll('td',{'class':'team_slug'})\n",
    "    teamRcrd = row.findAll('td',{'class':'record'})\n",
    "    teamDiff = row.findAll('td',{'class':'ranking diff'})\n",
    "    teamHilo = row.findAll('td',{'class':'ranking hilo'})\n",
    "    teamNote = row.find('td',{'class':'notes'})\n",
    "    print(type(teamRank))\n",
    "    #print(teamRank.getText(), \" ------->>   \", str(teamNote))\n"
   ]
  }
 ],
 "metadata": {
  "anaconda-cloud": {},
  "kernelspec": {
   "display_name": "Python [default]",
   "language": "python",
   "name": "python3"
  },
  "language_info": {
   "codemirror_mode": {
    "name": "ipython",
    "version": 3
   },
   "file_extension": ".py",
   "mimetype": "text/x-python",
   "name": "python",
   "nbconvert_exporter": "python",
   "pygments_lexer": "ipython3",
   "version": "3.5.2"
  }
 },
 "nbformat": 4,
 "nbformat_minor": 1
}
