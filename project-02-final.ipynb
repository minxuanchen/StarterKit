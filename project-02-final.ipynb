{
 "cells": [
  {
   "cell_type": "markdown",
   "metadata": {},
   "source": [
    "# Project 02 - Due Friday, October 13 at 12pm\n",
    "\n",
    "*Objectives*: Design a relational database schema for transaction processing. Use SQL to load the data into the database and retrieve information from the database.\n",
    "\n",
    "*Grading criteria*: The tasks should all be completed, and questions should all be answered with SQL queries, shell commands, diagrams and markdown cells.  The notebook itself should be completely reproducible (using AWS EC2 instance based on the provided AMI) from start to finish; another person should be able to use the code to obtain the same results as yours.  Note that you will receive no more than partial credit if you do not add text/markdown cells explaining your thinking at each major step in each problem.\n",
    "\n",
    "*Attestation*: **Work in groups**.  At the end of your submitted notebook, identify the work each partner performed and attest that each contributed substantially to the work.\n",
    "\n",
    "*Deadline*: Friday, October 13, 12pm.  One member of each group must submit your notebook to Blackboard; you should not submit it separately."
   ]
  },
  {
   "cell_type": "markdown",
   "metadata": {},
   "source": [
    "## Part 1 - Requirements\n",
    "\n",
    "The city is going to launch a new bike sharing system. Your task is to design a relational database to support its operation. The bike sharing system works as follows:\n",
    "\n",
    "1. Riders can buy annual, semiannual or monthly membership. We need to have a record of each member's name and address in order to send them a key. Keys can be used to check out bikes at any bike station. Members have the option to renew their memberships before they expire. A member becomes inactive when his or her membership expires, therefore we need to know when their memberships expire. \n",
    "\n",
    "1. Each bike station has a pubic name (i.e. \"18th & C St NW\"). Occasionally in response to public requests, stations can be renamed. Each bike station have been built with a number of docking points.\n",
    "\n",
    "1. Each bike is either serviceable or disabled. If it is disabled, it is removed from the station for repair.\n",
    "\n",
    "1. For simplicity's sake, each serviceable bike is either docked at a station or checked out by a member. If it is checked out by a member, the system needs to know who has checked it out and when.\n",
    "\n",
    "Your database should minimally support the above requirements."
   ]
  },
  {
   "cell_type": "markdown",
   "metadata": {},
   "source": [
    "## Part 2 - Designing a Database Schema (35 points)\n",
    "\n",
    "Based on what you read above, design a relational database schema consisting of *at least* 3 tables. Document your schema with a schema diagram.  There are several tools available for this, such as [Google Drawings](https://docs.google.com/drawings/) and Microsoft Visio. Make sure to include the schema diagram in your submission. Embed and display the diagram in your notebook. **Discuss your major design decisions.** Be aware that your schema is designed to support transaction processing and should be optimized for writes and data consistency.\n",
    "\n",
    "We are looking for the following when grade this part of the project:\n",
    "\n",
    "* All required attributes are recorded.\n",
    "* In the schema diagram, all primary keys are underlined. Directed lines are drawn from the foreign keys to the primary keys.\n",
    "* Your database schema should be designed to promite data consistency and integrity and reduce the duplication of data. Strive for 3NF.\n",
    "* Your database schema should be designed to support the requirements described in Part 1, as well as problems in Part 4 and 5.\n",
    "* Key design decisions are discussed and documented in Markdown cells.\n",
    "\n",
    "See slide 23 of week-04 lecture for an example of schema diagram. "
   ]
  },
  {
   "cell_type": "markdown",
   "metadata": {},
   "source": [
    "---\n",
    "* Let's look at the schema we created in google drawing"
   ]
  },
  {
   "cell_type": "markdown",
   "metadata": {},
   "source": [
    "<img src=schema.jpg>"
   ]
  },
  {
   "cell_type": "markdown",
   "metadata": {},
   "source": [
    "* discuss the major design decisions"
   ]
  },
  {
   "cell_type": "markdown",
   "metadata": {},
   "source": [
    "Firstly we consider possible transactions, for example, the requirements described in Part 1, as well as problems in Part 4 and 5. Then we designed the relations(key, members, bike, station, goodbike, trace ), striving for 3NF.\n",
    "\n",
    "In table key, every member has a key, so keyid should be the primary key of the table key. And the membership is to show the details  of key (annual, semiannual or monthly). The expiredate is to show when the key will become inactive. By this way, the table can record the transactions easily.\n",
    "\n",
    "In table members, memberid is the ID of a member and the primary key, because members' names might be duplicate. Name and address is the personal information of a member. And keyid records the keys sent to the members. A member becomes inactive when his or her membership expires, so the status is to show whether the membership is active or not.\n",
    "\n",
    "In table station, since the name of the station will change, we set the stationid ( i.e. the station number in the csv file) as the primary key. The publicname and capacity are the basic information of the station.\n",
    "\n",
    "In table bike, each bike has its own id, so we set the bikeid as the primary key. Serviceable is to define whether the bike is on the service. \n",
    "\n",
    "In table goodbike. The bikeid is the bikeid which is serviceable in table bike. The bikestatus will show the bike is checked out or docked. If docked, the location will show where the bike is docked. \n",
    "\n",
    "In table trace, the bikeid is the bikeid which is checked out in table goodbike. The rider shows which member ride the bike. And the ridedate and startstation show when and where the bikes are checked out.\n"
   ]
  },
  {
   "cell_type": "markdown",
   "metadata": {},
   "source": [
    "## Part 3 - ETL (30 points)\n",
    "Please use markdown cells to **document major steps**. Use SQL queries and markdown cells to demonstrate that records are created or updated successfully."
   ]
  },
  {
   "cell_type": "markdown",
   "metadata": {},
   "source": [
    "### Problem 3.1\n",
    "Examine the data located at https://s3.amazonaws.com/dmfa-2017/bike_stations.csv.\n",
    "Create and connect to a new PostgreSQL database named `proj2`. Use SQL DDL to create your tables in it based on the database schema you designed in Part 2 and the data. Don't forget about the contraints (primary keys, foreign keys, proper attribute types, NOT NULL etc)."
   ]
  },
  {
   "cell_type": "markdown",
   "metadata": {},
   "source": [
    "---\n",
    "#### Create Repeatable Database\n",
    "First, drop the database named `proj2` if it exists. It is necessary so that we can run this notebook repeatedly. If you get the error that says \"database proj2 does not exist\", that is fine. However if it complains that \"There is 1 other session using the database\", please restart the Kernel and try it again."
   ]
  },
  {
   "cell_type": "code",
   "execution_count": 1,
   "metadata": {
    "collapsed": true
   },
   "outputs": [],
   "source": [
    "!dropdb -U student proj2"
   ]
  },
  {
   "cell_type": "code",
   "execution_count": 2,
   "metadata": {
    "collapsed": true
   },
   "outputs": [],
   "source": [
    "!createdb -U student proj2"
   ]
  },
  {
   "cell_type": "code",
   "execution_count": 2,
   "metadata": {
    "collapsed": true
   },
   "outputs": [],
   "source": [
    "%load_ext sql"
   ]
  },
  {
   "cell_type": "markdown",
   "metadata": {},
   "source": [
    "* Use sql magic to connect to the database we just created. Use student as the user name. Password is not required here."
   ]
  },
  {
   "cell_type": "code",
   "execution_count": 3,
   "metadata": {},
   "outputs": [
    {
     "data": {
      "text/plain": [
       "'Connected: student@proj2'"
      ]
     },
     "execution_count": 3,
     "metadata": {},
     "output_type": "execute_result"
    }
   ],
   "source": [
    "%sql postgresql://student@/proj2"
   ]
  },
  {
   "cell_type": "code",
   "execution_count": 5,
   "metadata": {
    "scrolled": true
   },
   "outputs": [
    {
     "name": "stdout",
     "output_type": "stream",
     "text": [
      "Done.\n"
     ]
    },
    {
     "data": {
      "text/plain": [
       "[]"
      ]
     },
     "execution_count": 5,
     "metadata": {},
     "output_type": "execute_result"
    }
   ],
   "source": [
    "%%sql\n",
    "DROP TABLE IF EXISTS members,key,bike,station,goodbike,trace"
   ]
  },
  {
   "cell_type": "markdown",
   "metadata": {},
   "source": [
    "* Let's create tables. First we dropt the tables we created for further use --- running this notebook repeatedly. Second, we create the tables that include all relative columns required in Part 1."
   ]
  },
  {
   "cell_type": "code",
   "execution_count": 6,
   "metadata": {},
   "outputs": [
    {
     "name": "stdout",
     "output_type": "stream",
     "text": [
      "Done.\n"
     ]
    },
    {
     "data": {
      "text/plain": [
       "[]"
      ]
     },
     "execution_count": 6,
     "metadata": {},
     "output_type": "execute_result"
    }
   ],
   "source": [
    "%%sql\n",
    "CREATE TABLE key(\n",
    "    keyid CHAR(6) PRIMARY KEY, \n",
    "    membership VARCHAR(64) CONSTRAINT membership_check CHECK(membership in ('annual','semiannual','monthly')), \n",
    "    expiredate TIMESTAMP NOT NULL\n",
    ");"
   ]
  },
  {
   "cell_type": "code",
   "execution_count": 7,
   "metadata": {},
   "outputs": [
    {
     "name": "stdout",
     "output_type": "stream",
     "text": [
      "Done.\n"
     ]
    },
    {
     "data": {
      "text/plain": [
       "[]"
      ]
     },
     "execution_count": 7,
     "metadata": {},
     "output_type": "execute_result"
    }
   ],
   "source": [
    "%%sql\n",
    "CREATE TABLE members(\n",
    "    memberid CHAR(5) PRIMARY KEY, \n",
    "    name VARCHAR(20) NOT NULL, \n",
    "    address VARCHAR(64) NOT NULL, \n",
    "    keyid CHAR(6) NOT NULL REFERENCES key(keyid),\n",
    "    status VARCHAR(20) CONSTRAINT status_check CHECK(status in ('active','expired'))\n",
    ");"
   ]
  },
  {
   "cell_type": "code",
   "execution_count": 8,
   "metadata": {},
   "outputs": [
    {
     "name": "stdout",
     "output_type": "stream",
     "text": [
      "Done.\n"
     ]
    },
    {
     "data": {
      "text/plain": [
       "[]"
      ]
     },
     "execution_count": 8,
     "metadata": {},
     "output_type": "execute_result"
    }
   ],
   "source": [
    "%%sql\n",
    "CREATE TABLE station(\n",
    "    stationid CHAR(5) PRIMARY KEY, \n",
    "    publicname VARCHAR(64) NOT NULL, \n",
    "    capacity INTEGER NOT NULL\n",
    ");"
   ]
  },
  {
   "cell_type": "code",
   "execution_count": 9,
   "metadata": {},
   "outputs": [
    {
     "name": "stdout",
     "output_type": "stream",
     "text": [
      "Done.\n"
     ]
    },
    {
     "data": {
      "text/plain": [
       "[]"
      ]
     },
     "execution_count": 9,
     "metadata": {},
     "output_type": "execute_result"
    }
   ],
   "source": [
    "%%sql\n",
    "CREATE TABLE bike(\n",
    "    bikeid CHAR(6) PRIMARY KEY, \n",
    "    serviceable BOOLEAN\n",
    ");"
   ]
  },
  {
   "cell_type": "code",
   "execution_count": 10,
   "metadata": {},
   "outputs": [
    {
     "name": "stdout",
     "output_type": "stream",
     "text": [
      "Done.\n"
     ]
    },
    {
     "data": {
      "text/plain": [
       "[]"
      ]
     },
     "execution_count": 10,
     "metadata": {},
     "output_type": "execute_result"
    }
   ],
   "source": [
    "%%sql\n",
    "CREATE TABLE goodbike(\n",
    "    bikeid CHAR(6)  PRIMARY KEY REFERENCES bike(bikeid), \n",
    "    bikestatus VARCHAR(64) CONSTRAINT bikestatus_check CHECK((bikestatus in ('docked','checkout')) OR (bikestatus IS NULL)), \n",
    "    location CHAR(5) REFERENCES station(stationid)\n",
    ");"
   ]
  },
  {
   "cell_type": "code",
   "execution_count": 11,
   "metadata": {},
   "outputs": [
    {
     "name": "stdout",
     "output_type": "stream",
     "text": [
      "Done.\n"
     ]
    },
    {
     "data": {
      "text/plain": [
       "[]"
      ]
     },
     "execution_count": 11,
     "metadata": {},
     "output_type": "execute_result"
    }
   ],
   "source": [
    "%%sql\n",
    "CREATE TABLE trace(\n",
    "    bikeid CHAR(6) PRIMARY KEY REFERENCES goodbike(bikeid), \n",
    "    rider VARCHAR(64) REFERENCES members(memberid),\n",
    "    ridedate TIMESTAMP,\n",
    "    startstation CHAR(5) REFERENCES station(stationid)\n",
    ");"
   ]
  },
  {
   "cell_type": "markdown",
   "metadata": {},
   "source": [
    "* Let's have a look at our tables' columns"
   ]
  },
  {
   "cell_type": "code",
   "execution_count": 12,
   "metadata": {},
   "outputs": [
    {
     "name": "stdout",
     "output_type": "stream",
     "text": [
      "0 rows affected.\n"
     ]
    },
    {
     "data": {
      "text/html": [
       "<table>\n",
       "    <tr>\n",
       "        <th>memberid</th>\n",
       "        <th>name</th>\n",
       "        <th>address</th>\n",
       "        <th>keyid</th>\n",
       "        <th>status</th>\n",
       "    </tr>\n",
       "</table>"
      ],
      "text/plain": [
       "[]"
      ]
     },
     "execution_count": 12,
     "metadata": {},
     "output_type": "execute_result"
    }
   ],
   "source": [
    "%%sql\n",
    "SELECT *\n",
    "FROM members"
   ]
  },
  {
   "cell_type": "code",
   "execution_count": 13,
   "metadata": {},
   "outputs": [
    {
     "name": "stdout",
     "output_type": "stream",
     "text": [
      "0 rows affected.\n"
     ]
    },
    {
     "data": {
      "text/html": [
       "<table>\n",
       "    <tr>\n",
       "        <th>keyid</th>\n",
       "        <th>membership</th>\n",
       "        <th>expiredate</th>\n",
       "    </tr>\n",
       "</table>"
      ],
      "text/plain": [
       "[]"
      ]
     },
     "execution_count": 13,
     "metadata": {},
     "output_type": "execute_result"
    }
   ],
   "source": [
    "%%sql\n",
    "SELECT *\n",
    "FROM key"
   ]
  },
  {
   "cell_type": "code",
   "execution_count": 14,
   "metadata": {},
   "outputs": [
    {
     "name": "stdout",
     "output_type": "stream",
     "text": [
      "0 rows affected.\n"
     ]
    },
    {
     "data": {
      "text/html": [
       "<table>\n",
       "    <tr>\n",
       "        <th>stationid</th>\n",
       "        <th>publicname</th>\n",
       "        <th>capacity</th>\n",
       "    </tr>\n",
       "</table>"
      ],
      "text/plain": [
       "[]"
      ]
     },
     "execution_count": 14,
     "metadata": {},
     "output_type": "execute_result"
    }
   ],
   "source": [
    "%%sql\n",
    "SELECT *\n",
    "FROM station"
   ]
  },
  {
   "cell_type": "code",
   "execution_count": 15,
   "metadata": {},
   "outputs": [
    {
     "name": "stdout",
     "output_type": "stream",
     "text": [
      "0 rows affected.\n"
     ]
    },
    {
     "data": {
      "text/html": [
       "<table>\n",
       "    <tr>\n",
       "        <th>bikeid</th>\n",
       "        <th>serviceable</th>\n",
       "    </tr>\n",
       "</table>"
      ],
      "text/plain": [
       "[]"
      ]
     },
     "execution_count": 15,
     "metadata": {},
     "output_type": "execute_result"
    }
   ],
   "source": [
    "%%sql\n",
    "SELECT *\n",
    "FROM bike"
   ]
  },
  {
   "cell_type": "code",
   "execution_count": 16,
   "metadata": {},
   "outputs": [
    {
     "name": "stdout",
     "output_type": "stream",
     "text": [
      "0 rows affected.\n"
     ]
    },
    {
     "data": {
      "text/html": [
       "<table>\n",
       "    <tr>\n",
       "        <th>bikeid</th>\n",
       "        <th>bikestatus</th>\n",
       "        <th>location</th>\n",
       "    </tr>\n",
       "</table>"
      ],
      "text/plain": [
       "[]"
      ]
     },
     "execution_count": 16,
     "metadata": {},
     "output_type": "execute_result"
    }
   ],
   "source": [
    "%%sql\n",
    "SELECT *\n",
    "FROM goodbike"
   ]
  },
  {
   "cell_type": "code",
   "execution_count": 17,
   "metadata": {},
   "outputs": [
    {
     "name": "stdout",
     "output_type": "stream",
     "text": [
      "0 rows affected.\n"
     ]
    },
    {
     "data": {
      "text/html": [
       "<table>\n",
       "    <tr>\n",
       "        <th>bikeid</th>\n",
       "        <th>rider</th>\n",
       "        <th>ridedate</th>\n",
       "        <th>startstation</th>\n",
       "    </tr>\n",
       "</table>"
      ],
      "text/plain": [
       "[]"
      ]
     },
     "execution_count": 17,
     "metadata": {},
     "output_type": "execute_result"
    }
   ],
   "source": [
    "%%sql\n",
    "SELECT *\n",
    "FROM trace"
   ]
  },
  {
   "cell_type": "markdown",
   "metadata": {},
   "source": [
    "#### Summary\n",
    "* From the tables above with no data embeded yet, they fit our designed schema. The <span style=\"color:#D4634B\">member</span> table is use to record the members basic informations including they keys' type and their status. The <span style=\"color:#D4634B\">key</span> table is depend on the membership type the buyer have chosen and the expire date of their membership.The <span style=\"color:#D4634B\">bike</span> table is to record whether the bike is in use or not. The <span style=\"color:#D4634B\">goodbike</span> table is for more information of the bike, which can locate the bike or detect the person who check it out. The <span style=\"color:#D4634B\">station</span> table is to define the name of the station and the capacity of how many bikes could be docked at this location. The last <span style=\"color:#D4634B\">trace</span> table is to record the check_out information at different start_station.   \n",
    "*(The reason why we need the last form is to solve the Problem 4.3 better to display the information we needed when a bike has been checked out.)*"
   ]
  },
  {
   "cell_type": "markdown",
   "metadata": {},
   "source": [
    "### Problem 3.2\n",
    "Use the data located at https://s3.amazonaws.com/dmfa-2017/bike_stations.csv to populate your database. You may import the CSV file content into a temporary table in your database `proj2`. Just remember to remove it after you are done. \n",
    "\n",
    "Since the data doesn't include information about members, you will need to make up a few (4 or 5) members in your database. Some of their memberships have expired."
   ]
  },
  {
   "cell_type": "markdown",
   "metadata": {},
   "source": [
    "---\n",
    "* First get the data from the site and load the data into our notebook."
   ]
  },
  {
   "cell_type": "code",
   "execution_count": 18,
   "metadata": {
    "scrolled": false
   },
   "outputs": [
    {
     "name": "stdout",
     "output_type": "stream",
     "text": [
      "--2017-10-13 14:03:58--  https://s3.amazonaws.com/dmfa-2017/bike_stations.csv\n",
      "Resolving s3.amazonaws.com (s3.amazonaws.com)... 52.216.20.245\n",
      "Connecting to s3.amazonaws.com (s3.amazonaws.com)|52.216.20.245|:443... connected.\n",
      "HTTP request sent, awaiting response... 200 OK\n",
      "Length: 169879 (166K) [text/csv]\n",
      "Saving to: ‘bike_stations.csv.1’\n",
      "\n",
      "bike_stations.csv.1 100%[===================>] 165.90K  --.-KB/s    in 0.006s  \n",
      "\n",
      "2017-10-13 14:03:58 (27.2 MB/s) - ‘bike_stations.csv.1’ saved [169879/169879]\n",
      "\n"
     ]
    }
   ],
   "source": [
    "!wget https://s3.amazonaws.com/dmfa-2017/bike_stations.csv"
   ]
  },
  {
   "cell_type": "code",
   "execution_count": 19,
   "metadata": {
    "collapsed": true
   },
   "outputs": [],
   "source": [
    "!csvsql --db postgresql://student@/proj2 --insert bike_stations.csv"
   ]
  },
  {
   "cell_type": "markdown",
   "metadata": {},
   "source": [
    "* Let's look at the CSV table in the database."
   ]
  },
  {
   "cell_type": "code",
   "execution_count": 20,
   "metadata": {},
   "outputs": [
    {
     "name": "stdout",
     "output_type": "stream",
     "text": [
      "5 rows affected.\n"
     ]
    },
    {
     "data": {
      "text/html": [
       "<table>\n",
       "    <tr>\n",
       "        <th>Bike number</th>\n",
       "        <th>Bike serviceable</th>\n",
       "        <th>Station number</th>\n",
       "        <th>Station name</th>\n",
       "        <th>Station capacity</th>\n",
       "    </tr>\n",
       "    <tr>\n",
       "        <td>W00005</td>\n",
       "        <td>True</td>\n",
       "        <td>32011</td>\n",
       "        <td>Maple &amp; Ritchie Ave</td>\n",
       "        <td>28</td>\n",
       "    </tr>\n",
       "    <tr>\n",
       "        <td>W00174</td>\n",
       "        <td>True</td>\n",
       "        <td>31246</td>\n",
       "        <td>M St &amp; Pennsylvania Ave NW</td>\n",
       "        <td>10</td>\n",
       "    </tr>\n",
       "    <tr>\n",
       "        <td>W00196</td>\n",
       "        <td>True</td>\n",
       "        <td>31408</td>\n",
       "        <td>Takoma Metro</td>\n",
       "        <td>12</td>\n",
       "    </tr>\n",
       "    <tr>\n",
       "        <td>W00216</td>\n",
       "        <td>True</td>\n",
       "        <td>31309</td>\n",
       "        <td>Fessenden St &amp; Wisconsin Ave NW</td>\n",
       "        <td>8</td>\n",
       "    </tr>\n",
       "    <tr>\n",
       "        <td>W00267</td>\n",
       "        <td>True</td>\n",
       "        <td>31125</td>\n",
       "        <td>15th &amp; W St NW</td>\n",
       "        <td>24</td>\n",
       "    </tr>\n",
       "</table>"
      ],
      "text/plain": [
       "[('W00005', True, 32011, 'Maple & Ritchie Ave', 28),\n",
       " ('W00174', True, 31246, 'M St & Pennsylvania Ave NW', 10),\n",
       " ('W00196', True, 31408, 'Takoma Metro', 12),\n",
       " ('W00216', True, 31309, 'Fessenden St & Wisconsin Ave NW', 8),\n",
       " ('W00267', True, 31125, '15th & W St NW', 24)]"
      ]
     },
     "execution_count": 20,
     "metadata": {},
     "output_type": "execute_result"
    }
   ],
   "source": [
    "%%sql\n",
    "SELECT *\n",
    "FROM bike_stations\n",
    "LIMIT 5"
   ]
  },
  {
   "cell_type": "markdown",
   "metadata": {},
   "source": [
    "* Load data to station table. We use insert instead of copy due to the fact we need to seperate the csv data to different tables."
   ]
  },
  {
   "cell_type": "code",
   "execution_count": 21,
   "metadata": {},
   "outputs": [
    {
     "name": "stdout",
     "output_type": "stream",
     "text": [
      "452 rows affected.\n"
     ]
    },
    {
     "data": {
      "text/plain": [
       "[]"
      ]
     },
     "execution_count": 21,
     "metadata": {},
     "output_type": "execute_result"
    }
   ],
   "source": [
    "%%sql\n",
    "INSERT INTO station (stationid, publicname, capacity)\n",
    "SELECT DISTINCT \"Station number\" as stationid, \"Station name\" as publicname, \"Station capacity\" as capacity\n",
    "FROM bike_stations\n",
    "WHERE \"Station number\" is NOT NULL"
   ]
  },
  {
   "cell_type": "markdown",
   "metadata": {},
   "source": [
    "* Load data to bike table.Load data to bike table."
   ]
  },
  {
   "cell_type": "code",
   "execution_count": 22,
   "metadata": {},
   "outputs": [
    {
     "name": "stdout",
     "output_type": "stream",
     "text": [
      "4298 rows affected.\n"
     ]
    },
    {
     "data": {
      "text/plain": [
       "[]"
      ]
     },
     "execution_count": 22,
     "metadata": {},
     "output_type": "execute_result"
    }
   ],
   "source": [
    "%%sql\n",
    "INSERT INTO bike (bikeid, serviceable)\n",
    "SELECT DISTINCT \"Bike number\" as bikeid, \"Bike serviceable\" as serviceable\n",
    "FROM bike_stations\n",
    "WHERE \"Bike number\" is NOT NULL"
   ]
  },
  {
   "cell_type": "code",
   "execution_count": 23,
   "metadata": {},
   "outputs": [
    {
     "name": "stdout",
     "output_type": "stream",
     "text": [
      "3823 rows affected.\n"
     ]
    },
    {
     "data": {
      "text/plain": [
       "[]"
      ]
     },
     "execution_count": 23,
     "metadata": {},
     "output_type": "execute_result"
    }
   ],
   "source": [
    "%%sql\n",
    "INSERT INTO goodbike (bikeid, location)\n",
    "SELECT DISTINCT \"Bike number\" as bikeid, \"Station number\" as location\n",
    "FROM bike_stations\n",
    "WHERE ((\"Station number\" is NOT NULL) and (\"Bike number\" is NOT NULL))"
   ]
  },
  {
   "cell_type": "markdown",
   "metadata": {},
   "source": [
    "* Update bike status data into bike table by connecting the <span style=\"color:#0A9394\">location</span> with the <span style=\"color:#0A9394\">bike status</span>. "
   ]
  },
  {
   "cell_type": "code",
   "execution_count": 24,
   "metadata": {},
   "outputs": [
    {
     "name": "stdout",
     "output_type": "stream",
     "text": [
      "3823 rows affected.\n"
     ]
    },
    {
     "data": {
      "text/plain": [
       "[]"
      ]
     },
     "execution_count": 24,
     "metadata": {},
     "output_type": "execute_result"
    }
   ],
   "source": [
    "%%sql\n",
    "UPDATE goodbike SET bikestatus='docked'\n",
    "WHERE (location is NOT NULL)"
   ]
  },
  {
   "cell_type": "markdown",
   "metadata": {},
   "source": [
    "* Make sure the <span style=\"color:#0A9394\">member</span> table and key table are clear."
   ]
  },
  {
   "cell_type": "code",
   "execution_count": 25,
   "metadata": {},
   "outputs": [
    {
     "name": "stdout",
     "output_type": "stream",
     "text": [
      "0 rows affected.\n"
     ]
    },
    {
     "data": {
      "text/plain": [
       "[]"
      ]
     },
     "execution_count": 25,
     "metadata": {},
     "output_type": "execute_result"
    }
   ],
   "source": [
    "%%sql\n",
    "DELETE FROM members"
   ]
  },
  {
   "cell_type": "code",
   "execution_count": 26,
   "metadata": {},
   "outputs": [
    {
     "name": "stdout",
     "output_type": "stream",
     "text": [
      "0 rows affected.\n"
     ]
    },
    {
     "data": {
      "text/plain": [
       "[]"
      ]
     },
     "execution_count": 26,
     "metadata": {},
     "output_type": "execute_result"
    }
   ],
   "source": [
    "%%sql\n",
    "DELETE FROM key"
   ]
  },
  {
   "cell_type": "markdown",
   "metadata": {},
   "source": [
    "* Load data into the <span style=\"color:#0A9394\">member</span> table and <span style=\"color:#0A9394\">key</span> table."
   ]
  },
  {
   "cell_type": "code",
   "execution_count": 27,
   "metadata": {},
   "outputs": [
    {
     "name": "stdout",
     "output_type": "stream",
     "text": [
      "4 rows affected.\n"
     ]
    },
    {
     "data": {
      "text/plain": [
       "[]"
      ]
     },
     "execution_count": 27,
     "metadata": {},
     "output_type": "execute_result"
    }
   ],
   "source": [
    "%%sql\n",
    "INSERT INTO key (keyid, membership, expiredate)\n",
    "VALUES('000001','annual','1/1/2020 23:59'),('000002','annual','1/1/2000 23:59'),\n",
    "('000003','annual','1/1/2020 23:59'),('000004','monthly','1/1/2000 23:59')"
   ]
  },
  {
   "cell_type": "code",
   "execution_count": 28,
   "metadata": {},
   "outputs": [
    {
     "name": "stdout",
     "output_type": "stream",
     "text": [
      "4 rows affected.\n"
     ]
    },
    {
     "data": {
      "text/plain": [
       "[]"
      ]
     },
     "execution_count": 28,
     "metadata": {},
     "output_type": "execute_result"
    }
   ],
   "source": [
    "%%sql\n",
    "INSERT INTO members (memberid, name, address, keyid, status)\n",
    "VALUES('00001','Zoey','CP','000001','active'),('00002','Jacky','CP','000002','expired'),\n",
    "('00003','Leo','CP','000003','active'),('00004','Charlene','CP','000004','expired')"
   ]
  },
  {
   "cell_type": "markdown",
   "metadata": {},
   "source": [
    "* **Delete** the temporary CSV table."
   ]
  },
  {
   "cell_type": "code",
   "execution_count": 29,
   "metadata": {},
   "outputs": [
    {
     "name": "stdout",
     "output_type": "stream",
     "text": [
      "Done.\n"
     ]
    },
    {
     "data": {
      "text/plain": [
       "[]"
      ]
     },
     "execution_count": 29,
     "metadata": {},
     "output_type": "execute_result"
    }
   ],
   "source": [
    "%%sql\n",
    "DROP TABLE IF EXISTS bike_stations"
   ]
  },
  {
   "cell_type": "markdown",
   "metadata": {},
   "source": [
    "## Part 4 - Operations (15 points)\n",
    "Use SQL queries and markdown cells to demonstrate that records are created or updated successfully."
   ]
  },
  {
   "cell_type": "markdown",
   "metadata": {},
   "source": [
    "### Problem 4.1\n",
    "The bike 'W20131' is having mechanical problems and needs to be repaired off-site. Use SQL UPDATE statements to record the fact that this bike is no longer serviceable and has been removed from the station where it was docked at."
   ]
  },
  {
   "cell_type": "markdown",
   "metadata": {},
   "source": [
    "---\n",
    "#### Update different information into our database\n",
    "* Let's find the information about the bike and **update** the record by changing the bike serviceable column to Fales and delete from the goodbike table."
   ]
  },
  {
   "cell_type": "code",
   "execution_count": 30,
   "metadata": {},
   "outputs": [
    {
     "name": "stdout",
     "output_type": "stream",
     "text": [
      "1 rows affected.\n"
     ]
    },
    {
     "data": {
      "text/html": [
       "<table>\n",
       "    <tr>\n",
       "        <th>bikeid</th>\n",
       "        <th>serviceable</th>\n",
       "        <th>bikeid_1</th>\n",
       "        <th>bikestatus</th>\n",
       "        <th>location</th>\n",
       "    </tr>\n",
       "    <tr>\n",
       "        <td>W20131</td>\n",
       "        <td>True</td>\n",
       "        <td>W20131</td>\n",
       "        <td>docked</td>\n",
       "        <td>31060</td>\n",
       "    </tr>\n",
       "</table>"
      ],
      "text/plain": [
       "[('W20131', True, 'W20131', 'docked', '31060')]"
      ]
     },
     "execution_count": 30,
     "metadata": {},
     "output_type": "execute_result"
    }
   ],
   "source": [
    "%%sql\n",
    "SELECT *\n",
    "FROM bike\n",
    "LEFT OUTER JOIN goodbike on bike.bikeid=goodbike.bikeid\n",
    "WHERE bike.bikeid='W20131';"
   ]
  },
  {
   "cell_type": "code",
   "execution_count": 31,
   "metadata": {},
   "outputs": [
    {
     "name": "stdout",
     "output_type": "stream",
     "text": [
      "1 rows affected.\n",
      "1 rows affected.\n"
     ]
    },
    {
     "data": {
      "text/plain": [
       "[]"
      ]
     },
     "execution_count": 31,
     "metadata": {},
     "output_type": "execute_result"
    }
   ],
   "source": [
    "%%sql\n",
    "UPDATE bike SET serviceable=False\n",
    "  WHERE bikeid='W20131';\n",
    "DELETE FROM goodbike\n",
    "  WHERE bikeid='W20131';"
   ]
  },
  {
   "cell_type": "markdown",
   "metadata": {},
   "source": [
    "* Check the bike information again for the changes we made."
   ]
  },
  {
   "cell_type": "code",
   "execution_count": 32,
   "metadata": {},
   "outputs": [
    {
     "name": "stdout",
     "output_type": "stream",
     "text": [
      "1 rows affected.\n"
     ]
    },
    {
     "data": {
      "text/html": [
       "<table>\n",
       "    <tr>\n",
       "        <th>bikeid</th>\n",
       "        <th>serviceable</th>\n",
       "    </tr>\n",
       "    <tr>\n",
       "        <td>W20131</td>\n",
       "        <td>False</td>\n",
       "    </tr>\n",
       "</table>"
      ],
      "text/plain": [
       "[('W20131', False)]"
      ]
     },
     "execution_count": 32,
     "metadata": {},
     "output_type": "execute_result"
    }
   ],
   "source": [
    "%%sql\n",
    "SELECT *\n",
    "FROM bike\n",
    "WHERE bikeid='W20131';"
   ]
  },
  {
   "cell_type": "code",
   "execution_count": 33,
   "metadata": {},
   "outputs": [
    {
     "name": "stdout",
     "output_type": "stream",
     "text": [
      "0 rows affected.\n"
     ]
    },
    {
     "data": {
      "text/html": [
       "<table>\n",
       "    <tr>\n",
       "        <th>bikeid</th>\n",
       "        <th>bikestatus</th>\n",
       "        <th>location</th>\n",
       "    </tr>\n",
       "</table>"
      ],
      "text/plain": [
       "[]"
      ]
     },
     "execution_count": 33,
     "metadata": {},
     "output_type": "execute_result"
    }
   ],
   "source": [
    "%%sql\n",
    "SELECT *\n",
    "FROM goodbike\n",
    "WHERE bikeid='W20131';"
   ]
  },
  {
   "cell_type": "markdown",
   "metadata": {},
   "source": [
    "### Problem 4.2\n",
    "The bike station at Adams Mill & Columbia Rd NW has been expanded. Use SQL UPDATE statements to change the name of the bike station from \"Adams Mill & Columbia Rd NW\" to \"18th & Columbia Rd NW\" and increase its capacity by 10."
   ]
  },
  {
   "cell_type": "markdown",
   "metadata": {},
   "source": [
    "* Let's find the information about the station and update its name and capacity."
   ]
  },
  {
   "cell_type": "code",
   "execution_count": 34,
   "metadata": {
    "scrolled": true
   },
   "outputs": [
    {
     "name": "stdout",
     "output_type": "stream",
     "text": [
      "1 rows affected.\n"
     ]
    },
    {
     "data": {
      "text/html": [
       "<table>\n",
       "    <tr>\n",
       "        <th>stationid</th>\n",
       "        <th>publicname</th>\n",
       "        <th>capacity</th>\n",
       "    </tr>\n",
       "    <tr>\n",
       "        <td>31104</td>\n",
       "        <td>Adams Mill &amp; Columbia Rd NW</td>\n",
       "        <td>4</td>\n",
       "    </tr>\n",
       "</table>"
      ],
      "text/plain": [
       "[('31104', 'Adams Mill & Columbia Rd NW', 4)]"
      ]
     },
     "execution_count": 34,
     "metadata": {},
     "output_type": "execute_result"
    }
   ],
   "source": [
    "%%sql\n",
    "SELECT *\n",
    "FROM station\n",
    "WHERE publicname='Adams Mill & Columbia Rd NW'"
   ]
  },
  {
   "cell_type": "code",
   "execution_count": 35,
   "metadata": {},
   "outputs": [
    {
     "name": "stdout",
     "output_type": "stream",
     "text": [
      "1 rows affected.\n",
      "1 rows affected.\n"
     ]
    },
    {
     "data": {
      "text/plain": [
       "[]"
      ]
     },
     "execution_count": 35,
     "metadata": {},
     "output_type": "execute_result"
    }
   ],
   "source": [
    "%%sql\n",
    "UPDATE station SET capacity=capacity+10\n",
    "WHERE publicname='Adams Mill & Columbia Rd NW';\n",
    "UPDATE station SET publicname='18th & Columbia Rd NW' \n",
    "WHERE publicname='Adams Mill & Columbia Rd NW';"
   ]
  },
  {
   "cell_type": "markdown",
   "metadata": {},
   "source": [
    "* Check the station information again for the changes we made."
   ]
  },
  {
   "cell_type": "code",
   "execution_count": 36,
   "metadata": {},
   "outputs": [
    {
     "name": "stdout",
     "output_type": "stream",
     "text": [
      "1 rows affected.\n"
     ]
    },
    {
     "data": {
      "text/html": [
       "<table>\n",
       "    <tr>\n",
       "        <th>stationid</th>\n",
       "        <th>publicname</th>\n",
       "        <th>capacity</th>\n",
       "    </tr>\n",
       "    <tr>\n",
       "        <td>31104</td>\n",
       "        <td>18th &amp; Columbia Rd NW</td>\n",
       "        <td>14</td>\n",
       "    </tr>\n",
       "</table>"
      ],
      "text/plain": [
       "[('31104', '18th & Columbia Rd NW', 14)]"
      ]
     },
     "execution_count": 36,
     "metadata": {},
     "output_type": "execute_result"
    }
   ],
   "source": [
    "%%sql\n",
    "SELECT *\n",
    "FROM station\n",
    "WHERE (stationid='31104' or publicname='Adams Mill & Columbia Rd NW');"
   ]
  },
  {
   "cell_type": "markdown",
   "metadata": {},
   "source": [
    "### Problem 4.3\n",
    "Use SQL UPDATE and/or INSERT statements to record the transaction that an active member checked out the bike 'W00005' from station 'Maple & Ritchie Ave' at '2017-10-01 08:46:00'."
   ]
  },
  {
   "cell_type": "markdown",
   "metadata": {},
   "source": [
    "* First update the table that one of the riders recorded to check out the bike on certain condition."
   ]
  },
  {
   "cell_type": "code",
   "execution_count": 37,
   "metadata": {},
   "outputs": [
    {
     "name": "stdout",
     "output_type": "stream",
     "text": [
      "1 rows affected.\n"
     ]
    },
    {
     "data": {
      "text/html": [
       "<table>\n",
       "    <tr>\n",
       "        <th>bikeid</th>\n",
       "        <th>bikestatus</th>\n",
       "        <th>location</th>\n",
       "        <th>stationid</th>\n",
       "        <th>publicname</th>\n",
       "        <th>capacity</th>\n",
       "    </tr>\n",
       "    <tr>\n",
       "        <td>W00005</td>\n",
       "        <td>docked</td>\n",
       "        <td>32011</td>\n",
       "        <td>32011</td>\n",
       "        <td>Maple &amp; Ritchie Ave</td>\n",
       "        <td>28</td>\n",
       "    </tr>\n",
       "</table>"
      ],
      "text/plain": [
       "[('W00005', 'docked', '32011', '32011', 'Maple & Ritchie Ave', 28)]"
      ]
     },
     "execution_count": 37,
     "metadata": {},
     "output_type": "execute_result"
    }
   ],
   "source": [
    "%%sql\n",
    "SELECT *\n",
    "FROM goodbike\n",
    "LEFT OUTER JOIN station ON goodbike.location=station.stationid\n",
    "WHERE bikeid='W00005'"
   ]
  },
  {
   "cell_type": "markdown",
   "metadata": {},
   "source": [
    "* Then Check the bike information we updated showing the information we needed."
   ]
  },
  {
   "cell_type": "code",
   "execution_count": 38,
   "metadata": {},
   "outputs": [
    {
     "name": "stdout",
     "output_type": "stream",
     "text": [
      "1 rows affected.\n",
      "1 rows affected.\n"
     ]
    },
    {
     "data": {
      "text/plain": [
       "[]"
      ]
     },
     "execution_count": 38,
     "metadata": {},
     "output_type": "execute_result"
    }
   ],
   "source": [
    "%%sql\n",
    "INSERT INTO trace (bikeid,rider,ridedate,startstation)\n",
    "VALUES ('W00005','00001','2017-10-01 08:46:00','32011');\n",
    "UPDATE goodbike SET location=Null,bikestatus='checkout'\n",
    "WHERE bikeid='W00005';"
   ]
  },
  {
   "cell_type": "code",
   "execution_count": 39,
   "metadata": {},
   "outputs": [
    {
     "name": "stdout",
     "output_type": "stream",
     "text": [
      "1 rows affected.\n"
     ]
    },
    {
     "data": {
      "text/plain": [
       "[]"
      ]
     },
     "execution_count": 39,
     "metadata": {},
     "output_type": "execute_result"
    }
   ],
   "source": [
    "%%sql\n",
    "UPDATE goodbike SET bikestatus='checkout', location=Null\n",
    "WHERE bikeid='W00005'"
   ]
  },
  {
   "cell_type": "markdown",
   "metadata": {},
   "source": [
    "* Check the bike information."
   ]
  },
  {
   "cell_type": "code",
   "execution_count": 8,
   "metadata": {},
   "outputs": [
    {
     "name": "stdout",
     "output_type": "stream",
     "text": [
      "1 rows affected.\n"
     ]
    },
    {
     "data": {
      "text/html": [
       "<table>\n",
       "    <tr>\n",
       "        <th>bikeid</th>\n",
       "        <th>bikestatus</th>\n",
       "        <th>rider</th>\n",
       "        <th>name</th>\n",
       "        <th>status</th>\n",
       "        <th>ridedate</th>\n",
       "        <th>startstation</th>\n",
       "        <th>publicname</th>\n",
       "    </tr>\n",
       "    <tr>\n",
       "        <td>W00005</td>\n",
       "        <td>checkout</td>\n",
       "        <td>00001</td>\n",
       "        <td>Zoey</td>\n",
       "        <td>active</td>\n",
       "        <td>2017-10-01 08:46:00</td>\n",
       "        <td>32011</td>\n",
       "        <td>Maple &amp; Ritchie Ave</td>\n",
       "    </tr>\n",
       "</table>"
      ],
      "text/plain": [
       "[('W00005', 'checkout', '00001', 'Zoey', 'active', datetime.datetime(2017, 10, 1, 8, 46), '32011', 'Maple & Ritchie Ave')]"
      ]
     },
     "execution_count": 8,
     "metadata": {},
     "output_type": "execute_result"
    }
   ],
   "source": [
    "%%sql\n",
    "SELECT bike.bikeid, goodbike.bikestatus, trace.rider, members.name, members.status, trace.ridedate,startstation,publicname\n",
    "FROM bike\n",
    "LEFT OUTER JOIN goodbike on bike.bikeid=goodbike.bikeid\n",
    "LEFT OUTER JOIN trace ON goodbike.bikeid=trace.bikeid\n",
    "LEFT OUTER JOIN members ON members.memberid=trace.rider\n",
    "LEFT OUTER JOIN key ON key.keyid=members.keyid\n",
    "LEFT OUTER JOIN station ON station.stationid=trace.startstation\n",
    "WHERE bike.bikeid='W00005'"
   ]
  },
  {
   "cell_type": "markdown",
   "metadata": {},
   "source": [
    "#### Summary\n",
    "* This Part 4 helps us to understand how we can manupulate the database by using Update and Insert to record the changes."
   ]
  },
  {
   "cell_type": "markdown",
   "metadata": {},
   "source": [
    "## Part 5 - Queries (20 points)\n",
    "\n",
    "Use SQL SELECT statements to answer the following questions. Use markdown cells to explain your SQL statements and results if needed."
   ]
  },
  {
   "cell_type": "markdown",
   "metadata": {},
   "source": [
    "### Problem 5.1\n",
    "For all members, display their name, membership type (annual, semiannual or monthly, in readable text), membership status (active or expired, boolean value is fine) and the date when the membership expires."
   ]
  },
  {
   "cell_type": "markdown",
   "metadata": {},
   "source": [
    "---\n",
    "* **Select** the columns in the <span style=\"color:#0A9394\">member</span> tables that display the information we needed.   \n",
    "  \n",
    "* **Result** showing that two person are in active status and the other two have expired membership. Three of the member have annual pass. "
   ]
  },
  {
   "cell_type": "code",
   "execution_count": 41,
   "metadata": {},
   "outputs": [
    {
     "name": "stdout",
     "output_type": "stream",
     "text": [
      "4 rows affected.\n"
     ]
    },
    {
     "data": {
      "text/html": [
       "<table>\n",
       "    <tr>\n",
       "        <th>name</th>\n",
       "        <th>membership</th>\n",
       "        <th>status</th>\n",
       "        <th>expiredate</th>\n",
       "    </tr>\n",
       "    <tr>\n",
       "        <td>Zoey</td>\n",
       "        <td>annual</td>\n",
       "        <td>active</td>\n",
       "        <td>2020-01-01 23:59:00</td>\n",
       "    </tr>\n",
       "    <tr>\n",
       "        <td>Jacky</td>\n",
       "        <td>annual</td>\n",
       "        <td>expired</td>\n",
       "        <td>2000-01-01 23:59:00</td>\n",
       "    </tr>\n",
       "    <tr>\n",
       "        <td>Leo</td>\n",
       "        <td>annual</td>\n",
       "        <td>active</td>\n",
       "        <td>2020-01-01 23:59:00</td>\n",
       "    </tr>\n",
       "    <tr>\n",
       "        <td>Charlene</td>\n",
       "        <td>monthly</td>\n",
       "        <td>expired</td>\n",
       "        <td>2000-01-01 23:59:00</td>\n",
       "    </tr>\n",
       "</table>"
      ],
      "text/plain": [
       "[('Zoey', 'annual', 'active', datetime.datetime(2020, 1, 1, 23, 59)),\n",
       " ('Jacky', 'annual', 'expired', datetime.datetime(2000, 1, 1, 23, 59)),\n",
       " ('Leo', 'annual', 'active', datetime.datetime(2020, 1, 1, 23, 59)),\n",
       " ('Charlene', 'monthly', 'expired', datetime.datetime(2000, 1, 1, 23, 59))]"
      ]
     },
     "execution_count": 41,
     "metadata": {},
     "output_type": "execute_result"
    }
   ],
   "source": [
    "%%sql\n",
    "SELECT name, membership, status, expiredate\n",
    "FROM members\n",
    "JOIN key ON members.keyid=key.keyid"
   ]
  },
  {
   "cell_type": "markdown",
   "metadata": {},
   "source": [
    "### Problem 5.2\n",
    "Display the first 10 bikes base on the bike number in ascending order. For each bike, list its status (serviceable or disabled, boolean value is fine), the station name where it is docked at if there is any, the member if the bike is currently checked out, and when it was checked out. Hint: you should see one disabled bike and one checked out bike."
   ]
  },
  {
   "cell_type": "markdown",
   "metadata": {},
   "source": [
    "* In order to display all the information required in this problem, we used ** Left Outer Join** method to attach the different tables together to show the information we needed and select the first 10 bikes in ASC order. The **Result**\n",
    "is showing below. "
   ]
  },
  {
   "cell_type": "code",
   "execution_count": 42,
   "metadata": {},
   "outputs": [
    {
     "name": "stdout",
     "output_type": "stream",
     "text": [
      "10 rows affected.\n"
     ]
    },
    {
     "data": {
      "text/html": [
       "<table>\n",
       "    <tr>\n",
       "        <th>bikeid</th>\n",
       "        <th>serviceable</th>\n",
       "        <th>bikestatus</th>\n",
       "        <th>location</th>\n",
       "        <th>publicname</th>\n",
       "        <th>rider</th>\n",
       "        <th>ridedate</th>\n",
       "    </tr>\n",
       "    <tr>\n",
       "        <td>W00001</td>\n",
       "        <td>True</td>\n",
       "        <td>docked</td>\n",
       "        <td>31301</td>\n",
       "        <td>Ward Circle / American University</td>\n",
       "        <td>None</td>\n",
       "        <td>None</td>\n",
       "    </tr>\n",
       "    <tr>\n",
       "        <td>W00005</td>\n",
       "        <td>True</td>\n",
       "        <td>checkout</td>\n",
       "        <td>None</td>\n",
       "        <td>None</td>\n",
       "        <td>00001</td>\n",
       "        <td>2017-10-01 08:46:00</td>\n",
       "    </tr>\n",
       "    <tr>\n",
       "        <td>W00007</td>\n",
       "        <td>True</td>\n",
       "        <td>docked</td>\n",
       "        <td>31508</td>\n",
       "        <td>Gallaudet / 8th St &amp; Florida Ave NE</td>\n",
       "        <td>None</td>\n",
       "        <td>None</td>\n",
       "    </tr>\n",
       "    <tr>\n",
       "        <td>W00009</td>\n",
       "        <td>True</td>\n",
       "        <td>docked</td>\n",
       "        <td>31912</td>\n",
       "        <td>Mount Vernon Ave &amp; Bruce St</td>\n",
       "        <td>None</td>\n",
       "        <td>None</td>\n",
       "    </tr>\n",
       "    <tr>\n",
       "        <td>W00010</td>\n",
       "        <td>True</td>\n",
       "        <td>docked</td>\n",
       "        <td>31249</td>\n",
       "        <td>Jefferson Memorial</td>\n",
       "        <td>None</td>\n",
       "        <td>None</td>\n",
       "    </tr>\n",
       "    <tr>\n",
       "        <td>W00011</td>\n",
       "        <td>False</td>\n",
       "        <td>None</td>\n",
       "        <td>None</td>\n",
       "        <td>None</td>\n",
       "        <td>None</td>\n",
       "        <td>None</td>\n",
       "    </tr>\n",
       "    <tr>\n",
       "        <td>W00012</td>\n",
       "        <td>True</td>\n",
       "        <td>docked</td>\n",
       "        <td>31902</td>\n",
       "        <td>Wilson Blvd &amp; N Illinois St</td>\n",
       "        <td>None</td>\n",
       "        <td>None</td>\n",
       "    </tr>\n",
       "    <tr>\n",
       "        <td>W00013</td>\n",
       "        <td>True</td>\n",
       "        <td>docked</td>\n",
       "        <td>31914</td>\n",
       "        <td>Lee Center</td>\n",
       "        <td>None</td>\n",
       "        <td>None</td>\n",
       "    </tr>\n",
       "    <tr>\n",
       "        <td>W00014</td>\n",
       "        <td>True</td>\n",
       "        <td>docked</td>\n",
       "        <td>31902</td>\n",
       "        <td>Wilson Blvd &amp; N Illinois St</td>\n",
       "        <td>None</td>\n",
       "        <td>None</td>\n",
       "    </tr>\n",
       "    <tr>\n",
       "        <td>W00015</td>\n",
       "        <td>True</td>\n",
       "        <td>docked</td>\n",
       "        <td>31043</td>\n",
       "        <td>Saint Asaph St &amp; Pendleton  St</td>\n",
       "        <td>None</td>\n",
       "        <td>None</td>\n",
       "    </tr>\n",
       "</table>"
      ],
      "text/plain": [
       "[('W00001', True, 'docked', '31301', 'Ward Circle / American University', None, None),\n",
       " ('W00005', True, 'checkout', None, None, '00001', datetime.datetime(2017, 10, 1, 8, 46)),\n",
       " ('W00007', True, 'docked', '31508', 'Gallaudet / 8th St & Florida Ave NE', None, None),\n",
       " ('W00009', True, 'docked', '31912', 'Mount Vernon Ave & Bruce St', None, None),\n",
       " ('W00010', True, 'docked', '31249', 'Jefferson Memorial', None, None),\n",
       " ('W00011', False, None, None, None, None, None),\n",
       " ('W00012', True, 'docked', '31902', 'Wilson Blvd & N Illinois St', None, None),\n",
       " ('W00013', True, 'docked', '31914', 'Lee Center', None, None),\n",
       " ('W00014', True, 'docked', '31902', 'Wilson Blvd & N Illinois St', None, None),\n",
       " ('W00015', True, 'docked', '31043', 'Saint Asaph St & Pendleton  St', None, None)]"
      ]
     },
     "execution_count": 42,
     "metadata": {},
     "output_type": "execute_result"
    }
   ],
   "source": [
    "%%sql\n",
    "SELECT bike.bikeid, serviceable, bikestatus, location, station.publicname, rider, ridedate\n",
    "FROM bike\n",
    "LEFT OUTER JOIN goodbike ON bike.bikeid=goodbike.bikeid\n",
    "LEFT OUTER JOIN trace ON trace.bikeid=goodbike.bikeid\n",
    "LEFT OUTER JOIN station ON station.stationid=goodbike.location\n",
    "ORDER BY bike.bikeid ASC\n",
    "LIMIT 10"
   ]
  },
  {
   "cell_type": "markdown",
   "metadata": {},
   "source": [
    "### Problem 5.3\n",
    "Display the top 10 stations which currently have the most bikes docked. For each station, list the station name and the total number of bikes docked there."
   ]
  },
  {
   "cell_type": "markdown",
   "metadata": {},
   "source": [
    "* **Steps:** To find the most bikes docked, we need to count the bikeid in different stations first, and then we need to join the station table with  the new 'goodbike' table to showing the result that how many bikes are docked in the different station. \n",
    "  \n",
    "* The **result** as follow denote that top ten stations have the most bikes docked from this data."
   ]
  },
  {
   "cell_type": "code",
   "execution_count": 43,
   "metadata": {},
   "outputs": [
    {
     "name": "stdout",
     "output_type": "stream",
     "text": [
      "10 rows affected.\n"
     ]
    },
    {
     "data": {
      "text/html": [
       "<table>\n",
       "    <tr>\n",
       "        <th>publicname</th>\n",
       "        <th>total number of bikes docked</th>\n",
       "    </tr>\n",
       "    <tr>\n",
       "        <td>Columbus Circle / Union Station</td>\n",
       "        <td>49</td>\n",
       "    </tr>\n",
       "    <tr>\n",
       "        <td>14th &amp; V St NW</td>\n",
       "        <td>41</td>\n",
       "    </tr>\n",
       "    <tr>\n",
       "        <td>2nd &amp; G St NE</td>\n",
       "        <td>36</td>\n",
       "    </tr>\n",
       "    <tr>\n",
       "        <td>13th &amp; D St NE</td>\n",
       "        <td>33</td>\n",
       "    </tr>\n",
       "    <tr>\n",
       "        <td>12th &amp; U St NW</td>\n",
       "        <td>32</td>\n",
       "    </tr>\n",
       "    <tr>\n",
       "        <td>11th &amp; Kenyon St NW</td>\n",
       "        <td>29</td>\n",
       "    </tr>\n",
       "    <tr>\n",
       "        <td>1st &amp; N St  SE</td>\n",
       "        <td>28</td>\n",
       "    </tr>\n",
       "    <tr>\n",
       "        <td>6th &amp; H St NE</td>\n",
       "        <td>27</td>\n",
       "    </tr>\n",
       "    <tr>\n",
       "        <td>4th &amp; M St SW</td>\n",
       "        <td>27</td>\n",
       "    </tr>\n",
       "    <tr>\n",
       "        <td>13th &amp; H St NE</td>\n",
       "        <td>27</td>\n",
       "    </tr>\n",
       "</table>"
      ],
      "text/plain": [
       "[('Columbus Circle / Union Station', 49),\n",
       " ('14th & V St NW', 41),\n",
       " ('2nd & G St NE', 36),\n",
       " ('13th & D St NE', 33),\n",
       " ('12th & U St NW', 32),\n",
       " ('11th & Kenyon St NW', 29),\n",
       " ('1st & N St  SE', 28),\n",
       " ('6th & H St NE', 27),\n",
       " ('4th & M St SW', 27),\n",
       " ('13th & H St NE', 27)]"
      ]
     },
     "execution_count": 43,
     "metadata": {},
     "output_type": "execute_result"
    }
   ],
   "source": [
    "%%sql\n",
    "SELECT publicname, COUNT(bikeid) as \"total number of bikes docked\"\n",
    "FROM goodbike\n",
    "JOIN station ON goodbike.location=station.stationid\n",
    "WHERE location IS NOT NULL\n",
    "GROUP BY publicname\n",
    "ORDER BY COUNT(bikeid) DESC\n",
    "LIMIT 10;"
   ]
  },
  {
   "cell_type": "markdown",
   "metadata": {},
   "source": [
    "### Problem 5.4\n",
    "Display the first 10 stations based on their names in ascending order. For each station, list station name and the number of available docking points accepting bike returns. Verify the numbers are correct."
   ]
  },
  {
   "cell_type": "markdown",
   "metadata": {},
   "source": [
    "* **Steps:** To calculate the available docking points, we need to use the station's capacitu minus the docked bike number and then documenated them into a new column.\n",
    "  \n",
    "* The **result** as follow displays that top ten stations in names ascending order with the available docking points accepting bike returns."
   ]
  },
  {
   "cell_type": "code",
   "execution_count": 44,
   "metadata": {},
   "outputs": [
    {
     "name": "stdout",
     "output_type": "stream",
     "text": [
      "10 rows affected.\n"
     ]
    },
    {
     "data": {
      "text/html": [
       "<table>\n",
       "    <tr>\n",
       "        <th>publicname</th>\n",
       "        <th>capacity</th>\n",
       "        <th>bikenumber</th>\n",
       "        <th>available</th>\n",
       "    </tr>\n",
       "    <tr>\n",
       "        <td>10th &amp; E St NW</td>\n",
       "        <td>17</td>\n",
       "        <td>15</td>\n",
       "        <td>2</td>\n",
       "    </tr>\n",
       "    <tr>\n",
       "        <td>10th &amp; Florida Ave NW</td>\n",
       "        <td>21</td>\n",
       "        <td>16</td>\n",
       "        <td>5</td>\n",
       "    </tr>\n",
       "    <tr>\n",
       "        <td>10th &amp; G St NW</td>\n",
       "        <td>14</td>\n",
       "        <td>6</td>\n",
       "        <td>8</td>\n",
       "    </tr>\n",
       "    <tr>\n",
       "        <td>10th &amp; K St NW</td>\n",
       "        <td>14</td>\n",
       "        <td>8</td>\n",
       "        <td>6</td>\n",
       "    </tr>\n",
       "    <tr>\n",
       "        <td>10th &amp; Monroe St NE</td>\n",
       "        <td>3</td>\n",
       "        <td>1</td>\n",
       "        <td>2</td>\n",
       "    </tr>\n",
       "    <tr>\n",
       "        <td>10th St &amp; Constitution Ave NW</td>\n",
       "        <td>13</td>\n",
       "        <td>8</td>\n",
       "        <td>5</td>\n",
       "    </tr>\n",
       "    <tr>\n",
       "        <td>10th St &amp; L&#x27;Enfant Plaza SW</td>\n",
       "        <td>8</td>\n",
       "        <td>1</td>\n",
       "        <td>7</td>\n",
       "    </tr>\n",
       "    <tr>\n",
       "        <td>10th &amp; U St NW</td>\n",
       "        <td>17</td>\n",
       "        <td>15</td>\n",
       "        <td>2</td>\n",
       "    </tr>\n",
       "    <tr>\n",
       "        <td>11th &amp; F St NW</td>\n",
       "        <td>8</td>\n",
       "        <td>6</td>\n",
       "        <td>2</td>\n",
       "    </tr>\n",
       "    <tr>\n",
       "        <td>11th &amp; H St NE</td>\n",
       "        <td>23</td>\n",
       "        <td>20</td>\n",
       "        <td>3</td>\n",
       "    </tr>\n",
       "</table>"
      ],
      "text/plain": [
       "[('10th & E St NW', 17, 15, 2),\n",
       " ('10th & Florida Ave NW', 21, 16, 5),\n",
       " ('10th & G St NW', 14, 6, 8),\n",
       " ('10th & K St NW', 14, 8, 6),\n",
       " ('10th & Monroe St NE', 3, 1, 2),\n",
       " ('10th St & Constitution Ave NW', 13, 8, 5),\n",
       " (\"10th St & L'Enfant Plaza SW\", 8, 1, 7),\n",
       " ('10th & U St NW', 17, 15, 2),\n",
       " ('11th & F St NW', 8, 6, 2),\n",
       " ('11th & H St NE', 23, 20, 3)]"
      ]
     },
     "execution_count": 44,
     "metadata": {},
     "output_type": "execute_result"
    }
   ],
   "source": [
    "%%sql\n",
    "SELECT publicname,capacity,COUNT(bikeid) AS bikenumber,(capacity-COUNT(bikeid)) AS available\n",
    "FROM (goodbike JOIN station ON goodbike.location = station.stationid)\n",
    "WHERE location is NOT NULL\n",
    "GROUP BY publicname,capacity\n",
    "ORDER BY publicname ASC\n",
    "LIMIT 10"
   ]
  },
  {
   "cell_type": "markdown",
   "metadata": {},
   "source": [
    "### <table><tr><td bgcolor=#D1EEEE><font face=\"Cursive\"><font color=\"#660000\"><font size=\"10\">Thank you for reviewing this notebook.</font></span></td></tr></table>"
   ]
  },
  {
   "cell_type": "markdown",
   "metadata": {},
   "source": [
    "Group Work: Yuying Zhou (Main coding), Minxuan Chen (Main Coding), Huilin Cai(Decision Design), Yuxuan Liu(Main comments). Everybody has brought their efforts in every parts together."
   ]
  }
 ],
 "metadata": {
  "anaconda-cloud": {},
  "kernelspec": {
   "display_name": "Python 3",
   "language": "python",
   "name": "python3"
  },
  "language_info": {
   "codemirror_mode": {
    "name": "ipython",
    "version": 3
   },
   "file_extension": ".py",
   "mimetype": "text/x-python",
   "name": "python",
   "nbconvert_exporter": "python",
   "pygments_lexer": "ipython3",
   "version": "3.5.3"
  }
 },
 "nbformat": 4,
 "nbformat_minor": 1
}
