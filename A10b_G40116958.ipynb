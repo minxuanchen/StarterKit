{
 "cells": [
  {
   "cell_type": "markdown",
   "metadata": {},
   "source": [
    "Load modules:"
   ]
  },
  {
   "cell_type": "code",
   "execution_count": 1,
   "metadata": {
    "collapsed": true
   },
   "outputs": [],
   "source": [
    "import pandas as pd\n",
    "import numpy as np\n",
    "from sklearn import linear_model\n",
    "from sklearn import preprocessing"
   ]
  },
  {
   "cell_type": "markdown",
   "metadata": {},
   "source": [
    "Load data:"
   ]
  },
  {
   "cell_type": "code",
   "execution_count": 2,
   "metadata": {
    "scrolled": true
   },
   "outputs": [
    {
     "name": "stderr",
     "output_type": "stream",
     "text": [
      "/home/ubuntu/.local/lib/python3.5/site-packages/IPython/core/interactiveshell.py:2698: DtypeWarning: Columns (8,9,10,11,12,43,157,196,214,225,228,229,231,235,238) have mixed types. Specify dtype option on import or set low_memory=False.\n",
      "  interactivity=interactivity, compiler=compiler, result=result)\n"
     ]
    }
   ],
   "source": [
    "train=pd.read_csv('train.csv',sep=',',header=0,index_col=0)"
   ]
  },
  {
   "cell_type": "code",
   "execution_count": 3,
   "metadata": {},
   "outputs": [
    {
     "name": "stderr",
     "output_type": "stream",
     "text": [
      "/home/ubuntu/.local/lib/python3.5/site-packages/IPython/core/interactiveshell.py:2698: DtypeWarning: Columns (8,9,10,11,12,43,157,167,177,196,214,225,228,229,231,235,238) have mixed types. Specify dtype option on import or set low_memory=False.\n",
      "  interactivity=interactivity, compiler=compiler, result=result)\n"
     ]
    }
   ],
   "source": [
    "test=pd.read_csv('test.csv',sep=',',header=0,index_col=0)"
   ]
  },
  {
   "cell_type": "markdown",
   "metadata": {},
   "source": [
    "Verify results:"
   ]
  },
  {
   "cell_type": "code",
   "execution_count": 4,
   "metadata": {},
   "outputs": [
    {
     "data": {
      "text/plain": [
       "145231"
      ]
     },
     "execution_count": 4,
     "metadata": {},
     "output_type": "execute_result"
    }
   ],
   "source": [
    "len(train)"
   ]
  },
  {
   "cell_type": "code",
   "execution_count": 5,
   "metadata": {},
   "outputs": [
    {
     "data": {
      "text/plain": [
       "145232"
      ]
     },
     "execution_count": 5,
     "metadata": {},
     "output_type": "execute_result"
    }
   ],
   "source": [
    "len(test)"
   ]
  },
  {
   "cell_type": "code",
   "execution_count": 6,
   "metadata": {
    "scrolled": true
   },
   "outputs": [
    {
     "data": {
      "text/html": [
       "<div>\n",
       "<style>\n",
       "    .dataframe thead tr:only-child th {\n",
       "        text-align: right;\n",
       "    }\n",
       "\n",
       "    .dataframe thead th {\n",
       "        text-align: left;\n",
       "    }\n",
       "\n",
       "    .dataframe tbody tr th {\n",
       "        vertical-align: top;\n",
       "    }\n",
       "</style>\n",
       "<table border=\"1\" class=\"dataframe\">\n",
       "  <thead>\n",
       "    <tr style=\"text-align: right;\">\n",
       "      <th></th>\n",
       "      <th>VAR_0002</th>\n",
       "      <th>VAR_0003</th>\n",
       "      <th>VAR_0004</th>\n",
       "      <th>VAR_0006</th>\n",
       "      <th>VAR_0007</th>\n",
       "      <th>VAR_0013</th>\n",
       "      <th>VAR_0014</th>\n",
       "      <th>VAR_0015</th>\n",
       "      <th>VAR_0016</th>\n",
       "      <th>VAR_0017</th>\n",
       "      <th>...</th>\n",
       "      <th>VAR_1925</th>\n",
       "      <th>VAR_1926</th>\n",
       "      <th>VAR_1927</th>\n",
       "      <th>VAR_1928</th>\n",
       "      <th>VAR_1929</th>\n",
       "      <th>VAR_1930</th>\n",
       "      <th>VAR_1931</th>\n",
       "      <th>VAR_1932</th>\n",
       "      <th>VAR_1933</th>\n",
       "      <th>target</th>\n",
       "    </tr>\n",
       "  </thead>\n",
       "  <tbody>\n",
       "    <tr>\n",
       "      <th>count</th>\n",
       "      <td>145231.000000</td>\n",
       "      <td>145231.000000</td>\n",
       "      <td>1.452310e+05</td>\n",
       "      <td>145175.000000</td>\n",
       "      <td>145175.00000</td>\n",
       "      <td>145175.000000</td>\n",
       "      <td>145175.000000</td>\n",
       "      <td>145175.000000</td>\n",
       "      <td>145175.000000</td>\n",
       "      <td>145175.000000</td>\n",
       "      <td>...</td>\n",
       "      <td>145231.000000</td>\n",
       "      <td>145231.000000</td>\n",
       "      <td>145231.000000</td>\n",
       "      <td>145231.000000</td>\n",
       "      <td>1.452310e+05</td>\n",
       "      <td>145231.000000</td>\n",
       "      <td>145231.000000</td>\n",
       "      <td>145231.000000</td>\n",
       "      <td>145231.000000</td>\n",
       "      <td>145231.000000</td>\n",
       "    </tr>\n",
       "    <tr>\n",
       "      <th>mean</th>\n",
       "      <td>105.278040</td>\n",
       "      <td>88.492285</td>\n",
       "      <td>3.721946e+03</td>\n",
       "      <td>0.693907</td>\n",
       "      <td>0.51316</td>\n",
       "      <td>0.693907</td>\n",
       "      <td>0.494493</td>\n",
       "      <td>0.476763</td>\n",
       "      <td>1.447598</td>\n",
       "      <td>0.496366</td>\n",
       "      <td>...</td>\n",
       "      <td>0.549965</td>\n",
       "      <td>86.664369</td>\n",
       "      <td>89.828762</td>\n",
       "      <td>914.417259</td>\n",
       "      <td>9.904497e+08</td>\n",
       "      <td>922.938505</td>\n",
       "      <td>936.487905</td>\n",
       "      <td>9942.162279</td>\n",
       "      <td>8849.839111</td>\n",
       "      <td>0.232547</td>\n",
       "    </tr>\n",
       "    <tr>\n",
       "      <th>std</th>\n",
       "      <td>143.351237</td>\n",
       "      <td>125.903323</td>\n",
       "      <td>1.228001e+04</td>\n",
       "      <td>1.604578</td>\n",
       "      <td>1.17531</td>\n",
       "      <td>1.604578</td>\n",
       "      <td>1.115085</td>\n",
       "      <td>1.000755</td>\n",
       "      <td>1.132784</td>\n",
       "      <td>1.170568</td>\n",
       "      <td>...</td>\n",
       "      <td>6.361312</td>\n",
       "      <td>31.347700</td>\n",
       "      <td>26.928221</td>\n",
       "      <td>276.361514</td>\n",
       "      <td>9.725818e+07</td>\n",
       "      <td>212.087416</td>\n",
       "      <td>210.370833</td>\n",
       "      <td>743.153332</td>\n",
       "      <td>3175.797333</td>\n",
       "      <td>0.422457</td>\n",
       "    </tr>\n",
       "    <tr>\n",
       "      <th>min</th>\n",
       "      <td>0.000000</td>\n",
       "      <td>0.000000</td>\n",
       "      <td>0.000000e+00</td>\n",
       "      <td>0.000000</td>\n",
       "      <td>0.00000</td>\n",
       "      <td>0.000000</td>\n",
       "      <td>0.000000</td>\n",
       "      <td>0.000000</td>\n",
       "      <td>0.000000</td>\n",
       "      <td>0.000000</td>\n",
       "      <td>...</td>\n",
       "      <td>0.000000</td>\n",
       "      <td>0.000000</td>\n",
       "      <td>0.000000</td>\n",
       "      <td>0.000000</td>\n",
       "      <td>0.000000e+00</td>\n",
       "      <td>1.000000</td>\n",
       "      <td>0.000000</td>\n",
       "      <td>0.000000</td>\n",
       "      <td>0.000000</td>\n",
       "      <td>0.000000</td>\n",
       "    </tr>\n",
       "    <tr>\n",
       "      <th>25%</th>\n",
       "      <td>24.000000</td>\n",
       "      <td>13.000000</td>\n",
       "      <td>1.790000e+03</td>\n",
       "      <td>0.000000</td>\n",
       "      <td>0.00000</td>\n",
       "      <td>0.000000</td>\n",
       "      <td>0.000000</td>\n",
       "      <td>0.000000</td>\n",
       "      <td>1.000000</td>\n",
       "      <td>0.000000</td>\n",
       "      <td>...</td>\n",
       "      <td>0.000000</td>\n",
       "      <td>98.000000</td>\n",
       "      <td>98.000000</td>\n",
       "      <td>998.000000</td>\n",
       "      <td>1.000000e+09</td>\n",
       "      <td>998.000000</td>\n",
       "      <td>998.000000</td>\n",
       "      <td>9998.000000</td>\n",
       "      <td>9998.000000</td>\n",
       "      <td>0.000000</td>\n",
       "    </tr>\n",
       "    <tr>\n",
       "      <th>50%</th>\n",
       "      <td>60.000000</td>\n",
       "      <td>55.000000</td>\n",
       "      <td>2.500000e+03</td>\n",
       "      <td>0.000000</td>\n",
       "      <td>0.00000</td>\n",
       "      <td>0.000000</td>\n",
       "      <td>0.000000</td>\n",
       "      <td>0.000000</td>\n",
       "      <td>1.000000</td>\n",
       "      <td>0.000000</td>\n",
       "      <td>...</td>\n",
       "      <td>0.000000</td>\n",
       "      <td>98.000000</td>\n",
       "      <td>98.000000</td>\n",
       "      <td>998.000000</td>\n",
       "      <td>1.000000e+09</td>\n",
       "      <td>998.000000</td>\n",
       "      <td>998.000000</td>\n",
       "      <td>9998.000000</td>\n",
       "      <td>9998.000000</td>\n",
       "      <td>0.000000</td>\n",
       "    </tr>\n",
       "    <tr>\n",
       "      <th>75%</th>\n",
       "      <td>132.000000</td>\n",
       "      <td>120.000000</td>\n",
       "      <td>3.600000e+03</td>\n",
       "      <td>1.000000</td>\n",
       "      <td>1.00000</td>\n",
       "      <td>1.000000</td>\n",
       "      <td>1.000000</td>\n",
       "      <td>1.000000</td>\n",
       "      <td>1.000000</td>\n",
       "      <td>0.000000</td>\n",
       "      <td>...</td>\n",
       "      <td>0.000000</td>\n",
       "      <td>98.000000</td>\n",
       "      <td>98.000000</td>\n",
       "      <td>998.000000</td>\n",
       "      <td>1.000000e+09</td>\n",
       "      <td>998.000000</td>\n",
       "      <td>998.000000</td>\n",
       "      <td>9998.000000</td>\n",
       "      <td>9998.000000</td>\n",
       "      <td>0.000000</td>\n",
       "    </tr>\n",
       "    <tr>\n",
       "      <th>max</th>\n",
       "      <td>999.000000</td>\n",
       "      <td>999.000000</td>\n",
       "      <td>2.200000e+06</td>\n",
       "      <td>68.000000</td>\n",
       "      <td>66.00000</td>\n",
       "      <td>68.000000</td>\n",
       "      <td>67.000000</td>\n",
       "      <td>35.000000</td>\n",
       "      <td>39.000000</td>\n",
       "      <td>26.000000</td>\n",
       "      <td>...</td>\n",
       "      <td>99.000000</td>\n",
       "      <td>99.000000</td>\n",
       "      <td>99.000000</td>\n",
       "      <td>999.000000</td>\n",
       "      <td>1.000000e+09</td>\n",
       "      <td>999.000000</td>\n",
       "      <td>999.000000</td>\n",
       "      <td>9999.000000</td>\n",
       "      <td>9999.000000</td>\n",
       "      <td>1.000000</td>\n",
       "    </tr>\n",
       "  </tbody>\n",
       "</table>\n",
       "<p>8 rows × 1882 columns</p>\n",
       "</div>"
      ],
      "text/plain": [
       "            VAR_0002       VAR_0003      VAR_0004       VAR_0006  \\\n",
       "count  145231.000000  145231.000000  1.452310e+05  145175.000000   \n",
       "mean      105.278040      88.492285  3.721946e+03       0.693907   \n",
       "std       143.351237     125.903323  1.228001e+04       1.604578   \n",
       "min         0.000000       0.000000  0.000000e+00       0.000000   \n",
       "25%        24.000000      13.000000  1.790000e+03       0.000000   \n",
       "50%        60.000000      55.000000  2.500000e+03       0.000000   \n",
       "75%       132.000000     120.000000  3.600000e+03       1.000000   \n",
       "max       999.000000     999.000000  2.200000e+06      68.000000   \n",
       "\n",
       "           VAR_0007       VAR_0013       VAR_0014       VAR_0015  \\\n",
       "count  145175.00000  145175.000000  145175.000000  145175.000000   \n",
       "mean        0.51316       0.693907       0.494493       0.476763   \n",
       "std         1.17531       1.604578       1.115085       1.000755   \n",
       "min         0.00000       0.000000       0.000000       0.000000   \n",
       "25%         0.00000       0.000000       0.000000       0.000000   \n",
       "50%         0.00000       0.000000       0.000000       0.000000   \n",
       "75%         1.00000       1.000000       1.000000       1.000000   \n",
       "max        66.00000      68.000000      67.000000      35.000000   \n",
       "\n",
       "            VAR_0016       VAR_0017      ...             VAR_1925  \\\n",
       "count  145175.000000  145175.000000      ...        145231.000000   \n",
       "mean        1.447598       0.496366      ...             0.549965   \n",
       "std         1.132784       1.170568      ...             6.361312   \n",
       "min         0.000000       0.000000      ...             0.000000   \n",
       "25%         1.000000       0.000000      ...             0.000000   \n",
       "50%         1.000000       0.000000      ...             0.000000   \n",
       "75%         1.000000       0.000000      ...             0.000000   \n",
       "max        39.000000      26.000000      ...            99.000000   \n",
       "\n",
       "            VAR_1926       VAR_1927       VAR_1928      VAR_1929  \\\n",
       "count  145231.000000  145231.000000  145231.000000  1.452310e+05   \n",
       "mean       86.664369      89.828762     914.417259  9.904497e+08   \n",
       "std        31.347700      26.928221     276.361514  9.725818e+07   \n",
       "min         0.000000       0.000000       0.000000  0.000000e+00   \n",
       "25%        98.000000      98.000000     998.000000  1.000000e+09   \n",
       "50%        98.000000      98.000000     998.000000  1.000000e+09   \n",
       "75%        98.000000      98.000000     998.000000  1.000000e+09   \n",
       "max        99.000000      99.000000     999.000000  1.000000e+09   \n",
       "\n",
       "            VAR_1930       VAR_1931       VAR_1932       VAR_1933  \\\n",
       "count  145231.000000  145231.000000  145231.000000  145231.000000   \n",
       "mean      922.938505     936.487905    9942.162279    8849.839111   \n",
       "std       212.087416     210.370833     743.153332    3175.797333   \n",
       "min         1.000000       0.000000       0.000000       0.000000   \n",
       "25%       998.000000     998.000000    9998.000000    9998.000000   \n",
       "50%       998.000000     998.000000    9998.000000    9998.000000   \n",
       "75%       998.000000     998.000000    9998.000000    9998.000000   \n",
       "max       999.000000     999.000000    9999.000000    9999.000000   \n",
       "\n",
       "              target  \n",
       "count  145231.000000  \n",
       "mean        0.232547  \n",
       "std         0.422457  \n",
       "min         0.000000  \n",
       "25%         0.000000  \n",
       "50%         0.000000  \n",
       "75%         0.000000  \n",
       "max         1.000000  \n",
       "\n",
       "[8 rows x 1882 columns]"
      ]
     },
     "execution_count": 6,
     "metadata": {},
     "output_type": "execute_result"
    }
   ],
   "source": [
    "train.describe()"
   ]
  },
  {
   "cell_type": "code",
   "execution_count": 7,
   "metadata": {
    "scrolled": false
   },
   "outputs": [
    {
     "data": {
      "text/html": [
       "<div>\n",
       "<style>\n",
       "    .dataframe thead tr:only-child th {\n",
       "        text-align: right;\n",
       "    }\n",
       "\n",
       "    .dataframe thead th {\n",
       "        text-align: left;\n",
       "    }\n",
       "\n",
       "    .dataframe tbody tr th {\n",
       "        vertical-align: top;\n",
       "    }\n",
       "</style>\n",
       "<table border=\"1\" class=\"dataframe\">\n",
       "  <thead>\n",
       "    <tr style=\"text-align: right;\">\n",
       "      <th></th>\n",
       "      <th>VAR_0001</th>\n",
       "      <th>VAR_0002</th>\n",
       "      <th>VAR_0003</th>\n",
       "      <th>VAR_0004</th>\n",
       "      <th>VAR_0005</th>\n",
       "      <th>VAR_0006</th>\n",
       "      <th>VAR_0007</th>\n",
       "      <th>VAR_0008</th>\n",
       "      <th>VAR_0009</th>\n",
       "      <th>VAR_0010</th>\n",
       "      <th>...</th>\n",
       "      <th>VAR_1926</th>\n",
       "      <th>VAR_1927</th>\n",
       "      <th>VAR_1928</th>\n",
       "      <th>VAR_1929</th>\n",
       "      <th>VAR_1930</th>\n",
       "      <th>VAR_1931</th>\n",
       "      <th>VAR_1932</th>\n",
       "      <th>VAR_1933</th>\n",
       "      <th>VAR_1934</th>\n",
       "      <th>target</th>\n",
       "    </tr>\n",
       "    <tr>\n",
       "      <th>ID</th>\n",
       "      <th></th>\n",
       "      <th></th>\n",
       "      <th></th>\n",
       "      <th></th>\n",
       "      <th></th>\n",
       "      <th></th>\n",
       "      <th></th>\n",
       "      <th></th>\n",
       "      <th></th>\n",
       "      <th></th>\n",
       "      <th></th>\n",
       "      <th></th>\n",
       "      <th></th>\n",
       "      <th></th>\n",
       "      <th></th>\n",
       "      <th></th>\n",
       "      <th></th>\n",
       "      <th></th>\n",
       "      <th></th>\n",
       "      <th></th>\n",
       "      <th></th>\n",
       "    </tr>\n",
       "  </thead>\n",
       "  <tbody>\n",
       "    <tr>\n",
       "      <th>2</th>\n",
       "      <td>H</td>\n",
       "      <td>224</td>\n",
       "      <td>0</td>\n",
       "      <td>4300</td>\n",
       "      <td>C</td>\n",
       "      <td>0.0</td>\n",
       "      <td>0.0</td>\n",
       "      <td>False</td>\n",
       "      <td>False</td>\n",
       "      <td>False</td>\n",
       "      <td>...</td>\n",
       "      <td>98</td>\n",
       "      <td>98</td>\n",
       "      <td>998</td>\n",
       "      <td>999999998</td>\n",
       "      <td>998</td>\n",
       "      <td>998</td>\n",
       "      <td>9998</td>\n",
       "      <td>9998</td>\n",
       "      <td>IAPS</td>\n",
       "      <td>0</td>\n",
       "    </tr>\n",
       "  </tbody>\n",
       "</table>\n",
       "<p>1 rows × 1933 columns</p>\n",
       "</div>"
      ],
      "text/plain": [
       "   VAR_0001  VAR_0002  VAR_0003  VAR_0004 VAR_0005  VAR_0006  VAR_0007  \\\n",
       "ID                                                                       \n",
       "2         H       224         0      4300        C       0.0       0.0   \n",
       "\n",
       "   VAR_0008 VAR_0009 VAR_0010   ...   VAR_1926 VAR_1927  VAR_1928   VAR_1929  \\\n",
       "ID                              ...                                            \n",
       "2     False    False    False   ...         98       98       998  999999998   \n",
       "\n",
       "    VAR_1930  VAR_1931  VAR_1932  VAR_1933  VAR_1934  target  \n",
       "ID                                                            \n",
       "2        998       998      9998      9998      IAPS       0  \n",
       "\n",
       "[1 rows x 1933 columns]"
      ]
     },
     "execution_count": 7,
     "metadata": {},
     "output_type": "execute_result"
    }
   ],
   "source": [
    "train.head(1)"
   ]
  },
  {
   "cell_type": "code",
   "execution_count": 8,
   "metadata": {
    "scrolled": true
   },
   "outputs": [
    {
     "data": {
      "text/plain": [
       "VAR_0001     object\n",
       "VAR_0002      int64\n",
       "VAR_0003      int64\n",
       "VAR_0004      int64\n",
       "VAR_0005     object\n",
       "VAR_0006    float64\n",
       "VAR_0007    float64\n",
       "VAR_0008     object\n",
       "VAR_0009     object\n",
       "VAR_0010     object\n",
       "VAR_0011     object\n",
       "VAR_0012     object\n",
       "VAR_0013    float64\n",
       "VAR_0014    float64\n",
       "VAR_0015    float64\n",
       "VAR_0016    float64\n",
       "VAR_0017    float64\n",
       "VAR_0018    float64\n",
       "VAR_0019    float64\n",
       "VAR_0020    float64\n",
       "VAR_0021    float64\n",
       "VAR_0022    float64\n",
       "VAR_0023    float64\n",
       "VAR_0024    float64\n",
       "VAR_0025    float64\n",
       "VAR_0026    float64\n",
       "VAR_0027    float64\n",
       "VAR_0028    float64\n",
       "VAR_0029    float64\n",
       "VAR_0030    float64\n",
       "             ...   \n",
       "VAR_1906      int64\n",
       "VAR_1907      int64\n",
       "VAR_1908      int64\n",
       "VAR_1909      int64\n",
       "VAR_1910      int64\n",
       "VAR_1911      int64\n",
       "VAR_1912      int64\n",
       "VAR_1913      int64\n",
       "VAR_1914      int64\n",
       "VAR_1915      int64\n",
       "VAR_1916      int64\n",
       "VAR_1917      int64\n",
       "VAR_1918      int64\n",
       "VAR_1919      int64\n",
       "VAR_1920      int64\n",
       "VAR_1921      int64\n",
       "VAR_1922      int64\n",
       "VAR_1923      int64\n",
       "VAR_1924      int64\n",
       "VAR_1925      int64\n",
       "VAR_1926      int64\n",
       "VAR_1927      int64\n",
       "VAR_1928      int64\n",
       "VAR_1929      int64\n",
       "VAR_1930      int64\n",
       "VAR_1931      int64\n",
       "VAR_1932      int64\n",
       "VAR_1933      int64\n",
       "VAR_1934     object\n",
       "target        int64\n",
       "Length: 1933, dtype: object"
      ]
     },
     "execution_count": 8,
     "metadata": {},
     "output_type": "execute_result"
    }
   ],
   "source": [
    "train.dtypes"
   ]
  },
  {
   "cell_type": "markdown",
   "metadata": {},
   "source": [
    "Deal with missing values:"
   ]
  },
  {
   "cell_type": "code",
   "execution_count": null,
   "metadata": {
    "collapsed": true,
    "scrolled": true
   },
   "outputs": [],
   "source": [
    "train=train.fillna(0)\n",
    "test=test.fillna(0)"
   ]
  },
  {
   "cell_type": "markdown",
   "metadata": {},
   "source": [
    "Prepare model fit data:"
   ]
  },
  {
   "cell_type": "code",
   "execution_count": 9,
   "metadata": {
    "collapsed": true
   },
   "outputs": [],
   "source": [
    "yfit=train[\"target\"]"
   ]
  },
  {
   "cell_type": "code",
   "execution_count": 10,
   "metadata": {
    "collapsed": true
   },
   "outputs": [],
   "source": [
    "train.drop(\"target\",axis=1,inplace=True)"
   ]
  },
  {
   "cell_type": "code",
   "execution_count": 11,
   "metadata": {},
   "outputs": [
    {
     "name": "stdout",
     "output_type": "stream",
     "text": [
      "Index(['VAR_0001', 'VAR_0002', 'VAR_0003', 'VAR_0004', 'VAR_0005', 'VAR_0006',\n",
      "       'VAR_0007', 'VAR_0008', 'VAR_0009', 'VAR_0010',\n",
      "       ...\n",
      "       'VAR_1925', 'VAR_1926', 'VAR_1927', 'VAR_1928', 'VAR_1929', 'VAR_1930',\n",
      "       'VAR_1931', 'VAR_1932', 'VAR_1933', 'VAR_1934'],\n",
      "      dtype='object', length=1932)\n"
     ]
    }
   ],
   "source": [
    "print(train.columns)"
   ]
  },
  {
   "cell_type": "code",
   "execution_count": 12,
   "metadata": {},
   "outputs": [
    {
     "name": "stdout",
     "output_type": "stream",
     "text": [
      "(145231, 1932)\n",
      "(145232, 1932)\n"
     ]
    }
   ],
   "source": [
    "print(train.shape)\n",
    "print(test.shape)"
   ]
  },
  {
   "cell_type": "markdown",
   "metadata": {},
   "source": [
    "Label encode catagorical data:"
   ]
  },
  {
   "cell_type": "code",
   "execution_count": 13,
   "metadata": {
    "collapsed": true
   },
   "outputs": [],
   "source": [
    "alldata=pd.concat([train,test],axis=0,ignore_index=True)"
   ]
  },
  {
   "cell_type": "code",
   "execution_count": 14,
   "metadata": {
    "scrolled": true
   },
   "outputs": [],
   "source": [
    "catdata=alldata.select_dtypes(include=[\"object\"])"
   ]
  },
  {
   "cell_type": "code",
   "execution_count": 15,
   "metadata": {},
   "outputs": [],
   "source": [
    "catcolumns=catdata.columns"
   ]
  },
  {
   "cell_type": "code",
   "execution_count": 16,
   "metadata": {
    "scrolled": true
   },
   "outputs": [
    {
     "data": {
      "text/plain": [
       "Index(['VAR_0001', 'VAR_0005', 'VAR_0008', 'VAR_0009', 'VAR_0010', 'VAR_0011',\n",
       "       'VAR_0012', 'VAR_0043', 'VAR_0044', 'VAR_0073', 'VAR_0075', 'VAR_0156',\n",
       "       'VAR_0157', 'VAR_0158', 'VAR_0159', 'VAR_0166', 'VAR_0167', 'VAR_0168',\n",
       "       'VAR_0169', 'VAR_0176', 'VAR_0177', 'VAR_0178', 'VAR_0179', 'VAR_0196',\n",
       "       'VAR_0200', 'VAR_0202', 'VAR_0204', 'VAR_0214', 'VAR_0216', 'VAR_0217',\n",
       "       'VAR_0222', 'VAR_0226', 'VAR_0229', 'VAR_0230', 'VAR_0232', 'VAR_0236',\n",
       "       'VAR_0237', 'VAR_0239', 'VAR_0274', 'VAR_0283', 'VAR_0305', 'VAR_0325',\n",
       "       'VAR_0342', 'VAR_0352', 'VAR_0353', 'VAR_0354', 'VAR_0404', 'VAR_0466',\n",
       "       'VAR_0467', 'VAR_0493', 'VAR_1934'],\n",
       "      dtype='object')"
      ]
     },
     "execution_count": 16,
     "metadata": {},
     "output_type": "execute_result"
    }
   ],
   "source": [
    "catcolumns"
   ]
  },
  {
   "cell_type": "code",
   "execution_count": 17,
   "metadata": {
    "scrolled": true
   },
   "outputs": [],
   "source": [
    "for x in catcolumns:\n",
    "    enc = preprocessing.LabelEncoder()\n",
    "    enc.fit(alldata[x].astype(str))\n",
    "    alldata[x]=enc.transform(alldata[x].astype(str))"
   ]
  },
  {
   "cell_type": "markdown",
   "metadata": {},
   "source": [
    "Get fit data and test data:"
   ]
  },
  {
   "cell_type": "code",
   "execution_count": 25,
   "metadata": {
    "collapsed": true
   },
   "outputs": [],
   "source": [
    "xfit=alldata.iloc[0:145231,:]\n",
    "testfit=alldata.iloc[145231:,:]"
   ]
  },
  {
   "cell_type": "code",
   "execution_count": 26,
   "metadata": {
    "collapsed": true
   },
   "outputs": [],
   "source": [
    "xfit = xfit.fillna(0)\n",
    "testfit=testfit.fillna(0)"
   ]
  },
  {
   "cell_type": "markdown",
   "metadata": {},
   "source": [
    "Fit the model:"
   ]
  },
  {
   "cell_type": "code",
   "execution_count": 27,
   "metadata": {
    "scrolled": true
   },
   "outputs": [
    {
     "data": {
      "text/plain": [
       "LogisticRegression(C=100000.0, class_weight=None, dual=False,\n",
       "          fit_intercept=True, intercept_scaling=1, max_iter=100,\n",
       "          multi_class='ovr', n_jobs=1, penalty='l2', random_state=None,\n",
       "          solver='liblinear', tol=0.0001, verbose=0, warm_start=False)"
      ]
     },
     "execution_count": 27,
     "metadata": {},
     "output_type": "execute_result"
    }
   ],
   "source": [
    "logreg = linear_model.LogisticRegression(C=1e5)\n",
    "logreg.fit(xfit, yfit)"
   ]
  },
  {
   "cell_type": "code",
   "execution_count": 28,
   "metadata": {},
   "outputs": [],
   "source": [
    "pred= logreg.predict(testfit)"
   ]
  },
  {
   "cell_type": "markdown",
   "metadata": {},
   "source": [
    "Output to csv:"
   ]
  },
  {
   "cell_type": "code",
   "execution_count": 29,
   "metadata": {
    "collapsed": true
   },
   "outputs": [],
   "source": [
    "testloss=pd.DataFrame({'target':pred})"
   ]
  },
  {
   "cell_type": "code",
   "execution_count": 30,
   "metadata": {
    "collapsed": true
   },
   "outputs": [],
   "source": [
    "testid=pd.DataFrame(test.index)"
   ]
  },
  {
   "cell_type": "code",
   "execution_count": 31,
   "metadata": {
    "collapsed": true
   },
   "outputs": [],
   "source": [
    "submit=pd.concat([testid,testloss],axis=1)"
   ]
  },
  {
   "cell_type": "code",
   "execution_count": 32,
   "metadata": {
    "collapsed": true
   },
   "outputs": [],
   "source": [
    "submit.to_csv(\"submit.csv\",index=False,sep=',')"
   ]
  },
  {
   "cell_type": "markdown",
   "metadata": {},
   "source": [
    "** Final Score 0.52 **"
   ]
  }
 ],
 "metadata": {
  "kernelspec": {
   "display_name": "Python 3",
   "language": "python",
   "name": "python3"
  },
  "language_info": {
   "codemirror_mode": {
    "name": "ipython",
    "version": 3
   },
   "file_extension": ".py",
   "mimetype": "text/x-python",
   "name": "python",
   "nbconvert_exporter": "python",
   "pygments_lexer": "ipython3",
   "version": "3.5.3"
  }
 },
 "nbformat": 4,
 "nbformat_minor": 2
}
